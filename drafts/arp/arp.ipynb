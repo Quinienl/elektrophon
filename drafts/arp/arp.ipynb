{
 "metadata": {
  "language_info": {
   "codemirror_mode": {
    "name": "ipython",
    "version": 3
   },
   "file_extension": ".py",
   "mimetype": "text/x-python",
   "name": "python",
   "nbconvert_exporter": "python",
   "pygments_lexer": "ipython3",
   "version": "3.8.5-final"
  },
  "orig_nbformat": 2,
  "kernelspec": {
   "name": "python3",
   "display_name": "Python 3",
   "language": "python"
  }
 },
 "nbformat": 4,
 "nbformat_minor": 2,
 "cells": [
  {
   "cell_type": "code",
   "execution_count": 3,
   "metadata": {},
   "outputs": [],
   "source": [
    "import logging\n",
    "logging.Logger.disabled=True\n",
    "import schemdraw\n",
    "import schemdraw.elements as elm\n",
    "from schemdraw import dsp\n"
   ]
  },
  {
   "source": [
    "people seem to love the russian polivoks synthesizer [[6][6]]. for me the most interesting thing is the filter section. it is built without any capacitors, instead it uses some weird russian opamps (KR140UD12). these are programmable opamps. with a control voltage the gain can be changed. this filter want to scream and can give percusive feedback responses, but can be well controlled. this filter is invented by vladimir kuzmin[[5][5]]. it has a lowpas and bandpass sections. instead of the original russion opamp also the western counterparts can be used (uA776, MC1776, LM4250,NTE888). of course none of these parts is available anymore. i got some LM4250 from china. beside the programmable opamp this filter is a very simple build. no calibration trimmers or accurate tempco stages required.<br/><br>\n",
    "\n",
    "## construction\n",
    "is-subtitle is-size-2 is-lowercase is-italic\n",
    "\n",
    "The gerber files are part of the release. It should be possible to directly order them from your manufacturer. But check the result on the preview when you order them. The parts are in the [BOM](BOM.md). all of the parts are active and available. but the LM4250 is not and an alternative source has to be find.\n",
    "\n",
    "bom: main circuit\n",
    "\n",
    "{% include bom.html content=\"arp-main-bom\" %}\n",
    "\n",
    "bom: mount circuit\n",
    "\n",
    "{% include bom.html content=\"arp-mount-bom\" %}\n",
    "\n",
    "*files*\n",
    "\n",
    "* [schematic pdf file](/assets/arp_files/main-schematic.pdf)\n",
    "* [schematic pdf file](/assets/arp_files/mount-schematic.pdf)\n",
    "* [PCB pdf file](/assets/arp_files/main-pcb.pdf)\n",
    "* [PCB pdf file](/assets/arp_files/mount-pcb.pdf)\n",
    "* [PCB pdf file](/assets/arp_files/panel-pcb.pdf)\n",
    "\n",
    "\n",
    "## calibration\n",
    "is-subtitle is-size-2 is-lowercase is-italic\n",
    "\n",
    "no calibration needed.\n",
    "\n",
    "## *use*\n",
    "is-subtitle is-size-2 is-lowercase is-italic"
   ],
   "cell_type": "markdown",
   "metadata": {}
  },
  {
   "source": [
    "{% include reports.html content=\"arp_kibot_data\" %}"
   ],
   "cell_type": "markdown",
   "metadata": {}
  },
  {
   "source": [
    "## references\n",
    "is-subtitle is-size-2 is-lowercase is-italic\n",
    "\n",
    "* [papareil synth labs][1] original arp schematics.\n",
    "* [Yves Usson](https://yusynth.net/Modular/index_en.html) clone of the ARP4072 filter.\n"
   ],
   "cell_type": "markdown",
   "metadata": {}
  }
 ]
}
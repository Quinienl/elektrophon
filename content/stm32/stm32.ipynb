{
 "cells": [
  {
   "cell_type": "markdown",
   "metadata": {},
   "source": [
    "# essential software\n",
    "  \n",
    "The software used to create the notebooks, schematics and PCB's.  \n",
    "\n",
    "* [STM32CubeMX](https://www.st.com/en/development-tools/stm32cubemx.html) STM32Cube initialization code generator.\n",
    "* [OpenOCD](http://openocd.org/) Open On-Chip Debugger.\n",
    "* [ST-LINK](https://www.st.com/en/development-tools/st-link-v2.html) ST-LINK/V2 in-circuit debugger/programmer for STM8 and STM32."
   ]
  },
  {
   "cell_type": "markdown",
   "metadata": {},
   "source": [
    "# upload code\n",
    "\n",
    "```\n",
    "st-flash --reset write build/oszi.bin 0x08000000\n",
    "```"
   ]
  },
  {
   "cell_type": "markdown",
   "metadata": {},
   "source": [
    "# other software\n",
    "\n",
    "* [audacity](https://www.audacityteam.org/) Free, open source, cross-platform audio software"
   ]
  }
 ],
 "metadata": {
  "FrontMatter": {
   "author": "spielhuus",
   "category": "article",
   "date": "2020-12-01",
   "excerpt": "The elektrophon is developed with a continuous development lifecycle. The circuits for the modules and articles are first simulated with spice. Jupyter notebooks are used to edit and run the simulations. In these notebooks also the images and other content is created. To run the notebooks you need to install the required software. Here is a list of all the needed software and tools.",
   "hero_darken": "true",
   "hero_height": "is-fullheight",
   "hero_image": "/assets/stm32-hero_landscape.jpg",
   "hero_mobile": "/assets/stm32-hero_portrait.jpg",
   "hero_subtitle": "true",
   "hero_title": "true",
   "image": "/assets/stm32-card.jpg",
   "layout": "article",
   "subtitle": "All the necessary applications for developing the elektrophon.",
   "tag": "grundlage",
   "title": "stm32",
   "version": "0"
  },
  "kernelspec": {
   "display_name": "Python 3 (ipykernel)",
   "language": "python",
   "name": "python3"
  },
  "language_info": {
   "codemirror_mode": {
    "name": "ipython",
    "version": 3
   },
   "file_extension": ".py",
   "mimetype": "text/x-python",
   "name": "python",
   "nbconvert_exporter": "python",
   "pygments_lexer": "ipython3",
   "version": "3.9.6"
  }
 },
 "nbformat": 4,
 "nbformat_minor": 4
}

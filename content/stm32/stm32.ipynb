{
 "cells": [
  {
   "cell_type": "markdown",
   "metadata": {},
   "source": [
    "# essential software\n",
    "  \n",
    "The software used to create the notebooks, schematics and PCB's.  \n",
    "\n",
    "* [STM32CubeMX](https://www.st.com/en/development-tools/stm32cubemx.html) STM32Cube initialization code generator.\n",
    "* [OpenOCD](http://openocd.org/) Open On-Chip Debugger.\n",
    "* [ST-LINK](https://www.st.com/en/development-tools/st-link-v2.html) ST-LINK/V2 in-circuit debugger/programmer for STM8 and STM32."
   ]
  },
  {
   "cell_type": "code",
   "execution_count": null,
   "metadata": {},
   "outputs": [],
   "source": [
    "from IPython.display import display, HTML\n",
    "display(HTML('''\n",
    "<div class=\"section\">\n",
    "<div class=\"container\">\n",
    "<div class=\"content\">\n",
    "<div class=\"notification is-warning\">\n",
    "  <button class=\"delete\"></button>\n",
    "  In some linux distributions, for example arch, the default vs-code is the open source version. this version has a limited set of extensions. In arch\n",
    "  install the <pre>visual-studio-code-bin</pre> from the AUR.\n",
    "</div>\n",
    "</div>\n",
    "</div>\n",
    "</div>\n",
    "'''))"
   ]
  },
  {
   "cell_type": "markdown",
   "metadata": {},
   "source": [
    "# upload code\n",
    "\n",
    "```\n",
    "st-flash --reset write build/oszi.bin 0x08000000\n",
    "```"
   ]
  },
  {
   "cell_type": "markdown",
   "metadata": {},
   "source": [
    "# vs-code\n",
    "\n",
    "vs-code can be used as an IDE for stm32 development. for that some extensions are needed.\n",
    "\n",
    "* C/C++, ms-vscode.cpptools\n",
    "* Cortex-Debug, marus25.cortex-debug\n",
    "* ARM Assembly highlighting, dan-c-underwood.arm\n",
    "* Linker Script highlighting, zixuanwang.linkerscript\n",
    "\n",
    "For dbugging there is a definition file needed for the processor. This can be downloaded from ST:\n",
    "\n",
    "* [STM32 32-bit Arm Cortex MCUs](https://www.st.com/en/microcontrollers-microprocessors/stm32-32-bit-arm-cortex-mcus.html#cad-resources)"
   ]
  },
  {
   "cell_type": "markdown",
   "metadata": {},
   "source": [
    "# other software\n",
    "\n",
    "* [audacity](https://www.audacityteam.org/) Free, open source, cross-platform audio software"
   ]
  }
 ],
 "metadata": {
  "FrontMatter": {
   "author": "spielhuus",
   "category": "article",
   "date": "2020-12-01",
   "excerpt": "The elektrophon is developed with a continuous development lifecycle. The circuits for the modules and articles are first simulated with spice. Jupyter notebooks are used to edit and run the simulations. In these notebooks also the images and other content is created. To run the notebooks you need to install the required software. Here is a list of all the needed software and tools.",
   "hero_darken": "true",
   "hero_height": "is-fullheight",
   "hero_image": "/assets/stm32-hero_landscape.jpg",
   "hero_mobile": "/assets/stm32-hero_portrait.jpg",
   "hero_subtitle": "true",
   "hero_title": "true",
   "image": "/assets/stm32-card.jpg",
   "layout": "article",
   "subtitle": "All the necessary applications for developing the elektrophon.",
   "tag": "grundlage",
   "title": "stm32",
   "version": "0"
  },
  "kernelspec": {
   "display_name": "Python 3 (ipykernel)",
   "language": "python",
   "name": "python3"
  },
  "language_info": {
   "codemirror_mode": {
    "name": "ipython",
    "version": 3
   },
   "file_extension": ".py",
   "mimetype": "text/x-python",
   "name": "python",
   "nbconvert_exporter": "python",
   "pygments_lexer": "ipython3",
   "version": "3.9.6"
  }
 },
 "nbformat": 4,
 "nbformat_minor": 4
}

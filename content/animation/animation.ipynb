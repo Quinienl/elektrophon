{
 "cells": [
  {
   "cell_type": "code",
   "execution_count": null,
   "metadata": {
    "tags": [
     "outputPrepend"
    ]
   },
   "outputs": [],
   "source": [
    "#general definitions and imports\n",
    "%matplotlib inline\n",
    "%config InlineBackend.figure_format = 'svg'\n",
    "\n",
    "import logging\n",
    "logging.Logger.disabled=True\n",
    "\n",
    "import os\n",
    "import PySpice.Logging.Logging as Logging\n",
    "logger = Logging.setup_logging( logging_level='CRITICAL')\n",
    "\n",
    "import numpy as np\n",
    "import matplotlib.pyplot as plt\n",
    "\n",
    "import ipytest\n",
    "ipytest.autoconfig()\n",
    "from pytest import approx\n",
    "\n",
    "from pathlib import Path\n",
    "\n",
    "from PySpice.Unit import *\n",
    "from PySpice.Spice.Parser import SpiceParser\n",
    "from PySpice.Spice.Netlist import Circuit, SubCircuit, SubCircuitFactory\n",
    "from PySpice.Spice.Library import SpiceLibrary\n",
    "from PySpice.Spice.Netlist import Circuit\n",
    "from PySpice.Probe.Plot import plot\n",
    "from PySpice.Math import *\n",
    "\n",
    "import schemdraw\n",
    "import schemdraw.elements as elm\n",
    "from schemdraw import dsp\n",
    "from schemdraw import logic\n",
    "\n",
    "from IPython.display import display, HTML\n",
    "\n",
    "## setup spice library path\n",
    "directory_path = Path(os.path.abspath('')).resolve().parent.parent\n",
    "spice_libraries_path = directory_path.joinpath(\"lib\", \"spice\")\n",
    "spice_library = SpiceLibrary(spice_libraries_path)\n",
    "## set the project directory as directory_path\n",
    "directory_path = Path(os.path.abspath('')).resolve()"
   ]
  },
  {
   "cell_type": "code",
   "execution_count": null,
   "metadata": {},
   "outputs": [],
   "source": [
    "class VoltageDivider(SubCircuitFactory):\n",
    "    __name__ = 'voltage_divider'\n",
    "    __nodes__ = ('n1', 'n2', 'n3' )\n",
    "    __R = 100@u_kΩ\n",
    "\n",
    "    def __init__(self, R=100@u_kΩ, w=0.4, name='voltage_divider'):\n",
    "        self.__R__ = R\n",
    "        SubCircuit.__init__(self, name, *self.__nodes__)\n",
    "        self.R(1, 'n1', 'n2', R * w)\n",
    "        self.R(2, 'n2', 'n3', R * (1.0-w) )\n",
    "        \n",
    "    def wiper(self, w) :\n",
    "        if w == 0 :\n",
    "            self.R1.resistance = self.__R * 0.0000001\n",
    "            self.R2.resistance = self.__R * 0.9999999\n",
    "        elif w == 1 :\n",
    "            self.R1.resistance = self.__R * 0.9999999\n",
    "            self.R2.resistance = self.__R * 0.0000001\n",
    "        else :\n",
    "            self.R1.resistance = self.__R * w\n",
    "            self.R2.resistance = self.__R * (1.0-w)"
   ]
  },
  {
   "cell_type": "code",
   "execution_count": null,
   "metadata": {},
   "outputs": [],
   "source": [
    "kicad_netlist_path = directory_path.joinpath('main', 'Animator1_2.cir')\n",
    "parser = SpiceParser(path=str(kicad_netlist_path))\n",
    "\n",
    "circuit = parser.build_circuit(ground=5)\n",
    "circuit.include(spice_library['TL072c'])\n",
    "circuit.include(spice_library['D1N4148'])\n",
    "\n",
    "circuit.V('1', '+15V', circuit.gnd, 'DC 15')\n",
    "circuit.V('2', '-15V', circuit.gnd, 'DC -15')\n",
    "circuit.V('3', 'IN', circuit.gnd, 'DC 5 Pulse(-5 5 0 0 20m 0.00001m 20.001m)')\n",
    "circuit.V('4', 'INV_IN', circuit.gnd, 'DC 5 Pulse(5 -5 0 0 20m 0.00001m 20.001m)')\n",
    "\n",
    "#for c in ( VoltageDivider(R=1@u_MΩ, w=0.5, name='POT_1')) :\n",
    "circuit.subcircuit(VoltageDivider(R=1@u_MΩ, w=0.98, name='POT_1'))\n",
    "\n",
    "simulator = circuit.simulator(temperature=25, nominal_temperature=25)\n",
    "#simulator.options('INTERP')\n",
    "simulator.initial_condition(LFO1=0.0)\n",
    "analysis = simulator.transient(step_time=1@u_us, start_time=0@u_ms, end_time=125@u_ms)\n",
    "#analysis_dc = simulator.operating_point()\n",
    "    \n",
    "fig_buffer, ax1_buffer = plt.subplots()\n",
    "\n",
    "ax1_buffer.set_xlabel('time [ms]')\n",
    "ax1_buffer.set_ylabel('amplitude [V]')\n",
    "ax1_buffer.plot(analysis['OUT'].abscissa, analysis['OUT'], color='Red')\n",
    "ax1_buffer.plot(analysis['LFO1'].abscissa, analysis['LFO1'], color='Blue')\n",
    "ax1_buffer.plot(analysis['IN'].abscissa, analysis['IN'], color='Grey', linewidth=0.5)\n",
    "ax1_buffer.plot(analysis['INV_IN'].abscissa, analysis['INV_IN'], color='Grey', linewidth=0.5, linestyle='dashed')\n",
    "\n",
    "ax1_buffer.legend(('$OUT$', '$LFO$', '$IN$'), loc=(0.75,0.8))\n",
    "\n",
    "plt.tight_layout()\n",
    "plt.show()"
   ]
  },
  {
   "cell_type": "markdown",
   "metadata": {},
   "source": [
    "# construction\n",
    "\n"
   ]
  },
  {
   "cell_type": "raw",
   "metadata": {},
   "source": [
    "{{< bom summe main >}}\n",
    "{{< callout summe main panel >}}\n",
    "{{< report summe main >}}"
   ]
  },
  {
   "cell_type": "markdown",
   "metadata": {},
   "source": [
    "# calibration\n",
    "\n",
    "there is no calibration needed. but the potentiomenter knobs have to be aliged to center position.\n"
   ]
  },
  {
   "cell_type": "markdown",
   "metadata": {},
   "source": [
    "# usage\n",
    "\n",
    "the input jacks are wired to 5 volts when nothing is connected.\n",
    "\n",
    "all channels are mixed to the out jack. when something is connected to the channel out, this channel is removed from the overall mix.\n",
    "\n",
    "_mixer_\n",
    "* connect the different channels from audio or cv sources to the in jacks.\n",
    "* connect the out jack to something\n",
    "* turn the pots clockwise to adjust the volume.\n",
    "\n",
    "_attenuverter_\n",
    "* connect all or a single channel. \n",
    "* when you turn the pot knob counter clockwise the signal is inverted.\n",
    "\n",
    "\n"
   ]
  }
 ],
 "metadata": {
  "FrontMatter": {
   "author": "spielhuus",
   "categories": [
    "module"
   ],
   "date": "2021-07-15",
   "draft": true,
   "excerpt": "animation has its origin in the saw animators. A saw animator takes ",
   "hero_image": "animation-landscape.jpg",
   "hero_mobile": "animation-portrait.jpg",
   "image": "animation-card.jpg",
   "references": [
    {
     "description": "A SAWTOOTH-DRIVEN MULTI-PHASE WAVEFORM ANIMATOR",
     "title": "Bernie Hutchins",
     "url": "https://web.archive.org/web/20190713072451/http://electronotes.netfirms.com/EN87Part.PDF"
    },
    {
     "description": "Saw Animator",
     "title": "Yves Usson",
     "url": "https://yusynth.net/Modular/EN/SAWANIM/index.html"
    },
    {
     "description": "TLN-712 Doomsday Machine",
     "title": "tellun",
     "url": "http://www.tellun.com/motm/diy/tln712/TLN-712.html"
    }
   ],
   "subtitle": "Summe is a simple mixer utility module. It can be used as a mixer, attenuator or attenuverter for AC and DC signals.",
   "tags": [
    "filter"
   ],
   "title": "animation",
   "version": "0"
  },
  "kernelspec": {
   "display_name": "Python 3 (ipykernel)",
   "language": "python",
   "name": "python3"
  },
  "language_info": {
   "codemirror_mode": {
    "name": "ipython",
    "version": 3
   },
   "file_extension": ".py",
   "mimetype": "text/x-python",
   "name": "python",
   "nbconvert_exporter": "python",
   "pygments_lexer": "ipython3",
   "version": "3.9.2"
  },
  "toc-showcode": false,
  "toc-showmarkdowntxt": false,
  "toc-showtags": true
 },
 "nbformat": 4,
 "nbformat_minor": 4
}

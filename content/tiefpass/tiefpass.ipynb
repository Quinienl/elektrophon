{
 "cells": [
  {
   "cell_type": "code",
   "execution_count": null,
   "metadata": {},
   "outputs": [],
   "source": [
    "%matplotlib inline\n",
    "%config InlineBackend.figure_format = 'svg'\n",
    "\n",
    "import warnings;\n",
    "with warnings.catch_warnings():\n",
    "    warnings.simplefilter(\"ignore\"); \n",
    "    import matplotlib.pyplot as plt\n",
    "\n",
    "import os\n",
    "import sys\n",
    "from pathlib import Path\n",
    "import IPython\n",
    "from PySpice.Math import *\n",
    "import numpy as np\n",
    "\n",
    "import schemdraw\n",
    "import schemdraw.elements as elm\n",
    "from schemdraw import dsp\n",
    "from schemdraw import logic\n",
    "from schemdraw import flow\n",
    "\n",
    "from IPython.display import Javascript\n",
    "from IPython.display import display, HTML\n",
    "from IPython.display import Markdown as md\n",
    "from IPython.display import Latex"
   ]
  },
  {
   "cell_type": "markdown",
   "metadata": {},
   "source": [
    "# construction\n",
    "\n",
    "The lowpass gate filter topology is a Sallen and Key filter where the two resistors are replaced with a vactrol. A vactrol is a device with an LDR and a LED. The brightness of the LED will change the resistance of the LDR. This gives a variable cutoff frequency. The lowest frequency has to be in the inaudible range. This will make the LPG quiet if there is no control voltage applied. "
   ]
  },
  {
   "cell_type": "code",
   "execution_count": null,
   "metadata": {
    "caption": "Figure 1: Block Diagram of the Sallen Key Low-Pass-Filter",
    "tags": []
   },
   "outputs": [],
   "source": [
    "d = schemdraw.Drawing(unit=2.5, inches_per_unit=0.5, lw=1.1, fontsize=10)\n",
    "\n",
    "J2 = d.add(elm.AudioJack(xy=[0, 2*d.unit], lftlabel='$CV$'))\n",
    "d.add(elm.Ground(\"right\", xy=J2.sleeve))\n",
    "d.add(elm.Line( \"right\", l=1.25*d.unit, at=J2.tip))\n",
    "d.add(elm.LED())\n",
    "d.add(elm.LED())\n",
    "d.add(elm.Line(l=d.unit/2))\n",
    "d.add(elm.Ground())\n",
    "\n",
    "J1 = d.add(elm.AudioJack(xy=[0, d.unit], lftlabel='$IN$'))\n",
    "d.add(elm.Ground(\"right\", xy=J1.sleeve))\n",
    "d.add(elm.Line( \"right\", l=d.unit, at=J1.tip))\n",
    "D4 = d.add(dsp.Amp())\n",
    "R1 = d.add(elm.Photoresistor(label='$R_1$\\n10M'))\n",
    "d.add(elm.Dot())\n",
    "R2 = d.add(elm.Photoresistor(label='$R_2$\\n10M'))\n",
    "d.add(elm.Dot())\n",
    "d.add(elm.Line(l=d.unit/2))\n",
    "D4 = d.add(dsp.Amp())\n",
    "\n",
    "L4 = d.add(elm.Line( \"right\", l=d.unit/4))\n",
    "d.add(elm.Dot())\n",
    "d.add(elm.Line( \"right\", l=d.unit))\n",
    "JO4 = d.add(elm.AudioJack(\"left\", switch=False, flip=True, anchor='tip', rgtlabel='$OUT$'))\n",
    "d.add(elm.Ground(\"right\", xy=JO4.sleeve))\n",
    "\n",
    "d.add(elm.Capacitor(\"down\", at=R1.end, label='$C_1$\\n4.7n'))\n",
    "d.add(elm.Line(l=0.5*d.unit))\n",
    "d.add(elm.Capacitor(\"down\", at=R2.end, label='$C_2$\\n1n'))\n",
    "d.add(elm.Ground())\n",
    "\n",
    "d.add(elm.Line(\"down\", at=L4.end, l=1.5*d.unit))\n",
    "d.add(elm.Line(\"left\", l=0.875*d.unit))\n",
    "d.add(dsp.Amp(\"left\"))\n",
    "d.add(elm.Line(\"left\", l=0.875*d.unit))\n",
    "d.add(elm.Line(\"up\"))\n",
    "\n",
    "d.add(flow.Box(xy=[4.5, 2.9*d.unit], w=1.8, h=4.5).linewidth(0.5).linestyle('--'))\n",
    "d.add(flow.Box(xy=[7, 2.9*d.unit], w=1.8, h=4.5).linewidth(0.5).linestyle('--'))\n",
    "\n",
    "d.draw()\n"
   ]
  },
  {
   "cell_type": "markdown",
   "metadata": {},
   "source": [
    "The cutoff-frequency for this values is:"
   ]
  },
  {
   "cell_type": "code",
   "execution_count": null,
   "metadata": {},
   "outputs": [],
   "source": [
    "val = float(10000000 * 10000000 * 0.0000000047 * 0.000000001)\n",
    "break_frequency = 1 / (2 * math.pi * float( math.sqrt( val ) ) )"
   ]
  },
  {
   "cell_type": "code",
   "execution_count": null,
   "metadata": {},
   "outputs": [],
   "source": [
    "Latex(r'''\n",
    "\\begin{array}{c}\n",
    "f_c=\\frac{1}{2\\pi \\sqrt{R_1 R_2 C_1 C_2}}=\\frac{1}{2\\pi \\sqrt{10M\\Omega * 10M\\Omega * 0.47nF * 0.47nF}}=%.1f Hz\n",
    "\\end{array}\n",
    "''' % break_frequency )"
   ]
  },
  {
   "cell_type": "code",
   "execution_count": null,
   "metadata": {},
   "outputs": [],
   "source": [
    "val = float(500000 * 500000 * 0.0000000047 * 0.000000001)\n",
    "break_frequency = 1 / (2 * math.pi * float( math.sqrt( val ) ) )"
   ]
  },
  {
   "cell_type": "code",
   "execution_count": null,
   "metadata": {},
   "outputs": [],
   "source": [
    "md('''\n",
    "The Vactrol resistance depends very much on the type and the ambient light. In the Xvive 5C3 datasheet the off resistance is stated with 10MΩ. But on the bench, it will raise to 1MΩ and higher when the desktop light is turned on. The off resistance is important, especially when you want to build the vactrol yourself. The LDR from Adafruit, as an example, has an off resistance of 500kΩ. This would result in a cutoff frequency of %.1f Hz. This is already in the audible range and the LPG would never turn off.\n",
    "''' % break_frequency )"
   ]
  },
  {
   "cell_type": "code",
   "execution_count": null,
   "metadata": {},
   "outputs": [],
   "source": [
    "display(HTML('''\n",
    "{{< bom tiefpass main mount>}}\n",
    "{{< callout tiefpass main mount panel>}}\n",
    "{{< report tiefpass main mount>}}\n",
    "'''))"
   ]
  },
  {
   "cell_type": "markdown",
   "metadata": {},
   "source": [
    "# calibration\n",
    "\n",
    "\n",
    "# usage\n",
    "\n",
    "the input jacks are wired to 5 volts when nothing is connected.\n",
    "\n",
    "all channels are mixed to the out jack. when something is connected to the channel out, this channel is removed from the overall mix.\n",
    "\n",
    "_mixer_\n",
    "* connect the different channels from audio or cv sources to the in jacks.\n",
    "* connect the out jack to something\n",
    "* turn the pots clockwise to adjust the volume.\n",
    "\n",
    "_attenuverter_\n",
    "* connect all or a single channel. \n",
    "* when you turn the pot knob counter clockwise the signal is inverted."
   ]
  }
 ],
 "metadata": {
  "FrontMatter": {
   "author": "spielhuus",
   "categories": [
    "module"
   ],
   "date": "2021-08-15",
   "excerpt": "A lowpass gate is essentially a low pass VCF configured to behave like a VCA. The lowpass gate accepts an audio input and a control signal, in the manner of a VCA. When there is no control signal present, the filter's cutoff frequency is in the subsonic range, well below the audio frequencies; therefore, no audio passes the filter. Applying a control voltage causes the cutoff frequency to rise significantly, into the upper end of the audio range, so that most of the audio at the input now passes. If the output of an envelope generator is presented to the control input, the lowpass gate will shape the note envelope as a VCA would, but with some characteristic differences. <a href='https://electronicmusic.fandom.com/wiki/Lowpass_gate'>[fandom wiki]</a>",
   "hero_image": "welle-landscape.jpg",
   "hero_mobile": "welle-portrait.jpg",
   "image": "welle-card.jpg",
   "references": [
    {
     "description": " definition at fandom wiki.",
     "title": "LPG",
     "url": "https://electronicmusic.fandom.com/wiki/Lowpass_gate"
    },
    {
     "description": " description at electronics-tutorials.",
     "title": "Sallen and Key Filter",
     "url": "https://www.electronics-tutorials.ws/filter/sallen-key-filter.html"
    },
    {
     "description": "Resonant Lopass Gate",
     "title": "electro-music.com",
     "url": "http://172.17.0.2:8888/lab?token=277560ab28730e6793e075a980f9a3e7c1e118d0476be155"
    },
    {
     "description": "Xvive Vactrol",
     "title": "Datasheet",
     "url": "https://www.thonk.co.uk/wp-content/uploads/Documents/xvive/"
    }
   ],
   "subtitle": "Classic Low-Pass-Gate based on one of Don Buchla's designs.",
   "tags": [
    "filter"
   ],
   "title": "tiefpass",
   "version": "0"
  },
  "kernelspec": {
   "display_name": "Python 3 (ipykernel)",
   "language": "python",
   "name": "python3"
  },
  "language_info": {
   "codemirror_mode": {
    "name": "ipython",
    "version": 3
   },
   "file_extension": ".py",
   "mimetype": "text/x-python",
   "name": "python",
   "nbconvert_exporter": "python",
   "pygments_lexer": "ipython3",
   "version": "3.9.2"
  }
 },
 "nbformat": 4,
 "nbformat_minor": 4
}

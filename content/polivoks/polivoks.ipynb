{
 "metadata": {
  "language_info": {
   "codemirror_mode": {
    "name": "ipython",
    "version": 3
   },
   "file_extension": ".py",
   "mimetype": "text/x-python",
   "name": "python",
   "nbconvert_exporter": "python",
   "pygments_lexer": "ipython3",
   "version": "3.8.5-final"
  },
  "orig_nbformat": 2,
  "kernelspec": {
   "name": "python3",
   "display_name": "Python 3",
   "language": "python"
  }
 },
 "nbformat": 4,
 "nbformat_minor": 2,
 "cells": [
  {
   "cell_type": "code",
   "execution_count": 3,
   "metadata": {},
   "outputs": [],
   "source": [
    "import logging\n",
    "logging.Logger.disabled=True\n",
    "import schemdraw\n",
    "import schemdraw.elements as elm\n",
    "from schemdraw import dsp\n"
   ]
  },
  {
   "source": [
    "People seem to love the Russian Polivoks synthesizer]. The most interesting part is maybe the filter section. It is built without any capacitors. Instead, it uses some weird Russian opamps (KR140UD12). These are programmable opamps. With a control voltage, the gain can be changed. This filter wants to scream and can give percussive feedback responses, but can be well controlled. This filter is invented by [Vladimir Kuzmin](http://www.muztech.com/company.php). It has a lowpass and bandpass section. Instead of the original Russian opamp also the western counterparts can be used (uA776, MC1776, LM4250, NTE888). Of course, none of these parts is available anymore. I got some LM4250 from China. Besides the programmable opamp, this filter is a very simple build. No calibration trimmers or accurate tempco stages are required.\n",
    "{: class=\"mt-6\"} \n",
    "\n",
    "# construction\n",
    "{: class=\"subtitle is-lowercase\"}\n",
    "\n",
    "The gerber files are part of the release. It should be possible to directly order them from your manufacturer. But check the result on the preview when you order them. All of the parts are active and available, but the LM4250 is not and an alternative source has to be find.\n",
    "\n",
    "bom: main circuit\n",
    "{: class=\"subtitle is-lowercase mt-4\"}\n",
    "\n",
    "{% include bom.html content=\"polivoks-main-bom\" %}\n",
    "\n",
    "bom: mount circuit\n",
    "{: class=\"subtitle is-lowercase mt-4\"}\n",
    "\n",
    "{% include bom.html content=\"polivoks-mount-bom\" %}\n",
    "\n",
    "{% include callouts.html %}\n",
    "\n",
    "{% include reports.html content=\"resonanz_kibot_data\" %}"
   ],
   "cell_type": "markdown",
   "metadata": {}
  },
  {
   "source": [
    "# calibration\n",
    "{: class=\"subtitle is-lowercase\"}\n",
    "\n",
    "no calibration needed.\n"
   ],
   "cell_type": "markdown",
   "metadata": {}
  },
  {
   "source": [
    "# use\n",
    "{: class=\"subtitle is-lowercase\"}"
   ],
   "cell_type": "markdown",
   "metadata": {}
  },
  {
   "source": [
    "# references\n",
    "{: class=\"subtitle is-lowercase\"}\n",
    "\n",
    "* [papareil synth labs](http://m.bareille.free.fr/modular1/vcf_polivoks/vcf_polivoks.htm) polivoks clone\n",
    "* [polivoks clone](https://modularsynthesis.com/kuzmin/polivoks/djb-polivoks_schematic.jpg) using the NTE888.\n",
    "* [electro-music](http://electro-music.com/forum/topic-65609.html) thread with a [polivoks clone](http://electro-music.com/forum/phpbb-files/polivoks_vcf_soft_917.png) using the LM4250. \n",
    "* website from [vladimir kuzmin](http://www.muztech.com/company.php)"
   ],
   "cell_type": "markdown",
   "metadata": {}
  }
 ]
}
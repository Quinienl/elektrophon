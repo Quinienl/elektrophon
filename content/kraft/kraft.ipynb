{
 "cells": [
  {
   "cell_type": "code",
   "execution_count": null,
   "metadata": {
    "tags": []
   },
   "outputs": [],
   "source": [
    "#general definitions and imports\n",
    "%matplotlib inline\n",
    "%config InlineBackend.figure_format = 'svg'\n",
    "%load_ext itikz\n",
    "\n",
    "import schemdraw\n",
    "import schemdraw.elements as elm\n",
    "\n",
    "from IPython.display import display, HTML\n"
   ]
  },
  {
   "cell_type": "markdown",
   "metadata": {},
   "source": [
    "# construction\n",
    "\n",
    "The circuit is very simple. The 15AC input is half bridge rectified. The positive half is providing the +15V, the negative the -15V. The capacitors remove the ripple and the regulators provide a clean DC voltage. The 5V regulator circuit is taken directly from the datasheet. The 5V should not be used for audio circuits. It is meant to drive LED's and as input for regulators providing the power for a microchip. "
   ]
  },
  {
   "cell_type": "code",
   "execution_count": null,
   "metadata": {
    "caption": "Figure 1: Power Supply Schematics",
    "tags": []
   },
   "outputs": [],
   "source": [
    "d = schemdraw.Drawing(unit=2, inches_per_unit=0.6, lw=1.8, fontsize=9)\n",
    "#d = schemdraw.Drawing(unit=1.6, inches_per_unit=0.5, lw=2, fontsize=9)\n",
    "\n",
    "#d.add(elm.Dot('left', lftlabel='IN', open=True))\n",
    "#d.add(elm.Line(l=d.unit/4))\n",
    "d += ( VS := elm.SourceSin().up().label(\"15V\") )\n",
    "d += elm.Line().length(d.unit*1.5)\n",
    "\n",
    "#positive regulator\n",
    "d += (Lin := elm.Line(\"right\").length(d.unit))\n",
    "d += elm.Dot()\n",
    "d += ( L1 := elm.Diode().label(\"D1\") )\n",
    "\n",
    "#d += (L1 := elm.Line(\"right\").length(d.unit/2))\n",
    "d += elm.Dot()\n",
    "d += (L2 := elm.Line(\"right\"))\n",
    "d += elm.Dot()\n",
    "d += (L3 := elm.Line(\"right\"))\n",
    "d += elm.Dot()\n",
    "d += (L4 := elm.Line(\"right\"))\n",
    "d += elm.Dot()\n",
    "d += (L5 := elm.Line(\"right\").length(d.unit))\n",
    "d += elm.Dot()\n",
    "d += (elm.Line(\"right\").length(d.unit/2))\n",
    "d += ( Vreg1 := elm.VoltageRegulator().anchor(\"in\") ).label('U1\\nL7815')\n",
    "\n",
    "d += (L6 := elm.Line().right().at(Vreg1.out).length(d.unit/2))\n",
    "d += elm.Dot()\n",
    "d += (L7 := elm.Line())\n",
    "d += elm.Dot()\n",
    "d += (L8 := elm.Line())\n",
    "d += elm.Dot()\n",
    "d += (L9 := elm.Line().length(d.unit*2))\n",
    "d += elm.Dot(open=True)\n",
    "\n",
    "d += (elm.Line().up().at(L5.end))\n",
    "d += elm.Diode().right().tox(L6.end).reverse().label('D2')\n",
    "d += elm.Line().down()\n",
    "\n",
    "d += ( Cpos := elm.Capacitor2().down().at(L1.end).label('C1\\n3300 μF') )\n",
    "d += elm.Capacitor2().down().at(L2.end).label('C2\\n3300 μF')\n",
    "d += elm.Dot()\n",
    "d += elm.Capacitor2().down().at(L3.end).label('C3\\n3300 μF')\n",
    "d += elm.Dot()\n",
    "d += elm.Capacitor2().down().at(L4.end).label('C4\\n1 μF')\n",
    "d += elm.Dot()\n",
    "d += elm.Capacitor2().down().at(L7.end).label('C5\\n1 μF')\n",
    "d += elm.Dot()\n",
    "d += elm.Diode().down().at(L8.end).reverse().label('D3')\n",
    "d += elm.Dot()\n",
    "\n",
    "d += ( GndPos1 := elm.Line().at(Cpos.end).right().tox(Vreg1.gnd) )\n",
    "d += elm.Dot()\n",
    "d += ( GndPos2 := elm.Line().right().length(d.unit*4.5) )\n",
    "d += elm.Line(\"up\").at(GndPos1.end).toy(Vreg1.gnd)\n",
    "\n",
    "#negative regulator\n",
    "d += elm.Line().length(d.unit).down().at(Lin.end).length(d.unit*3)\n",
    "d += ( L1 := elm.Diode().right().reverse().label(\"D4\") )\n",
    "\n",
    "d += elm.Dot()\n",
    "d += (L2 := elm.Line(\"right\"))\n",
    "d += elm.Dot()\n",
    "d += (L3 := elm.Line(\"right\"))\n",
    "d += elm.Dot()\n",
    "d += (L4 := elm.Line(\"right\"))\n",
    "d += elm.Dot()\n",
    "d += (L5 := elm.Line(\"right\").length(d.unit))\n",
    "d += elm.Dot()\n",
    "d += (elm.Line(\"right\").length(d.unit/2))\n",
    "d += ( Vreg1 := elm.VoltageRegulator().anchor(\"in\") ).label('U2\\nL7915')\n",
    "\n",
    "d += (L6 := elm.Line().right().at(Vreg1.out).length(d.unit/2))\n",
    "d += elm.Dot()\n",
    "d += (L7 := elm.Line())\n",
    "d += elm.Dot()\n",
    "d += (L8 := elm.Line())\n",
    "d += elm.Dot()\n",
    "d += (L10 := elm.Line().length(d.unit*2))\n",
    "d += elm.Dot(open=True)\n",
    "\n",
    "d += (elm.Line().up().at(L5.end))\n",
    "d += elm.Diode().right().tox(L6.end).label('D5')\n",
    "d += elm.Line().down()\n",
    "\n",
    "d += ( Cneg := elm.Capacitor2().down().at(L1.end).reverse().label('C6\\n3300 μF') )\n",
    "d += elm.Dot()\n",
    "d += elm.Capacitor2().down().at(L2.end).reverse().label('C7\\n3300 μF')\n",
    "d += elm.Dot()\n",
    "d += elm.Capacitor2().down().at(L3.end).reverse().label('C8\\n3300 μF')\n",
    "d += elm.Dot()\n",
    "d += elm.Capacitor2().down().at(L4.end).reverse().label('C9\\n1 μF')\n",
    "d += elm.Dot()\n",
    "d += elm.Capacitor2().down().at(L7.end).reverse().label('C10\\n1 μF')\n",
    "d += elm.Dot()\n",
    "d += elm.Diode().down().at(L8.end).label('D6')\n",
    "d += elm.Dot()\n",
    "\n",
    "#Ground \n",
    "d += ( GndNeg1 := elm.Line().at(VS.start).down().toy(Cneg.end) )\n",
    "d += ( GndNeg2 := elm.Line().right().tox(Vreg1.gnd) )\n",
    "d += elm.Dot()\n",
    "d += ( GndNeg3 := elm.Line().right().length(d.unit*4.5) )\n",
    "d += elm.Dot()\n",
    "d += elm.Line().down().length(d.unit/2)\n",
    "d += elm.Ground()\n",
    "\n",
    "d += elm.Line().down().at(GndPos2.end).toy(GndNeg3.end)\n",
    "d += elm.Gap().down().at(L9.end).toy(L10.end).label(['+','15V','-'])\n",
    "\n",
    "d += elm.Line(\"up\").at(GndNeg2.end).toy(Vreg1.gnd)\n",
    "\n",
    "d.draw()"
   ]
  },
  {
   "cell_type": "markdown",
   "metadata": {},
   "source": [
    "Ribbon cables and IDC connectors are used to connect the modules. The IDC connectors are 10 pins in 2 rows and a spacing of 2.54mm. The pin configuration does not follow any standard. It is not possible to connect any other module to this power supply. "
   ]
  },
  {
   "cell_type": "code",
   "execution_count": null,
   "metadata": {
    "caption": "Figure 2: IDc-Header Pin Mapping",
    "tags": []
   },
   "outputs": [],
   "source": [
    "%%itikz --temp-dir\n",
    "\\documentclass[tikz]{standalone}\n",
    "\\begin{document}\n",
    "\\begin{tikzpicture}[scale=3]\n",
    "\n",
    "\\fontsize{0.4cm}{0.4cm}\\selectfont \\sffamily\n",
    "\\draw[black,thick] (0,0) -- (0,20.32mm) -- \n",
    "\t\t\t  \t\t (8.7mm,20.32mm) -- (8.7mm,0) -- (0,0);\n",
    "\\draw[black,thick] (1.16mm,1.16mm) -- (1.16mm,19.16mm) -- \n",
    "\t\t\t  \t\t (7.54mm,19.16mm) -- (7.54mm,1.16mm) -- (1.16mm,1.16mm);\n",
    "\\draw[black,thick, fill = white] (0mm,7.91mm) -- (0mm,12.41mm) [black] -- \n",
    "\t\t\t  \t\t  (1.16mm,12.41mm) -- (1.16mm,7.91mm) -- (0mm,7.91mm);\n",
    "\n",
    "\\foreach \\x in {0mm,2.54mm}\n",
    "\t\\foreach \\y in {0mm,-2.54mm,...,-10.16mm}\n",
    "\t\t\\draw[xshift=\\x, yshift=\\y,black] (3.08mm,15.24mm) circle [radius=0.32mm];\n",
    "\n",
    "\\draw (12mm,15.24mm) [align = left] node {-15V};\n",
    "\\draw (12mm,12.7mm)  [align = left] node {+15V};\n",
    "\\draw (12mm,10.16mm)  [align = left] node {GND};\n",
    "\\draw (12mm,7.62mm)  [align = left] node {GND};\n",
    "\\draw (12mm,5.08mm)  [align = left] node {+5V};\n",
    "\n",
    "\\end{tikzpicture}\n",
    "\\end{document}"
   ]
  },
  {
   "cell_type": "markdown",
   "metadata": {},
   "source": [
    "# construction"
   ]
  },
  {
   "cell_type": "raw",
   "metadata": {},
   "source": [
    "{{< image \"/IMG20210606130031.jpg\" \"Figure 3: Kraft Board\" >}}"
   ]
  },
  {
   "cell_type": "raw",
   "metadata": {},
   "source": [
    "{{< bom kraft kraft mount>}}"
   ]
  },
  {
   "cell_type": "markdown",
   "metadata": {},
   "source": [
    "There are also two wall-wart adapters needed. One must be [15V/AC](https://www.mascot.no/media/2444/8710-tech-spec_.pdf), the other 12V/DC. Both adapters must have one Ampere capacity."
   ]
  },
  {
   "cell_type": "raw",
   "metadata": {},
   "source": [
    "{{< callout kraft kraft mount panel>}}\n",
    "{{< report kraft kraft mount>}}"
   ]
  },
  {
   "cell_type": "raw",
   "metadata": {},
   "source": [
    "{{< image \"/kraft-panel.jpg\" \"Figure 4: Kraft panel stacking\">}}"
   ]
  },
  {
   "cell_type": "markdown",
   "metadata": {},
   "source": [
    "# usage\n",
    "\n",
    "\n",
    "Plugin the Wall-Wart connectors to the kraft barrel sockets. Be careful and don't mix the inputs up, both connectors have the same size. The modules are connected with ribbon cables, use one socket per module. "
   ]
  }
 ],
 "metadata": {
  "FrontMatter": {
   "author": "spielhuus",
   "categories": [
    "module"
   ],
   "date": "2020-12-05",
   "excerpt": "Eurorack synthesizers need a linear bipolar power supply. In order not to have to work with mains voltage, a wall-wart adapter is used for power input. This power supply will provide +-15V/1A and 5V/1A. The current for +-15V is split, there is 500mA available on each rail. For the bipolar source, a 15V AC adapter is needed. The 5V source is generated by a 12V DC adapter. The circuit is largely from the MFOS Wall Wart Power Supply by Ray Wilson.",
   "hero_image": "kraft-landscape.jpg",
   "hero_mobile": "kraft-portrait.jpg",
   "image": "kraft-card.jpg",
   "name": "kraft",
   "references": [
    {
     "description": "Wall Wart Power Supply (+/-9V to +/-15V)",
     "title": "MFOS",
     "url": "http://musicfromouterspace.com/analogsynth_new/WALLWARTSUPPLY/WALLWARTSUPPLY.php"
    }
   ],
   "subtitle": "Bipolar Wall-Wart Power Supply.",
   "tags": [
    "misc"
   ],
   "title": "kraft",
   "version": 1
  },
  "kernelspec": {
   "display_name": "Python 3 (ipykernel)",
   "language": "python",
   "name": "python3"
  },
  "language_info": {
   "codemirror_mode": {
    "name": "ipython",
    "version": 3
   },
   "file_extension": ".py",
   "mimetype": "text/x-python",
   "name": "python",
   "nbconvert_exporter": "python",
   "pygments_lexer": "ipython3",
   "version": "3.9.2"
  }
 },
 "nbformat": 4,
 "nbformat_minor": 4
}

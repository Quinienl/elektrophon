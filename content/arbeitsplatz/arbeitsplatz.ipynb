{
 "cells": [
  {
   "cell_type": "markdown",
   "metadata": {},
   "source": [
    "The elektrophon is developped with an continous development lifecycle. The circuits for the modules and articles are first simulated with spice. Jupyter notebooks are used to edit and run the simulations. In these notebooks also the images and other contend is created. To run this notebooks you need to install the required software. Here is a list of all the needed software and tools.\n",
    "\n",
    "\n",
    "# essential software\n",
    "  \n",
    "The software used to create the notebooks, schematics and PCB's.  \n",
    "\n",
    "* [KiCad EDA](https://kicad-pcb.org/) A Cross Platform and Open Source Electronics Design Automation Suite.\n",
    "* [Visual Studio Code](https://code.visualstudio.com/) free code editor from microsoft. jupyter notebooks can be executed and previewed in code.\n",
    "* [ngspice](http://ngspice.sourceforge.net/index.html) is an open source spice simulator for electric and electronic circuits.\n",
    "* [PySpice](https://pyspice.fabrice-salvaire.fr/releases/v1.4/overview.html) is an open source Python module which provides a Python interface to the Ngspice and Xyce circuit simulators.\n",
    "* [Jupyter](https://jupyter.org/) interactive Python notebook.  \n",
    "\n",
    "Install this sofware in ubuntu:\n",
    "```\n",
    "apt get install xxxxxx\n",
    "```\n",
    "\n",
    "# kicad installation\n",
    "\n",
    "In KiCad the libraries have to be added. the Symbol and Footprint library can be found in $(ELEKTROPHON)/lib/kicad\n",
    "\n",
    "There are templates for new modules. . the Symbol and Footprint library can be found in $(ELEKTROPHON)/lib/kicad"
   ]
  },
  {
   "cell_type": "markdown",
   "metadata": {},
   "source": [
    "## python packages\n",
    "  \n",
    "The notebooks and simulations require some python packages. These packages can be installed with conda.\n",
    "  \n",
    "* [miniconda](https://www.anaconda.com/) Manage python packages and environments.\n",
    "  \n",
    "To install conda on your operating systems follow the official guides.\n",
    "  \n",
    "* [windows](https://conda.io/projects/conda/en/latest/user-guide/install/windows.html)\n",
    "* [linux](https://conda.io/projects/conda/en/latest/user-guide/install/linux.html)\n",
    "* [macOS](https://conda.io/projects/conda/en/latest/user-guide/install/macos.html)\n",
    "  \n",
    "For installing all the required packages create a conda environment with the [environment.yml](https://github.com/spielhuus/elektrophon/blob/master/environment.yml) file in the root folder of the elektrophon github repository.\n",
    "\n",
    "```bash\n",
    "conda env create -f environment.yml\n",
    "conda activate elektrophon\n",
    "```\n",
    "\n",
    "The following packages will be installed:\n",
    "  \n",
    "* [Matplotlib](https://matplotlib.org/) is a comprehensive library for creating static, animated, and interactive visualizations in Python.\n",
    "* [NumPy](https://numpy.org/) The fundamental package for scientific computing with Python.\n",
    "* [SciPy](https://www.scipy.org/) is a Python-based ecosystem of open-source software for mathematics, science, and engineering.\n",
    "* [SymPy](https://www.sympy.org/en/index.html) is a Python library for symbolic mathematics.\n",
    "* [pandas](https://pandas.pydata.org/) is a fast, powerful, flexible and easy to use open source data analysis and manipulation tool.\n",
    "* [PySpice](https://pyspice.fabrice-salvaire.fr/) Simulate electronic circuit using Python and the Ngspice / Xyce simulators\n",
    "* [SchemDraw](https://schemdraw.readthedocs.io/en/latest/index.html) Schemdraw is a Python package for producing high-quality electrical circuit schematic diagrams. \n",
    "* [itikz](https://github.com/jbn/itikz) Cell magic for PGF/TikZ-to-SVG rendering in Jupyter.\n",
    "  \n",
    "Itikz requires additional native packages (example in ubuntu)\n",
    "\n",
    "\n",
    "```bash\n",
    "apt-get install texlive texlive-latex-extra texlive-pictures texlive-science imagemagick pdf2svg\n",
    "```"
   ]
  },
  {
   "cell_type": "markdown",
   "metadata": {},
   "source": [
    "# web page\n",
    "\n",
    "If you want to build the web page on your own you can use the [docker image](https://github.com/spielhuus/elektrophon/tree/master/docker).\n",
    "\n",
    "* [Jekyll](https://jekyllrb.com/) Transform your plain text into static websites and blogs.\n",
    "* [Bulma](https://bulma.io/) Bulma is a free, open source framework that provides ready-to-use frontend components that you can easily combine to build responsive web interfaces.\n",
    "* [KiBot](https://github.com/INTI-CMNB/kibot) is a program which helps you to generate the fabrication and documentation files for your KiCad projects"
   ]
  },
  {
   "cell_type": "markdown",
   "metadata": {},
   "source": [
    "# other software\n",
    "\n",
    "* [audacity](https://www.audacityteam.org/) Free, open source, cross-platform audio software"
   ]
  }
 ],
 "metadata": {
  "FrontMatter": {
   "author": "spielhuus",
   "category": "article",
   "date": "2020-12-01",
   "excerpt": "In this article, we look at how to build modules that can be mounted in a eurorack. The international standard 19 rack system (DIN 41494 / IEC 297-3 / IEEE 1001.1) is the base for the dimension. These standards define all the parts needed to build a complete rack. here only the rails to mount the modules are used. the rails will be screwed to side panels made from wood.",
   "hero_darken": "true",
   "hero_height": "is-fullheight",
   "hero_image": "/assets/arbeitsplatz-hero_landscape.jpg",
   "hero_mobile": "/assets/arbeitsplatz-hero_portrait.jpg",
   "hero_subtitle": "true",
   "hero_title": "true",
   "image": "/assets/arbeitsplatz.jpg",
   "layout": "article",
   "subtitle": "All the necessary applications for developing the elektrophon.",
   "tag": "grundlage",
   "title": "arbeitsplatz",
   "version": "0"
  },
  "kernelspec": {
   "display_name": "Python 3 (ipykernel)",
   "language": "python",
   "name": "python3"
  },
  "language_info": {
   "codemirror_mode": {
    "name": "ipython",
    "version": 3
   },
   "file_extension": ".py",
   "mimetype": "text/x-python",
   "name": "python",
   "nbconvert_exporter": "python",
   "pygments_lexer": "ipython3",
   "version": "3.9.5"
  }
 },
 "nbformat": 4,
 "nbformat_minor": 4
}

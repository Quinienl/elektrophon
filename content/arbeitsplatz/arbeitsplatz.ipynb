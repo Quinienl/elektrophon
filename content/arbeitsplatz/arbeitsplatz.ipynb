{
 "cells": [
  {
   "cell_type": "code",
   "execution_count": null,
   "metadata": {},
   "outputs": [],
   "source": [
    "from IPython.display import display, HTML"
   ]
  },
  {
   "cell_type": "markdown",
   "metadata": {},
   "source": [
    "# essential software\n",
    "  \n",
    "All the schematics and PCB are created in Kicad. The documentation is based on jupyter notebooks. The jupyter notebooks run simulations and create plots of the results. Also other  \n",
    "\n",
    "The software used to create the notebooks, schematics and PCB's.  \n",
    "\n",
    "* [KiCad EDA](https://kicad-pcb.org/) A Cross Platform and Open Source Electronics Design Automation Suite.\n",
    "* [Visual Studio Code](https://code.visualstudio.com/) free code editor from microsoft. jupyter notebooks can be executed and previewed in code.\n",
    "* [ngspice](http://ngspice.sourceforge.net/index.html) is an open source spice simulator for electric and electronic circuits.\n",
    "* [PySpice](https://pyspice.fabrice-salvaire.fr/releases/v1.4/overview.html) is an open source Python module which provides a Python interface to the Ngspice and Xyce circuit simulators.\n",
    "* [Jupyter](https://jupyter.org/) interactive Python notebook."
   ]
  },
  {
   "cell_type": "markdown",
   "metadata": {},
   "source": [
    "In some linux distributions the open source version of Visual Studio Code is installed. With this version not all plugins or not the latest versions are available for installation. To get the plugins at the latest version, the official Microsoft Code has to be installed. \n",
    "\n",
    "Install the Microsoft version of code in archlinux:"
   ]
  },
  {
   "cell_type": "raw",
   "metadata": {},
   "source": [
    "{{< highlight shell \"linenos=table,linenostart=1\" >}}\n",
    "git clone https://aur.archlinux.org/visual-studio-code-bin.git  \n",
    "cd visual-studio-code-bin \n",
    "makepkg -si\n",
    "{{< / highlight >}}"
   ]
  },
  {
   "cell_type": "markdown",
   "metadata": {},
   "source": [
    "and install the python extension:"
   ]
  },
  {
   "cell_type": "raw",
   "metadata": {},
   "source": [
    "{{< highlight shell \"linenos=table\" >}}\n",
    "code --install-extension ms-python.python  \n",
    "{{< / highlight >}}"
   ]
  },
  {
   "cell_type": "markdown",
   "metadata": {},
   "source": [
    "## kicad configuration\n",
    "\n",
    "In KiCad the libraries have to be added. \n",
    "The Symbols, Footprints and templates can be found in `$(ELEKTROPHON)/lib/kicad`"
   ]
  },
  {
   "cell_type": "markdown",
   "metadata": {},
   "source": [
    "## python packages\n",
    "  \n",
    "The notebooks and simulations require some python packages.\n",
    "  \n",
    "* [nbconvert](https://nbconvert.readthedocs.io/en/latest/) Convert Notebooks to other formats\n",
    "* [Matplotlib](https://matplotlib.org/) is a comprehensive library for creating static, animated, and interactive visualizations in Python.\n",
    "* [NumPy](https://numpy.org/) The fundamental package for scientific computing with Python.\n",
    "* [SciPy](https://www.scipy.org/) is a Python-based ecosystem of open-source software for mathematics, science, and engineering.\n",
    "* [SymPy](https://www.sympy.org/en/index.html) is a Python library for symbolic mathematics.\n",
    "* [pandas](https://pandas.pydata.org/) is a fast, powerful, flexible and easy to use open source data analysis and manipulation tool.\n",
    "* [PySpice](https://pyspice.fabrice-salvaire.fr/) Simulate electronic circuit using Python and the Ngspice / Xyce simulators\n",
    "* [SchemDraw](https://schemdraw.readthedocs.io/en/latest/index.html) Schemdraw is a Python package for producing high-quality electrical circuit schematic diagrams. \n",
    "* [itikz](https://github.com/jbn/itikz) Cell magic for PGF/TikZ-to-SVG rendering in Jupyter.\n",
    "* [pytest](https://docs.pytest.org/en/6.2.x/) pytest is a mature full-featured Python testing tool that helps you write better programs. \n",
    "* [pytest-json](https://github.com/mattcl/pytest-json) pytest-json is a plugin for py.test that generates JSON reports for test results\n",
    "* [junit-xml](https://github.com/kyrus/python-junit-xml) A Python module for creating JUnit XML test result documents that can be read by tools such as Jenkins or Bamboo."
   ]
  },
  {
   "cell_type": "markdown",
   "metadata": {},
   "source": [
    "Itikz requires additional native packages (example in arch linux)\n"
   ]
  },
  {
   "cell_type": "raw",
   "metadata": {},
   "source": [
    "{{< highlight shell-session \"linenos=table\" >}}\n",
    "pacman -Sy install texlive-bin texlive-latex-extra texlive-pictures texlive-science imagemagick pdf2svg\n",
    "{{< / highlight >}}"
   ]
  },
  {
   "cell_type": "markdown",
   "metadata": {},
   "source": [
    "# edit the notebooks\n",
    "\n",
    "The simplest way of editing the notebooks is to use JupyterLab. JupyterLab also allows it to edit the nobeook metadata, which is needed to create the FrontMatter part for the web pages. \n",
    "\n",
    "Run the notebook server in docker"
   ]
  },
  {
   "cell_type": "raw",
   "metadata": {},
   "source": [
    "{{< highlight shell \"linenos=table\" >}}\n",
    "docker run -v {PATH TO CONTENT}:/github/workspace \\\n",
    "           -p 8888:8888 -ti --rm \\\n",
    "           ghcr.io/spielhuus/docker-elektrophon:main \\\n",
    "           notebook\n",
    "{{< / highlight >}}"
   ]
  },
  {
   "cell_type": "markdown",
   "metadata": {},
   "source": [
    "# web page\n",
    "\n",
    "The web page can also be built in the docker container. There is additional software needed.\n",
    "\n",
    "* [Hugo](https://gohugo.io/) Transform your plain text into static websites and blogs.\n",
    "* [Bulma](https://bulma.io/) Bulma is a free, open source framework that provides ready-to-use frontend components that you can easily combine to build responsive web interfaces.\n",
    "* [KiBot](https://github.com/INTI-CMNB/kibot) is a program which helps you to generate the fabrication and documentation files for your KiCad projects\n",
    "* [SCons](https://scons.org/) A software construction tool\n",
    "* [SConstool-kicad](https://github.com/spielhuus/sconstool-kicad) run the kibot targets from SCons\n",
    "* [SConstool-notebook](https://github.com/spielhuus/sconstool-nbconvert) convert the notebooks SCons\n",
    "* [spotlight](https://github.com/nextapps-de/spotlight) Lightbox gallery library\n",
    "* [$\\KaTeX$](https://katex.org/) Fast math typesetting library for the web.\n",
    "\n",
    "run the web page locally:"
   ]
  },
  {
   "cell_type": "raw",
   "metadata": {},
   "source": [
    "{{< highlight shell \"linenos=table\" >}}\n",
    "docker run -v {PATH TO CONTENT}:/github/workspace \\\n",
    "           -p 1313:1313 -ti --rm \\\n",
    "           ghcr.io/spielhuus/docker-elektrophon:main \\\n",
    "           serve\n",
    "{{< / highlight >}}"
   ]
  },
  {
   "cell_type": "markdown",
   "metadata": {},
   "source": [
    "build the web page for deployment:"
   ]
  },
  {
   "cell_type": "raw",
   "metadata": {},
   "source": [
    "{{< highlight shell \"linenos=table\" >}}\n",
    "docker run -v {PATH TO CONTENT}:/github/workspace \\\n",
    "           -ti --rm ghcr.io/spielhuus/docker-elektrophon:main \\\n",
    "           build\n",
    "{{< / highlight >}}"
   ]
  },
  {
   "cell_type": "markdown",
   "metadata": {},
   "source": [
    "Additional parameters for Hugo can be passed after the command. For example when also draft pages needs to be built:"
   ]
  },
  {
   "cell_type": "raw",
   "metadata": {},
   "source": [
    "{{< highlight shell \"linenos=table\" >}}\n",
    "docker run -v {PATH TO CONTENT}:/github/workspace \\\n",
    "           -ti --rm ghcr.io/spielhuus/docker-elektrophon:main \\\n",
    "           build -D\n",
    "{{< / highlight >}}"
   ]
  }
 ],
 "metadata": {
  "FrontMatter": {
   "author": "spielhuus",
   "categories": [
    "article"
   ],
   "date": "2020-12-01",
   "excerpt": "The elektrophon is developed with a continuous development lifecycle. The circuits for the modules and articles are first simulated with spice. Jupyter notebooks are used to edit and run the simulations. In these notebooks also the images and other content is created. To run the notebooks you need to install the required software. Here is a list of all the needed software and tools.",
   "hero_image": "arbeitsplatz-hero_landscape.jpg",
   "hero_mobile": "arbeitsplatz-hero_portrait.jpg",
   "image": "arbeitsplatz.jpg",
   "subtitle": "All the necessary applications for developing the elektrophon.",
   "tags": [
    "grundlage"
   ],
   "title": "arbeitsplatz",
   "version": "0"
  },
  "kernelspec": {
   "display_name": "Python 3 (ipykernel)",
   "language": "python",
   "name": "python3"
  },
  "language_info": {
   "codemirror_mode": {
    "name": "ipython",
    "version": 3
   },
   "file_extension": ".py",
   "mimetype": "text/x-python",
   "name": "python",
   "nbconvert_exporter": "python",
   "pygments_lexer": "ipython3",
   "version": "3.9.2"
  }
 },
 "nbformat": 4,
 "nbformat_minor": 4
}

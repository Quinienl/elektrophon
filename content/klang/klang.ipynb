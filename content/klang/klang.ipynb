{
 "metadata": {
  "language_info": {
   "codemirror_mode": {
    "name": "ipython",
    "version": 3
   },
   "file_extension": ".py",
   "mimetype": "text/x-python",
   "name": "python",
   "nbconvert_exporter": "python",
   "pygments_lexer": "ipython3",
   "version": "3.8.5-final"
  },
  "orig_nbformat": 2,
  "kernelspec": {
   "name": "python3",
   "display_name": "Python 3",
   "language": "python"
  }
 },
 "nbformat": 4,
 "nbformat_minor": 2,
 "cells": [
  {
   "source": [
    "---\n",
    "layout: module\n",
    "title: kontakt\n",
    "author: spielhuus\n",
    "version: 0\n",
    "status: draft\n",
    "tags: cv\n",
    "category: module\n",
    "logo: kontakt_files/kontakt-logo.jpg\n",
    "panel: kontakt_files/kontakt-panel.jpg\n",
    "excerpt: midi rtp interface using the esp32.\n",
    "---\n",
    "\n",
    "\n",
    "[1]: https://github.com/lathoub/Arduino-AppleMidi-Library"
   ],
   "cell_type": "markdown",
   "metadata": {}
  },
  {
   "cell_type": "code",
   "execution_count": 3,
   "metadata": {},
   "outputs": [],
   "source": [
    "import schemdraw\n",
    "import schemdraw.elements as elm\n",
    "from schemdraw import dsp\n"
   ]
  },
  {
   "source": [
    "lorem ipsum blablba"
   ],
   "cell_type": "markdown",
   "metadata": {}
  },
  {
   "cell_type": "code",
   "execution_count": 4,
   "metadata": {},
   "outputs": [
    {
     "output_type": "execute_result",
     "data": {
      "text/plain": [
       "<schemdraw.backends.mpl.Figure at 0x194e8dd4670>"
      ],
      "image/svg+xml": "<?xml version=\"1.0\" encoding=\"utf-8\" standalone=\"no\"?>\r\n<!DOCTYPE svg PUBLIC \"-//W3C//DTD SVG 1.1//EN\"\r\n  \"http://www.w3.org/Graphics/SVG/1.1/DTD/svg11.dtd\">\r\n<!-- Created with matplotlib (https://matplotlib.org/) -->\r\n<svg height=\"51.12pt\" version=\"1.1\" viewBox=\"0 0 53.28 51.12\" width=\"53.28pt\" xmlns=\"http://www.w3.org/2000/svg\" xmlns:xlink=\"http://www.w3.org/1999/xlink\">\r\n <metadata>\r\n  <rdf:RDF xmlns:cc=\"http://creativecommons.org/ns#\" xmlns:dc=\"http://purl.org/dc/elements/1.1/\" xmlns:rdf=\"http://www.w3.org/1999/02/22-rdf-syntax-ns#\">\r\n   <cc:Work>\r\n    <dc:type rdf:resource=\"http://purl.org/dc/dcmitype/StillImage\"/>\r\n    <dc:date>2021-01-11T21:40:26.862278</dc:date>\r\n    <dc:format>image/svg+xml</dc:format>\r\n    <dc:creator>\r\n     <cc:Agent>\r\n      <dc:title>Matplotlib v3.3.2, https://matplotlib.org/</dc:title>\r\n     </cc:Agent>\r\n    </dc:creator>\r\n   </cc:Work>\r\n  </rdf:RDF>\r\n </metadata>\r\n <defs>\r\n  <style type=\"text/css\">*{stroke-linecap:butt;stroke-linejoin:round;}</style>\r\n </defs>\r\n <g id=\"figure_1\">\r\n  <g id=\"patch_1\">\r\n   <path d=\"M 0 51.12 \r\nL 53.28 51.12 \r\nL 53.28 0 \r\nL 0 0 \r\nz\r\n\" style=\"fill:none;\"/>\r\n  </g>\r\n  <g id=\"axes_1\">\r\n   <g id=\"line2d_1\">\r\n    <path clip-path=\"url(#p45c36996f2)\" d=\"M 10.44 25.56 \r\nL 10.44 10.26 \r\nL 42.84 10.26 \r\nL 42.84 40.86 \r\nL 10.44 40.86 \r\nL 10.44 25.56 \r\n\" style=\"fill:none;stroke:#000000;stroke-linecap:round;stroke-width:2;\"/>\r\n   </g>\r\n   <g id=\"text_1\">\r\n    <!-- $\\int$ -->\r\n    <g transform=\"translate(21.46 30.95)scale(0.14 -0.14)\">\r\n     <defs>\r\n      <path d=\"M 33.34375 86.328125 \r\nQ 33.9375 97.859375 39.5 102.4375 \r\nQ 45.0625 107.03125 50.28125 107.03125 \r\nQ 55.515625 107.03125 59.890625 102.734375 \r\nQ 64.265625 98.4375 65.625 88.71875 \r\nL 55.375 87.703125 \r\nQ 54.203125 96.6875 50.296875 96.6875 \r\nQ 45.40625 96.6875 44.828125 84.578125 \r\nL 40.328125 -9.328125 \r\nQ 39.796875 -20.84375 34.171875 -25.4375 \r\nQ 28.5625 -30.03125 23.390625 -30.03125 \r\nQ 18.171875 -30.03125 13.796875 -25.734375 \r\nQ 9.421875 -21.4375 8.0625 -11.71875 \r\nL 18.3125 -10.6875 \r\nQ 19.484375 -19.671875 23.390625 -19.671875 \r\nQ 28.265625 -19.671875 28.859375 -7.625 \r\nz\r\n\" id=\"DejaVuSansDisplay-8747\"/>\r\n     </defs>\r\n     <use transform=\"translate(0 0.96875)\" xlink:href=\"#DejaVuSansDisplay-8747\"/>\r\n    </g>\r\n   </g>\r\n  </g>\r\n </g>\r\n <defs>\r\n  <clipPath id=\"p45c36996f2\">\r\n   <rect height=\"36.72\" width=\"38.88\" x=\"7.2\" y=\"7.2\"/>\r\n  </clipPath>\r\n </defs>\r\n</svg>\r\n",
      "image/png": "[encoded data removed]"
     },
     "metadata": {},
     "execution_count": 4
    }
   ],
   "source": [
    "import logging\n",
    "logging.Logger.disabled=True\n",
    "d = schemdraw.Drawing()\n",
    "d.add(dsp.Square(label='$\\int$'))\n",
    "d.draw()\n"
   ]
  },
  {
   "source": [
    "## references\n",
    "\n",
    "[AppleMIDI][1] (aka rtpMIDI) for arduino"
   ],
   "cell_type": "markdown",
   "metadata": {}
  }
 ]
}
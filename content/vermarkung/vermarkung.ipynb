{
 "cells": [
  {
   "cell_type": "code",
   "execution_count": null,
   "metadata": {},
   "outputs": [],
   "source": [
    "%load_ext itikz"
   ]
  },
  {
   "cell_type": "markdown",
   "metadata": {},
   "source": [
    "# pcb size\n",
    "\n",
    "The size of the modules is described in U (Rack Unit) and HP (Horizontal Pitch). U is the height of the module. One U is 1.75\" = 44.45mm. The modules are 3U, the total height would be 3*44.45mm=133.4mm. This would be too large when rails with lips are used. Therefore the height of the modules is 128.5mm. The HP is or 1/5\" (5.08 mm). The real sizes are slightly smaller because of the tolerance of the PCB production process. "
   ]
  },
  {
   "cell_type": "code",
   "execution_count": null,
   "metadata": {
    "caption": "Figure 1: Eurorack Size",
    "tags": []
   },
   "outputs": [],
   "source": [
    "%%itikz -temp-dir \n",
    "\\documentclass[tikz]{standalone}\n",
    "\\usetikzlibrary{arrows.meta}\n",
    "\\begin{document}\n",
    "\\begin{tikzpicture}[scale=1.4]\n",
    "\n",
    "\n",
    "\\fontsize{0.35cm}{0.35cm}\\selectfont \\sffamily\n",
    "\n",
    "\\def\\PanelHeight{128.5mm}\n",
    "\\def\\PCBHeight{108.18mm}\n",
    "\\def\\PCBBottom{10.08mm}\n",
    "\\def\\Spacing{5.08mm}\n",
    "\n",
    "% draw outline\n",
    "\\foreach \\x in {0,4,8,12,16,20} {\n",
    "    \\draw [very thick] (\\x * \\Spacing,0mm) -- (\\x * \\Spacing,\\PanelHeight);\n",
    "    \\draw [thin] (\\x * \\Spacing,137mm) -- (\\x * \\Spacing,\\PanelHeight);\n",
    "    }\n",
    "\\draw [very thick] (0mm,0mm) -- (122mm,0mm);\n",
    "\\draw [very thick] (0mm,\\PanelHeight) -- (122mm,\\PanelHeight);\n",
    "\\draw [very thick,dashed] (0mm,\\PCBBottom) -- (115mm,\\PCBBottom);\n",
    "\\draw [very thick,dashed] (0mm,\\PCBBottom + \\PCBHeight) -- (115mm,\\PCBBottom + \\PCBHeight);\n",
    "\n",
    "% mounting holes\n",
    "% vertical grid\n",
    "\\foreach \\x in {2,6,10,14,18} \n",
    "    \\draw [thin, dash dot] (\\x * \\Spacing,15mm) -- (\\x * \\Spacing,120mm);\n",
    "% horizontal grid\n",
    "\\foreach \\y in {0,4,8,12,16} \n",
    "    \\draw [thin, dash dot] (3mm,{21.82mm + (\\y * \\Spacing)}) -- (122mm,{21.82mm + (\\y * \\Spacing)});\n",
    "% draw the pot/jack holes\n",
    "\\foreach \\x in {2,6,10,14,18} \n",
    "\t\\foreach \\y in {0,4,8,12,16} \n",
    "\t\t\\draw (\\x * \\Spacing,{21.82mm + (\\y * \\Spacing)}) circle (0.4);\n",
    "\n",
    "% horizontal markings top\n",
    "\\foreach \\name [count=\\xi from 1)] in {4HP\\\\20.00, 8HP\\\\40.3, 12HP\\\\60.6, 16HP\\\\80.9, 20HP\\\\101.3}\n",
    "    \\draw[thin,{Latex[scale=1.5]}-{Latex[scale=1.5]}] ({((\\xi * 2) - 2) * 2 * \\Spacing},135mm) -- (\\xi * 4 * \\Spacing,135mm) node[midway,above,align = center]{\\name};\n",
    "% horizontal markings mounting holes\n",
    "\\draw[thin,{Latex[scale=1.5]}-{Latex[scale=1.5]}] (0,114mm) -- (10.16mm,114mm) node[midway,above,align = center]{10.16};\n",
    "\\draw[thin,{Latex[scale=1.5]}-{Latex[scale=1.5]}] (10.16mm,114mm) -- (30.48mm,114mm) node[near end,above,align = right]{20.32};\n",
    "\\draw[thin,{Latex[scale=1.5]}-{Latex[scale=1.5]}] (30.48mm,114mm) -- (50.8mm,114mm) node[near end,above,align = right]{20.32};\n",
    "\n",
    "% vertical markings\n",
    "% vertical grid\n",
    "\\foreach \\x in {0mm,\\PanelHeight} \n",
    "    \\draw [thin] (-20mm,\\x) -- (0mm,\\x);\n",
    "\\foreach \\x in {\\PCBBottom,\\PCBBottom+\\PCBHeight} \n",
    "    \\draw [thin] (-11mm,\\x) -- (0mm,\\x);\n",
    "\n",
    "\\draw[thin,{Latex[scale=1.5]}-{Latex[scale=1.5]}] (110mm,\\PCBBottom) -- (110mm,\\PCBBottom + 11.66mm) node[midway,above,align = center,rotate=90]{11.66};\n",
    "\\draw[thin,{Latex[scale=1.5]}-{Latex[scale=1.5]}] (110mm,\\PCBBottom + \\PCBHeight - 15.24mm) -- (110mm,\\PCBBottom + \\PCBHeight) node[midway,above,align = center,rotate=90]{15.24};\n",
    "\n",
    "\\def\\last{0}\n",
    "\\def\\widths{{21.82,20.32,20.32,20.32,20.32,25.4}}\n",
    "\\foreach \\y [count=\\i from 0)] in {21.82mm,42.14mm,62.46mm,82.78mm,103.1mm,128.5mm} {\n",
    "    \\draw[thin,{Latex[scale=1.5]}-{Latex[scale=1.5]}] (120mm,\\last) -- (120mm,\\y) node[midway,above,align = center,rotate=90]{\\pgfmathparse{\\widths[\\i]}\\pgfmathresult};\n",
    "    \\global\\let\\last=\\y\n",
    "}\n",
    "\n",
    "%vertical markings right\n",
    "\\draw[thin,{Latex[scale=1.5]}-{Latex[scale=1.5]}] (-8mm,0mm) -- (-8mm,\\PCBBottom) node[midway,above,align = center,rotate=90]{10.16};\n",
    "\\draw[thin,{Latex[scale=1.5]}-{Latex[scale=1.5]}] (-8mm,\\PCBBottom) -- (-8mm,\\PCBBottom+\\PCBHeight) node[midway,above,align = center,rotate=90]{108.18} node[midway,below,align = center,rotate=90]{(mount, main)};\n",
    "\\draw[thin,{Latex[scale=1.5]}-{Latex[scale=1.5]}] (-8mm,\\PCBBottom + \\PCBHeight) -- (-8mm,\\PanelHeight) node[midway,above,align = center,rotate=90]{10.16};\n",
    "\n",
    "\\draw[thin,{Latex[scale=1.5]}-{Latex[scale=1.5]}] (-17mm,0mm) -- (-17mm,\\PanelHeight) node[midway,above,align = center,rotate=90]{128.5} node[midway,below,align = center,rotate=90]{(panel)};\n",
    "\n",
    "%mounting holes\n",
    "\\foreach \\x in {7.5mm,53.22mm,73.54mm} {\n",
    "    \\draw[black,thick,densely dotted] (\\x,3mm) circle (0.1);\n",
    "    \\draw[black,thick,densely dotted] (\\x,128.5mm-3mm) circle (0.1);\n",
    "    }\n",
    "\n",
    "\\end{tikzpicture}\n",
    "\\end{document}\n"
   ]
  },
  {
   "cell_type": "code",
   "execution_count": null,
   "metadata": {},
   "outputs": [],
   "source": [
    "from IPython.core.display import display, HTML\n",
    "display(HTML('''\n",
    "<div class=\"hero is-halfheight mb-4\" style=\"background: url('{{ '/assets/rails.jpg' | relative_url }}') no-repeat center center; background-size: cover; background-attachment: fixed;\">\n",
    "   <div class=\"hero-body\">\n",
    "        <div class=\"content has-text-centered\">\n",
    "        </div>\n",
    "    </div>\n",
    "</div>\n",
    "'''))"
   ]
  },
  {
   "cell_type": "markdown",
   "metadata": {},
   "source": [
    "# panel mounting holes"
   ]
  },
  {
   "cell_type": "code",
   "execution_count": null,
   "metadata": {},
   "outputs": [],
   "source": [
    "%%itikz -temp-dir \n",
    "\\documentclass[tikz]{standalone}\n",
    "\\usetikzlibrary{arrows.meta}\n",
    "\\begin{document}\n",
    "\\begin{tikzpicture}[scale=4]\n",
    "\n",
    "\\fontsize{0.35cm}{0.35cm}\\selectfont \\sffamily\n",
    "\n",
    "%panel border\n",
    "\\draw [very thick] (0,0) -- (30mm,0mm);\n",
    "\\draw [very thick] (0,0) -- (0mm,-12mm);\n",
    "%vertical measure lines\n",
    "\\draw [thin] (0mm,6mm) -- (0mm,-8mm);\n",
    "\\draw [thin] (7.5mm,6mm) -- (7.5mm,-7mm);\n",
    "\\draw [thin] (7.5mm+15.24mm,6mm) -- (7.5mm+15.24mm,-8mm);\n",
    "%horizontal measure lines\n",
    "\\draw [thin] (-4mm,0mm) -- (30mm,-0mm);\n",
    "\\draw [thin] (-6mm,-3mm) -- (30mm,-3mm);\n",
    "\n",
    "% the rail\n",
    "\\draw [thick] (-8mm,-6.85mm) -- (30mm,-6.85mm);\n",
    "\\draw [thick] (-8mm,2.15mm) -- (30mm,2.15mm);\n",
    "\\foreach \\x in {2.42mm,7.5mm,12.58mm,17.66mm,22.74mm} \n",
    "    \\draw (\\x,-3mm) circle (0.15);\n",
    "\n",
    "%pcb border\n",
    "\\draw [thick,dashed] (0mm,2*-5.08mm) -- (30mm,2*-5.08mm);\n",
    "\n",
    "%markings\n",
    "\\draw[thin,{Latex[scale=1.5]}-{Latex[scale=1.5]}] (0mm,5mm) -- (7.5mm,5mm) node[midway,above,align = center]{7.5};\n",
    "\\draw[thin,{Latex[scale=1.5]}-{Latex[scale=1.5]}] (7.5mm,5mm) -- (7.5mm+15.24mm,5mm) node[midway,above,align = center]{n*5.08};\n",
    "\n",
    "\\draw[thin,{Latex[scale=1.5]}-{Latex[scale=1.5]}] (-3mm,0mm) -- (-3mm,2.15mm) node[midway,above,align = center,rotate=90]{2.15};\n",
    "\\draw[thin,{Latex[scale=1.5]}-{Latex[scale=1.5]}] (-3mm,0mm) -- (-3mm,-3mm) node[midway,above,align = center,rotate=90]{3};\n",
    "\\draw[thin,{Latex[scale=1.5]}-{Latex[scale=1.5]}] (-5mm,-3mm) -- (-5mm,-6.85mm) node[midway,above,align = center,rotate=90]{3.85};\n",
    "\\draw[thin,{Latex[scale=1.5]}-{Latex[scale=1.5]}] (-5mm,-3mm) -- (-5mm,2.15mm) node[midway,above,align = center,rotate=90]{5.15};\n",
    "\n",
    "%hole size\n",
    "\\draw [thin] (7.5mm,-5mm) -- (10mm,-10mm);\n",
    "\\draw [thin] (10mm,-10mm) -- (12mm,-10mm) node[midway,above,align = center]{M3};\n",
    "\n",
    "\n",
    "\\end{tikzpicture}\n",
    "\\end{document}\n",
    "\n"
   ]
  },
  {
   "cell_type": "markdown",
   "metadata": {},
   "source": [
    "The panel mounting holes are placed 7.5mm from the left side of the panel and 3mm from the top and bottom. The mounting holes must be in steps of 5.08mm. There is always one mounting hole on the left of the panel. On the right side, there is one when the panel is equal to or larger than 8 HP. To assemble the modules on the rails M3x6 cap screws are used."
   ]
  },
  {
   "cell_type": "code",
   "execution_count": null,
   "metadata": {},
   "outputs": [],
   "source": [
    "from IPython.core.display import display, HTML\n",
    "display(HTML('''\n",
    "<div class=\"hero is-halfheight mb-4\" style=\"background: url('{{ '/assets/construction.jpg' | relative_url }}') no-repeat center center; background-size: cover; background-attachment: fixed;\">\n",
    "   <div class=\"hero-body is-halfheight\">\n",
    "        <div class=\"content\">\n",
    "        </div>\n",
    "    </div>\n",
    "</div>\n",
    "'''))"
   ]
  },
  {
   "cell_type": "markdown",
   "metadata": {},
   "source": [
    "# mount holes for stacking"
   ]
  },
  {
   "cell_type": "code",
   "execution_count": null,
   "metadata": {},
   "outputs": [],
   "source": [
    "%%itikz -temp-dir \n",
    "\\documentclass[tikz]{standalone}\n",
    "\\usetikzlibrary{arrows.meta}\n",
    "\\begin{document}\n",
    "\\begin{tikzpicture}[scale=4]\n",
    "\n",
    "\\fontsize{0.35cm}{0.35cm}\\selectfont \\sffamily\n",
    "\n",
    "\\draw [very thick] (0,0) -- (5mm,0mm);\n",
    "\\draw [very thick] (0,0) -- (0mm,-5mm);\n",
    "\\draw (2.54mm,-2.54mm) circle (0.15);\n",
    "\n",
    "\\draw [thin] (0mm,4mm) -- (0mm,-7mm);\n",
    "\\draw [thin] (2.54mm,4mm) -- (2.54mm,-7mm);\n",
    "\\draw [thin] (-4mm,0mm) -- (7mm,-0mm);\n",
    "\\draw [thin] (-4mm,-2.54mm) -- (7mm,-2.54mm);\n",
    "\n",
    "\\draw[thin,{Latex[scale=1.5]}-{Latex[scale=1.5]}] (0mm,2.5mm) -- (2.54mm,2.5mm) node[midway,above,align = center]{2.54};\n",
    "\\draw[thin,{Latex[scale=1.5]}-{Latex[scale=1.5]}] (-2.5mm,0mm) -- (-2.54mm,-2.5mm) node[midway,above,align = center,rotate=90]{2.54};\n",
    "\n",
    "\\draw [thin] (2.5mm,-2.5mm) -- (5mm,-5mm);\n",
    "\\draw [thin] (5mm,-5mm) -- (7mm,-5mm) node[midway,above,align = center]{M2};\n",
    "\n",
    "\\end{tikzpicture}\n",
    "\\end{document}"
   ]
  },
  {
   "cell_type": "markdown",
   "metadata": {},
   "source": [
    "The mounting holes for stacking the main and mount PCB are 1 inch or 2.54mm from the sides. Modules are only stackable if the width is equal to or larger than 8HP. For stacking the modules M2/15mm standoffs and screws are used."
   ]
  },
  {
   "cell_type": "code",
   "execution_count": null,
   "metadata": {},
   "outputs": [],
   "source": [
    "from IPython.core.display import display, HTML\n",
    "display(HTML('''\n",
    "<div class=\"hero is-medium mb-4\" style=\"background: url('{{ '/assets/panel_mount.jpg' | relative_url }}') no-repeat center center; background-size: cover; background-attachment: fixed;\">\n",
    "   <div class=\"hero-body\">\n",
    "        <div class=\"content has-text-centered\">\n",
    "        </div>\n",
    "    </div>\n",
    "</div>\n",
    "'''))"
   ]
  },
  {
   "cell_type": "markdown",
   "metadata": {},
   "source": [
    "# construction summary\n",
    "\n",
    "in this table, there is a summary of the sizes and panel mount hole positions. the lines in bold are the sizes usually used to construct modules.\n",
    "\n",
    "| Module width [HP] |  calculated width [mm]                                | width [mm]               | Mounting Holes [mm] |\n",
    "|------------------ |------------------------------------------------------ |------------------------- | ------------- |\n",
    "| 1                 | 5.08                                                  | 5.00                     | |\n",
    "| 1.5               | 7.62                                                  | 7.50                     | |\n",
    "| 2                 | 10.16                                                 | 9.80                     | |\n",
    "| **4**             | **20.32**                                             | **20.00**                | **7.5** |\n",
    "| 6                 | 30.48                                                 | 30.00                    | |\n",
    "| **8**             | **40.64**                                             | **40.30**                | **7.5** |\n",
    "| 10                | 50.80                                                 | 50.50                    | |\n",
    "| **12**            | **60.96**                                             | **60.60**                | **7.5, 50.8** |\n",
    "| 14                | 71.12                                                 | 70.80                    | |\n",
    "| **16**            | **81.28**                                             | **80.90**                | **7.5, 71.12** |\n",
    "| 18                | 91.44                                                 | 91.30                    | |\n",
    "| **20**            | **101.60**                                            | **101.30**               | **7.5, 50.8, 91.44** |\n",
    "| 21                | 106.68                                                | 106.30                   | |\n",
    "| 22                | 111.76                                                | 111.40                   | |\n",
    "| 28                | 142.24                                                | 141.90                   | |\n",
    "| 42                | 213.36                                                | 213.00                   | |\n",
    "{: class=\"table is-fullwidth is-striped is-hoverable is-narrow has-text-centered\"}\n"
   ]
  },
  {
   "cell_type": "markdown",
   "metadata": {},
   "source": [
    "# side panels\n",
    "\n",
    "The side panels are made of wood and the rails hold them together. The construction of the panels can be done with the PDF template.\n"
   ]
  },
  {
   "cell_type": "markdown",
   "metadata": {},
   "source": [
    "## referrences\n",
    "\n",
    "{% raw %}\n",
    "* [Doepfer](http://www.doepfer.de/a100_man/a100m_e.htm) A-100 construction details.\n",
    "* [Schroff Eurorack Datasheet]({{ /assets/vermarkung_files/Europac_eng_datasheet.pdf | relative_url }}) Information about eurorack components.\n",
    "* The openscad [files]({{ /assets/vermarkung_files/rack.scad | relative_url }}) for the rack.\n",
    "* [Schablone]({{ /assets/vermarkung_files/rack.pdf | relative_url }}) for the rack panels. \n",
    "{% endraw %}"
   ]
  }
 ],
 "metadata": {
  "FrontMatter": {
   "category": "article",
   "date": "2020-12-10",
   "excerpt": "In this article, we look at how to build modules that can be mounted in a eurorack. The international standard 19 rack system (DIN 41494 / IEC 297-3 / IEEE 1001.1) is the base for the dimension. These standards define all the parts needed to build a complete rack. here only the rails to mount the modules are used. the rails will be screwed to side panels made from wood.",
   "hero_darken": true,
   "hero_height": "is-fullheight",
   "hero_image": "/assets/vermarkung-hero-landscape.jpg",
   "hero_mobile": "/assets/vermarkung-hero-portrait.jpg",
   "hero_subtitle": true,
   "hero_title": true,
   "image": "/assets/rails.jpg",
   "layout": "article",
   "subtitle": "PCB dimensions and positions of the mounting holes for installation in an eurorack.",
   "tag": "grundlage",
   "title": "vermarkung",
   "version": "0"
  },
  "kernelspec": {
   "display_name": "Python 3 (ipykernel)",
   "language": "python",
   "name": "python3"
  },
  "language_info": {
   "codemirror_mode": {
    "name": "ipython",
    "version": 3
   },
   "file_extension": ".py",
   "mimetype": "text/x-python",
   "name": "python",
   "nbconvert_exporter": "python",
   "pygments_lexer": "ipython3",
   "version": "3.9.5"
  }
 },
 "nbformat": 4,
 "nbformat_minor": 4
}

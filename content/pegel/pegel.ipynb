{
 "cells": [
  {
   "cell_type": "code",
   "execution_count": 1,
   "metadata": {
    "tags": []
   },
   "outputs": [],
   "source": [
    "#general definitions and imports\n",
    "%matplotlib inline\n",
    "%config InlineBackend.figure_format = 'svg'\n",
    "\n",
    "import logging\n",
    "logging.Logger.disabled=True\n",
    "\n",
    "import os\n",
    "import PySpice.Logging.Logging as Logging\n",
    "logger = Logging.setup_logging( logging_level='CRITICAL')\n",
    "\n",
    "import numpy as np\n",
    "import matplotlib.pyplot as plt\n",
    "\n",
    "import ipytest\n",
    "ipytest.autoconfig()\n",
    "from pytest import approx\n",
    "\n",
    "from pathlib import Path\n",
    "\n",
    "from PySpice.Unit import *\n",
    "from PySpice.Spice.Parser import SpiceParser\n",
    "from PySpice.Spice.Netlist import SubCircuitFactory\n",
    "from PySpice.Spice.Library import SpiceLibrary\n",
    "from PySpice.Spice.Netlist import Circuit\n",
    "from PySpice.Probe.Plot import plot\n",
    "from PySpice.Math import *\n",
    "\n",
    "import schemdraw\n",
    "import schemdraw.elements as elm\n",
    "from schemdraw import dsp\n",
    "from schemdraw import logic\n",
    "\n",
    "## setup spice library path\n",
    "directory_path = Path(os.path.abspath('')).resolve().parent.parent\n",
    "spice_libraries_path = directory_path.joinpath(\"lib\", \"spice\")\n",
    "spice_library = SpiceLibrary(spice_libraries_path)\n",
    "## set the project directory as directory_path\n",
    "directory_path = Path(os.path.abspath('')).resolve()"
   ]
  },
  {
   "cell_type": "code",
   "execution_count": 2,
   "metadata": {},
   "outputs": [],
   "source": [
    "# definitions\n",
    "        \n",
    "class VoltageDivider(SubCircuitFactory):\n",
    "    __name__ = 'voltage_divider'\n",
    "    __nodes__ = ('n1', 'n2', 'n3' )\n",
    "    def __init__(self, R=100@u_kΩ, w=0.4, name='voltage_divider'):\n",
    "        self.__name__ = name\n",
    "        super().__init__()\n",
    "        self.R(1, 'n1', 'n2', R * w)\n",
    "        self.R(2, 'n2', 'n3', R * (1.0-w) )"
   ]
  },
  {
   "cell_type": "code",
   "execution_count": 3,
   "metadata": {
    "tags": []
   },
   "outputs": [
    {
     "output_type": "stream",
     "name": "stdout",
     "text": [
      "....F.                                                                   [100%]\n",
      "=================================== FAILURES ===================================\n",
      "_____________________________ test_trimpot_voltage _____________________________\n",
      "\n",
      "    def test_trimpot_voltage():\n",
      "        simulator = load().simulator(temperature=25, nominal_temperature=25)\n",
      "        analysis_op = simulator.operating_point()\n",
      "        result = float(analysis_op[\"Net-_R8-Pad2_\"])\n",
      ">       assert result == approx( 0, rel=1e-1 )\n",
      "E       assert -2.1085450543264016e-06 == 0 ± 1.0e-12\n",
      "E        +  where 0 ± 1.0e-12 = approx(0, rel=0.1)\n",
      "\n",
      "<ipython-input-3-431ee42b9029>:35: AssertionError\n",
      "- generated json report: /home/etienne/Documents/elektrophon/content/pegel/build/pegel-test.json -\n",
      "=========================== short test summary info ============================\n",
      "FAILED tmphkx3yhsd.py::test_trimpot_voltage - assert -2.1085450543264016e-06 ...\n"
     ]
    }
   ],
   "source": [
    "%%run_pytest[clean] -qq --json=build/pegel-test.json\n",
    "\n",
    "# test the input buffers\n",
    "def test_buffer_1a_voltage():\n",
    "    simulator = load().simulator(temperature=25, nominal_temperature=25)\n",
    "    analysis_op = simulator.operating_point()\n",
    "    result = float(analysis_op[\"Net-_U1-Pad1_\"]) \n",
    "    assert result == approx( 5, rel=1e-3 )\n",
    "\n",
    "def test_buffer_1b_voltage():\n",
    "    simulator = load().simulator(temperature=25, nominal_temperature=25)\n",
    "    analysis_op = simulator.operating_point()\n",
    "    result = float(analysis_op[\"Net-_U1-Pad6_\"]) \n",
    "    assert result == approx( 5, rel=1e-3 )\n",
    "\n",
    "def test_buffer_2a_voltage():\n",
    "    simulator = load().simulator(temperature=25, nominal_temperature=25)\n",
    "    analysis_op = simulator.operating_point()\n",
    "    result = float(analysis_op[\"Net-_U2-Pad1_\"]) \n",
    "    assert result == approx( 5, rel=1e-3 )\n",
    "\n",
    "def test_buffer_2b_voltage():\n",
    "    simulator = load().simulator(temperature=25, nominal_temperature=25)\n",
    "    analysis_op = simulator.operating_point()\n",
    "    result = float(analysis_op[\"Net-_U2-Pad6_\"]) \n",
    "    assert result == approx( 5, rel=1e-3 )\n",
    "\n",
    "# test the output amplifier\n",
    "def test_output_amplifier_1_voltage():\n",
    "    simulator = load().simulator(temperature=25, nominal_temperature=25)\n",
    "    analysis_op = simulator.operating_point()\n",
    "    result = float(analysis_op[\"OUTa\"]) \n",
    "    assert result == approx( 5, rel=1e-3 )\n",
    "\n",
    "def test_output_amplifier_2_voltage():\n",
    "    simulator = load().simulator(temperature=25, nominal_temperature=25)\n",
    "    analysis_op = simulator.operating_point()\n",
    "    result = float(analysis_op[\"OUTb\"]) \n",
    "    assert result == approx( 5, rel=1e-3 )\n",
    "\n",
    "#test the trimpot voltage\n",
    "def test_trimpot_1_voltage():\n",
    "    simulator = load().simulator(temperature=25, nominal_temperature=25)\n",
    "    analysis_op = simulator.operating_point()\n",
    "    result = float(analysis_op[\"Net-_R7-Pad1_\"]) \n",
    "    assert result == approx( 0, rel=1e-1 )\n",
    "\n",
    "def test_trimpot_2_voltage():\n",
    "    simulator = load().simulator(temperature=25, nominal_temperature=25)\n",
    "    analysis_op = simulator.operating_point()\n",
    "    result = float(analysis_op[\"Net-_R8-Pad1_\"]) \n",
    "    assert result == approx( 0, rel=1e-1 )\n",
    "\n",
    "\n",
    "def load(div1=0.5, div2=0.5):\n",
    "    kicad_netlist_path = directory_path.joinpath('main', 'main.cir')\n",
    "    parser = SpiceParser(path=str(kicad_netlist_path))\n",
    "\n",
    "    circuit = parser.build_circuit(ground=5)\n",
    "    circuit.include(spice_library['OPA2134'])\n",
    "    circuit.include(spice_library['OPA2134d'])\n",
    "    circuit.include(spice_library['AD633'])\n",
    "\n",
    "    circuit.V('1', '+15V', circuit.gnd, 'DC 15')\n",
    "    circuit.V('2', '-15V', circuit.gnd, 'DC -15')\n",
    "    circuit.V('3', '+5V', circuit.gnd, 'DC 5')\n",
    "    circuit.V('4', 'Xa', circuit.gnd, 'DC 5')\n",
    "    circuit.V('5', 'Ya', circuit.gnd, 'DC 5')\n",
    "    circuit.V('6', 'Xb', circuit.gnd, 'DC 5')\n",
    "    circuit.V('7', 'Yb', circuit.gnd, 'DC 5')\n",
    "\n",
    "    for c in ( VoltageDivider(R=100@u_kΩ, w=div1, name='voltage_divider_1'), \n",
    "            VoltageDivider(R=100@u_kΩ, w=div2, name='voltage_divider_2') ):\n",
    "        circuit.subcircuit(c)\n",
    "\n",
    "    return circuit \n"
   ]
  },
  {
   "cell_type": "code",
   "execution_count": 4,
   "metadata": {
    "tags": []
   },
   "outputs": [
    {
     "output_type": "stream",
     "name": "stdout",
     "text": [
      "voltage: -0.000005\n"
     ]
    },
    {
     "output_type": "display_data",
     "data": {
      "text/plain": "<Figure size 432x288 with 1 Axes>",
      "image/svg+xml": "<?xml version=\"1.0\" encoding=\"utf-8\" standalone=\"no\"?>\n<!DOCTYPE svg PUBLIC \"-//W3C//DTD SVG 1.1//EN\"\n  \"http://www.w3.org/Graphics/SVG/1.1/DTD/svg11.dtd\">\n<svg height=\"279.754687pt\" version=\"1.1\" viewBox=\"0 0 424.470312 279.754687\" width=\"424.470312pt\" xmlns=\"http://www.w3.org/2000/svg\" xmlns:xlink=\"http://www.w3.org/1999/xlink\">\n <metadata>\n  <rdf:RDF xmlns:cc=\"http://creativecommons.org/ns#\" xmlns:dc=\"http://purl.org/dc/elements/1.1/\" xmlns:rdf=\"http://www.w3.org/1999/02/22-rdf-syntax-ns#\">\n   <cc:Work>\n    <dc:type rdf:resource=\"http://purl.org/dc/dcmitype/StillImage\"/>\n    <dc:date>2021-05-30T14:10:25.778741</dc:date>\n    <dc:format>image/svg+xml</dc:format>\n    <dc:creator>\n     <cc:Agent>\n      <dc:title>Matplotlib v3.4.2, https://matplotlib.org/</dc:title>\n     </cc:Agent>\n    </dc:creator>\n   </cc:Work>\n  </rdf:RDF>\n </metadata>\n <defs>\n  <style type=\"text/css\">*{stroke-linecap:butt;stroke-linejoin:round;}</style>\n </defs>\n <g id=\"figure_1\">\n  <g id=\"patch_1\">\n   <path d=\"M 0 279.754687 \nL 424.470312 279.754687 \nL 424.470312 0 \nL 0 0 \nz\n\" style=\"fill:none;\"/>\n  </g>\n  <g id=\"axes_1\">\n   <g id=\"patch_2\">\n    <path d=\"M 42.620313 242.198437 \nL 417.270312 242.198437 \nL 417.270312 17.798437 \nL 42.620313 17.798437 \nz\n\" style=\"fill:#ffffff;\"/>\n   </g>\n   <g id=\"matplotlib.axis_1\">\n    <g id=\"xtick_1\">\n     <g id=\"line2d_1\">\n      <defs>\n       <path d=\"M 0 0 \nL 0 3.5 \n\" id=\"m23be28d159\" style=\"stroke:#000000;stroke-width:0.8;\"/>\n      </defs>\n      <g>\n       <use style=\"stroke:#000000;stroke-width:0.8;\" x=\"59.649858\" xlink:href=\"#m23be28d159\" y=\"242.198437\"/>\n      </g>\n     </g>\n     <g id=\"text_1\">\n      <!-- 0.0 -->\n      <g transform=\"translate(51.698295 256.796875)scale(0.1 -0.1)\">\n       <defs>\n        <path d=\"M 2034 4250 \nQ 1547 4250 1301 3770 \nQ 1056 3291 1056 2328 \nQ 1056 1369 1301 889 \nQ 1547 409 2034 409 \nQ 2525 409 2770 889 \nQ 3016 1369 3016 2328 \nQ 3016 3291 2770 3770 \nQ 2525 4250 2034 4250 \nz\nM 2034 4750 \nQ 2819 4750 3233 4129 \nQ 3647 3509 3647 2328 \nQ 3647 1150 3233 529 \nQ 2819 -91 2034 -91 \nQ 1250 -91 836 529 \nQ 422 1150 422 2328 \nQ 422 3509 836 4129 \nQ 1250 4750 2034 4750 \nz\n\" id=\"DejaVuSans-30\" transform=\"scale(0.015625)\"/>\n        <path d=\"M 684 794 \nL 1344 794 \nL 1344 0 \nL 684 0 \nL 684 794 \nz\n\" id=\"DejaVuSans-2e\" transform=\"scale(0.015625)\"/>\n       </defs>\n       <use xlink:href=\"#DejaVuSans-30\"/>\n       <use x=\"63.623047\" xlink:href=\"#DejaVuSans-2e\"/>\n       <use x=\"95.410156\" xlink:href=\"#DejaVuSans-30\"/>\n      </g>\n     </g>\n    </g>\n    <g id=\"xtick_2\">\n     <g id=\"line2d_2\">\n      <g>\n       <use style=\"stroke:#000000;stroke-width:0.8;\" x=\"102.223722\" xlink:href=\"#m23be28d159\" y=\"242.198437\"/>\n      </g>\n     </g>\n     <g id=\"text_2\">\n      <!-- 2.5 -->\n      <g transform=\"translate(94.272159 256.796875)scale(0.1 -0.1)\">\n       <defs>\n        <path d=\"M 1228 531 \nL 3431 531 \nL 3431 0 \nL 469 0 \nL 469 531 \nQ 828 903 1448 1529 \nQ 2069 2156 2228 2338 \nQ 2531 2678 2651 2914 \nQ 2772 3150 2772 3378 \nQ 2772 3750 2511 3984 \nQ 2250 4219 1831 4219 \nQ 1534 4219 1204 4116 \nQ 875 4013 500 3803 \nL 500 4441 \nQ 881 4594 1212 4672 \nQ 1544 4750 1819 4750 \nQ 2544 4750 2975 4387 \nQ 3406 4025 3406 3419 \nQ 3406 3131 3298 2873 \nQ 3191 2616 2906 2266 \nQ 2828 2175 2409 1742 \nQ 1991 1309 1228 531 \nz\n\" id=\"DejaVuSans-32\" transform=\"scale(0.015625)\"/>\n        <path d=\"M 691 4666 \nL 3169 4666 \nL 3169 4134 \nL 1269 4134 \nL 1269 2991 \nQ 1406 3038 1543 3061 \nQ 1681 3084 1819 3084 \nQ 2600 3084 3056 2656 \nQ 3513 2228 3513 1497 \nQ 3513 744 3044 326 \nQ 2575 -91 1722 -91 \nQ 1428 -91 1123 -41 \nQ 819 9 494 109 \nL 494 744 \nQ 775 591 1075 516 \nQ 1375 441 1709 441 \nQ 2250 441 2565 725 \nQ 2881 1009 2881 1497 \nQ 2881 1984 2565 2268 \nQ 2250 2553 1709 2553 \nQ 1456 2553 1204 2497 \nQ 953 2441 691 2322 \nL 691 4666 \nz\n\" id=\"DejaVuSans-35\" transform=\"scale(0.015625)\"/>\n       </defs>\n       <use xlink:href=\"#DejaVuSans-32\"/>\n       <use x=\"63.623047\" xlink:href=\"#DejaVuSans-2e\"/>\n       <use x=\"95.410156\" xlink:href=\"#DejaVuSans-35\"/>\n      </g>\n     </g>\n    </g>\n    <g id=\"xtick_3\">\n     <g id=\"line2d_3\">\n      <g>\n       <use style=\"stroke:#000000;stroke-width:0.8;\" x=\"144.797585\" xlink:href=\"#m23be28d159\" y=\"242.198437\"/>\n      </g>\n     </g>\n     <g id=\"text_3\">\n      <!-- 5.0 -->\n      <g transform=\"translate(136.846023 256.796875)scale(0.1 -0.1)\">\n       <use xlink:href=\"#DejaVuSans-35\"/>\n       <use x=\"63.623047\" xlink:href=\"#DejaVuSans-2e\"/>\n       <use x=\"95.410156\" xlink:href=\"#DejaVuSans-30\"/>\n      </g>\n     </g>\n    </g>\n    <g id=\"xtick_4\">\n     <g id=\"line2d_4\">\n      <g>\n       <use style=\"stroke:#000000;stroke-width:0.8;\" x=\"187.371449\" xlink:href=\"#m23be28d159\" y=\"242.198437\"/>\n      </g>\n     </g>\n     <g id=\"text_4\">\n      <!-- 7.5 -->\n      <g transform=\"translate(179.419886 256.796875)scale(0.1 -0.1)\">\n       <defs>\n        <path d=\"M 525 4666 \nL 3525 4666 \nL 3525 4397 \nL 1831 0 \nL 1172 0 \nL 2766 4134 \nL 525 4134 \nL 525 4666 \nz\n\" id=\"DejaVuSans-37\" transform=\"scale(0.015625)\"/>\n       </defs>\n       <use xlink:href=\"#DejaVuSans-37\"/>\n       <use x=\"63.623047\" xlink:href=\"#DejaVuSans-2e\"/>\n       <use x=\"95.410156\" xlink:href=\"#DejaVuSans-35\"/>\n      </g>\n     </g>\n    </g>\n    <g id=\"xtick_5\">\n     <g id=\"line2d_5\">\n      <g>\n       <use style=\"stroke:#000000;stroke-width:0.8;\" x=\"229.945312\" xlink:href=\"#m23be28d159\" y=\"242.198437\"/>\n      </g>\n     </g>\n     <g id=\"text_5\">\n      <!-- 10.0 -->\n      <g transform=\"translate(218.8125 256.796875)scale(0.1 -0.1)\">\n       <defs>\n        <path d=\"M 794 531 \nL 1825 531 \nL 1825 4091 \nL 703 3866 \nL 703 4441 \nL 1819 4666 \nL 2450 4666 \nL 2450 531 \nL 3481 531 \nL 3481 0 \nL 794 0 \nL 794 531 \nz\n\" id=\"DejaVuSans-31\" transform=\"scale(0.015625)\"/>\n       </defs>\n       <use xlink:href=\"#DejaVuSans-31\"/>\n       <use x=\"63.623047\" xlink:href=\"#DejaVuSans-30\"/>\n       <use x=\"127.246094\" xlink:href=\"#DejaVuSans-2e\"/>\n       <use x=\"159.033203\" xlink:href=\"#DejaVuSans-30\"/>\n      </g>\n     </g>\n    </g>\n    <g id=\"xtick_6\">\n     <g id=\"line2d_6\">\n      <g>\n       <use style=\"stroke:#000000;stroke-width:0.8;\" x=\"272.519176\" xlink:href=\"#m23be28d159\" y=\"242.198437\"/>\n      </g>\n     </g>\n     <g id=\"text_6\">\n      <!-- 12.5 -->\n      <g transform=\"translate(261.386364 256.796875)scale(0.1 -0.1)\">\n       <use xlink:href=\"#DejaVuSans-31\"/>\n       <use x=\"63.623047\" xlink:href=\"#DejaVuSans-32\"/>\n       <use x=\"127.246094\" xlink:href=\"#DejaVuSans-2e\"/>\n       <use x=\"159.033203\" xlink:href=\"#DejaVuSans-35\"/>\n      </g>\n     </g>\n    </g>\n    <g id=\"xtick_7\">\n     <g id=\"line2d_7\">\n      <g>\n       <use style=\"stroke:#000000;stroke-width:0.8;\" x=\"315.09304\" xlink:href=\"#m23be28d159\" y=\"242.198437\"/>\n      </g>\n     </g>\n     <g id=\"text_7\">\n      <!-- 15.0 -->\n      <g transform=\"translate(303.960227 256.796875)scale(0.1 -0.1)\">\n       <use xlink:href=\"#DejaVuSans-31\"/>\n       <use x=\"63.623047\" xlink:href=\"#DejaVuSans-35\"/>\n       <use x=\"127.246094\" xlink:href=\"#DejaVuSans-2e\"/>\n       <use x=\"159.033203\" xlink:href=\"#DejaVuSans-30\"/>\n      </g>\n     </g>\n    </g>\n    <g id=\"xtick_8\">\n     <g id=\"line2d_8\">\n      <g>\n       <use style=\"stroke:#000000;stroke-width:0.8;\" x=\"357.666903\" xlink:href=\"#m23be28d159\" y=\"242.198437\"/>\n      </g>\n     </g>\n     <g id=\"text_8\">\n      <!-- 17.5 -->\n      <g transform=\"translate(346.534091 256.796875)scale(0.1 -0.1)\">\n       <use xlink:href=\"#DejaVuSans-31\"/>\n       <use x=\"63.623047\" xlink:href=\"#DejaVuSans-37\"/>\n       <use x=\"127.246094\" xlink:href=\"#DejaVuSans-2e\"/>\n       <use x=\"159.033203\" xlink:href=\"#DejaVuSans-35\"/>\n      </g>\n     </g>\n    </g>\n    <g id=\"xtick_9\">\n     <g id=\"line2d_9\">\n      <g>\n       <use style=\"stroke:#000000;stroke-width:0.8;\" x=\"400.240767\" xlink:href=\"#m23be28d159\" y=\"242.198437\"/>\n      </g>\n     </g>\n     <g id=\"text_9\">\n      <!-- 20.0 -->\n      <g transform=\"translate(389.107955 256.796875)scale(0.1 -0.1)\">\n       <use xlink:href=\"#DejaVuSans-32\"/>\n       <use x=\"63.623047\" xlink:href=\"#DejaVuSans-30\"/>\n       <use x=\"127.246094\" xlink:href=\"#DejaVuSans-2e\"/>\n       <use x=\"159.033203\" xlink:href=\"#DejaVuSans-30\"/>\n      </g>\n     </g>\n    </g>\n    <g id=\"text_10\">\n     <!-- time [ms] -->\n     <g transform=\"translate(205.683594 270.475)scale(0.1 -0.1)\">\n      <defs>\n       <path d=\"M 1172 4494 \nL 1172 3500 \nL 2356 3500 \nL 2356 3053 \nL 1172 3053 \nL 1172 1153 \nQ 1172 725 1289 603 \nQ 1406 481 1766 481 \nL 2356 481 \nL 2356 0 \nL 1766 0 \nQ 1100 0 847 248 \nQ 594 497 594 1153 \nL 594 3053 \nL 172 3053 \nL 172 3500 \nL 594 3500 \nL 594 4494 \nL 1172 4494 \nz\n\" id=\"DejaVuSans-74\" transform=\"scale(0.015625)\"/>\n       <path d=\"M 603 3500 \nL 1178 3500 \nL 1178 0 \nL 603 0 \nL 603 3500 \nz\nM 603 4863 \nL 1178 4863 \nL 1178 4134 \nL 603 4134 \nL 603 4863 \nz\n\" id=\"DejaVuSans-69\" transform=\"scale(0.015625)\"/>\n       <path d=\"M 3328 2828 \nQ 3544 3216 3844 3400 \nQ 4144 3584 4550 3584 \nQ 5097 3584 5394 3201 \nQ 5691 2819 5691 2113 \nL 5691 0 \nL 5113 0 \nL 5113 2094 \nQ 5113 2597 4934 2840 \nQ 4756 3084 4391 3084 \nQ 3944 3084 3684 2787 \nQ 3425 2491 3425 1978 \nL 3425 0 \nL 2847 0 \nL 2847 2094 \nQ 2847 2600 2669 2842 \nQ 2491 3084 2119 3084 \nQ 1678 3084 1418 2786 \nQ 1159 2488 1159 1978 \nL 1159 0 \nL 581 0 \nL 581 3500 \nL 1159 3500 \nL 1159 2956 \nQ 1356 3278 1631 3431 \nQ 1906 3584 2284 3584 \nQ 2666 3584 2933 3390 \nQ 3200 3197 3328 2828 \nz\n\" id=\"DejaVuSans-6d\" transform=\"scale(0.015625)\"/>\n       <path d=\"M 3597 1894 \nL 3597 1613 \nL 953 1613 \nQ 991 1019 1311 708 \nQ 1631 397 2203 397 \nQ 2534 397 2845 478 \nQ 3156 559 3463 722 \nL 3463 178 \nQ 3153 47 2828 -22 \nQ 2503 -91 2169 -91 \nQ 1331 -91 842 396 \nQ 353 884 353 1716 \nQ 353 2575 817 3079 \nQ 1281 3584 2069 3584 \nQ 2775 3584 3186 3129 \nQ 3597 2675 3597 1894 \nz\nM 3022 2063 \nQ 3016 2534 2758 2815 \nQ 2500 3097 2075 3097 \nQ 1594 3097 1305 2825 \nQ 1016 2553 972 2059 \nL 3022 2063 \nz\n\" id=\"DejaVuSans-65\" transform=\"scale(0.015625)\"/>\n       <path id=\"DejaVuSans-20\" transform=\"scale(0.015625)\"/>\n       <path d=\"M 550 4863 \nL 1875 4863 \nL 1875 4416 \nL 1125 4416 \nL 1125 -397 \nL 1875 -397 \nL 1875 -844 \nL 550 -844 \nL 550 4863 \nz\n\" id=\"DejaVuSans-5b\" transform=\"scale(0.015625)\"/>\n       <path d=\"M 2834 3397 \nL 2834 2853 \nQ 2591 2978 2328 3040 \nQ 2066 3103 1784 3103 \nQ 1356 3103 1142 2972 \nQ 928 2841 928 2578 \nQ 928 2378 1081 2264 \nQ 1234 2150 1697 2047 \nL 1894 2003 \nQ 2506 1872 2764 1633 \nQ 3022 1394 3022 966 \nQ 3022 478 2636 193 \nQ 2250 -91 1575 -91 \nQ 1294 -91 989 -36 \nQ 684 19 347 128 \nL 347 722 \nQ 666 556 975 473 \nQ 1284 391 1588 391 \nQ 1994 391 2212 530 \nQ 2431 669 2431 922 \nQ 2431 1156 2273 1281 \nQ 2116 1406 1581 1522 \nL 1381 1569 \nQ 847 1681 609 1914 \nQ 372 2147 372 2553 \nQ 372 3047 722 3315 \nQ 1072 3584 1716 3584 \nQ 2034 3584 2315 3537 \nQ 2597 3491 2834 3397 \nz\n\" id=\"DejaVuSans-73\" transform=\"scale(0.015625)\"/>\n       <path d=\"M 1947 4863 \nL 1947 -844 \nL 622 -844 \nL 622 -397 \nL 1369 -397 \nL 1369 4416 \nL 622 4416 \nL 622 4863 \nL 1947 4863 \nz\n\" id=\"DejaVuSans-5d\" transform=\"scale(0.015625)\"/>\n      </defs>\n      <use xlink:href=\"#DejaVuSans-74\"/>\n      <use x=\"39.208984\" xlink:href=\"#DejaVuSans-69\"/>\n      <use x=\"66.992188\" xlink:href=\"#DejaVuSans-6d\"/>\n      <use x=\"164.404297\" xlink:href=\"#DejaVuSans-65\"/>\n      <use x=\"225.927734\" xlink:href=\"#DejaVuSans-20\"/>\n      <use x=\"257.714844\" xlink:href=\"#DejaVuSans-5b\"/>\n      <use x=\"296.728516\" xlink:href=\"#DejaVuSans-6d\"/>\n      <use x=\"394.140625\" xlink:href=\"#DejaVuSans-73\"/>\n      <use x=\"446.240234\" xlink:href=\"#DejaVuSans-5d\"/>\n     </g>\n    </g>\n   </g>\n   <g id=\"matplotlib.axis_2\">\n    <g id=\"ytick_1\">\n     <g id=\"line2d_10\">\n      <defs>\n       <path d=\"M 0 0 \nL -3.5 0 \n\" id=\"m607b809c92\" style=\"stroke:#000000;stroke-width:0.8;\"/>\n      </defs>\n      <g>\n       <use style=\"stroke:#000000;stroke-width:0.8;\" x=\"42.620313\" xlink:href=\"#m607b809c92\" y=\"227.688814\"/>\n      </g>\n     </g>\n     <g id=\"text_11\">\n      <!-- −9 -->\n      <g transform=\"translate(20.878125 231.488033)scale(0.1 -0.1)\">\n       <defs>\n        <path d=\"M 678 2272 \nL 4684 2272 \nL 4684 1741 \nL 678 1741 \nL 678 2272 \nz\n\" id=\"DejaVuSans-2212\" transform=\"scale(0.015625)\"/>\n        <path d=\"M 703 97 \nL 703 672 \nQ 941 559 1184 500 \nQ 1428 441 1663 441 \nQ 2288 441 2617 861 \nQ 2947 1281 2994 2138 \nQ 2813 1869 2534 1725 \nQ 2256 1581 1919 1581 \nQ 1219 1581 811 2004 \nQ 403 2428 403 3163 \nQ 403 3881 828 4315 \nQ 1253 4750 1959 4750 \nQ 2769 4750 3195 4129 \nQ 3622 3509 3622 2328 \nQ 3622 1225 3098 567 \nQ 2575 -91 1691 -91 \nQ 1453 -91 1209 -44 \nQ 966 3 703 97 \nz\nM 1959 2075 \nQ 2384 2075 2632 2365 \nQ 2881 2656 2881 3163 \nQ 2881 3666 2632 3958 \nQ 2384 4250 1959 4250 \nQ 1534 4250 1286 3958 \nQ 1038 3666 1038 3163 \nQ 1038 2656 1286 2365 \nQ 1534 2075 1959 2075 \nz\n\" id=\"DejaVuSans-39\" transform=\"scale(0.015625)\"/>\n       </defs>\n       <use xlink:href=\"#DejaVuSans-2212\"/>\n       <use x=\"83.789062\" xlink:href=\"#DejaVuSans-39\"/>\n      </g>\n     </g>\n    </g>\n    <g id=\"ytick_2\">\n     <g id=\"line2d_11\">\n      <g>\n       <use style=\"stroke:#000000;stroke-width:0.8;\" x=\"42.620313\" xlink:href=\"#m607b809c92\" y=\"198.712295\"/>\n      </g>\n     </g>\n     <g id=\"text_12\">\n      <!-- −8 -->\n      <g transform=\"translate(20.878125 202.511514)scale(0.1 -0.1)\">\n       <defs>\n        <path d=\"M 2034 2216 \nQ 1584 2216 1326 1975 \nQ 1069 1734 1069 1313 \nQ 1069 891 1326 650 \nQ 1584 409 2034 409 \nQ 2484 409 2743 651 \nQ 3003 894 3003 1313 \nQ 3003 1734 2745 1975 \nQ 2488 2216 2034 2216 \nz\nM 1403 2484 \nQ 997 2584 770 2862 \nQ 544 3141 544 3541 \nQ 544 4100 942 4425 \nQ 1341 4750 2034 4750 \nQ 2731 4750 3128 4425 \nQ 3525 4100 3525 3541 \nQ 3525 3141 3298 2862 \nQ 3072 2584 2669 2484 \nQ 3125 2378 3379 2068 \nQ 3634 1759 3634 1313 \nQ 3634 634 3220 271 \nQ 2806 -91 2034 -91 \nQ 1263 -91 848 271 \nQ 434 634 434 1313 \nQ 434 1759 690 2068 \nQ 947 2378 1403 2484 \nz\nM 1172 3481 \nQ 1172 3119 1398 2916 \nQ 1625 2713 2034 2713 \nQ 2441 2713 2670 2916 \nQ 2900 3119 2900 3481 \nQ 2900 3844 2670 4047 \nQ 2441 4250 2034 4250 \nQ 1625 4250 1398 4047 \nQ 1172 3844 1172 3481 \nz\n\" id=\"DejaVuSans-38\" transform=\"scale(0.015625)\"/>\n       </defs>\n       <use xlink:href=\"#DejaVuSans-2212\"/>\n       <use x=\"83.789062\" xlink:href=\"#DejaVuSans-38\"/>\n      </g>\n     </g>\n    </g>\n    <g id=\"ytick_3\">\n     <g id=\"line2d_12\">\n      <g>\n       <use style=\"stroke:#000000;stroke-width:0.8;\" x=\"42.620313\" xlink:href=\"#m607b809c92\" y=\"169.735776\"/>\n      </g>\n     </g>\n     <g id=\"text_13\">\n      <!-- −7 -->\n      <g transform=\"translate(20.878125 173.534994)scale(0.1 -0.1)\">\n       <use xlink:href=\"#DejaVuSans-2212\"/>\n       <use x=\"83.789062\" xlink:href=\"#DejaVuSans-37\"/>\n      </g>\n     </g>\n    </g>\n    <g id=\"ytick_4\">\n     <g id=\"line2d_13\">\n      <g>\n       <use style=\"stroke:#000000;stroke-width:0.8;\" x=\"42.620313\" xlink:href=\"#m607b809c92\" y=\"140.759256\"/>\n      </g>\n     </g>\n     <g id=\"text_14\">\n      <!-- −6 -->\n      <g transform=\"translate(20.878125 144.558475)scale(0.1 -0.1)\">\n       <defs>\n        <path d=\"M 2113 2584 \nQ 1688 2584 1439 2293 \nQ 1191 2003 1191 1497 \nQ 1191 994 1439 701 \nQ 1688 409 2113 409 \nQ 2538 409 2786 701 \nQ 3034 994 3034 1497 \nQ 3034 2003 2786 2293 \nQ 2538 2584 2113 2584 \nz\nM 3366 4563 \nL 3366 3988 \nQ 3128 4100 2886 4159 \nQ 2644 4219 2406 4219 \nQ 1781 4219 1451 3797 \nQ 1122 3375 1075 2522 \nQ 1259 2794 1537 2939 \nQ 1816 3084 2150 3084 \nQ 2853 3084 3261 2657 \nQ 3669 2231 3669 1497 \nQ 3669 778 3244 343 \nQ 2819 -91 2113 -91 \nQ 1303 -91 875 529 \nQ 447 1150 447 2328 \nQ 447 3434 972 4092 \nQ 1497 4750 2381 4750 \nQ 2619 4750 2861 4703 \nQ 3103 4656 3366 4563 \nz\n\" id=\"DejaVuSans-36\" transform=\"scale(0.015625)\"/>\n       </defs>\n       <use xlink:href=\"#DejaVuSans-2212\"/>\n       <use x=\"83.789062\" xlink:href=\"#DejaVuSans-36\"/>\n      </g>\n     </g>\n    </g>\n    <g id=\"ytick_5\">\n     <g id=\"line2d_14\">\n      <g>\n       <use style=\"stroke:#000000;stroke-width:0.8;\" x=\"42.620313\" xlink:href=\"#m607b809c92\" y=\"111.782737\"/>\n      </g>\n     </g>\n     <g id=\"text_15\">\n      <!-- −5 -->\n      <g transform=\"translate(20.878125 115.581956)scale(0.1 -0.1)\">\n       <use xlink:href=\"#DejaVuSans-2212\"/>\n       <use x=\"83.789062\" xlink:href=\"#DejaVuSans-35\"/>\n      </g>\n     </g>\n    </g>\n    <g id=\"ytick_6\">\n     <g id=\"line2d_15\">\n      <g>\n       <use style=\"stroke:#000000;stroke-width:0.8;\" x=\"42.620313\" xlink:href=\"#m607b809c92\" y=\"82.806218\"/>\n      </g>\n     </g>\n     <g id=\"text_16\">\n      <!-- −4 -->\n      <g transform=\"translate(20.878125 86.605437)scale(0.1 -0.1)\">\n       <defs>\n        <path d=\"M 2419 4116 \nL 825 1625 \nL 2419 1625 \nL 2419 4116 \nz\nM 2253 4666 \nL 3047 4666 \nL 3047 1625 \nL 3713 1625 \nL 3713 1100 \nL 3047 1100 \nL 3047 0 \nL 2419 0 \nL 2419 1100 \nL 313 1100 \nL 313 1709 \nL 2253 4666 \nz\n\" id=\"DejaVuSans-34\" transform=\"scale(0.015625)\"/>\n       </defs>\n       <use xlink:href=\"#DejaVuSans-2212\"/>\n       <use x=\"83.789062\" xlink:href=\"#DejaVuSans-34\"/>\n      </g>\n     </g>\n    </g>\n    <g id=\"ytick_7\">\n     <g id=\"line2d_16\">\n      <g>\n       <use style=\"stroke:#000000;stroke-width:0.8;\" x=\"42.620313\" xlink:href=\"#m607b809c92\" y=\"53.829699\"/>\n      </g>\n     </g>\n     <g id=\"text_17\">\n      <!-- −3 -->\n      <g transform=\"translate(20.878125 57.628917)scale(0.1 -0.1)\">\n       <defs>\n        <path d=\"M 2597 2516 \nQ 3050 2419 3304 2112 \nQ 3559 1806 3559 1356 \nQ 3559 666 3084 287 \nQ 2609 -91 1734 -91 \nQ 1441 -91 1130 -33 \nQ 819 25 488 141 \nL 488 750 \nQ 750 597 1062 519 \nQ 1375 441 1716 441 \nQ 2309 441 2620 675 \nQ 2931 909 2931 1356 \nQ 2931 1769 2642 2001 \nQ 2353 2234 1838 2234 \nL 1294 2234 \nL 1294 2753 \nL 1863 2753 \nQ 2328 2753 2575 2939 \nQ 2822 3125 2822 3475 \nQ 2822 3834 2567 4026 \nQ 2313 4219 1838 4219 \nQ 1578 4219 1281 4162 \nQ 984 4106 628 3988 \nL 628 4550 \nQ 988 4650 1302 4700 \nQ 1616 4750 1894 4750 \nQ 2613 4750 3031 4423 \nQ 3450 4097 3450 3541 \nQ 3450 3153 3228 2886 \nQ 3006 2619 2597 2516 \nz\n\" id=\"DejaVuSans-33\" transform=\"scale(0.015625)\"/>\n       </defs>\n       <use xlink:href=\"#DejaVuSans-2212\"/>\n       <use x=\"83.789062\" xlink:href=\"#DejaVuSans-33\"/>\n      </g>\n     </g>\n    </g>\n    <g id=\"ytick_8\">\n     <g id=\"line2d_17\">\n      <g>\n       <use style=\"stroke:#000000;stroke-width:0.8;\" x=\"42.620313\" xlink:href=\"#m607b809c92\" y=\"24.853179\"/>\n      </g>\n     </g>\n     <g id=\"text_18\">\n      <!-- −2 -->\n      <g transform=\"translate(20.878125 28.652398)scale(0.1 -0.1)\">\n       <use xlink:href=\"#DejaVuSans-2212\"/>\n       <use x=\"83.789062\" xlink:href=\"#DejaVuSans-32\"/>\n      </g>\n     </g>\n    </g>\n    <g id=\"text_19\">\n     <!-- amplitude [V] -->\n     <g transform=\"translate(14.798438 164.175781)rotate(-90)scale(0.1 -0.1)\">\n      <defs>\n       <path d=\"M 2194 1759 \nQ 1497 1759 1228 1600 \nQ 959 1441 959 1056 \nQ 959 750 1161 570 \nQ 1363 391 1709 391 \nQ 2188 391 2477 730 \nQ 2766 1069 2766 1631 \nL 2766 1759 \nL 2194 1759 \nz\nM 3341 1997 \nL 3341 0 \nL 2766 0 \nL 2766 531 \nQ 2569 213 2275 61 \nQ 1981 -91 1556 -91 \nQ 1019 -91 701 211 \nQ 384 513 384 1019 \nQ 384 1609 779 1909 \nQ 1175 2209 1959 2209 \nL 2766 2209 \nL 2766 2266 \nQ 2766 2663 2505 2880 \nQ 2244 3097 1772 3097 \nQ 1472 3097 1187 3025 \nQ 903 2953 641 2809 \nL 641 3341 \nQ 956 3463 1253 3523 \nQ 1550 3584 1831 3584 \nQ 2591 3584 2966 3190 \nQ 3341 2797 3341 1997 \nz\n\" id=\"DejaVuSans-61\" transform=\"scale(0.015625)\"/>\n       <path d=\"M 1159 525 \nL 1159 -1331 \nL 581 -1331 \nL 581 3500 \nL 1159 3500 \nL 1159 2969 \nQ 1341 3281 1617 3432 \nQ 1894 3584 2278 3584 \nQ 2916 3584 3314 3078 \nQ 3713 2572 3713 1747 \nQ 3713 922 3314 415 \nQ 2916 -91 2278 -91 \nQ 1894 -91 1617 61 \nQ 1341 213 1159 525 \nz\nM 3116 1747 \nQ 3116 2381 2855 2742 \nQ 2594 3103 2138 3103 \nQ 1681 3103 1420 2742 \nQ 1159 2381 1159 1747 \nQ 1159 1113 1420 752 \nQ 1681 391 2138 391 \nQ 2594 391 2855 752 \nQ 3116 1113 3116 1747 \nz\n\" id=\"DejaVuSans-70\" transform=\"scale(0.015625)\"/>\n       <path d=\"M 603 4863 \nL 1178 4863 \nL 1178 0 \nL 603 0 \nL 603 4863 \nz\n\" id=\"DejaVuSans-6c\" transform=\"scale(0.015625)\"/>\n       <path d=\"M 544 1381 \nL 544 3500 \nL 1119 3500 \nL 1119 1403 \nQ 1119 906 1312 657 \nQ 1506 409 1894 409 \nQ 2359 409 2629 706 \nQ 2900 1003 2900 1516 \nL 2900 3500 \nL 3475 3500 \nL 3475 0 \nL 2900 0 \nL 2900 538 \nQ 2691 219 2414 64 \nQ 2138 -91 1772 -91 \nQ 1169 -91 856 284 \nQ 544 659 544 1381 \nz\nM 1991 3584 \nL 1991 3584 \nz\n\" id=\"DejaVuSans-75\" transform=\"scale(0.015625)\"/>\n       <path d=\"M 2906 2969 \nL 2906 4863 \nL 3481 4863 \nL 3481 0 \nL 2906 0 \nL 2906 525 \nQ 2725 213 2448 61 \nQ 2172 -91 1784 -91 \nQ 1150 -91 751 415 \nQ 353 922 353 1747 \nQ 353 2572 751 3078 \nQ 1150 3584 1784 3584 \nQ 2172 3584 2448 3432 \nQ 2725 3281 2906 2969 \nz\nM 947 1747 \nQ 947 1113 1208 752 \nQ 1469 391 1925 391 \nQ 2381 391 2643 752 \nQ 2906 1113 2906 1747 \nQ 2906 2381 2643 2742 \nQ 2381 3103 1925 3103 \nQ 1469 3103 1208 2742 \nQ 947 2381 947 1747 \nz\n\" id=\"DejaVuSans-64\" transform=\"scale(0.015625)\"/>\n       <path d=\"M 1831 0 \nL 50 4666 \nL 709 4666 \nL 2188 738 \nL 3669 4666 \nL 4325 4666 \nL 2547 0 \nL 1831 0 \nz\n\" id=\"DejaVuSans-56\" transform=\"scale(0.015625)\"/>\n      </defs>\n      <use xlink:href=\"#DejaVuSans-61\"/>\n      <use x=\"61.279297\" xlink:href=\"#DejaVuSans-6d\"/>\n      <use x=\"158.691406\" xlink:href=\"#DejaVuSans-70\"/>\n      <use x=\"222.167969\" xlink:href=\"#DejaVuSans-6c\"/>\n      <use x=\"249.951172\" xlink:href=\"#DejaVuSans-69\"/>\n      <use x=\"277.734375\" xlink:href=\"#DejaVuSans-74\"/>\n      <use x=\"316.943359\" xlink:href=\"#DejaVuSans-75\"/>\n      <use x=\"380.322266\" xlink:href=\"#DejaVuSans-64\"/>\n      <use x=\"443.798828\" xlink:href=\"#DejaVuSans-65\"/>\n      <use x=\"505.322266\" xlink:href=\"#DejaVuSans-20\"/>\n      <use x=\"537.109375\" xlink:href=\"#DejaVuSans-5b\"/>\n      <use x=\"576.123047\" xlink:href=\"#DejaVuSans-56\"/>\n      <use x=\"644.53125\" xlink:href=\"#DejaVuSans-5d\"/>\n     </g>\n    </g>\n    <g id=\"text_20\">\n     <!-- 1e−6 -->\n     <g transform=\"translate(42.620313 14.798437)scale(0.1 -0.1)\">\n      <use xlink:href=\"#DejaVuSans-31\"/>\n      <use x=\"63.623047\" xlink:href=\"#DejaVuSans-65\"/>\n      <use x=\"125.146484\" xlink:href=\"#DejaVuSans-2212\"/>\n      <use x=\"208.935547\" xlink:href=\"#DejaVuSans-36\"/>\n     </g>\n    </g>\n   </g>\n   <g id=\"line2d_18\">\n    <path clip-path=\"url(#p8b5170d45a)\" d=\"M 59.649858 129.998429 \nL 59.689253 129.850981 \nL 67.616507 100.447618 \nL 71.810032 85.755862 \nL 75.277673 74.39103 \nL 78.302546 65.213528 \nL 81.023016 57.645024 \nL 83.507201 51.368284 \nL 85.799804 46.160198 \nL 87.928896 41.859725 \nL 89.902195 38.358806 \nL 91.741385 35.532643 \nL 93.472013 33.270178 \nL 95.08982 31.511578 \nL 96.613964 30.175618 \nL 98.042317 29.210016 \nL 99.415324 28.545604 \nL 100.722342 28.154939 \nL 101.999558 28.001933 \nL 103.259744 28.072915 \nL 104.534831 28.368964 \nL 105.841849 28.905828 \nL 107.182926 29.700979 \nL 108.592121 30.801002 \nL 110.071562 32.244279 \nL 111.634023 34.084603 \nL 113.306112 36.406857 \nL 115.094214 39.283999 \nL 116.995137 42.775188 \nL 119.034425 46.996831 \nL 121.226979 52.058977 \nL 123.608987 58.135111 \nL 126.191092 65.34664 \nL 129.04354 73.992028 \nL 132.238177 84.405484 \nL 135.96339 97.336871 \nL 140.695475 114.618738 \nL 155.349598 168.713202 \nL 159.053524 181.208302 \nL 162.235921 191.189635 \nL 165.073469 199.38268 \nL 167.659831 206.190717 \nL 170.024809 211.81063 \nL 172.215234 216.461323 \nL 174.260376 220.294595 \nL 176.161299 223.397165 \nL 177.928115 225.869349 \nL 179.594881 227.828384 \nL 181.157076 229.328849 \nL 182.624278 230.437731 \nL 184.018572 231.21886 \nL 185.346876 231.713941 \nL 186.634736 231.960739 \nL 187.894922 231.979431 \nL 189.155109 231.777695 \nL 190.447225 231.342433 \nL 191.773401 230.656237 \nL 193.150666 229.688588 \nL 194.60882 228.383689 \nL 196.137222 226.710401 \nL 197.765672 224.589413 \nL 199.500557 221.954441 \nL 201.347731 218.735211 \nL 203.331673 214.81918 \nL 205.468881 210.093009 \nL 207.767337 204.455632 \nL 210.262698 197.730843 \nL 212.99594 189.708819 \nL 216.033585 180.085298 \nL 219.522513 168.264364 \nL 223.751694 153.105756 \nL 230.135645 129.28295 \nL 237.926662 100.394669 \nL 242.120188 85.706018 \nL 245.572928 74.391659 \nL 248.602059 65.201734 \nL 251.335301 57.600394 \nL 253.819486 51.327955 \nL 256.107831 46.133257 \nL 258.232267 41.844735 \nL 260.205033 38.346607 \nL 262.054867 35.507074 \nL 263.770594 33.266445 \nL 265.386272 31.510601 \nL 266.912545 30.173201 \nL 268.340898 29.208208 \nL 269.713905 28.544387 \nL 271.023052 28.153846 \nL 272.29601 28.001902 \nL 273.556197 28.073059 \nL 274.831284 28.369284 \nL 276.138301 28.906328 \nL 277.483636 29.704579 \nL 278.894427 30.807008 \nL 280.373869 32.251644 \nL 281.938458 34.096108 \nL 283.605225 36.412332 \nL 285.391199 39.286632 \nL 287.292122 42.778173 \nL 289.329281 46.995521 \nL 291.526092 52.067859 \nL 293.905971 58.139197 \nL 296.494462 65.369685 \nL 299.353297 74.03702 \nL 302.550594 84.462598 \nL 306.273679 97.389764 \nL 311.022793 114.737293 \nL 325.610728 168.593659 \nL 329.333546 181.158064 \nL 332.530843 191.188033 \nL 335.372648 199.392955 \nL 337.95156 206.181396 \nL 340.316538 211.802257 \nL 342.506964 216.453885 \nL 344.546252 220.277823 \nL 346.436531 223.366551 \nL 348.203347 225.843339 \nL 349.867985 227.804545 \nL 351.432574 229.311752 \nL 352.897115 230.422863 \nL 354.28928 231.207326 \nL 355.617585 231.706948 \nL 356.909702 231.958613 \nL 358.184789 231.979834 \nL 359.459876 231.775385 \nL 360.749864 231.339368 \nL 362.078169 230.650564 \nL 363.453305 229.682863 \nL 364.896558 228.391348 \nL 366.427089 226.717082 \nL 368.059797 224.591286 \nL 369.792553 221.960073 \nL 371.642387 218.736693 \nL 373.621806 214.830302 \nL 375.754756 210.115326 \nL 378.047359 204.495317 \nL 380.550702 197.751805 \nL 383.29033 189.712067 \nL 386.340473 180.04781 \nL 389.822749 168.247685 \nL 394.039424 153.13407 \nL 400.240767 129.999237 \nL 400.240767 129.999237 \n\" style=\"fill:none;stroke:#0000ff;stroke-linecap:square;stroke-width:1.5;\"/>\n   </g>\n   <g id=\"patch_3\">\n    <path d=\"M 42.620313 242.198437 \nL 42.620313 17.798437 \n\" style=\"fill:none;stroke:#000000;stroke-linecap:square;stroke-linejoin:miter;stroke-width:0.8;\"/>\n   </g>\n   <g id=\"patch_4\">\n    <path d=\"M 417.270312 242.198437 \nL 417.270312 17.798437 \n\" style=\"fill:none;stroke:#000000;stroke-linecap:square;stroke-linejoin:miter;stroke-width:0.8;\"/>\n   </g>\n   <g id=\"patch_5\">\n    <path d=\"M 42.620312 242.198437 \nL 417.270312 242.198437 \n\" style=\"fill:none;stroke:#000000;stroke-linecap:square;stroke-linejoin:miter;stroke-width:0.8;\"/>\n   </g>\n   <g id=\"patch_6\">\n    <path d=\"M 42.620312 17.798437 \nL 417.270312 17.798437 \n\" style=\"fill:none;stroke:#000000;stroke-linecap:square;stroke-linejoin:miter;stroke-width:0.8;\"/>\n   </g>\n   <g id=\"legend_1\">\n    <g id=\"patch_7\">\n     <path d=\"M 325.607812 62.678437 \nL 402.289062 62.678437 \nQ 404.289062 62.678437 404.289062 60.678437 \nL 404.289062 46.722187 \nQ 404.289062 44.722187 402.289062 44.722187 \nL 325.607812 44.722187 \nQ 323.607812 44.722187 323.607812 46.722187 \nL 323.607812 60.678437 \nQ 323.607812 62.678437 325.607812 62.678437 \nz\n\" style=\"fill:#ffffff;opacity:0.8;stroke:#cccccc;stroke-linejoin:miter;\"/>\n    </g>\n    <g id=\"line2d_19\">\n     <path d=\"M 327.607812 52.820625 \nL 347.607812 52.820625 \n\" style=\"fill:none;stroke:#0000ff;stroke-linecap:square;stroke-width:1.5;\"/>\n    </g>\n    <g id=\"line2d_20\"/>\n    <g id=\"text_21\">\n     <!-- Vin_a [V] -->\n     <g transform=\"translate(355.607812 56.320625)scale(0.1 -0.1)\">\n      <defs>\n       <path d=\"M 3513 2113 \nL 3513 0 \nL 2938 0 \nL 2938 2094 \nQ 2938 2591 2744 2837 \nQ 2550 3084 2163 3084 \nQ 1697 3084 1428 2787 \nQ 1159 2491 1159 1978 \nL 1159 0 \nL 581 0 \nL 581 3500 \nL 1159 3500 \nL 1159 2956 \nQ 1366 3272 1645 3428 \nQ 1925 3584 2291 3584 \nQ 2894 3584 3203 3211 \nQ 3513 2838 3513 2113 \nz\n\" id=\"DejaVuSans-6e\" transform=\"scale(0.015625)\"/>\n       <path d=\"M 3263 -1063 \nL 3263 -1509 \nL -63 -1509 \nL -63 -1063 \nL 3263 -1063 \nz\n\" id=\"DejaVuSans-5f\" transform=\"scale(0.015625)\"/>\n      </defs>\n      <use xlink:href=\"#DejaVuSans-56\"/>\n      <use x=\"66.158203\" xlink:href=\"#DejaVuSans-69\"/>\n      <use x=\"93.941406\" xlink:href=\"#DejaVuSans-6e\"/>\n      <use x=\"157.320312\" xlink:href=\"#DejaVuSans-5f\"/>\n      <use x=\"207.320312\" xlink:href=\"#DejaVuSans-61\"/>\n      <use x=\"268.599609\" xlink:href=\"#DejaVuSans-20\"/>\n      <use x=\"300.386719\" xlink:href=\"#DejaVuSans-5b\"/>\n      <use x=\"339.400391\" xlink:href=\"#DejaVuSans-56\"/>\n      <use x=\"407.808594\" xlink:href=\"#DejaVuSans-5d\"/>\n     </g>\n    </g>\n   </g>\n  </g>\n </g>\n <defs>\n  <clipPath id=\"p8b5170d45a\">\n   <rect height=\"224.4\" width=\"374.65\" x=\"42.620313\" y=\"17.798437\"/>\n  </clipPath>\n </defs>\n</svg>\n"
     },
     "metadata": {
      "needs_background": "light"
     }
    }
   ],
   "source": [
    "kicad_netlist_path = directory_path.joinpath('main', 'main.cir')\n",
    "parser = SpiceParser(path=str(kicad_netlist_path))\n",
    "\n",
    "circuit = parser.build_circuit(ground=5)\n",
    "circuit.include(spice_library['OPA2134'])\n",
    "circuit.include(spice_library['OPA2134d'])\n",
    "circuit.include(spice_library['AD633'])\n",
    "\n",
    "circuit.V('1', '+15V', circuit.gnd, 'DC 15')\n",
    "circuit.V('2', '-15V', circuit.gnd, 'DC -15')\n",
    "circuit.V('3', '+5V', circuit.gnd, 'DC 5')\n",
    "circuit.V('4', 'Xa', circuit.gnd, 'DC 5 AC 0V SIN(0 5V 200)')\n",
    "circuit.V('5', 'Ya', circuit.gnd, 'DC 5 AC 0V SIN(0 5V 100)')\n",
    "circuit.V('6', 'Xb', circuit.gnd, 'DC 5 AC 0V SIN(0 5V 200)')\n",
    "circuit.V('7', 'Yb', circuit.gnd, 'DC 5 AC 0V SIN(0 5V 100)')\n",
    "\n",
    "for c in ( VoltageDivider(R=100@u_kΩ, w=0.5, name='voltage_divider_1'), \n",
    "        VoltageDivider(R=100@u_kΩ, w=0.5, name='voltage_divider_2') ):\n",
    "    circuit.subcircuit(c)\n",
    "\n",
    "simulator = circuit.simulator(temperature=25, nominal_temperature=25)\n",
    "analysis  = simulator.transient(step_time=1@u_us, start_time=0@u_ms, end_time=20@u_ms)\n",
    "\n",
    "fig_buffer, ax1_buffer = plt.subplots()\n",
    "\n",
    "ax1_buffer.set_xlabel('time [ms]')\n",
    "ax1_buffer.set_ylabel('amplitude [V]')\n",
    "ax1_buffer.plot(u_ms(analysis['Net-_R8-Pad2_'].abscissa), analysis['Net-_R8-Pad2_'], color='Blue')\n",
    "#ax1_buffer.plot(u_ms(analysis['Xa'].abscissa), analysis['Xa'], color='Blue')\n",
    "#ax1_buffer.plot(u_ms(analysis['OUT_A'].abscissa), analysis['OUT_A'], color='Grey')\n",
    "#ax1_buffer.plot(u_ms(analysis['OUT_A'].abscissa), analysis['OUT_B'], color='Grey')\n",
    "#ax1_buffer.plot(u_ms(analysis['OUTa'].abscissa), analysis['OUTa'], color='#E97451')\n",
    "ax1_buffer.legend(('Vin_a [V]', 'Vin_b', 'Vout [V]'), loc=(0.75,0.8))\n",
    "\n",
    "print(\"voltage: %f\" % analysis['Net-_R8-Pad2_'][100])\n",
    "\n",
    "plt.tight_layout()\n",
    "plt.show()"
   ]
  },
  {
   "cell_type": "markdown",
   "metadata": {},
   "source": [
    "Pegel is a voltage controlled amplifier (VCA). There are various designs to implement a VCA. rod elliott (ESP) has an article on VCA techniques [[1][1]]. diy synthesizer modules are usualy designed with an integrated VCA chip [[2][2]] or with a differential amplifier [[3][3]]. The integrated VCA chips are either obsolete or rather expensive. The differential amplifier can be built with transistors only. the design has some downsides. Even in the simulation the result is not symetryc and has a dc offset from the control voltage. This needs a lot of trimming to get an accurate result. but the biggest downside is, that this design can not do proper amplitude modulation (am). when the carrier signal goes below zero the base signal is completely muted.\n",
    "{: class=\"mt-6\"}  "
   ]
  },
  {
   "cell_type": "markdown",
   "metadata": {},
   "source": [
    "# construction\n",
    "{: class=\"subtitle is-lowercase\"}\n",
    "\n",
    "for the final circuit input and output buffering and biasing is needed. the buffering is done with opamps. \n"
   ]
  },
  {
   "cell_type": "code",
   "execution_count": 5,
   "metadata": {},
   "outputs": [
    {
     "output_type": "execute_result",
     "data": {
      "text/plain": [
       "<schemdraw.backends.mpl.Figure object at 0x7f64ad530370>"
      ],
      "image/svg+xml": "<?xml version=\"1.0\" encoding=\"utf-8\" standalone=\"no\"?>\n<!DOCTYPE svg PUBLIC \"-//W3C//DTD SVG 1.1//EN\"\n  \"http://www.w3.org/Graphics/SVG/1.1/DTD/svg11.dtd\">\n<svg height=\"223.704pt\" version=\"1.1\" viewBox=\"0 0 264.56112 223.704\" width=\"264.56112pt\" xmlns=\"http://www.w3.org/2000/svg\" xmlns:xlink=\"http://www.w3.org/1999/xlink\">\n <metadata>\n  <rdf:RDF xmlns:cc=\"http://creativecommons.org/ns#\" xmlns:dc=\"http://purl.org/dc/elements/1.1/\" xmlns:rdf=\"http://www.w3.org/1999/02/22-rdf-syntax-ns#\">\n   <cc:Work>\n    <dc:type rdf:resource=\"http://purl.org/dc/dcmitype/StillImage\"/>\n    <dc:date>2021-05-30T14:10:26.297199</dc:date>\n    <dc:format>image/svg+xml</dc:format>\n    <dc:creator>\n     <cc:Agent>\n      <dc:title>Matplotlib v3.4.2, https://matplotlib.org/</dc:title>\n     </cc:Agent>\n    </dc:creator>\n   </cc:Work>\n  </rdf:RDF>\n </metadata>\n <defs>\n  <style type=\"text/css\">*{stroke-linecap:butt;stroke-linejoin:round;}</style>\n </defs>\n <g id=\"figure_1\">\n  <g id=\"patch_1\">\n   <path d=\"M 0 223.704 \nL 264.56112 223.704 \nL 264.56112 0 \nL 0 0 \nz\n\" style=\"fill:none;\"/>\n  </g>\n  <g id=\"axes_1\">\n   <g id=\"patch_2\">\n    <path clip-path=\"url(#pe1b216d88c)\" d=\"M 84.42216 47.592 \nC 89.291289 47.592 93.961646 45.657475 97.404641 42.214481 \nC 100.847635 38.771486 102.78216 34.101129 102.78216 29.232 \nC 102.78216 24.362871 100.847635 19.692514 97.404641 16.249519 \nC 93.961646 12.806525 89.291289 10.872 84.42216 10.872 \nC 79.553031 10.872 74.882674 12.806525 71.439679 16.249519 \nC 67.996685 19.692514 66.06216 24.362871 66.06216 29.232 \nC 66.06216 34.101129 67.996685 38.771486 71.439679 42.214481 \nC 74.882674 45.657475 79.553031 47.592 84.42216 47.592 \nz\n\" style=\"fill:none;stroke:#000000;stroke-linejoin:miter;stroke-width:2;\"/>\n   </g>\n   <g id=\"patch_3\">\n    <path clip-path=\"url(#pe1b216d88c)\" d=\"M 167.04216 130.212 \nC 171.911289 130.212 176.581646 128.277475 180.024641 124.834481 \nC 183.467635 121.391486 185.40216 116.721129 185.40216 111.852 \nC 185.40216 106.982871 183.467635 102.312514 180.024641 98.869519 \nC 176.581646 95.426525 171.911289 93.492 167.04216 93.492 \nC 162.173031 93.492 157.502674 95.426525 154.059679 98.869519 \nC 150.616685 102.312514 148.68216 106.982871 148.68216 111.852 \nC 148.68216 116.721129 150.616685 121.391486 154.059679 124.834481 \nC 157.502674 128.277475 162.173031 130.212 167.04216 130.212 \nz\n\" style=\"fill:none;stroke:#000000;stroke-linejoin:miter;stroke-width:2;\"/>\n   </g>\n   <g id=\"line2d_1\">\n    <path clip-path=\"url(#pe1b216d88c)\" d=\"M 38.52216 194.472 \nL 52.29216 194.472 \nL 66.06216 194.472 \n\" style=\"fill:none;stroke:#000000;stroke-linecap:round;stroke-width:2;\"/>\n   </g>\n   <g id=\"line2d_2\">\n    <path clip-path=\"url(#pe1b216d88c)\" d=\"M 66.06216 194.472 \nL 66.06216 176.112 \nL 102.78216 176.112 \nL 102.78216 212.832 \nL 66.06216 212.832 \nL 66.06216 194.472 \n\" style=\"fill:none;stroke:#000000;stroke-linecap:round;stroke-width:2;\"/>\n   </g>\n   <g id=\"line2d_3\">\n    <path clip-path=\"url(#pe1b216d88c)\" d=\"M 102.78216 194.472 \nL 109.66716 194.472 \nL 116.55216 194.472 \n\" style=\"fill:none;stroke:#000000;stroke-linecap:round;stroke-width:2;\"/>\n   </g>\n   <g id=\"line2d_4\">\n    <path clip-path=\"url(#pe1b216d88c)\" d=\"M 116.55216 194.472 \nL 116.55216 153.162 \nL 116.55216 111.852 \n\" style=\"fill:none;stroke:#000000;stroke-linecap:round;stroke-width:2;\"/>\n   </g>\n   <g id=\"line2d_5\">\n    <path clip-path=\"url(#pe1b216d88c)\" d=\"M 38.52216 139.392 \nL 52.29216 139.392 \nL 66.06216 139.392 \n\" style=\"fill:none;stroke:#000000;stroke-linecap:round;stroke-width:2;\"/>\n   </g>\n   <g id=\"line2d_6\">\n    <path clip-path=\"url(#pe1b216d88c)\" d=\"M 66.06216 139.392 \nL 66.06216 121.032 \nL 102.78216 121.032 \nL 102.78216 157.752 \nL 66.06216 157.752 \nL 66.06216 139.392 \n\" style=\"fill:none;stroke:#000000;stroke-linecap:round;stroke-width:2;\"/>\n   </g>\n   <g id=\"line2d_7\">\n    <path clip-path=\"url(#pe1b216d88c)\" d=\"M 102.78216 139.392 \nL 109.66716 139.392 \nL 116.55216 139.392 \n\" style=\"fill:none;stroke:#000000;stroke-linecap:round;stroke-width:2;\"/>\n   </g>\n   <g id=\"line2d_8\">\n    <path clip-path=\"url(#pe1b216d88c)\" d=\"M 38.52216 84.312 \nL 52.29216 84.312 \nL 66.06216 84.312 \n\" style=\"fill:none;stroke:#000000;stroke-linecap:round;stroke-width:2;\"/>\n   </g>\n   <g id=\"line2d_9\">\n    <path clip-path=\"url(#pe1b216d88c)\" d=\"M 66.06216 84.312 \nL 66.06216 65.952 \nL 102.78216 65.952 \nL 102.78216 102.672 \nL 66.06216 102.672 \nL 66.06216 84.312 \n\" style=\"fill:none;stroke:#000000;stroke-linecap:round;stroke-width:2;\"/>\n   </g>\n   <g id=\"line2d_10\">\n    <path clip-path=\"url(#pe1b216d88c)\" d=\"M 102.78216 84.312 \nL 109.66716 84.312 \nL 116.55216 84.312 \n\" style=\"fill:none;stroke:#000000;stroke-linecap:round;stroke-width:2;\"/>\n   </g>\n   <g id=\"line2d_11\">\n    <path clip-path=\"url(#pe1b216d88c)\" d=\"M 38.52216 29.232 \nL 52.29216 29.232 \nL 66.06216 29.232 \n\" style=\"fill:none;stroke:#000000;stroke-linecap:round;stroke-width:2;\"/>\n   </g>\n   <g id=\"line2d_12\">\n    <path clip-path=\"url(#pe1b216d88c)\" d=\"M 102.78216 29.232 \nL 116.55216 29.232 \nL 130.32216 29.232 \n\" style=\"fill:none;stroke:#000000;stroke-linecap:round;stroke-width:2;\"/>\n   </g>\n   <g id=\"line2d_13\">\n    <path clip-path=\"url(#pe1b216d88c)\" d=\"M 130.32216 29.232 \nL 130.32216 10.872 \nL 167.04216 10.872 \nL 167.04216 47.592 \nL 130.32216 47.592 \nL 130.32216 29.232 \n\" style=\"fill:none;stroke:#000000;stroke-linecap:round;stroke-width:2;\"/>\n   </g>\n   <g id=\"line2d_14\">\n    <path clip-path=\"url(#pe1b216d88c)\" d=\"M 167.04216 29.232 \nL 173.92716 29.232 \nL 180.81216 29.232 \n\" style=\"fill:none;stroke:#000000;stroke-linecap:round;stroke-width:2;\"/>\n   </g>\n   <g id=\"line2d_15\">\n    <path clip-path=\"url(#pe1b216d88c)\" d=\"M 180.81216 29.232 \nL 180.81216 70.542 \nL 180.81216 111.852 \n\" style=\"fill:none;stroke:#000000;stroke-linecap:round;stroke-width:2;\"/>\n   </g>\n   <g id=\"line2d_16\">\n    <path clip-path=\"url(#pe1b216d88c)\" d=\"M 180.81216 111.852 \nL 197.33616 111.852 \nL 213.86016 111.852 \n\" style=\"fill:none;stroke:#000000;stroke-linecap:round;stroke-width:2;\"/>\n   </g>\n   <g id=\"line2d_17\">\n    <path clip-path=\"url(#pe1b216d88c)\" d=\"M 180.024641 98.869519 \nL 154.059679 124.834481 \n\" style=\"fill:none;stroke:#000000;stroke-linecap:round;\"/>\n   </g>\n   <g id=\"line2d_18\">\n    <path clip-path=\"url(#pe1b216d88c)\" d=\"M 180.024641 124.834481 \nL 154.059679 98.869519 \n\" style=\"fill:none;stroke:#000000;stroke-linecap:round;\"/>\n   </g>\n   <g id=\"line2d_19\">\n    <path clip-path=\"url(#pe1b216d88c)\" d=\"M 185.40216 111.852 \nL 199.17216 111.852 \nL 212.94216 111.852 \n\" style=\"fill:none;stroke:#000000;stroke-linecap:round;stroke-width:2;\"/>\n   </g>\n   <g id=\"text_1\">\n    <!-- $IN_4$ -->\n    <g transform=\"translate(13.57016 198.335125)scale(0.14 -0.14)\">\n     <defs>\n      <path d=\"M 1081 4666 \nL 1716 4666 \nL 806 0 \nL 172 0 \nL 1081 4666 \nz\n\" id=\"DejaVuSans-Oblique-49\" transform=\"scale(0.015625)\"/>\n      <path d=\"M 1081 4666 \nL 1931 4666 \nL 3219 666 \nL 4000 4666 \nL 4616 4666 \nL 3706 0 \nL 2853 0 \nL 1569 4025 \nL 788 0 \nL 172 0 \nL 1081 4666 \nz\n\" id=\"DejaVuSans-Oblique-4e\" transform=\"scale(0.015625)\"/>\n      <path d=\"M 2419 4116 \nL 825 1625 \nL 2419 1625 \nL 2419 4116 \nz\nM 2253 4666 \nL 3047 4666 \nL 3047 1625 \nL 3713 1625 \nL 3713 1100 \nL 3047 1100 \nL 3047 0 \nL 2419 0 \nL 2419 1100 \nL 313 1100 \nL 313 1709 \nL 2253 4666 \nz\n\" id=\"DejaVuSans-34\" transform=\"scale(0.015625)\"/>\n     </defs>\n     <use transform=\"translate(0 0.09375)\" xlink:href=\"#DejaVuSans-Oblique-49\"/>\n     <use transform=\"translate(29.492188 0.09375)\" xlink:href=\"#DejaVuSans-Oblique-4e\"/>\n     <use transform=\"translate(104.296875 -16.3125)scale(0.7)\" xlink:href=\"#DejaVuSans-34\"/>\n    </g>\n   </g>\n   <g id=\"text_2\">\n    <!-- $\\int$ -->\n    <g transform=\"translate(79.24216 199.862)scale(0.14 -0.14)\">\n     <defs>\n      <path d=\"M 2134 5525 \nQ 2172 6263 2528 6556 \nQ 2884 6850 3218 6850 \nQ 3553 6850 3833 6575 \nQ 4113 6300 4200 5678 \nL 3544 5613 \nQ 3469 6188 3219 6188 \nQ 2906 6188 2869 5413 \nL 2581 -597 \nQ 2547 -1334 2187 -1628 \nQ 1828 -1922 1497 -1922 \nQ 1163 -1922 883 -1647 \nQ 603 -1372 516 -750 \nL 1172 -684 \nQ 1247 -1259 1497 -1259 \nQ 1809 -1259 1847 -488 \nL 2134 5525 \nz\n\" id=\"DejaVuSansDisplay-222b\" transform=\"scale(0.015625)\"/>\n     </defs>\n     <use transform=\"translate(0 0.96875)\" xlink:href=\"#DejaVuSansDisplay-222b\"/>\n    </g>\n   </g>\n   <g id=\"text_3\">\n    <!-- $IN_3$ -->\n    <g transform=\"translate(13.57016 143.255125)scale(0.14 -0.14)\">\n     <defs>\n      <path d=\"M 2597 2516 \nQ 3050 2419 3304 2112 \nQ 3559 1806 3559 1356 \nQ 3559 666 3084 287 \nQ 2609 -91 1734 -91 \nQ 1441 -91 1130 -33 \nQ 819 25 488 141 \nL 488 750 \nQ 750 597 1062 519 \nQ 1375 441 1716 441 \nQ 2309 441 2620 675 \nQ 2931 909 2931 1356 \nQ 2931 1769 2642 2001 \nQ 2353 2234 1838 2234 \nL 1294 2234 \nL 1294 2753 \nL 1863 2753 \nQ 2328 2753 2575 2939 \nQ 2822 3125 2822 3475 \nQ 2822 3834 2567 4026 \nQ 2313 4219 1838 4219 \nQ 1578 4219 1281 4162 \nQ 984 4106 628 3988 \nL 628 4550 \nQ 988 4650 1302 4700 \nQ 1616 4750 1894 4750 \nQ 2613 4750 3031 4423 \nQ 3450 4097 3450 3541 \nQ 3450 3153 3228 2886 \nQ 3006 2619 2597 2516 \nz\n\" id=\"DejaVuSans-33\" transform=\"scale(0.015625)\"/>\n     </defs>\n     <use transform=\"translate(0 0.09375)\" xlink:href=\"#DejaVuSans-Oblique-49\"/>\n     <use transform=\"translate(29.492188 0.09375)\" xlink:href=\"#DejaVuSans-Oblique-4e\"/>\n     <use transform=\"translate(104.296875 -16.3125)scale(0.7)\" xlink:href=\"#DejaVuSans-33\"/>\n    </g>\n   </g>\n   <g id=\"text_4\">\n    <!-- $\\int$ -->\n    <g transform=\"translate(79.24216 144.782)scale(0.14 -0.14)\">\n     <use transform=\"translate(0 0.96875)\" xlink:href=\"#DejaVuSansDisplay-222b\"/>\n    </g>\n   </g>\n   <g id=\"text_5\">\n    <!-- $IN_2$ -->\n    <g transform=\"translate(13.57016 88.175125)scale(0.14 -0.14)\">\n     <defs>\n      <path d=\"M 1228 531 \nL 3431 531 \nL 3431 0 \nL 469 0 \nL 469 531 \nQ 828 903 1448 1529 \nQ 2069 2156 2228 2338 \nQ 2531 2678 2651 2914 \nQ 2772 3150 2772 3378 \nQ 2772 3750 2511 3984 \nQ 2250 4219 1831 4219 \nQ 1534 4219 1204 4116 \nQ 875 4013 500 3803 \nL 500 4441 \nQ 881 4594 1212 4672 \nQ 1544 4750 1819 4750 \nQ 2544 4750 2975 4387 \nQ 3406 4025 3406 3419 \nQ 3406 3131 3298 2873 \nQ 3191 2616 2906 2266 \nQ 2828 2175 2409 1742 \nQ 1991 1309 1228 531 \nz\n\" id=\"DejaVuSans-32\" transform=\"scale(0.015625)\"/>\n     </defs>\n     <use transform=\"translate(0 0.09375)\" xlink:href=\"#DejaVuSans-Oblique-49\"/>\n     <use transform=\"translate(29.492188 0.09375)\" xlink:href=\"#DejaVuSans-Oblique-4e\"/>\n     <use transform=\"translate(104.296875 -16.3125)scale(0.7)\" xlink:href=\"#DejaVuSans-32\"/>\n    </g>\n   </g>\n   <g id=\"text_6\">\n    <!-- $\\int$ -->\n    <g transform=\"translate(79.24216 89.702)scale(0.14 -0.14)\">\n     <use transform=\"translate(0 0.96875)\" xlink:href=\"#DejaVuSansDisplay-222b\"/>\n    </g>\n   </g>\n   <g id=\"text_7\">\n    <!-- $IN_1$ -->\n    <g transform=\"translate(13.57016 33.095125)scale(0.14 -0.14)\">\n     <defs>\n      <path d=\"M 794 531 \nL 1825 531 \nL 1825 4091 \nL 703 3866 \nL 703 4441 \nL 1819 4666 \nL 2450 4666 \nL 2450 531 \nL 3481 531 \nL 3481 0 \nL 794 0 \nL 794 531 \nz\n\" id=\"DejaVuSans-31\" transform=\"scale(0.015625)\"/>\n     </defs>\n     <use transform=\"translate(0 0.09375)\" xlink:href=\"#DejaVuSans-Oblique-49\"/>\n     <use transform=\"translate(29.492188 0.09375)\" xlink:href=\"#DejaVuSans-Oblique-4e\"/>\n     <use transform=\"translate(104.296875 -16.3125)scale(0.7)\" xlink:href=\"#DejaVuSans-31\"/>\n    </g>\n   </g>\n   <g id=\"text_8\">\n    <!-- $\\int$ -->\n    <g transform=\"translate(143.50216 34.622)scale(0.14 -0.14)\">\n     <use transform=\"translate(0 0.96875)\" xlink:href=\"#DejaVuSansDisplay-222b\"/>\n    </g>\n   </g>\n   <g id=\"text_9\">\n    <!-- $OUT$ -->\n    <g transform=\"translate(216.61416 115.715125)scale(0.14 -0.14)\">\n     <defs>\n      <path d=\"M 2919 4238 \nQ 2400 4238 2003 3986 \nQ 1606 3734 1313 3219 \nQ 1125 2891 1026 2522 \nQ 928 2153 928 1778 \nQ 928 1128 1239 775 \nQ 1550 422 2119 422 \nQ 2631 422 3032 676 \nQ 3434 931 3719 1434 \nQ 3909 1772 4009 2142 \nQ 4109 2513 4109 2881 \nQ 4109 3528 3796 3883 \nQ 3484 4238 2919 4238 \nz\nM 2100 -91 \nQ 1241 -91 748 418 \nQ 256 928 256 1813 \nQ 256 2319 448 2847 \nQ 641 3375 978 3788 \nQ 1375 4272 1862 4511 \nQ 2350 4750 2938 4750 \nQ 3794 4750 4287 4245 \nQ 4781 3741 4781 2869 \nQ 4781 2331 4593 1812 \nQ 4406 1294 4056 872 \nQ 3656 384 3173 146 \nQ 2691 -91 2100 -91 \nz\n\" id=\"DejaVuSans-Oblique-4f\" transform=\"scale(0.015625)\"/>\n      <path d=\"M 991 4666 \nL 1625 4666 \nL 1075 1831 \nQ 1041 1641 1027 1517 \nQ 1013 1394 1013 1300 \nQ 1013 869 1253 645 \nQ 1494 422 1959 422 \nQ 2563 422 2898 753 \nQ 3234 1084 3378 1831 \nL 3928 4666 \nL 4563 4666 \nL 4000 1753 \nQ 3816 809 3300 359 \nQ 2784 -91 1888 -91 \nQ 1188 -91 780 261 \nQ 372 613 372 1216 \nQ 372 1325 387 1461 \nQ 403 1597 434 1753 \nL 991 4666 \nz\n\" id=\"DejaVuSans-Oblique-55\" transform=\"scale(0.015625)\"/>\n      <path d=\"M 378 4666 \nL 4325 4666 \nL 4225 4134 \nL 2559 4134 \nL 1759 0 \nL 1125 0 \nL 1925 4134 \nL 275 4134 \nL 378 4666 \nz\n\" id=\"DejaVuSans-Oblique-54\" transform=\"scale(0.015625)\"/>\n     </defs>\n     <use transform=\"translate(0 0.78125)\" xlink:href=\"#DejaVuSans-Oblique-4f\"/>\n     <use transform=\"translate(78.710938 0.78125)\" xlink:href=\"#DejaVuSans-Oblique-55\"/>\n     <use transform=\"translate(151.904297 0.78125)\" xlink:href=\"#DejaVuSans-Oblique-54\"/>\n    </g>\n   </g>\n  </g>\n </g>\n <defs>\n  <clipPath id=\"pe1b216d88c\">\n   <rect height=\"209.304\" width=\"250.16112\" x=\"7.2\" y=\"7.2\"/>\n  </clipPath>\n </defs>\n</svg>\n",
      "image/png": "[encoded data removed]"
     },
     "metadata": {},
     "execution_count": 5
    }
   ],
   "source": [
    "d = schemdraw.Drawing(inches_per_unit=0.6)\n",
    "\n",
    "d.add(elm.Line( \"right\", l=d.unit/4, xy=[0, 0*d.unit], lftlabel='$IN_4$'))\n",
    "D1 = d.add(dsp.Square(label='$\\int$'))\n",
    "d.add(elm.Line( \"right\", l=d.unit/8))\n",
    "d.add(elm.Line( \"up\", l=0.75*d.unit))\n",
    "\n",
    "d.add(elm.Line( \"right\", l=d.unit/4, xy=[0, 0.5*d.unit], lftlabel='$IN_3$'))\n",
    "D2 = d.add(dsp.Square(label='$\\int$'))\n",
    "d.add(elm.Line( \"right\", l=d.unit/8))\n",
    "\n",
    "d.add(elm.Line( \"right\", l=d.unit/4, xy=[0, 1*d.unit], lftlabel='$IN_2$'))\n",
    "D3 = d.add(dsp.Square(label='$\\int$'))\n",
    "d.add(elm.Line( \"right\", l=d.unit/8))\n",
    "\n",
    "d.add(elm.Line( \"right\", l=d.unit/4, xy=[0, 1.5*d.unit], lftlabel='$IN_1$'))\n",
    "Q1 = d.add(dsp.Circle())\n",
    "d.add(elm.Line( \"right\", l=d.unit/4))\n",
    "\n",
    "D4 = d.add(dsp.Square(label='$\\int$'))\n",
    "d.add(elm.Line( \"right\", l=d.unit/8))\n",
    "d.add(elm.Line( \"down\", l=0.75*d.unit))\n",
    "d.add(elm.Line( \"right\", l=d.unit*0.30))\n",
    "\n",
    "S = d.add(dsp.Mixer(xy=[d.unit, 0.75*d.unit]))\n",
    "d.add(elm.Line( \"right\", l=d.unit/4, rgtlabel='$OUT$'))\n",
    "\n",
    "\n",
    "d.draw()\n"
   ]
  },
  {
   "source": [
    "first we design the input stage. the input voltage for the X signal should be 10mV and 20mV for the control voltage.\n"
   ],
   "cell_type": "markdown",
   "metadata": {}
  },
  {
   "cell_type": "code",
   "execution_count": null,
   "metadata": {},
   "outputs": [],
   "source": []
  },
  {
   "cell_type": "code",
   "execution_count": 6,
   "metadata": {},
   "outputs": [],
   "source": [
    "#load the kicad schema\n",
    "directory_path = Path(os.path.abspath('')).resolve()\n",
    "kicad_netlist_path = directory_path.joinpath('main', 'main.cir')\n",
    "parser = SpiceParser(path=str(kicad_netlist_path))\n"
   ]
  },
  {
   "cell_type": "code",
   "execution_count": 7,
   "metadata": {
    "tags": []
   },
   "outputs": [
    {
     "output_type": "execute_result",
     "data": {
      "text/plain": [
       "VoltageSource V5"
      ]
     },
     "metadata": {},
     "execution_count": 7
    }
   ],
   "source": [
    "#ringmodulation\n",
    "ringmod_schema = parser.build_circuit(ground=5)\n",
    "ringmod_schema.include(spice_library['TL072c'])\n",
    "ringmod_schema.include(spice_library['AD633'])\n",
    "\n",
    "ringmod_schema.V('1', '+15V', ringmod_schema.gnd, 'DC 15')\n",
    "ringmod_schema.V('2', '-15V', ringmod_schema.gnd, 'DC -15')\n",
    "ringmod_schema.V('3', 'IN_Xa', ringmod_schema.gnd, 'DC 5V AC 5V SIN(0V 5V 1k)')\n",
    "ringmod_schema.V('4', 'IN_Ya', ringmod_schema.gnd, 'DC 5V AC 5V SIN(0V 5V 100)')\n",
    "ringmod_schema.V('5', 'IN_Za', ringmod_schema.gnd, 'DC 0V AC 0V')\n",
    "\n",
    "#simulator = ringmod_schema.simulator(temperature=25, nominal_temperature=25)\n",
    "#analysis_ringmod = simulator.transient(step_time=10@u_us, end_time=20@u_ms)"
   ]
  },
  {
   "cell_type": "code",
   "execution_count": 8,
   "metadata": {
    "tags": []
   },
   "outputs": [
    {
     "output_type": "execute_result",
     "data": {
      "text/plain": [
       "VoltageSource V5"
      ]
     },
     "metadata": {},
     "execution_count": 8
    }
   ],
   "source": [
    "#amplitude modulation\n",
    "am_schema = parser.build_circuit(ground=5)\n",
    "am_schema.include(spice_library['TL072c'])\n",
    "am_schema.include(spice_library['AD633'])\n",
    "\n",
    "am_schema.V('1', '+15V', am_schema.gnd, 'DC 15')\n",
    "am_schema.V('2', '-15V', am_schema.gnd, 'DC -15')\n",
    "am_schema.V('3', 'IN_Xa', am_schema.gnd, 'DC 10V AC 5V SIN(0V 5V 1k)')\n",
    "am_schema.V('4', 'IN_Ya', am_schema.gnd, 'DC 5V AC 5V SIN(0V 5V 100)')\n",
    "am_schema.V('5', 'IN_Za', am_schema.gnd, 'DC 5V AC 5V SIN(0V 2.5V 1k)')\n",
    "\n",
    "#simulator = am_schema.simulator(temperature=25, nominal_temperature=25)\n",
    "#analysis_am = simulator.transient(step_time=10@u_us, end_time=20@u_ms)"
   ]
  },
  {
   "source": [
    "#vca\n",
    "vca_schema = parser.build_circuit(ground=5)\n",
    "vca_schema.include(spice_library['TL072c'])\n",
    "vca_schema.include(spice_library['AD633'])\n",
    "\n",
    "vca_schema.V('1', '+15V', vca_schema.gnd, 'DC 15')\n",
    "vca_schema.V('2', '-15V', vca_schema.gnd, 'DC -15')\n",
    "vca_schema.V('3', 'IN_Xa', vca_schema.gnd, 'DC 10V AC 5V SIN(0V 5V 1k)')\n",
    "vca_schema.V('4', 'IN_Ya', vca_schema.gnd, 'DC 5V AC 5V PULSE(0V 10V 1m 1m 15m 1m)')\n",
    "vca_schema.V('5', 'IN_Za', vca_schema.gnd, 'DC 0V AC 0V')\n",
    "\n",
    "#simulator = vca_schema.simulator(temperature=25, nominal_temperature=25)\n",
    "#analysis_vca = simulator.transient(step_time=10@u_us, end_time=20@u_ms)"
   ],
   "cell_type": "code",
   "metadata": {
    "tags": []
   },
   "execution_count": 9,
   "outputs": [
    {
     "output_type": "execute_result",
     "data": {
      "text/plain": [
       "VoltageSource V5"
      ]
     },
     "metadata": {},
     "execution_count": 9
    }
   ]
  },
  {
   "source": [
    "# bom\n",
    "{: class=\"subtitle is-lowercase mt-6\"}\n",
    "\n",
    "main circuit\n",
    "{: class=\"is-size-6 has-text-weight-semibold mt-6\"}\n",
    "\n",
    "{% include bom.html content=\"summe-main-bom\" %}\n",
    "{% include callouts.html %}\n",
    "{% include reports.html%}"
   ],
   "cell_type": "markdown",
   "metadata": {}
  },
  {
   "source": [
    "# calibration\n",
    "{: class=\"subtitle is-lowercase\"}\n",
    "\n",
    "there is no calibration needed. but the potentiomenter knobs have to be aliged to center position."
   ],
   "cell_type": "markdown",
   "metadata": {}
  },
  {
   "source": [
    "# usage\n",
    "{: class=\"subtitle is-lowercase\"}\n",
    "\n",
    "the input jacks are wired to 5 volts when nothing is connected.\n",
    "\n",
    "all channels are mixed to the out jack. when something is connected to the channel out, this channel is removed from the overall mix.\n",
    "\n",
    "_mixer_\n",
    "* connect the different channels from audio or cv sources to the in jacks.\n",
    "* connect the out jack to something\n",
    "* turn the pots clockwise to adjust the volume.\n",
    "\n",
    "_attenuverter_\n",
    "* connect all or a single channel. \n",
    "* when you turn the pot knob counter clockwise the signal is inverted.\n"
   ],
   "cell_type": "markdown",
   "metadata": {}
  },
  {
   "cell_type": "markdown",
   "metadata": {},
   "source": [
    "# *references*\n",
    "{: class=\"subtitle is-lowercase\"}\n",
    "\n",
    "- [VCA Techniques Investigated](https://sound-au.com/articles/vca-techniques.html) Rod Elliott (ESP).\n",
    "- [Popular Electronics](https://tinaja.com/glib/pop_elec/mus_keying_vca_1+2_75.pdf) Keyiing and VCA citcuits for electronic music instruments.\n",
    "- [VCA-1](https://www.birthofasynth.com/Thomas_Henry/Pages/VCA-1.html) Thomas Henry CA3080 VCA.\n",
    "- [VCA-3](https://www.schmitzbits.de/vca3.png) René Schmitz differential pair VCA.\n",
    "- [#223](https://www.youtube.com/watch?v=7nmmb0pqTU0&t=2s): Basics of the Gilbert Cell | Analog Multiplier | Mixer | Modulator\n",
    "- [#224](https://www.youtube.com/watch?v=38OQub2Vi2Q): AM & DSB-SC Modulation with the Gilbert Cell\n",
    "- [Analog Devices](https://www.analog.com/media/en/training-seminars/design-handbooks/ADI_Multiplier_Applications_Guide.pdf): Analog multiplier application guide \n",
    "- [AD633](https://www.analog.com/media/en/technical-documentation/data-sheets/AD633.pdf): Datasheet \n",
    "{: class=\"mb-6\"}\n"
   ]
  }
 ],
 "metadata": {
  "kernelspec": {
   "name": "python39164bitelektrophoncondab6df047f9ad043cd9a8dc15ff108b2c9",
   "display_name": "Python 3.9.1 64-bit ('elektrophon': conda)"
  },
  "language_info": {
   "codemirror_mode": {
    "name": "ipython",
    "version": 3
   },
   "file_extension": ".py",
   "mimetype": "text/x-python",
   "name": "python",
   "nbconvert_exporter": "python",
   "pygments_lexer": "ipython3",
   "version": "3.9.4-final"
  }
 },
 "nbformat": 4,
 "nbformat_minor": 4
}
{
 "cells": [
  {
   "cell_type": "code",
   "execution_count": null,
   "metadata": {
    "tags": []
   },
   "outputs": [],
   "source": [
    "#general definitions and imports\n",
    "%matplotlib inline\n",
    "%config InlineBackend.figure_format = 'svg'\n",
    "%load_ext itikz\n",
    "\n",
    "import logging\n",
    "logging.Logger.disabled=True\n",
    "\n",
    "import os\n",
    "import PySpice.Logging.Logging as Logging\n",
    "logger = Logging.setup_logging( logging_level='CRITICAL')\n",
    "\n",
    "import numpy as np\n",
    "import matplotlib.pyplot as plt\n",
    "\n",
    "import ipytest\n",
    "ipytest.autoconfig()\n",
    "\n",
    "from pathlib import Path\n",
    "\n",
    "from PySpice.Unit import *\n",
    "from PySpice.Spice.Parser import SpiceParser\n",
    "from PySpice.Spice.Netlist import SubCircuitFactory\n",
    "from PySpice.Spice.Library import SpiceLibrary\n",
    "from PySpice.Spice.Netlist import Circuit\n",
    "from PySpice.Probe.Plot import plot\n",
    "from PySpice.Math import *\n",
    "\n",
    "import schemdraw\n",
    "import schemdraw.elements as elm\n",
    "from schemdraw import dsp\n",
    "from schemdraw import logic\n",
    "\n",
    "## setup spice library path\n",
    "directory_path = Path(os.path.abspath('')).resolve().parent.parent\n",
    "spice_libraries_path = directory_path.joinpath(\"lib\", \"spice\")\n",
    "spice_library = SpiceLibrary(spice_libraries_path)\n",
    "## set the project directory as directory_path\n",
    "directory_path = Path(os.path.abspath('')).resolve()"
   ]
  },
  {
   "cell_type": "code",
   "execution_count": null,
   "metadata": {},
   "outputs": [],
   "source": [
    "%%run_pytest[clean] -qq --json=build/pegel-test.json\n",
    "\n",
    "# define the tests\n",
    "\n",
    "def test_my_func():\n",
    "    assert 0 == 0\n",
    "    assert 1 == 0\n",
    "    assert 2 == 2\n",
    "    assert 3 == 2\n"
   ]
  },
  {
   "cell_type": "markdown",
   "metadata": {},
   "source": [
    "Pegel is a voltage controlled amplifier (VCA). There are various designs to implement a VCA. rod elliott (ESP) has an article on VCA techniques [[1][1]]. diy synthesizer modules are usualy designed with an integrated VCA chip [[2][2]] or with a differential amplifier [[3][3]]. The integrated VCA chips are either obsolete or rather expensive. The differential amplifier can be built with transistors only. the design has some downsides. Even in the simulation the result is not symetryc and has a dc offset from the control voltage. This needs a lot of trimming to get an accurate result. but the biggest downside is, that this design can not do proper amplitude modulation (am). when the carrier signal goes below zero the base signal is completely muted.\n",
    "{: class=\"mt-6\"}  "
   ]
  },
  {
   "cell_type": "markdown",
   "metadata": {},
   "source": [
    "# construction\n",
    "{: class=\"subtitle is-lowercase\"}\n",
    "\n",
    "for the final circuit input and output buffering and biasing is needed. the buffering is done with opamps. \n"
   ]
  },
  {
   "cell_type": "code",
   "execution_count": null,
   "metadata": {},
   "outputs": [],
   "source": [
    "d = schemdraw.Drawing(inches_per_unit=0.6)\n",
    "\n",
    "d.add(elm.Line( \"right\", l=d.unit/4, xy=[0, 0*d.unit], lftlabel='$IN_4$'))\n",
    "D1 = d.add(dsp.Square(label='$\\int$'))\n",
    "d.add(elm.Line( \"right\", l=d.unit/8))\n",
    "d.add(elm.Line( \"up\", l=0.75*d.unit))\n",
    "\n",
    "d.add(elm.Line( \"right\", l=d.unit/4, xy=[0, 0.5*d.unit], lftlabel='$IN_3$'))\n",
    "D2 = d.add(dsp.Square(label='$\\int$'))\n",
    "d.add(elm.Line( \"right\", l=d.unit/8))\n",
    "\n",
    "d.add(elm.Line( \"right\", l=d.unit/4, xy=[0, 1*d.unit], lftlabel='$IN_2$'))\n",
    "D3 = d.add(dsp.Square(label='$\\int$'))\n",
    "d.add(elm.Line( \"right\", l=d.unit/8))\n",
    "\n",
    "d.add(elm.Line( \"right\", l=d.unit/4, xy=[0, 1.5*d.unit], lftlabel='$IN_1$'))\n",
    "Q1 = d.add(dsp.Circle())\n",
    "d.add(elm.Line( \"right\", l=d.unit/4))\n",
    "\n",
    "D4 = d.add(dsp.Square(label='$\\int$'))\n",
    "d.add(elm.Line( \"right\", l=d.unit/8))\n",
    "d.add(elm.Line( \"down\", l=0.75*d.unit))\n",
    "d.add(elm.Line( \"right\", l=d.unit*0.30))\n",
    "\n",
    "S = d.add(dsp.Mixer(xy=[d.unit, 0.75*d.unit]))\n",
    "d.add(elm.Line( \"right\", l=d.unit/4, rgtlabel='$OUT$'))\n",
    "\n",
    "\n",
    "d.draw()\n"
   ]
  },
  {
   "source": [
    "first we design the input stage. the input voltage for the X signal should be 10mV and 20mV for the control voltage.\n"
   ],
   "cell_type": "markdown",
   "metadata": {}
  },
  {
   "cell_type": "code",
   "execution_count": null,
   "metadata": {},
   "outputs": [],
   "source": []
  },
  {
   "cell_type": "code",
   "execution_count": null,
   "metadata": {},
   "outputs": [],
   "source": [
    "#load the kicad schema\n",
    "directory_path = Path(os.path.abspath('')).resolve()\n",
    "kicad_netlist_path = directory_path.joinpath('main', 'main.cir')\n",
    "parser = SpiceParser(path=str(kicad_netlist_path))\n"
   ]
  },
  {
   "cell_type": "code",
   "execution_count": null,
   "metadata": {
    "tags": []
   },
   "outputs": [],
   "source": [
    "#ringmodulation\n",
    "ringmod_schema = parser.build_circuit(ground=5)\n",
    "ringmod_schema.include(spice_library['TL072c'])\n",
    "ringmod_schema.include(spice_library['AD633'])\n",
    "\n",
    "ringmod_schema.V('1', '+15V', ringmod_schema.gnd, 'DC 15')\n",
    "ringmod_schema.V('2', '-15V', ringmod_schema.gnd, 'DC -15')\n",
    "ringmod_schema.V('3', 'IN_Xa', ringmod_schema.gnd, 'DC 5V AC 5V SIN(0V 5V 1k)')\n",
    "ringmod_schema.V('4', 'IN_Ya', ringmod_schema.gnd, 'DC 5V AC 5V SIN(0V 5V 100)')\n",
    "ringmod_schema.V('5', 'IN_Za', ringmod_schema.gnd, 'DC 0V AC 0V')\n",
    "\n",
    "#simulator = ringmod_schema.simulator(temperature=25, nominal_temperature=25)\n",
    "#analysis_ringmod = simulator.transient(step_time=10@u_us, end_time=20@u_ms)"
   ]
  },
  {
   "cell_type": "code",
   "execution_count": null,
   "metadata": {
    "tags": [
     "outputPrepend"
    ]
   },
   "outputs": [],
   "source": [
    "#amplitude modulation\n",
    "am_schema = parser.build_circuit(ground=5)\n",
    "am_schema.include(spice_library['TL072c'])\n",
    "am_schema.include(spice_library['AD633'])\n",
    "\n",
    "am_schema.V('1', '+15V', am_schema.gnd, 'DC 15')\n",
    "am_schema.V('2', '-15V', am_schema.gnd, 'DC -15')\n",
    "am_schema.V('3', 'IN_Xa', am_schema.gnd, 'DC 10V AC 5V SIN(0V 5V 1k)')\n",
    "am_schema.V('4', 'IN_Ya', am_schema.gnd, 'DC 5V AC 5V SIN(0V 5V 100)')\n",
    "am_schema.V('5', 'IN_Za', am_schema.gnd, 'DC 5V AC 5V SIN(0V 2.5V 1k)')\n",
    "\n",
    "#simulator = am_schema.simulator(temperature=25, nominal_temperature=25)\n",
    "#analysis_am = simulator.transient(step_time=10@u_us, end_time=20@u_ms)"
   ]
  },
  {
   "source": [
    "#vca\n",
    "vca_schema = parser.build_circuit(ground=5)\n",
    "vca_schema.include(spice_library['TL072c'])\n",
    "vca_schema.include(spice_library['AD633'])\n",
    "\n",
    "vca_schema.V('1', '+15V', vca_schema.gnd, 'DC 15')\n",
    "vca_schema.V('2', '-15V', vca_schema.gnd, 'DC -15')\n",
    "vca_schema.V('3', 'IN_Xa', vca_schema.gnd, 'DC 10V AC 5V SIN(0V 5V 1k)')\n",
    "vca_schema.V('4', 'IN_Ya', vca_schema.gnd, 'DC 5V AC 5V PULSE(0V 10V 1m 1m 15m 1m)')\n",
    "vca_schema.V('5', 'IN_Za', vca_schema.gnd, 'DC 0V AC 0V')\n",
    "\n",
    "#simulator = vca_schema.simulator(temperature=25, nominal_temperature=25)\n",
    "#analysis_vca = simulator.transient(step_time=10@u_us, end_time=20@u_ms)"
   ],
   "cell_type": "code",
   "metadata": {
    "tags": [
     "outputPrepend"
    ]
   },
   "execution_count": null,
   "outputs": []
  },
  {
   "source": [
    "# bom\n",
    "{: class=\"subtitle is-lowercase mt-6\"}\n",
    "\n",
    "main circuit\n",
    "{: class=\"is-size-6 has-text-weight-semibold mt-6\"}\n",
    "\n",
    "{% include bom.html content=\"summe-main-bom\" %}\n",
    "{% include callouts.html %}\n",
    "{% include reports.html%}"
   ],
   "cell_type": "markdown",
   "metadata": {}
  },
  {
   "source": [
    "# calibration\n",
    "{: class=\"subtitle is-lowercase\"}\n",
    "\n",
    "there is no calibration needed. but the potentiomenter knobs have to be aliged to center position."
   ],
   "cell_type": "markdown",
   "metadata": {}
  },
  {
   "source": [
    "# usage\n",
    "{: class=\"subtitle is-lowercase\"}\n",
    "\n",
    "the input jacks are wired to 5 volts when nothing is connected.\n",
    "\n",
    "all channels are mixed to the out jack. when something is connected to the channel out, this channel is removed from the overall mix.\n",
    "\n",
    "_mixer_\n",
    "* connect the different channels from audio or cv sources to the in jacks.\n",
    "* connect the out jack to something\n",
    "* turn the pots clockwise to adjust the volume.\n",
    "\n",
    "_attenuverter_\n",
    "* connect all or a single channel. \n",
    "* when you turn the pot knob counter clockwise the signal is inverted.\n"
   ],
   "cell_type": "markdown",
   "metadata": {}
  },
  {
   "cell_type": "markdown",
   "metadata": {},
   "source": [
    "# *references*\n",
    "{: class=\"subtitle is-lowercase\"}\n",
    "\n",
    "- [VCA Techniques Investigated](https://sound-au.com/articles/vca-techniques.html) Rod Elliott (ESP).\n",
    "- [Popular Electronics](https://tinaja.com/glib/pop_elec/mus_keying_vca_1+2_75.pdf) Keyiing and VCA citcuits for electronic music instruments.\n",
    "- [VCA-1](https://www.birthofasynth.com/Thomas_Henry/Pages/VCA-1.html) Thomas Henry CA3080 VCA.\n",
    "- [VCA-3](https://www.schmitzbits.de/vca3.png) René Schmitz differential pair VCA.\n",
    "- [#223](https://www.youtube.com/watch?v=7nmmb0pqTU0&t=2s): Basics of the Gilbert Cell | Analog Multiplier | Mixer | Modulator\n",
    "- [#224](https://www.youtube.com/watch?v=38OQub2Vi2Q): AM & DSB-SC Modulation with the Gilbert Cell\n",
    "- [Analog Devices](https://www.analog.com/media/en/training-seminars/design-handbooks/ADI_Multiplier_Applications_Guide.pdf): Analog multiplier application guide \n",
    "- [AD633](https://www.analog.com/media/en/technical-documentation/data-sheets/AD633.pdf): Datasheet \n",
    "{: class=\"mb-6\"}\n"
   ]
  }
 ],
 "metadata": {
  "kernelspec": {
   "name": "Python 3.8.6 64-bit ('elektrophon': conda)",
   "display_name": "Python 3.8.6 64-bit ('elektrophon': conda)",
   "metadata": {
    "interpreter": {
     "hash": "577b50fbf5fb121fdd7fb9f146b8afc577e6c4552aa3df5597befa8a54be6f95"
    }
   }
  },
  "language_info": {
   "codemirror_mode": {
    "name": "ipython",
    "version": 3
   },
   "file_extension": ".py",
   "mimetype": "text/x-python",
   "name": "python",
   "nbconvert_exporter": "python",
   "pygments_lexer": "ipython3",
   "version": "3.8.6-final"
  }
 },
 "nbformat": 4,
 "nbformat_minor": 4
}
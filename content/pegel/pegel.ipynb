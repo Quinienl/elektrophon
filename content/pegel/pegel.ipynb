{
 "cells": [
  {
   "cell_type": "code",
   "execution_count": 1,
   "metadata": {
    "tags": []
   },
   "outputs": [],
   "source": [
    "#general definitions and imports\n",
    "%matplotlib inline\n",
    "%config InlineBackend.figure_format = 'svg'\n",
    "\n",
    "import logging\n",
    "logging.Logger.disabled=True\n",
    "\n",
    "import os\n",
    "import PySpice.Logging.Logging as Logging\n",
    "logger = Logging.setup_logging( logging_level='CRITICAL')\n",
    "\n",
    "import numpy as np\n",
    "import matplotlib.pyplot as plt\n",
    "\n",
    "import ipytest\n",
    "ipytest.autoconfig()\n",
    "from pytest import approx\n",
    "\n",
    "from pathlib import Path\n",
    "\n",
    "from PySpice.Unit import *\n",
    "from PySpice.Spice.Parser import SpiceParser\n",
    "from PySpice.Spice.Netlist import SubCircuitFactory\n",
    "from PySpice.Spice.Library import SpiceLibrary\n",
    "from PySpice.Spice.Netlist import Circuit\n",
    "from PySpice.Probe.Plot import plot\n",
    "from PySpice.Math import *\n",
    "\n",
    "import schemdraw\n",
    "import schemdraw.elements as elm\n",
    "from schemdraw import dsp\n",
    "from schemdraw import logic\n",
    "\n",
    "## setup spice library path\n",
    "directory_path = Path(os.path.abspath('')).resolve().parent.parent\n",
    "spice_libraries_path = directory_path.joinpath(\"lib\", \"spice\")\n",
    "spice_library = SpiceLibrary(spice_libraries_path)\n",
    "## set the project directory as directory_path\n",
    "directory_path = Path(os.path.abspath('')).resolve()"
   ]
  },
  {
   "cell_type": "code",
   "execution_count": 2,
   "metadata": {},
   "outputs": [],
   "source": [
    "# definitions\n",
    "        \n",
    "class VoltageDivider(SubCircuitFactory):\n",
    "    __name__ = 'voltage_divider'\n",
    "    __nodes__ = ('n1', 'n2', 'n3' )\n",
    "    def __init__(self, R=100@u_kΩ, w=0.4, name='voltage_divider'):\n",
    "        self.__name__ = name\n",
    "        super().__init__()\n",
    "        self.R(1, 'n1', 'n2', R * w)\n",
    "        self.R(2, 'n2', 'n3', R * (1.0-w) )"
   ]
  },
  {
   "cell_type": "code",
   "execution_count": 3,
   "metadata": {
    "tags": []
   },
   "outputs": [
    {
     "output_type": "stream",
     "name": "stdout",
     "text": [
      "....F.                                                                   [100%]\n",
      "=================================== FAILURES ===================================\n",
      "_____________________________ test_trimpot_voltage _____________________________\n",
      "\n",
      "    def test_trimpot_voltage():\n",
      "        simulator = load().simulator(temperature=25, nominal_temperature=25)\n",
      "        analysis_op = simulator.operating_point()\n",
      "        result = float(analysis_op[\"Net-_R8-Pad2_\"])\n",
      ">       assert result == approx( 0, rel=1e-1 )\n",
      "E       assert -2.1085450543264016e-06 == 0 ± 1.0e-12\n",
      "E        +  where 0 ± 1.0e-12 = approx(0, rel=0.1)\n",
      "\n",
      "<ipython-input-3-431ee42b9029>:35: AssertionError\n",
      "- generated json report: /home/etienne/Documents/elektrophon/content/pegel/build/pegel-test.json -\n",
      "=========================== short test summary info ============================\n",
      "FAILED tmphkx3yhsd.py::test_trimpot_voltage - assert -2.1085450543264016e-06 ...\n"
     ]
    }
   ],
   "source": [
    "%%run_pytest[clean] -qq --json=build/pegel-test.json\n",
    "\n",
    "# test the input buffers\n",
    "def test_buffer_1a_voltage():\n",
    "    simulator = load().simulator(temperature=25, nominal_temperature=25)\n",
    "    analysis_op = simulator.operating_point()\n",
    "    result = float(analysis_op[\"Net-_U1-Pad1_\"]) \n",
    "    assert result == approx( 5, rel=1e-3 )\n",
    "\n",
    "def test_buffer_1b_voltage():\n",
    "    simulator = load().simulator(temperature=25, nominal_temperature=25)\n",
    "    analysis_op = simulator.operating_point()\n",
    "    result = float(analysis_op[\"Net-_U1-Pad6_\"]) \n",
    "    assert result == approx( 5, rel=1e-3 )\n",
    "\n",
    "def test_buffer_2a_voltage():\n",
    "    simulator = load().simulator(temperature=25, nominal_temperature=25)\n",
    "    analysis_op = simulator.operating_point()\n",
    "    result = float(analysis_op[\"Net-_U2-Pad1_\"]) \n",
    "    assert result == approx( 5, rel=1e-3 )\n",
    "\n",
    "def test_buffer_2b_voltage():\n",
    "    simulator = load().simulator(temperature=25, nominal_temperature=25)\n",
    "    analysis_op = simulator.operating_point()\n",
    "    result = float(analysis_op[\"Net-_U2-Pad6_\"]) \n",
    "    assert result == approx( 5, rel=1e-3 )\n",
    "\n",
    "# test the output amplifier\n",
    "def test_output_amplifier_1_voltage():\n",
    "    simulator = load().simulator(temperature=25, nominal_temperature=25)\n",
    "    analysis_op = simulator.operating_point()\n",
    "    result = float(analysis_op[\"OUTa\"]) \n",
    "    assert result == approx( 5, rel=1e-3 )\n",
    "\n",
    "def test_output_amplifier_2_voltage():\n",
    "    simulator = load().simulator(temperature=25, nominal_temperature=25)\n",
    "    analysis_op = simulator.operating_point()\n",
    "    result = float(analysis_op[\"OUTb\"]) \n",
    "    assert result == approx( 5, rel=1e-3 )\n",
    "\n",
    "#test the trimpot voltage\n",
    "def test_trimpot_1_voltage():\n",
    "    simulator = load().simulator(temperature=25, nominal_temperature=25)\n",
    "    analysis_op = simulator.operating_point()\n",
    "    result = float(analysis_op[\"Net-_R7-Pad1_\"]) \n",
    "    assert result == approx( 0, rel=1e-1 )\n",
    "\n",
    "def test_trimpot_2_voltage():\n",
    "    simulator = load().simulator(temperature=25, nominal_temperature=25)\n",
    "    analysis_op = simulator.operating_point()\n",
    "    result = float(analysis_op[\"Net-_R10-Pad2_\"]) \n",
    "    assert result == approx( 0, rel=1e-1 )\n",
    "\n",
    "\n",
    "def load(div1=0.5, div2=0.5):\n",
    "    kicad_netlist_path = directory_path.joinpath('main', 'main.cir')\n",
    "    parser = SpiceParser(path=str(kicad_netlist_path))\n",
    "\n",
    "    circuit = parser.build_circuit(ground=5)\n",
    "    circuit.include(spice_library['OPA2134'])\n",
    "    circuit.include(spice_library['OPA2134d'])\n",
    "    circuit.include(spice_library['AD633'])\n",
    "\n",
    "    circuit.V('1', '+15V', circuit.gnd, 'DC 15')\n",
    "    circuit.V('2', '-15V', circuit.gnd, 'DC -15')\n",
    "    circuit.V('3', '+5V', circuit.gnd, 'DC 5')\n",
    "    circuit.V('4', 'Xa', circuit.gnd, 'DC 5')\n",
    "    circuit.V('5', 'Ya', circuit.gnd, 'DC 5')\n",
    "    circuit.V('6', 'Xb', circuit.gnd, 'DC 5')\n",
    "    circuit.V('7', 'Yb', circuit.gnd, 'DC 5')\n",
    "\n",
    "    for c in ( VoltageDivider(R=100@u_kΩ, w=div1, name='voltage_divider_1'), \n",
    "            VoltageDivider(R=100@u_kΩ, w=div2, name='voltage_divider_2') ):\n",
    "        circuit.subcircuit(c)\n",
    "\n",
    "    return circuit \n"
   ]
  },
  {
   "cell_type": "markdown",
   "metadata": {},
   "source": [
    "Pegel is a voltage controlled amplifier (VCA). There are various designs to implement a VCA. rod elliott (ESP) has an article on VCA techniques [[1][1]]. diy synthesizer modules are usualy designed with an integrated VCA chip [[2][2]] or with a differential amplifier [[3][3]]. The integrated VCA chips are either obsolete or rather expensive. The differential amplifier can be built with transistors only. the design has some downsides. Even in the simulation the result is not symetryc and has a dc offset from the control voltage. This needs a lot of trimming to get an accurate result. but the biggest downside is, that this design can not do proper amplitude modulation (am). when the carrier signal goes below zero the base signal is completely muted.\n",
    "{: class=\"mt-6\"}  "
   ]
  },
  {
   "cell_type": "markdown",
   "metadata": {},
   "source": [
    "# construction\n",
    "{: class=\"subtitle is-lowercase\"}\n",
    "\n",
    "for the final circuit input and output buffering and biasing is needed. the buffering is done with opamps. \n"
   ]
  },
  {
   "cell_type": "code",
   "execution_count": 5,
   "metadata": {},
   "outputs": [
    {
     "output_type": "execute_result",
     "data": {
      "text/plain": [
       "<schemdraw.backends.mpl.Figure object at 0x7f64ad530370>"
      ],
      "image/svg+xml": "<?xml version=\"1.0\" encoding=\"utf-8\" standalone=\"no\"?>\n<!DOCTYPE svg PUBLIC \"-//W3C//DTD SVG 1.1//EN\"\n  \"http://www.w3.org/Graphics/SVG/1.1/DTD/svg11.dtd\">\n<svg height=\"223.704pt\" version=\"1.1\" viewBox=\"0 0 264.56112 223.704\" width=\"264.56112pt\" xmlns=\"http://www.w3.org/2000/svg\" xmlns:xlink=\"http://www.w3.org/1999/xlink\">\n <metadata>\n  <rdf:RDF xmlns:cc=\"http://creativecommons.org/ns#\" xmlns:dc=\"http://purl.org/dc/elements/1.1/\" xmlns:rdf=\"http://www.w3.org/1999/02/22-rdf-syntax-ns#\">\n   <cc:Work>\n    <dc:type rdf:resource=\"http://purl.org/dc/dcmitype/StillImage\"/>\n    <dc:date>2021-05-30T14:10:26.297199</dc:date>\n    <dc:format>image/svg+xml</dc:format>\n    <dc:creator>\n     <cc:Agent>\n      <dc:title>Matplotlib v3.4.2, https://matplotlib.org/</dc:title>\n     </cc:Agent>\n    </dc:creator>\n   </cc:Work>\n  </rdf:RDF>\n </metadata>\n <defs>\n  <style type=\"text/css\">*{stroke-linecap:butt;stroke-linejoin:round;}</style>\n </defs>\n <g id=\"figure_1\">\n  <g id=\"patch_1\">\n   <path d=\"M 0 223.704 \nL 264.56112 223.704 \nL 264.56112 0 \nL 0 0 \nz\n\" style=\"fill:none;\"/>\n  </g>\n  <g id=\"axes_1\">\n   <g id=\"patch_2\">\n    <path clip-path=\"url(#pe1b216d88c)\" d=\"M 84.42216 47.592 \nC 89.291289 47.592 93.961646 45.657475 97.404641 42.214481 \nC 100.847635 38.771486 102.78216 34.101129 102.78216 29.232 \nC 102.78216 24.362871 100.847635 19.692514 97.404641 16.249519 \nC 93.961646 12.806525 89.291289 10.872 84.42216 10.872 \nC 79.553031 10.872 74.882674 12.806525 71.439679 16.249519 \nC 67.996685 19.692514 66.06216 24.362871 66.06216 29.232 \nC 66.06216 34.101129 67.996685 38.771486 71.439679 42.214481 \nC 74.882674 45.657475 79.553031 47.592 84.42216 47.592 \nz\n\" style=\"fill:none;stroke:#000000;stroke-linejoin:miter;stroke-width:2;\"/>\n   </g>\n   <g id=\"patch_3\">\n    <path clip-path=\"url(#pe1b216d88c)\" d=\"M 167.04216 130.212 \nC 171.911289 130.212 176.581646 128.277475 180.024641 124.834481 \nC 183.467635 121.391486 185.40216 116.721129 185.40216 111.852 \nC 185.40216 106.982871 183.467635 102.312514 180.024641 98.869519 \nC 176.581646 95.426525 171.911289 93.492 167.04216 93.492 \nC 162.173031 93.492 157.502674 95.426525 154.059679 98.869519 \nC 150.616685 102.312514 148.68216 106.982871 148.68216 111.852 \nC 148.68216 116.721129 150.616685 121.391486 154.059679 124.834481 \nC 157.502674 128.277475 162.173031 130.212 167.04216 130.212 \nz\n\" style=\"fill:none;stroke:#000000;stroke-linejoin:miter;stroke-width:2;\"/>\n   </g>\n   <g id=\"line2d_1\">\n    <path clip-path=\"url(#pe1b216d88c)\" d=\"M 38.52216 194.472 \nL 52.29216 194.472 \nL 66.06216 194.472 \n\" style=\"fill:none;stroke:#000000;stroke-linecap:round;stroke-width:2;\"/>\n   </g>\n   <g id=\"line2d_2\">\n    <path clip-path=\"url(#pe1b216d88c)\" d=\"M 66.06216 194.472 \nL 66.06216 176.112 \nL 102.78216 176.112 \nL 102.78216 212.832 \nL 66.06216 212.832 \nL 66.06216 194.472 \n\" style=\"fill:none;stroke:#000000;stroke-linecap:round;stroke-width:2;\"/>\n   </g>\n   <g id=\"line2d_3\">\n    <path clip-path=\"url(#pe1b216d88c)\" d=\"M 102.78216 194.472 \nL 109.66716 194.472 \nL 116.55216 194.472 \n\" style=\"fill:none;stroke:#000000;stroke-linecap:round;stroke-width:2;\"/>\n   </g>\n   <g id=\"line2d_4\">\n    <path clip-path=\"url(#pe1b216d88c)\" d=\"M 116.55216 194.472 \nL 116.55216 153.162 \nL 116.55216 111.852 \n\" style=\"fill:none;stroke:#000000;stroke-linecap:round;stroke-width:2;\"/>\n   </g>\n   <g id=\"line2d_5\">\n    <path clip-path=\"url(#pe1b216d88c)\" d=\"M 38.52216 139.392 \nL 52.29216 139.392 \nL 66.06216 139.392 \n\" style=\"fill:none;stroke:#000000;stroke-linecap:round;stroke-width:2;\"/>\n   </g>\n   <g id=\"line2d_6\">\n    <path clip-path=\"url(#pe1b216d88c)\" d=\"M 66.06216 139.392 \nL 66.06216 121.032 \nL 102.78216 121.032 \nL 102.78216 157.752 \nL 66.06216 157.752 \nL 66.06216 139.392 \n\" style=\"fill:none;stroke:#000000;stroke-linecap:round;stroke-width:2;\"/>\n   </g>\n   <g id=\"line2d_7\">\n    <path clip-path=\"url(#pe1b216d88c)\" d=\"M 102.78216 139.392 \nL 109.66716 139.392 \nL 116.55216 139.392 \n\" style=\"fill:none;stroke:#000000;stroke-linecap:round;stroke-width:2;\"/>\n   </g>\n   <g id=\"line2d_8\">\n    <path clip-path=\"url(#pe1b216d88c)\" d=\"M 38.52216 84.312 \nL 52.29216 84.312 \nL 66.06216 84.312 \n\" style=\"fill:none;stroke:#000000;stroke-linecap:round;stroke-width:2;\"/>\n   </g>\n   <g id=\"line2d_9\">\n    <path clip-path=\"url(#pe1b216d88c)\" d=\"M 66.06216 84.312 \nL 66.06216 65.952 \nL 102.78216 65.952 \nL 102.78216 102.672 \nL 66.06216 102.672 \nL 66.06216 84.312 \n\" style=\"fill:none;stroke:#000000;stroke-linecap:round;stroke-width:2;\"/>\n   </g>\n   <g id=\"line2d_10\">\n    <path clip-path=\"url(#pe1b216d88c)\" d=\"M 102.78216 84.312 \nL 109.66716 84.312 \nL 116.55216 84.312 \n\" style=\"fill:none;stroke:#000000;stroke-linecap:round;stroke-width:2;\"/>\n   </g>\n   <g id=\"line2d_11\">\n    <path clip-path=\"url(#pe1b216d88c)\" d=\"M 38.52216 29.232 \nL 52.29216 29.232 \nL 66.06216 29.232 \n\" style=\"fill:none;stroke:#000000;stroke-linecap:round;stroke-width:2;\"/>\n   </g>\n   <g id=\"line2d_12\">\n    <path clip-path=\"url(#pe1b216d88c)\" d=\"M 102.78216 29.232 \nL 116.55216 29.232 \nL 130.32216 29.232 \n\" style=\"fill:none;stroke:#000000;stroke-linecap:round;stroke-width:2;\"/>\n   </g>\n   <g id=\"line2d_13\">\n    <path clip-path=\"url(#pe1b216d88c)\" d=\"M 130.32216 29.232 \nL 130.32216 10.872 \nL 167.04216 10.872 \nL 167.04216 47.592 \nL 130.32216 47.592 \nL 130.32216 29.232 \n\" style=\"fill:none;stroke:#000000;stroke-linecap:round;stroke-width:2;\"/>\n   </g>\n   <g id=\"line2d_14\">\n    <path clip-path=\"url(#pe1b216d88c)\" d=\"M 167.04216 29.232 \nL 173.92716 29.232 \nL 180.81216 29.232 \n\" style=\"fill:none;stroke:#000000;stroke-linecap:round;stroke-width:2;\"/>\n   </g>\n   <g id=\"line2d_15\">\n    <path clip-path=\"url(#pe1b216d88c)\" d=\"M 180.81216 29.232 \nL 180.81216 70.542 \nL 180.81216 111.852 \n\" style=\"fill:none;stroke:#000000;stroke-linecap:round;stroke-width:2;\"/>\n   </g>\n   <g id=\"line2d_16\">\n    <path clip-path=\"url(#pe1b216d88c)\" d=\"M 180.81216 111.852 \nL 197.33616 111.852 \nL 213.86016 111.852 \n\" style=\"fill:none;stroke:#000000;stroke-linecap:round;stroke-width:2;\"/>\n   </g>\n   <g id=\"line2d_17\">\n    <path clip-path=\"url(#pe1b216d88c)\" d=\"M 180.024641 98.869519 \nL 154.059679 124.834481 \n\" style=\"fill:none;stroke:#000000;stroke-linecap:round;\"/>\n   </g>\n   <g id=\"line2d_18\">\n    <path clip-path=\"url(#pe1b216d88c)\" d=\"M 180.024641 124.834481 \nL 154.059679 98.869519 \n\" style=\"fill:none;stroke:#000000;stroke-linecap:round;\"/>\n   </g>\n   <g id=\"line2d_19\">\n    <path clip-path=\"url(#pe1b216d88c)\" d=\"M 185.40216 111.852 \nL 199.17216 111.852 \nL 212.94216 111.852 \n\" style=\"fill:none;stroke:#000000;stroke-linecap:round;stroke-width:2;\"/>\n   </g>\n   <g id=\"text_1\">\n    <!-- $IN_4$ -->\n    <g transform=\"translate(13.57016 198.335125)scale(0.14 -0.14)\">\n     <defs>\n      <path d=\"M 1081 4666 \nL 1716 4666 \nL 806 0 \nL 172 0 \nL 1081 4666 \nz\n\" id=\"DejaVuSans-Oblique-49\" transform=\"scale(0.015625)\"/>\n      <path d=\"M 1081 4666 \nL 1931 4666 \nL 3219 666 \nL 4000 4666 \nL 4616 4666 \nL 3706 0 \nL 2853 0 \nL 1569 4025 \nL 788 0 \nL 172 0 \nL 1081 4666 \nz\n\" id=\"DejaVuSans-Oblique-4e\" transform=\"scale(0.015625)\"/>\n      <path d=\"M 2419 4116 \nL 825 1625 \nL 2419 1625 \nL 2419 4116 \nz\nM 2253 4666 \nL 3047 4666 \nL 3047 1625 \nL 3713 1625 \nL 3713 1100 \nL 3047 1100 \nL 3047 0 \nL 2419 0 \nL 2419 1100 \nL 313 1100 \nL 313 1709 \nL 2253 4666 \nz\n\" id=\"DejaVuSans-34\" transform=\"scale(0.015625)\"/>\n     </defs>\n     <use transform=\"translate(0 0.09375)\" xlink:href=\"#DejaVuSans-Oblique-49\"/>\n     <use transform=\"translate(29.492188 0.09375)\" xlink:href=\"#DejaVuSans-Oblique-4e\"/>\n     <use transform=\"translate(104.296875 -16.3125)scale(0.7)\" xlink:href=\"#DejaVuSans-34\"/>\n    </g>\n   </g>\n   <g id=\"text_2\">\n    <!-- $\\int$ -->\n    <g transform=\"translate(79.24216 199.862)scale(0.14 -0.14)\">\n     <defs>\n      <path d=\"M 2134 5525 \nQ 2172 6263 2528 6556 \nQ 2884 6850 3218 6850 \nQ 3553 6850 3833 6575 \nQ 4113 6300 4200 5678 \nL 3544 5613 \nQ 3469 6188 3219 6188 \nQ 2906 6188 2869 5413 \nL 2581 -597 \nQ 2547 -1334 2187 -1628 \nQ 1828 -1922 1497 -1922 \nQ 1163 -1922 883 -1647 \nQ 603 -1372 516 -750 \nL 1172 -684 \nQ 1247 -1259 1497 -1259 \nQ 1809 -1259 1847 -488 \nL 2134 5525 \nz\n\" id=\"DejaVuSansDisplay-222b\" transform=\"scale(0.015625)\"/>\n     </defs>\n     <use transform=\"translate(0 0.96875)\" xlink:href=\"#DejaVuSansDisplay-222b\"/>\n    </g>\n   </g>\n   <g id=\"text_3\">\n    <!-- $IN_3$ -->\n    <g transform=\"translate(13.57016 143.255125)scale(0.14 -0.14)\">\n     <defs>\n      <path d=\"M 2597 2516 \nQ 3050 2419 3304 2112 \nQ 3559 1806 3559 1356 \nQ 3559 666 3084 287 \nQ 2609 -91 1734 -91 \nQ 1441 -91 1130 -33 \nQ 819 25 488 141 \nL 488 750 \nQ 750 597 1062 519 \nQ 1375 441 1716 441 \nQ 2309 441 2620 675 \nQ 2931 909 2931 1356 \nQ 2931 1769 2642 2001 \nQ 2353 2234 1838 2234 \nL 1294 2234 \nL 1294 2753 \nL 1863 2753 \nQ 2328 2753 2575 2939 \nQ 2822 3125 2822 3475 \nQ 2822 3834 2567 4026 \nQ 2313 4219 1838 4219 \nQ 1578 4219 1281 4162 \nQ 984 4106 628 3988 \nL 628 4550 \nQ 988 4650 1302 4700 \nQ 1616 4750 1894 4750 \nQ 2613 4750 3031 4423 \nQ 3450 4097 3450 3541 \nQ 3450 3153 3228 2886 \nQ 3006 2619 2597 2516 \nz\n\" id=\"DejaVuSans-33\" transform=\"scale(0.015625)\"/>\n     </defs>\n     <use transform=\"translate(0 0.09375)\" xlink:href=\"#DejaVuSans-Oblique-49\"/>\n     <use transform=\"translate(29.492188 0.09375)\" xlink:href=\"#DejaVuSans-Oblique-4e\"/>\n     <use transform=\"translate(104.296875 -16.3125)scale(0.7)\" xlink:href=\"#DejaVuSans-33\"/>\n    </g>\n   </g>\n   <g id=\"text_4\">\n    <!-- $\\int$ -->\n    <g transform=\"translate(79.24216 144.782)scale(0.14 -0.14)\">\n     <use transform=\"translate(0 0.96875)\" xlink:href=\"#DejaVuSansDisplay-222b\"/>\n    </g>\n   </g>\n   <g id=\"text_5\">\n    <!-- $IN_2$ -->\n    <g transform=\"translate(13.57016 88.175125)scale(0.14 -0.14)\">\n     <defs>\n      <path d=\"M 1228 531 \nL 3431 531 \nL 3431 0 \nL 469 0 \nL 469 531 \nQ 828 903 1448 1529 \nQ 2069 2156 2228 2338 \nQ 2531 2678 2651 2914 \nQ 2772 3150 2772 3378 \nQ 2772 3750 2511 3984 \nQ 2250 4219 1831 4219 \nQ 1534 4219 1204 4116 \nQ 875 4013 500 3803 \nL 500 4441 \nQ 881 4594 1212 4672 \nQ 1544 4750 1819 4750 \nQ 2544 4750 2975 4387 \nQ 3406 4025 3406 3419 \nQ 3406 3131 3298 2873 \nQ 3191 2616 2906 2266 \nQ 2828 2175 2409 1742 \nQ 1991 1309 1228 531 \nz\n\" id=\"DejaVuSans-32\" transform=\"scale(0.015625)\"/>\n     </defs>\n     <use transform=\"translate(0 0.09375)\" xlink:href=\"#DejaVuSans-Oblique-49\"/>\n     <use transform=\"translate(29.492188 0.09375)\" xlink:href=\"#DejaVuSans-Oblique-4e\"/>\n     <use transform=\"translate(104.296875 -16.3125)scale(0.7)\" xlink:href=\"#DejaVuSans-32\"/>\n    </g>\n   </g>\n   <g id=\"text_6\">\n    <!-- $\\int$ -->\n    <g transform=\"translate(79.24216 89.702)scale(0.14 -0.14)\">\n     <use transform=\"translate(0 0.96875)\" xlink:href=\"#DejaVuSansDisplay-222b\"/>\n    </g>\n   </g>\n   <g id=\"text_7\">\n    <!-- $IN_1$ -->\n    <g transform=\"translate(13.57016 33.095125)scale(0.14 -0.14)\">\n     <defs>\n      <path d=\"M 794 531 \nL 1825 531 \nL 1825 4091 \nL 703 3866 \nL 703 4441 \nL 1819 4666 \nL 2450 4666 \nL 2450 531 \nL 3481 531 \nL 3481 0 \nL 794 0 \nL 794 531 \nz\n\" id=\"DejaVuSans-31\" transform=\"scale(0.015625)\"/>\n     </defs>\n     <use transform=\"translate(0 0.09375)\" xlink:href=\"#DejaVuSans-Oblique-49\"/>\n     <use transform=\"translate(29.492188 0.09375)\" xlink:href=\"#DejaVuSans-Oblique-4e\"/>\n     <use transform=\"translate(104.296875 -16.3125)scale(0.7)\" xlink:href=\"#DejaVuSans-31\"/>\n    </g>\n   </g>\n   <g id=\"text_8\">\n    <!-- $\\int$ -->\n    <g transform=\"translate(143.50216 34.622)scale(0.14 -0.14)\">\n     <use transform=\"translate(0 0.96875)\" xlink:href=\"#DejaVuSansDisplay-222b\"/>\n    </g>\n   </g>\n   <g id=\"text_9\">\n    <!-- $OUT$ -->\n    <g transform=\"translate(216.61416 115.715125)scale(0.14 -0.14)\">\n     <defs>\n      <path d=\"M 2919 4238 \nQ 2400 4238 2003 3986 \nQ 1606 3734 1313 3219 \nQ 1125 2891 1026 2522 \nQ 928 2153 928 1778 \nQ 928 1128 1239 775 \nQ 1550 422 2119 422 \nQ 2631 422 3032 676 \nQ 3434 931 3719 1434 \nQ 3909 1772 4009 2142 \nQ 4109 2513 4109 2881 \nQ 4109 3528 3796 3883 \nQ 3484 4238 2919 4238 \nz\nM 2100 -91 \nQ 1241 -91 748 418 \nQ 256 928 256 1813 \nQ 256 2319 448 2847 \nQ 641 3375 978 3788 \nQ 1375 4272 1862 4511 \nQ 2350 4750 2938 4750 \nQ 3794 4750 4287 4245 \nQ 4781 3741 4781 2869 \nQ 4781 2331 4593 1812 \nQ 4406 1294 4056 872 \nQ 3656 384 3173 146 \nQ 2691 -91 2100 -91 \nz\n\" id=\"DejaVuSans-Oblique-4f\" transform=\"scale(0.015625)\"/>\n      <path d=\"M 991 4666 \nL 1625 4666 \nL 1075 1831 \nQ 1041 1641 1027 1517 \nQ 1013 1394 1013 1300 \nQ 1013 869 1253 645 \nQ 1494 422 1959 422 \nQ 2563 422 2898 753 \nQ 3234 1084 3378 1831 \nL 3928 4666 \nL 4563 4666 \nL 4000 1753 \nQ 3816 809 3300 359 \nQ 2784 -91 1888 -91 \nQ 1188 -91 780 261 \nQ 372 613 372 1216 \nQ 372 1325 387 1461 \nQ 403 1597 434 1753 \nL 991 4666 \nz\n\" id=\"DejaVuSans-Oblique-55\" transform=\"scale(0.015625)\"/>\n      <path d=\"M 378 4666 \nL 4325 4666 \nL 4225 4134 \nL 2559 4134 \nL 1759 0 \nL 1125 0 \nL 1925 4134 \nL 275 4134 \nL 378 4666 \nz\n\" id=\"DejaVuSans-Oblique-54\" transform=\"scale(0.015625)\"/>\n     </defs>\n     <use transform=\"translate(0 0.78125)\" xlink:href=\"#DejaVuSans-Oblique-4f\"/>\n     <use transform=\"translate(78.710938 0.78125)\" xlink:href=\"#DejaVuSans-Oblique-55\"/>\n     <use transform=\"translate(151.904297 0.78125)\" xlink:href=\"#DejaVuSans-Oblique-54\"/>\n    </g>\n   </g>\n  </g>\n </g>\n <defs>\n  <clipPath id=\"pe1b216d88c\">\n   <rect height=\"209.304\" width=\"250.16112\" x=\"7.2\" y=\"7.2\"/>\n  </clipPath>\n </defs>\n</svg>\n",
      "image/png": "[encoded data removed]"
     },
     "metadata": {},
     "execution_count": 5
    }
   ],
   "source": [
    "d = schemdraw.Drawing(inches_per_unit=0.6)\n",
    "\n",
    "d.add(elm.Line( \"right\", l=d.unit/4, xy=[0, 0*d.unit], lftlabel='$IN_4$'))\n",
    "D1 = d.add(dsp.Square(label='$\\int$'))\n",
    "d.add(elm.Line( \"right\", l=d.unit/8))\n",
    "d.add(elm.Line( \"up\", l=0.75*d.unit))\n",
    "\n",
    "d.add(elm.Line( \"right\", l=d.unit/4, xy=[0, 0.5*d.unit], lftlabel='$IN_3$'))\n",
    "D2 = d.add(dsp.Square(label='$\\int$'))\n",
    "d.add(elm.Line( \"right\", l=d.unit/8))\n",
    "\n",
    "d.add(elm.Line( \"right\", l=d.unit/4, xy=[0, 1*d.unit], lftlabel='$IN_2$'))\n",
    "D3 = d.add(dsp.Square(label='$\\int$'))\n",
    "d.add(elm.Line( \"right\", l=d.unit/8))\n",
    "\n",
    "d.add(elm.Line( \"right\", l=d.unit/4, xy=[0, 1.5*d.unit], lftlabel='$IN_1$'))\n",
    "Q1 = d.add(dsp.Circle())\n",
    "d.add(elm.Line( \"right\", l=d.unit/4))\n",
    "\n",
    "D4 = d.add(dsp.Square(label='$\\int$'))\n",
    "d.add(elm.Line( \"right\", l=d.unit/8))\n",
    "d.add(elm.Line( \"down\", l=0.75*d.unit))\n",
    "d.add(elm.Line( \"right\", l=d.unit*0.30))\n",
    "\n",
    "S = d.add(dsp.Mixer(xy=[d.unit, 0.75*d.unit]))\n",
    "d.add(elm.Line( \"right\", l=d.unit/4, rgtlabel='$OUT$'))\n",
    "\n",
    "\n",
    "d.draw()\n"
   ]
  },
  {
   "source": [
    "first we design the input stage. the input voltage for the X signal should be 10mV and 20mV for the control voltage.\n"
   ],
   "cell_type": "markdown",
   "metadata": {}
  },
  {
   "cell_type": "code",
   "execution_count": null,
   "metadata": {},
   "outputs": [],
   "source": []
  },
  {
   "cell_type": "code",
   "execution_count": 6,
   "metadata": {},
   "outputs": [],
   "source": [
    "#load the kicad schema\n",
    "directory_path = Path(os.path.abspath('')).resolve()\n",
    "kicad_netlist_path = directory_path.joinpath('main', 'main.cir')\n",
    "parser = SpiceParser(path=str(kicad_netlist_path))\n"
   ]
  },
  {
   "cell_type": "code",
   "execution_count": 7,
   "metadata": {
    "tags": []
   },
   "outputs": [
    {
     "output_type": "execute_result",
     "data": {
      "text/plain": [
       "VoltageSource V5"
      ]
     },
     "metadata": {},
     "execution_count": 7
    }
   ],
   "source": [
    "#ringmodulation\n",
    "ringmod_schema = parser.build_circuit(ground=5)\n",
    "ringmod_schema.include(spice_library['TL072c'])\n",
    "ringmod_schema.include(spice_library['AD633'])\n",
    "\n",
    "ringmod_schema.V('1', '+15V', ringmod_schema.gnd, 'DC 15')\n",
    "ringmod_schema.V('2', '-15V', ringmod_schema.gnd, 'DC -15')\n",
    "ringmod_schema.V('3', 'IN_Xa', ringmod_schema.gnd, 'DC 5V AC 5V SIN(0V 5V 1k)')\n",
    "ringmod_schema.V('4', 'IN_Ya', ringmod_schema.gnd, 'DC 5V AC 5V SIN(0V 5V 100)')\n",
    "ringmod_schema.V('5', 'IN_Za', ringmod_schema.gnd, 'DC 0V AC 0V')\n",
    "\n",
    "#simulator = ringmod_schema.simulator(temperature=25, nominal_temperature=25)\n",
    "#analysis_ringmod = simulator.transient(step_time=10@u_us, end_time=20@u_ms)"
   ]
  },
  {
   "cell_type": "code",
   "execution_count": 8,
   "metadata": {
    "tags": []
   },
   "outputs": [
    {
     "output_type": "execute_result",
     "data": {
      "text/plain": [
       "VoltageSource V5"
      ]
     },
     "metadata": {},
     "execution_count": 8
    }
   ],
   "source": [
    "#amplitude modulation\n",
    "am_schema = parser.build_circuit(ground=5)\n",
    "am_schema.include(spice_library['TL072c'])\n",
    "am_schema.include(spice_library['AD633'])\n",
    "\n",
    "am_schema.V('1', '+15V', am_schema.gnd, 'DC 15')\n",
    "am_schema.V('2', '-15V', am_schema.gnd, 'DC -15')\n",
    "am_schema.V('3', 'IN_Xa', am_schema.gnd, 'DC 10V AC 5V SIN(0V 5V 1k)')\n",
    "am_schema.V('4', 'IN_Ya', am_schema.gnd, 'DC 5V AC 5V SIN(0V 5V 100)')\n",
    "am_schema.V('5', 'IN_Za', am_schema.gnd, 'DC 5V AC 5V SIN(0V 2.5V 1k)')\n",
    "\n",
    "#simulator = am_schema.simulator(temperature=25, nominal_temperature=25)\n",
    "#analysis_am = simulator.transient(step_time=10@u_us, end_time=20@u_ms)"
   ]
  },
  {
   "source": [
    "#vca\n",
    "vca_schema = parser.build_circuit(ground=5)\n",
    "vca_schema.include(spice_library['TL072c'])\n",
    "vca_schema.include(spice_library['AD633'])\n",
    "\n",
    "vca_schema.V('1', '+15V', vca_schema.gnd, 'DC 15')\n",
    "vca_schema.V('2', '-15V', vca_schema.gnd, 'DC -15')\n",
    "vca_schema.V('3', 'IN_Xa', vca_schema.gnd, 'DC 10V AC 5V SIN(0V 5V 1k)')\n",
    "vca_schema.V('4', 'IN_Ya', vca_schema.gnd, 'DC 5V AC 5V PULSE(0V 10V 1m 1m 15m 1m)')\n",
    "vca_schema.V('5', 'IN_Za', vca_schema.gnd, 'DC 0V AC 0V')\n",
    "\n",
    "#simulator = vca_schema.simulator(temperature=25, nominal_temperature=25)\n",
    "#analysis_vca = simulator.transient(step_time=10@u_us, end_time=20@u_ms)"
   ],
   "cell_type": "code",
   "metadata": {
    "tags": []
   },
   "execution_count": 9,
   "outputs": [
    {
     "output_type": "execute_result",
     "data": {
      "text/plain": [
       "VoltageSource V5"
      ]
     },
     "metadata": {},
     "execution_count": 9
    }
   ]
  },
  {
   "source": [
    "# bom\n",
    "{: class=\"subtitle is-lowercase mt-6\"}\n",
    "\n",
    "main circuit\n",
    "{: class=\"is-size-6 has-text-weight-semibold mt-6\"}\n",
    "\n",
    "{% include bom.html content=\"summe-main-bom\" %}\n",
    "{% include callouts.html %}\n",
    "{% include reports.html%}"
   ],
   "cell_type": "markdown",
   "metadata": {}
  },
  {
   "source": [
    "# calibration\n",
    "{: class=\"subtitle is-lowercase\"}\n",
    "\n",
    "there is no calibration needed. but the potentiomenter knobs have to be aliged to center position."
   ],
   "cell_type": "markdown",
   "metadata": {}
  },
  {
   "source": [
    "# usage\n",
    "{: class=\"subtitle is-lowercase\"}\n",
    "\n",
    "the input jacks are wired to 5 volts when nothing is connected.\n",
    "\n",
    "all channels are mixed to the out jack. when something is connected to the channel out, this channel is removed from the overall mix.\n",
    "\n",
    "_mixer_\n",
    "* connect the different channels from audio or cv sources to the in jacks.\n",
    "* connect the out jack to something\n",
    "* turn the pots clockwise to adjust the volume.\n",
    "\n",
    "_attenuverter_\n",
    "* connect all or a single channel. \n",
    "* when you turn the pot knob counter clockwise the signal is inverted.\n"
   ],
   "cell_type": "markdown",
   "metadata": {}
  },
  {
   "cell_type": "markdown",
   "metadata": {},
   "source": [
    "# *references*\n",
    "{: class=\"subtitle is-lowercase\"}\n",
    "\n",
    "- [VCA Techniques Investigated](https://sound-au.com/articles/vca-techniques.html) Rod Elliott (ESP).\n",
    "- [Popular Electronics](https://tinaja.com/glib/pop_elec/mus_keying_vca_1+2_75.pdf) Keyiing and VCA citcuits for electronic music instruments.\n",
    "- [VCA-1](https://www.birthofasynth.com/Thomas_Henry/Pages/VCA-1.html) Thomas Henry CA3080 VCA.\n",
    "- [VCA-3](https://www.schmitzbits.de/vca3.png) René Schmitz differential pair VCA.\n",
    "- [#223](https://www.youtube.com/watch?v=7nmmb0pqTU0&t=2s): Basics of the Gilbert Cell | Analog Multiplier | Mixer | Modulator\n",
    "- [#224](https://www.youtube.com/watch?v=38OQub2Vi2Q): AM & DSB-SC Modulation with the Gilbert Cell\n",
    "- [Analog Devices](https://www.analog.com/media/en/training-seminars/design-handbooks/ADI_Multiplier_Applications_Guide.pdf): Analog multiplier application guide \n",
    "- [AD633](https://www.analog.com/media/en/technical-documentation/data-sheets/AD633.pdf): Datasheet \n",
    "{: class=\"mb-6\"}\n"
   ]
  }
 ],
 "metadata": {
  "kernelspec": {
   "name": "python39164bitelektrophoncondab6df047f9ad043cd9a8dc15ff108b2c9",
   "display_name": "Python 3.9.1 64-bit ('elektrophon': conda)"
  },
  "language_info": {
   "codemirror_mode": {
    "name": "ipython",
    "version": 3
   },
   "file_extension": ".py",
   "mimetype": "text/x-python",
   "name": "python",
   "nbconvert_exporter": "python",
   "pygments_lexer": "ipython3",
   "version": "3.9.4-final"
  }
 },
 "nbformat": 4,
 "nbformat_minor": 4
}
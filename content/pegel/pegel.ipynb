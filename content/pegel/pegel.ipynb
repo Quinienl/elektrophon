{
 "cells": [
  {
   "cell_type": "code",
   "execution_count": null,
   "metadata": {
    "tags": []
   },
   "outputs": [],
   "source": [
    "# Just the normal prequisites for using matplotlib and numpy in a Jupyter notebook\n",
    "%matplotlib inline\n",
    "# Use the svg backend, in my opinion it just makes better looking plots\n",
    "%config InlineBackend.figure_format = 'svg'\n",
    "\n",
    "import PySpice.Logging.Logging as Logging\n",
    "logger = Logging.setup_logging( logging_level='CRITICAL')\n",
    "\n",
    "import os\n",
    "import sys\n",
    "from pathlib import Path\n",
    "import IPython\n",
    "from scipy import signal\n",
    "import scipy.fftpack\n",
    "from PySpice.Unit import *\n",
    "from PySpice.Spice.Parser import SpiceParser\n",
    "from PySpice.Spice.Netlist import Circuit, SubCircuit, SubCircuitFactory\n",
    "from PySpice.Spice.Library import SpiceLibrary\n",
    "from PySpice.Probe.Plot import plot\n",
    "from PySpice.Doc.ExampleTools import find_libraries\n",
    "from PySpice.Math import *\n",
    "import matplotlib.pyplot as plt\n",
    "import matplotlib.image as mpimg\n",
    "import numpy as np\n",
    "import matplotlib.pyplot as plt\n",
    "import unittest\n",
    "\n",
    "directory_path = Path(os.path.abspath('')).resolve().parent.parent\n",
    "spice_libraries_path = directory_path.joinpath(\"lib\", \"spice\")\n",
    "spice_library = SpiceLibrary(spice_libraries_path)\n",
    "\n",
    "directory_path = Path(os.path.abspath('')).resolve()"
   ]
  },
  {
   "cell_type": "markdown",
   "metadata": {},
   "source": [
    "## about\n",
    "{: class=\"subtitle is-lowercase\"}\n",
    "\n",
    "Pegel is a voltage controlled amplifier (VCA). There are various designs to implement a VCA. rod elliott (ESP) has an article on VCA techniques [[1][1]]. diy synthesizer modules are usualy designed with an integrated VCA chip [[2][2]] or with a differential amplifier [[3][3]]. The integrated VCA chips are either obsolete or rather expensive. The differential amplifier can be built with transistors only. the design has some downsides. Even in the simulation the result is not symetryc and has a dc offset from the control voltage. This needs a lot of trimming to get an accurate result. but the biggest downside is, that this design can not do proper amplitude modulation (am). when the carrier signal goes below zero the base signal is completely muted. "
   ]
  },
  {
   "cell_type": "code",
   "execution_count": null,
   "metadata": {},
   "outputs": [],
   "source": [
    "fs = 10000\n",
    "f1 = 8\n",
    "f2 = 1\n",
    "\n",
    "x1 = np.arange(fs)\n",
    "y1 = np.sin(2 * np.pi * x1 * f1 / fs)\n",
    "\n",
    "x2 = np.arange(fs)\n",
    "y2 = np.sin(2 * np.pi * x2 * f2 / fs)\n",
    "\n",
    "fig, (ax0, ax1) = plt.subplots(nrows=1, ncols=2, sharex=False, figsize=(18, 6))\n",
    "\n",
    "#plot multiplication\n",
    "ax0.plot(x1, y1, c='LightGrey')  # differential output\n",
    "ax0.plot(x2, y2, c='LightGrey')  # differential output\n",
    "ax0.plot(x2, y2 * y1, c='orange')  # differential output\n",
    "ax0.grid()\n",
    "ax0.set_xlabel('samples')\n",
    "ax0.set_ylabel('amplitude')\n",
    "ax0.set_title('multiplication', y=-0.2)\n",
    "\n",
    "#plot multiplication with carrier added\n",
    "ax1.plot(x1, y1, c='LightGrey')  # differential output\n",
    "ax1.plot(x2, y2, c='LightGrey')  # differential output\n",
    "ax1.plot(x2, y1 * y2 + y1, c='orange')  # differential output\n",
    "ax1.grid()\n",
    "ax1.set_xlabel('samples')\n",
    "ax1.set_ylabel('amplitude')\n",
    "ax1.set_title('add carrier to product', y=-0.2)\n",
    "plt.show()\n"
   ]
  },
  {
   "cell_type": "code",
   "execution_count": null,
   "metadata": {},
   "outputs": [],
   "source": [
    "fs = 1000 # sample rate \n",
    "f = 8 # the frequency of the signal\n",
    "f2 = 2\n",
    "x = np.arange(fs) # the points on the x axis for plotting\n",
    "# compute the value (amplitude) of the sin wave at the for each sample\n",
    "y = np.sin(10 * np.pi * f * (x/fs)) * np.sin(np.pi * f2 * (x/fs))\n",
    "\n",
    "fig, (ax0, ax1) = plt.subplots(nrows=1, ncols=2, sharex=False, figsize=(18, 6))\n",
    "ax0.plot(x, y)\n",
    "ax0.set_xlabel('sample(n)')\n",
    "ax0.set_ylabel('voltage(V)')\n",
    "ax0.set_title('multiplication', y=-0.2)\n",
    "\n",
    "y = (np.sin(10 * np.pi * f * (x/fs)) * np.sin(np.pi * f2 * (x/fs))) + np.sin(np.pi * f * (x/fs)) \n",
    "ax1.plot(x, y)\n",
    "ax1.set_xlabel('sample(n)')\n",
    "ax1.set_ylabel('voltage(V)')\n",
    "ax1.set_title('add carrier to product', y=-0.2)\n",
    "\n",
    "\n",
    "plt.show()"
   ]
  },
  {
   "cell_type": "markdown",
   "metadata": {},
   "source": [
    "this is not real amplitude modulation. when the signal is negative the phase of the output is inverted. this can be adjusted by the bias voltage of the control voltage. the control voltage has to be positive at all time. \n"
   ]
  },
  {
   "cell_type": "markdown",
   "metadata": {},
   "source": [
    "## *construction*\n",
    "{: class=\"subtitle is-lowercase\"}\n",
    "\n",
    "for the final circuit input and output buffering and biasing is needed. the buffering is done with opamps. \n",
    "\n",
    "![schematic of the pegel vca](/images/pegel_schematic.svg)\n"
   ]
  },
  {
   "source": [
    "first we design the input stage. the input voltage for the X signal should be 10mV and 20mV for the control voltage.\n"
   ],
   "cell_type": "markdown",
   "metadata": {}
  },
  {
   "cell_type": "code",
   "execution_count": null,
   "metadata": {},
   "outputs": [],
   "source": []
  },
  {
   "cell_type": "code",
   "execution_count": null,
   "metadata": {},
   "outputs": [],
   "source": [
    "#load the kicad schema\n",
    "directory_path = Path(os.path.abspath('')).resolve()\n",
    "kicad_netlist_path = directory_path.joinpath('main', 'main.cir')\n",
    "parser = SpiceParser(path=str(kicad_netlist_path))\n"
   ]
  },
  {
   "cell_type": "code",
   "execution_count": null,
   "metadata": {
    "tags": []
   },
   "outputs": [],
   "source": [
    "#ringmodulation\n",
    "ringmod_schema = parser.build_circuit(ground=5)\n",
    "ringmod_schema.include(spice_library['TL072c'])\n",
    "ringmod_schema.include(spice_library['AD633'])\n",
    "\n",
    "ringmod_schema.V('1', '+15V', ringmod_schema.gnd, 'DC 15')\n",
    "ringmod_schema.V('2', '-15V', ringmod_schema.gnd, 'DC -15')\n",
    "ringmod_schema.V('3', 'IN_Xa', ringmod_schema.gnd, 'DC 5V AC 5V SIN(0V 5V 1k)')\n",
    "ringmod_schema.V('4', 'IN_Ya', ringmod_schema.gnd, 'DC 5V AC 5V SIN(0V 5V 100)')\n",
    "ringmod_schema.V('5', 'IN_Za', ringmod_schema.gnd, 'DC 0V AC 0V')\n",
    "\n",
    "#simulator = ringmod_schema.simulator(temperature=25, nominal_temperature=25)\n",
    "#analysis_ringmod = simulator.transient(step_time=10@u_us, end_time=20@u_ms)"
   ]
  },
  {
   "cell_type": "code",
   "execution_count": null,
   "metadata": {
    "tags": [
     "outputPrepend"
    ]
   },
   "outputs": [],
   "source": [
    "#amplitude modulation\n",
    "am_schema = parser.build_circuit(ground=5)\n",
    "am_schema.include(spice_library['TL072c'])\n",
    "am_schema.include(spice_library['AD633'])\n",
    "\n",
    "am_schema.V('1', '+15V', am_schema.gnd, 'DC 15')\n",
    "am_schema.V('2', '-15V', am_schema.gnd, 'DC -15')\n",
    "am_schema.V('3', 'IN_Xa', am_schema.gnd, 'DC 10V AC 5V SIN(0V 5V 1k)')\n",
    "am_schema.V('4', 'IN_Ya', am_schema.gnd, 'DC 5V AC 5V SIN(0V 5V 100)')\n",
    "am_schema.V('5', 'IN_Za', am_schema.gnd, 'DC 5V AC 5V SIN(0V 2.5V 1k)')\n",
    "\n",
    "#simulator = am_schema.simulator(temperature=25, nominal_temperature=25)\n",
    "#analysis_am = simulator.transient(step_time=10@u_us, end_time=20@u_ms)"
   ]
  },
  {
   "source": [
    "#vca\n",
    "vca_schema = parser.build_circuit(ground=5)\n",
    "vca_schema.include(spice_library['TL072c'])\n",
    "vca_schema.include(spice_library['AD633'])\n",
    "\n",
    "vca_schema.V('1', '+15V', vca_schema.gnd, 'DC 15')\n",
    "vca_schema.V('2', '-15V', vca_schema.gnd, 'DC -15')\n",
    "vca_schema.V('3', 'IN_Xa', vca_schema.gnd, 'DC 10V AC 5V SIN(0V 5V 1k)')\n",
    "vca_schema.V('4', 'IN_Ya', vca_schema.gnd, 'DC 5V AC 5V PULSE(0V 10V 1m 1m 15m 1m)')\n",
    "vca_schema.V('5', 'IN_Za', vca_schema.gnd, 'DC 0V AC 0V')\n",
    "\n",
    "#simulator = vca_schema.simulator(temperature=25, nominal_temperature=25)\n",
    "#analysis_vca = simulator.transient(step_time=10@u_us, end_time=20@u_ms)"
   ],
   "cell_type": "code",
   "metadata": {
    "tags": [
     "outputPrepend"
    ]
   },
   "execution_count": null,
   "outputs": []
  },
  {
   "cell_type": "code",
   "execution_count": null,
   "metadata": {
    "tags": []
   },
   "outputs": [],
   "source": [
    "unittest.main(argv=[''], verbosity=0, exit=False)"
   ]
  },
  {
   "cell_type": "markdown",
   "metadata": {},
   "source": [
    "## *references*\n",
    "{: class=\"is-subtitle is-size-2 is-lowercase is-italic\"}\n",
    "\n",
    "- [VCA Techniques Investigated][1] Rod Elliott (ESP)\n",
    "- [Popular Electronics][2] Keyiing and VCA citcuits for electronic music instruments \n",
    "- [VCA-1][3] Thomas Henry CA3080 vca\n",
    "- [VCA-3][4] René Schmitz differential pair vca\n",
    "- [#223][5]: Basics of the Gilbert Cell | Analog Multiplier | Mixer | Modulator\n",
    "- [#224][6]: AM & DSB-SC Modulation with the Gilbert Cell\n",
    "- [Analog Devices][8]: Analog multiplier application guide \n",
    "- [AD633][9]: Datasheet \n",
    "\n",
    "\n",
    "[1]: https://sound-au.com/articles/vca-techniques.html\n",
    "[2]: https://tinaja.com/glib/pop_elec/mus_keying_vca_1+2_75.pdf\n",
    "[3]: https://www.birthofasynth.com/Thomas_Henry/Pages/VCA-1.html\n",
    "[4]: https://www.schmitzbits.de/vca3.png\n",
    "[5]: https://www.youtube.com/watch?v=7nmmb0pqTU0&t=2s\n",
    "[6]: https://www.youtube.com/watch?v=38OQub2Vi2Q\n",
    "[7]: http://www.ecircuitcenter.com/Circuits/BJT_Diffamp1/BJT_Diffamp1.htm\n",
    "[8]: https://www.analog.com/media/en/training-seminars/design-handbooks/ADI_Multiplier_Applications_Guide.pdf\n",
    "[9]: https://www.analog.com/media/en/technical-documentation/data-sheets/AD633.pdf\n",
    "\n",
    "\n",
    "\n"
   ]
  }
 ],
 "metadata": {
  "kernelspec": {
   "name": "Python 3.8.6 64-bit ('elektrophon': conda)",
   "display_name": "Python 3.8.6 64-bit ('elektrophon': conda)",
   "metadata": {
    "interpreter": {
     "hash": "577b50fbf5fb121fdd7fb9f146b8afc577e6c4552aa3df5597befa8a54be6f95"
    }
   }
  },
  "language_info": {
   "codemirror_mode": {
    "name": "ipython",
    "version": 3
   },
   "file_extension": ".py",
   "mimetype": "text/x-python",
   "name": "python",
   "nbconvert_exporter": "python",
   "pygments_lexer": "ipython3",
   "version": "3.8.6-final"
  }
 },
 "nbformat": 4,
 "nbformat_minor": 4
}
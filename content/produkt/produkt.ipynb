{
 "cells": [
  {
   "cell_type": "code",
   "execution_count": null,
   "metadata": {
    "tags": []
   },
   "outputs": [],
   "source": [
    "#general definitions and imports\n",
    "%matplotlib inline\n",
    "%config InlineBackend.figure_format = 'svg'\n",
    "\n",
    "import logging\n",
    "logging.Logger.disabled=True\n",
    "\n",
    "import os\n",
    "import PySpice.Logging.Logging as Logging\n",
    "logger = Logging.setup_logging( logging_level='CRITICAL')\n",
    "\n",
    "import numpy as np\n",
    "import matplotlib.pyplot as plt\n",
    "\n",
    "import ipytest\n",
    "ipytest.autoconfig()\n",
    "from pytest import approx\n",
    "\n",
    "from pathlib import Path\n",
    "\n",
    "from PySpice.Unit import *\n",
    "from PySpice.Spice.Parser import SpiceParser\n",
    "from PySpice.Spice.Netlist import SubCircuitFactory\n",
    "from PySpice.Spice.Library import SpiceLibrary\n",
    "from PySpice.Spice.Netlist import Circuit\n",
    "from PySpice.Probe.Plot import plot\n",
    "from PySpice.Math import *\n",
    "\n",
    "import schemdraw\n",
    "import schemdraw.elements as elm\n",
    "from schemdraw import dsp\n",
    "from schemdraw import logic\n",
    "\n",
    "from IPython.display import display, HTML\n",
    "\n",
    "## setup spice library path\n",
    "directory_path = Path(os.path.abspath('')).resolve().parent.parent\n",
    "spice_libraries_path = directory_path.joinpath(\"lib\", \"spice\")\n",
    "spice_library = SpiceLibrary(spice_libraries_path)\n",
    "## set the project directory as directory_path\n",
    "directory_path = Path(os.path.abspath('')).resolve()"
   ]
  },
  {
   "cell_type": "code",
   "execution_count": null,
   "metadata": {},
   "outputs": [],
   "source": [
    "# definitions\n",
    "        \n",
    "class VoltageDivider(SubCircuitFactory):\n",
    "    __name__ = 'voltage_divider'\n",
    "    __nodes__ = ('n1', 'n2', 'n3' )\n",
    "    def __init__(self, R=100@u_kΩ, w=0.4, name='voltage_divider'):\n",
    "        self.__name__ = name\n",
    "        super().__init__()\n",
    "        self.R(1, 'n1', 'n2', R * w)\n",
    "        self.R(2, 'n2', 'n3', R * (1.0-w) )"
   ]
  },
  {
   "cell_type": "markdown",
   "metadata": {},
   "source": [
    "# construction\n",
    "\n",
    "for the final circuit input and output buffering and biasing is needed. the buffering is done with opamps. \n"
   ]
  },
  {
   "cell_type": "code",
   "execution_count": null,
   "metadata": {
    "caption": "Figure 1: Block Diagram",
    "tags": []
   },
   "outputs": [],
   "source": [
    "d = schemdraw.Drawing(unit=2.5, inches_per_unit=0.5, lw=1.1)\n",
    "\n",
    "#first muliplication\n",
    "JI1 = d.add(elm.AudioJack(xy=[0, d.unit], lftlabel='$IN_1$'))\n",
    "d.add(elm.Ground(\"right\", xy=JI1.sleeve))\n",
    "d.add(elm.Line( \"right\", l=d.unit, at=JI1.tip))\n",
    "d.add(elm.Line('down').length(d.unit/2))\n",
    "M1 = d.add(dsp.Circle().label(\"x\"))\n",
    "d.add(elm.Line( \"right\", l=d.unit).at(M1.N))\n",
    "JO1 = d.add(elm.AudioJack(\"left\", switch=True, flip=True, anchor='tip', rgtlabel='$OUT_1$'))\n",
    "d.add(elm.Ground(\"right\", xy=JO1.sleeve))\n",
    "\n",
    "d.add(elm.Line(\"down\").at(M1.E).length(d.unit/2))\n",
    "d.add(elm.Line(\"left\"))\n",
    "JI2 = d.add(elm.AudioJack(lftlabel='$IN_2$').left().reverse().flip().anchor('tip'))\n",
    "d.add(elm.Ground(\"right\", xy=JI2.sleeve))\n",
    "\n",
    "#second multiplication\n",
    "JI3 = d.add(elm.AudioJack(xy=[-2, -1.5*d.unit], switch=True, lftlabel='$IN_3$').reverse().flip())\n",
    "d.add(elm.Ground(\"right\", xy=JI3.sleeve))\n",
    "d.add(elm.Line( \"right\", l=d.unit, at=JI3.tip))\n",
    "d.add(elm.Line('down').length(d.unit/2))\n",
    "M2 = d.add(dsp.Circle().label(\"x\"))\n",
    "d.add(elm.Line( \"right\", l=d.unit).at(M2.N))\n",
    "JO2 = d.add(elm.AudioJack(\"left\", switch=True, flip=True, anchor='tip', rgtlabel='$OUT_2$'))\n",
    "d.add(elm.Ground(\"right\", xy=JO2.sleeve))\n",
    "\n",
    "d.add(elm.Line(\"down\").at(M2.E).length(d.unit/2))\n",
    "d.add(elm.Line(\"left\"))\n",
    "JI4 = d.add(elm.AudioJack(lftlabel='$IN_4$').left().reverse().flip().anchor('tip'))\n",
    "d.add(elm.Ground(\"right\", xy=JI4.sleeve))\n",
    "\n",
    "#connect the two stages\n",
    "d.add(elm.Line().at(JI3.tipswitch).right().length(d.unit*1.5))\n",
    "d.add(elm.Line().up().toy(JO1.tipswitch))\n",
    "d.add(elm.Line().right().tox(JO1.tipswitch))\n",
    "\n",
    "d.draw()\n"
   ]
  },
  {
   "cell_type": "markdown",
   "metadata": {},
   "source": [
    "first we design the input stage. the input voltage for the X signal should be 10mV and 20mV for the control voltage.\n"
   ]
  },
  {
   "cell_type": "code",
   "execution_count": null,
   "metadata": {},
   "outputs": [],
   "source": [
    "#load the kicad schema\n",
    "directory_path = Path(os.path.abspath('')).resolve()\n",
    "kicad_netlist_path = directory_path.joinpath('main', 'main.cir')\n",
    "parser = SpiceParser(path=str(kicad_netlist_path))\n"
   ]
  },
  {
   "cell_type": "code",
   "execution_count": null,
   "metadata": {
    "tags": []
   },
   "outputs": [],
   "source": [
    "#ringmodulation\n",
    "ringmod_schema = parser.build_circuit(ground=5)\n",
    "ringmod_schema.include(spice_library['TL072c'])\n",
    "ringmod_schema.include(spice_library['AD633'])\n",
    "\n",
    "ringmod_schema.V('1', '+15V', ringmod_schema.gnd, 'DC 15')\n",
    "ringmod_schema.V('2', '-15V', ringmod_schema.gnd, 'DC -15')\n",
    "ringmod_schema.V('3', 'IN_Xa', ringmod_schema.gnd, 'DC 5V AC 5V SIN(0V 5V 1k)')\n",
    "ringmod_schema.V('4', 'IN_Ya', ringmod_schema.gnd, 'DC 5V AC 5V SIN(0V 5V 100)')\n",
    "ringmod_schema.V('5', 'IN_Za', ringmod_schema.gnd, 'DC 0V AC 0V')\n",
    "\n",
    "#simulator = ringmod_schema.simulator(temperature=25, nominal_temperature=25)\n",
    "#analysis_ringmod = simulator.transient(step_time=10@u_us, end_time=20@u_ms)"
   ]
  },
  {
   "cell_type": "code",
   "execution_count": null,
   "metadata": {
    "tags": []
   },
   "outputs": [],
   "source": [
    "#amplitude modulation\n",
    "am_schema = parser.build_circuit(ground=5)\n",
    "am_schema.include(spice_library['TL072c'])\n",
    "am_schema.include(spice_library['AD633'])\n",
    "\n",
    "am_schema.V('1', '+15V', am_schema.gnd, 'DC 15')\n",
    "am_schema.V('2', '-15V', am_schema.gnd, 'DC -15')\n",
    "am_schema.V('3', 'IN_Xa', am_schema.gnd, 'DC 10V AC 5V SIN(0V 5V 1k)')\n",
    "am_schema.V('4', 'IN_Ya', am_schema.gnd, 'DC 5V AC 5V SIN(0V 5V 100)')\n",
    "am_schema.V('5', 'IN_Za', am_schema.gnd, 'DC 5V AC 5V SIN(0V 2.5V 1k)')\n",
    "\n",
    "#simulator = am_schema.simulator(temperature=25, nominal_temperature=25)\n",
    "#analysis_am = simulator.transient(step_time=10@u_us, end_time=20@u_ms)"
   ]
  },
  {
   "cell_type": "code",
   "execution_count": null,
   "metadata": {
    "tags": []
   },
   "outputs": [],
   "source": [
    "#vca\n",
    "vca_schema = parser.build_circuit(ground=5)\n",
    "vca_schema.include(spice_library['TL072c'])\n",
    "vca_schema.include(spice_library['AD633'])\n",
    "\n",
    "vca_schema.V('1', '+15V', vca_schema.gnd, 'DC 15')\n",
    "vca_schema.V('2', '-15V', vca_schema.gnd, 'DC -15')\n",
    "vca_schema.V('3', 'IN_Xa', vca_schema.gnd, 'DC 10V AC 5V SIN(0V 5V 1k)')\n",
    "vca_schema.V('4', 'IN_Ya', vca_schema.gnd, 'DC 5V AC 5V PULSE(0V 10V 1m 1m 15m 1m)')\n",
    "vca_schema.V('5', 'IN_Za', vca_schema.gnd, 'DC 0V AC 0V')\n",
    "\n",
    "#simulator = vca_schema.simulator(temperature=25, nominal_temperature=25)\n",
    "#analysis_vca = simulator.transient(step_time=10@u_us, end_time=20@u_ms)"
   ]
  },
  {
   "cell_type": "code",
   "execution_count": null,
   "metadata": {},
   "outputs": [],
   "source": [
    "display(HTML('''\n",
    "{{< bom produkt main mount>}}\n",
    "{{< callout produkt main mount panel>}}\n",
    "{{< report produkt main mount>}}\n",
    "'''))"
   ]
  },
  {
   "cell_type": "markdown",
   "metadata": {},
   "source": [
    "# calibration\n",
    "\n",
    "there is no calibration needed. but the potentiomenter knobs have to be aliged to center position."
   ]
  },
  {
   "cell_type": "markdown",
   "metadata": {},
   "source": [
    "# usage\n",
    "\n",
    "the input jacks are wired to 5 volts when nothing is connected.\n",
    "\n",
    "all channels are mixed to the out jack. when something is connected to the channel out, this channel is removed from the overall mix.\n",
    "\n",
    "_mixer_\n",
    "* connect the different channels from audio or cv sources to the in jacks.\n",
    "* connect the out jack to something\n",
    "* turn the pots clockwise to adjust the volume.\n",
    "\n",
    "_attenuverter_\n",
    "* connect all or a single channel. \n",
    "* when you turn the pot knob counter clockwise the signal is inverted.\n"
   ]
  }
 ],
 "metadata": {
  "FrontMatter": {
   "author": "spielhuus",
   "categories": [
    "module"
   ],
   "date": "2021-04-12",
   "draft": false,
   "excerpt": "Produkt is a voltage controlled amplifier (VCA). There are various designs to implement a VCA. rod elliott (ESP) has an article on VCA techniques [[1][1]]. diy synthesizer modules are usualy designed with an integrated VCA chip [[2][2]] or with a differential amplifier [[3][3]]. The integrated VCA chips are either obsolete or rather expensive. The differential amplifier can be built with transistors only. the design has some downsides. Even in the simulation the result is not symetryc and has a dc offset from the control voltage. This needs a lot of trimming to get an accurate result. but the biggest downside is, that this design can not do proper amplitude modulation (am). when the carrier signal goes below zero the base signal is completely muted.",
   "hero_image": "produkt-hero.jpg",
   "hero_mobile": "summe-portrait.jpg",
   "image": "produkt-logo.jpg",
   "references": [
    {
     "description": "VCA Techniques Investigated",
     "title": "ESP",
     "url": "https://sound-au.com/articles/vca-techniques.html"
    },
    {
     "description": "Keyiing and VCA citcuits for electronic music instruments.",
     "title": "Popular Electronics",
     "url": "https://tinaja.com/glib/pop_elec/mus_keying_vca_1+2_75.pdf"
    },
    {
     "description": "Basics of the Gilbert Cell | Analog Multiplier | Mixer | Modulator",
     "title": "w2aew",
     "url": "https://www.youtube.com/watch?v=7nmmb0pqTU0&t=2s"
    },
    {
     "description": "AM & DSB-SC Modulation with the Gilbert Cell",
     "title": "w2aew",
     "url": "https://www.youtube.com/watch?v=38OQub2Vi2Q"
    },
    {
     "description": "Analog multiplier application guide ",
     "title": "Analog Devices",
     "url": "https://www.analog.com/media/en/training-seminars/design-handbooks/ADI_Multiplier_Applications_Guide.pdf"
    },
    {
     "description": "Datasheet",
     "title": "AD633",
     "url": "https://www.analog.com/media/en/technical-documentation/data-sheets/AD633.pdf"
    }
   ],
   "subtitle": "produkt is a vca and ringmodulator",
   "tags": [
    "misc"
   ],
   "title": "produkt",
   "version": "0"
  },
  "kernelspec": {
   "display_name": "Python 3 (ipykernel)",
   "language": "python",
   "name": "python3"
  },
  "language_info": {
   "codemirror_mode": {
    "name": "ipython",
    "version": 3
   },
   "file_extension": ".py",
   "mimetype": "text/x-python",
   "name": "python",
   "nbconvert_exporter": "python",
   "pygments_lexer": "ipython3",
   "version": "3.9.2"
  }
 },
 "nbformat": 4,
 "nbformat_minor": 4
}

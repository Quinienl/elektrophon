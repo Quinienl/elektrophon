{
 "cells": [
  {
   "cell_type": "code",
   "execution_count": null,
   "metadata": {},
   "outputs": [],
   "source": [
    "%load_ext itikz\n",
    "\n",
    "import numpy as np\n",
    "import matplotlib.pyplot as plt"
   ]
  },
  {
   "source": [
    "wavetable synthesis is a sound synthesis technique to create periodic waveforms. it is fundnamentaly based on the periodic reproduction of a single cycle waveform. there is an array with the data of the waveform which is outputed to a DAC.\n",
    "\n",
    "for the calculation of a single cycle sine waveform we can use this equation:\n",
    "\n",
    "$$\n",
    "\\begin{array}{c}\n",
    "y(t) = A\\sin(2 \\pi f t + \\varphi)\n",
    "\\end{array}\n",
    "$$\n",
    "\n",
    "where:\n",
    "\n",
    "A, amplitude, the peak deviation of the function from zero.\n",
    "\n",
    "f, ordinary frequency, the number of oscillations (cycles) that occur each second of time.\n",
    "\n",
    "\\varphi , phase, specifies (in radians) where in its cycle the oscillation is at t = 0.\n",
    "\n",
    "When {\\displaystyle \\varphi }\\varphi  is non-zero, the entire waveform appears to be shifted in time by the amount {\\displaystyle \\varphi }\\varphi /ω seconds. A negative value represents a delay, and a positive value represents an advance.\n",
    "\n"
   ],
   "cell_type": "markdown",
   "metadata": {}
  },
  {
   "cell_type": "code",
   "execution_count": null,
   "metadata": {},
   "outputs": [],
   "source": [
    "x = np.linspace(-np.pi, np.pi, 512)\n",
    "f = 2\n",
    "r = 0\n",
    "\n",
    "data1 = np.sin(x)\n",
    "\n",
    "fig, ax1 = plt.subplots(figsize=(8, 4))\n",
    "\n",
    "ax1.set_xlabel('t')\n",
    "ax1.set_ylabel('A')\n",
    "ax1.plot(data1, color='Red')\n",
    "\n",
    "plt.tight_layout()\n",
    "plt.show()\n"
   ]
  },
  {
   "source": [
    "the output is a single cycle waveform with the amplitude from -1 to +1. when this waveform is streamed to the DAC of the STM32 processor the output is the excpected wveform. But what is the frequency? First we need to calculate the playback frequency of the STM32 interrupt. This means how fast the sample points are streamed to the DAC.\n"
   ],
   "cell_type": "markdown",
   "metadata": {}
  },
  {
   "source": [
    "$$\n",
    "\\begin{array}{c}\n",
    "TIM_{CLK}/(TIM_{PSC+1})/(TIM_{ARR + 1})\n",
    "\\end{array}\n",
    "$$\n",
    "\n",
    "where:\n",
    "\n",
    "TIM_{CLK}: The clock of the interrupt\n",
    "\n",
    "TIM_{PSC}: The Prescaler Value\n",
    "\n",
    "TIM_{ARR}: the counter\n"
   ],
   "cell_type": "markdown",
   "metadata": {}
  },
  {
   "source": [
    "$$\n",
    "\\begin{array}{c}\n",
    "16MHz/(0+1)/(32 + 1) = 484848Hz\n",
    "\\end{array}\n",
    "$$\n"
   ],
   "cell_type": "markdown",
   "metadata": {}
  },
  {
   "source": [
    "this is the speed the sample point are streamed to the DAC and not the output frequency. The table is one cycle, so the output frequency is the streaming frequency divided by the table length."
   ],
   "cell_type": "markdown",
   "metadata": {}
  },
  {
   "source": [
    "## calculate frequency\n",
    "\n",
    "calculate the playback frequency:\n",
    "<img src=\"http://latex.codecogs.com/gif.latex?f%20%3D%20%5Cfrac%7B1%7D%7Bt_%7Bint%7D*size_%7Btable%7D%7D\"/><br/>\n",
    "\n",
    "for increment = 1:"
   ],
   "cell_type": "markdown",
   "metadata": {}
  },
  {
   "source": [
    "calculate the wavetable on the stm32\n",
    "\n",
    "```\n",
    "#define WAVETABLE_SIZE 1024\n",
    "\n",
    "float32_t wt_sine[WAVETABLE_SIZE];\n",
    "\n",
    "float32_t start = -3.14;\n",
    "float32_t step = 2 * 3.14 / WAVETABLE_SIZE;\n",
    "\n",
    "for( int i=0; i<WAVETABLE_SIZE; ++i ) {\n",
    "    wt_sine[i] = arm_sin_f32( start );\n",
    "    start += step;\n",
    "}\n",
    "\n",
    "```\n"
   ],
   "cell_type": "markdown",
   "metadata": {}
  },
  {
   "cell_type": "code",
   "execution_count": null,
   "metadata": {},
   "outputs": [],
   "source": [
    "TIMclk = 1.6e+7\n",
    "TIMpsc = 0\n",
    "TIMarr = 128\n",
    "\n",
    "res = TIMclk / (TIMpsc + 1) / (TIMarr + 1)\n",
    "print(res)"
   ]
  },
  {
   "cell_type": "code",
   "execution_count": null,
   "metadata": {},
   "outputs": [],
   "source": [
    "frequency = res\n",
    "steps = 512\n",
    "increment = 1\n",
    "\n",
    "print(\"1/((1/40000)*1024) = %f Hz\" %(1/((1/frequency)*(steps/increment)))) "
   ]
  },
  {
   "cell_type": "code",
   "execution_count": null,
   "metadata": {},
   "outputs": [],
   "source": [
    "print( 4194304 >> 22)"
   ]
  },
  {
   "source": [
    "%%itikz --temp-dir\n",
    "\\documentclass[tikz]{standalone}\n",
    "\\usetikzlibrary{arrows}\n",
    "\\begin{document}\n",
    "\\begin{tikzpicture}[scale=3,cap=round]\n",
    "% Local definitions\n",
    "\\def\\costhirty{0.8660256}\n",
    "% Colors\n",
    "\\colorlet{anglecolor}{green!50!black}\n",
    "\\colorlet{sincolor}{red}\n",
    "\\colorlet{tancolor}{orange!80!black}\n",
    "\\colorlet{coscolor}{blue}\n",
    "% Styles\n",
    "\\tikzstyle{axes}=[]\n",
    "\\tikzstyle{important line}=[very thick]\n",
    "\\tikzstyle{information text}=[rounded corners,fill=red!10,inner sep=1ex]\n",
    "% The graphic\n",
    "\\draw[style=help lines,step=0.5cm] (-1.4,-1.4) grid (1.4,1.4);\n",
    "\\draw (0,0) circle (1cm);\n",
    "\\begin{scope}[style=axes]\n",
    "\\draw[->] (-1.5,0) -- (1.5,0) node[right] {$x$} coordinate(x axis);\n",
    "\\draw[->] (0,-1.5) -- (0,1.5) node[above] {$y$} coordinate(y axis);\n",
    "\\foreach \\x/\\xtext in {-1, -.5/-\\frac{1}{2}, 1}\n",
    "\\draw[xshift=\\x cm] (0pt,1pt) -- (0pt,-1pt) node[below,fill=white] {$\\xtext$};\n",
    "\\foreach \\y/\\ytext in {-1, -.5/-\\frac{1}{2}, .5/\\frac{1}{2}, 1}\n",
    "\\draw[yshift=\\y cm] (1pt,0pt) -- (-1pt,0pt) node[left,fill=white] {$\\ytext$};\n",
    "\\end{scope}\n",
    "\\filldraw[fill=green!20,draw=anglecolor] (0,0) -- (3mm,0pt) arc(0:30:3mm);\n",
    "\\draw (15:2mm) node[anglecolor] {$\\alpha$};\n",
    "\\draw[style=important line,sincolor]\n",
    "(30:1cm) -- node[left=1pt,fill=white] {$\\sin \\alpha$} (30:1cm |- x axis);\n",
    "\\draw[style=important line,coscolor]\n",
    "(30:1cm |- x axis) -- node[below=2pt,fill=white] {$\\cos \\alpha$} (0,0);\n",
    "\\draw[style=important line,tancolor] (1,0) -- node[right=1pt,fill=white] {\n",
    "$\\displaystyle \\tan \\alpha \\color{black}=\n",
    "\\frac{{\\color{sincolor}\\sin \\alpha}}{\\color{coscolor}\\cos \\alpha}$}\n",
    "(intersection of 0,0--30:1cm and 1,0--1,1) coordinate (t);\n",
    "\\draw (0,0) -- (t);\n",
    "\\draw[xshift=1.85cm]\n",
    "node[right,text width=6cm,style=information text]\n",
    "{\n",
    "The {\\color{anglecolor} angle $\\alpha$} is $30^\\circ$ in the\n",
    "example ($\\pi/6$ in radians). The {\\color{sincolor}sine of\n",
    "$\\alpha$}, which is the height of the red line, is\n",
    "\\[\n",
    "{\\color{sincolor} \\sin \\alpha} = 1/2.\n",
    "\\]\n",
    "By the Theorem of Pythagoras ...\n",
    "};\n",
    "\\end{tikzpicture}\n",
    "\\end{document}\n"
   ],
   "cell_type": "code",
   "metadata": {},
   "execution_count": null,
   "outputs": []
  }
 ],
 "metadata": {
  "kernelspec": {
   "name": "python39164bitelektrophoncondab6df047f9ad043cd9a8dc15ff108b2c9",
   "display_name": "Python 3.9.1 64-bit ('elektrophon': conda)"
  },
  "language_info": {
   "codemirror_mode": {
    "name": "ipython",
    "version": 3
   },
   "file_extension": ".py",
   "mimetype": "text/x-python",
   "name": "python",
   "nbconvert_exporter": "python",
   "pygments_lexer": "ipython3",
   "version": "3.9.1-final"
  }
 },
 "nbformat": 4,
 "nbformat_minor": 2
}
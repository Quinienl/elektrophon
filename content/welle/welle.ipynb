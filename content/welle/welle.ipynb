{
 "cells": [
  {
   "cell_type": "code",
   "execution_count": null,
   "metadata": {
    "tags": [
     "outputPrepend"
    ]
   },
   "outputs": [],
   "source": [
    "#general definitions and imports\n",
    "%matplotlib inline\n",
    "%config InlineBackend.figure_format = 'svg'\n",
    "\n",
    "import logging\n",
    "logging.Logger.disabled=True\n",
    "\n",
    "import os\n",
    "import PySpice.Logging.Logging as Logging\n",
    "logger = Logging.setup_logging( logging_level='CRITICAL')\n",
    "\n",
    "import numpy as np\n",
    "import matplotlib.pyplot as plt\n",
    "from scipy import signal\n",
    "\n",
    "import ipytest\n",
    "ipytest.autoconfig()\n",
    "from pytest import approx\n",
    "\n",
    "from pathlib import Path\n",
    "\n",
    "from PySpice.Unit import *\n",
    "from PySpice.Spice.Parser import SpiceParser\n",
    "from PySpice.Spice.Netlist import SubCircuitFactory\n",
    "from PySpice.Spice.Library import SpiceLibrary\n",
    "from PySpice.Spice.Netlist import Circuit\n",
    "from PySpice.Probe.Plot import plot\n",
    "from PySpice.Math import *\n",
    "\n",
    "import schemdraw\n",
    "import schemdraw.elements as elm\n",
    "from schemdraw import dsp\n",
    "from schemdraw import logic\n",
    "\n",
    "## setup spice library path\n",
    "directory_path = Path(os.path.abspath('')).resolve().parent.parent\n",
    "spice_libraries_path = directory_path.joinpath(\"lib\", \"spice\")\n",
    "spice_library = SpiceLibrary(spice_libraries_path)\n",
    "## set the project directory as directory_path\n",
    "directory_path = Path(os.path.abspath('')).resolve()"
   ]
  },
  {
   "cell_type": "code",
   "execution_count": null,
   "metadata": {},
   "outputs": [],
   "source": [
    "class VoltageDivider(SubCircuitFactory):\n",
    "    __name__ = 'voltage_divider'\n",
    "    __nodes__ = ('n1', 'n2', 'n3' )\n",
    "    def __init__(self, R=100@u_kΩ, w=0.4, name='voltage_divider'):\n",
    "        self.__name__ = name\n",
    "        super().__init__()\n",
    "        self.R(1, 'n1', 'n2', R * w)\n",
    "        self.R(2, 'n2', 'n3', R * (1.0-w) )"
   ]
  },
  {
   "cell_type": "markdown",
   "metadata": {},
   "source": [
    "# construction\n",
    "\n",
    "There are various wavefolder circuits out there. the most famous is the serge wave multiplier middle section. Welle is implemented using the basic idea from Jürgen Haible [[1](http://jhaible.com/legacy/jh_wavefolder.html)] and the modifications from Yves Usson [[2](https://www.yusynth.net/Modular/index_en.html)]."
   ]
  },
  {
   "cell_type": "code",
   "execution_count": null,
   "metadata": {
    "caption": "Figure 1: Block Diagram",
    "tags": []
   },
   "outputs": [],
   "source": [
    "d = schemdraw.Drawing(unit=2.5, inches_per_unit=0.5, lw=1.1)\n",
    "\n",
    "d += dsp.Oscillator().right().anchor('N').label('IN', 'left', ofst=.15)\n",
    "d += dsp.Line()\n",
    "d += ( mixer := dsp.Mixer().right().anchor('W').label('VCA', 'top', ofst=.15))\n",
    "d.push()\n",
    "d += dsp.Line()\n",
    "d.push()\n",
    "d += dsp.Dot()\n",
    "d += dsp.Line().length(5.5)\n",
    "d += (sum := dsp.Sum().right().anchor('W'))\n",
    "d += dsp.Line().label('OUT', 'right', ofst=.15)\n",
    "\n",
    "d.pop()\n",
    "d += dsp.Line().down()\n",
    "d += dsp.Line().right()\n",
    "d += ( folder := dsp.Square().label('Wavefolder', 'top', ofst=.15))\n",
    "d.push()\n",
    "d += dsp.Line().right()\n",
    "d += dsp.Line().up().toy(sum.S)\n",
    "\n",
    "d.pop()\n",
    "d += dsp.Line().down().at(folder.S)\n",
    "d += dsp.Line().left().label('CV', 'left', ofst=.15)\n",
    "\n",
    "d.pop()\n",
    "d += dsp.Line().down().at(mixer.S)\n",
    "d += dsp.Line().left().label('CV', 'left', ofst=.15)\n",
    "\n",
    "d.draw()\n"
   ]
  },
  {
   "cell_type": "markdown",
   "metadata": {},
   "source": [
    "There are three sections in this circuit. First, there is a simple discrete VCA with a long-tailed pair. This circuit was analysed in the ringmod article. The second part is the wavefolder and the third is mixing the signals together. \n",
    "\n",
    "The folding itself is done with a diode ladder, where the diodes select different voltages. I think Jürgen has the best explanation of that concept [[1](http://jhaible.com/legacy/jh_wavefolder.html)]. "
   ]
  },
  {
   "cell_type": "code",
   "execution_count": null,
   "metadata": {},
   "outputs": [],
   "source": [
    "kicad_netlist_path = directory_path.joinpath('main', 'main.cir')\n",
    "parser = SpiceParser(path=str(kicad_netlist_path))\n",
    "\n",
    "circuit = parser.build_circuit(ground=5)\n",
    "circuit.include(spice_library['TL072c'])\n",
    "circuit.include(spice_library['TL074c'])\n",
    "circuit.include(spice_library['D1N4148'])\n",
    "circuit.include(spice_library['BC846B'])\n",
    "\n",
    "circuit.V('1', '+15V', circuit.gnd, 'DC 15')\n",
    "circuit.V('2', '-15V', circuit.gnd, 'DC -15')\n",
    "circuit.V('3', '/input', circuit.gnd, 'DC 5 SIN(0 5V 440)')\n",
    "circuit.V('4', '/control', circuit.gnd, 'DC 0')\n",
    "circuit.V('5', '/range', circuit.gnd, 'DC 3')\n",
    "\n",
    "for c in ( VoltageDivider(R=50@u_kΩ, w=0.5, name='RV4'), \n",
    "        VoltageDivider(R=1@u_kΩ, w=0.5, name='RV5') ) :\n",
    "    circuit.subcircuit(c)\n",
    "\n",
    "circuit.R(100, '/shape_a', '/shape_b', 25@u_kΩ)\n",
    "\n",
    "simulator = circuit.simulator(temperature=25, nominal_temperature=25)\n",
    "analysis  = simulator.transient(step_time=1@u_us, start_time=0@u_ms, end_time=20@u_ms)"
   ]
  },
  {
   "cell_type": "code",
   "execution_count": null,
   "metadata": {},
   "outputs": [],
   "source": [
    "fig_buffer, ax1_buffer = plt.subplots()\n",
    "\n",
    "ax1_buffer.set_xlabel('time [ms]')\n",
    "ax1_buffer.set_ylabel('amplitude [V]')\n",
    "#ax1_buffer.plot(u_ms(analysis['/input'].abscissa), analysis['/input'], color='Blue')\n",
    "#ax1_buffer.plot(u_ms(analysis['/shape_b'].abscissa), analysis['/shape_b'], color='#E97451')\n",
    "ax1_buffer.plot(u_ms(analysis['/out'].abscissa), analysis['/out'], color='#E97451')\n",
    "#ax1_buffer.plot(u_ms(analysis['Net-_C7-Pad2_'].abscissa), analysis['Net-_C7-Pad2_'], color='#E97451')\n",
    "\n",
    "\n",
    "#ax1_buffer.plot(u_ms(analysis['/out'].abscissa), analysis['/out'], color='#E97451')\n",
    "ax1_buffer.legend(('Vinput', 'Voutput'), loc=(0.75,0.8))\n",
    "\n",
    "plt.tight_layout()\n",
    "plt.show()"
   ]
  },
  {
   "cell_type": "code",
   "execution_count": null,
   "metadata": {},
   "outputs": [],
   "source": [
    "#f = 10  # Frequency, in cycles per second, or Hertz\n",
    "f_s = 1000000  # Sampling rate, or number of measurements per second\n",
    "\n",
    "#t = np.linspace(0, 2, 2 * f_s, endpoint=False)\n",
    "#x = np.sin(f * 2 * np.pi * t)\n",
    "\n",
    "\n",
    "\n",
    "from scipy import fftpack\n",
    "\n",
    "X = fftpack.fft(analysis['/out'])\n",
    "freqs = fftpack.fftfreq(len(analysis['/out']), 1/f_s)\n",
    "\n",
    "print(len(X))\n",
    "\n",
    "fig, ax = plt.subplots()\n",
    "\n",
    "ax.plot(freqs, np.abs(X))\n",
    "ax.set_xlabel('Frequency in Hertz [Hz]')\n",
    "ax.set_ylabel('Frequency Domain (Spectrum) Magnitude')\n",
    "ax.set_xlim(-10000, 10000)\n",
    "#ax.set_ylim(-5, 110)\n",
    "plt.show()"
   ]
  },
  {
   "cell_type": "markdown",
   "metadata": {},
   "source": [
    "{% include bom.html content=\"summe-main-bom\" %}\n",
    "\n",
    "For mounting the LED's the long lead has to go to the round pad.\n",
    "\n",
    "The diodes should be matched in pairs, otherwise, it could be that the folding is not symmetrical (TBH I have not matched them).\n",
    "\n",
    "{% include callouts.html %}\n",
    "{% include reports.html%}"
   ]
  },
  {
   "cell_type": "markdown",
   "metadata": {},
   "source": [
    "# calibration\n",
    "\n",
    "The discrete VCA in this circuit needs to be calibrated. This is done in two steps. first set the gain of the differential pair and then the control current in the tail. \n",
    "\n",
    "1. set the two trimpots to some middle position\n",
    "2. close the control pot (CCW) and fully open the range pot (CW)\n",
    "3. connect a sine wave to the input jack\n",
    "4. connect the scope first channel to your sine wave and the second to the output of the VCA. This is pin1 from U1 or the Resistor R23. \n",
    "5. adjust RV5 until both sine waves are the same, maybe also RV4 has to be changed to get a match\n",
    "6. turn the range pot to silent (CCW) and adjust RV4 until the output is silent too\n",
    "\n",
    "Now connect your scope to the output. when the wave passes 0V there will be folding. when these foldings look like filled areas there is self-oscillation in the circuit. This can be removed by adding capacitors to the opamps feedback loop. Try using 22-47pF ceramic capacitors for C7 and/or C8."
   ]
  },
  {
   "cell_type": "markdown",
   "metadata": {},
   "source": [
    "# usage\n",
    "\n",
    "A sine or triangle wave can be connected to the module, other waveforms will not work or give strange results. The range controls the amount of folding, this can also be controlled with a CV. For example from an LFO or ADSR. There is a nice effect if the output is connected to a LPG, this results in nice percussive bass sounds. \n",
    "\n"
   ]
  },
  {
   "cell_type": "markdown",
   "metadata": {},
   "source": [
    "# references\n",
    "\n",
    "- [Jürgen Haible](http://jhaible.com/legacy/jh_wavefolder.html) Wavefolder A+B. The missing images were just still images, there are versions on archive.org with the images. Look for the PDF's on the page.\n",
    "- [Yusynth](https://www.yusynth.net/Modular/index_en.html) The wavefolder from Yves Usson.\n"
   ]
  },
  {
   "cell_type": "code",
   "execution_count": null,
   "metadata": {},
   "outputs": [],
   "source": []
  }
 ],
 "metadata": {
  "FrontMatter": {
   "author": "spielhuus",
   "category": "module",
   "date": "2021-08-17",
   "excerpt": "Folding waves is another way to add timbre to the sound. This is a very interesting way and creates richer results than a filter.",
   "hero_darken": "true",
   "hero_height": "is-fullheight",
   "hero_image": "/assets/welle-landscape.jpg",
   "hero_mobile": "/assets/welle-portrait.jpg",
   "hero_subtitle": "false",
   "hero_tags": "true",
   "hero_title": "true",
   "image": "/assets/welle-card.jpg",
   "layout": "module",
   "subtitle": "Wavefolder for siusoidal and triangle waves",
   "tag": "misc",
   "test": "False",
   "title": "welle",
   "toc": "true",
   "version": "0"
  },
  "kernelspec": {
   "display_name": "Python 3 (ipykernel)",
   "language": "python",
   "name": "python3"
  },
  "language_info": {
   "codemirror_mode": {
    "name": "ipython",
    "version": 3
   },
   "file_extension": ".py",
   "mimetype": "text/x-python",
   "name": "python",
   "nbconvert_exporter": "python",
   "pygments_lexer": "ipython3",
   "version": "3.9.6"
  },
  "toc-showcode": false,
  "toc-showmarkdowntxt": false,
  "toc-showtags": true
 },
 "nbformat": 4,
 "nbformat_minor": 4
}

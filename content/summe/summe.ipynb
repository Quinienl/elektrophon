{
 "cells": [
  {
   "cell_type": "code",
   "execution_count": null,
   "metadata": {
    "tags": [
     "outputPrepend"
    ]
   },
   "outputs": [],
   "source": [
    "#general definitions and imports\n",
    "%matplotlib inline\n",
    "%config InlineBackend.figure_format = 'svg'\n",
    "\n",
    "import logging\n",
    "logging.Logger.disabled=True\n",
    "\n",
    "import os\n",
    "import PySpice.Logging.Logging as Logging\n",
    "logger = Logging.setup_logging( logging_level='CRITICAL')\n",
    "\n",
    "import numpy as np\n",
    "import matplotlib.pyplot as plt\n",
    "from sympy import *\n",
    "\n",
    "from pathlib import Path\n",
    "\n",
    "from PySpice.Unit import *\n",
    "from PySpice.Spice.Parser import SpiceParser\n",
    "from PySpice.Spice.Netlist import SubCircuit\n",
    "from PySpice.Spice.Netlist import SubCircuitFactory\n",
    "from PySpice.Spice.Library import SpiceLibrary\n",
    "from PySpice.Spice.Netlist import Circuit\n",
    "from PySpice.Probe.Plot import plot\n",
    "from PySpice.Math import *\n",
    "\n",
    "import schemdraw\n",
    "import schemdraw.elements as elm\n",
    "from schemdraw import dsp\n",
    "from schemdraw import logic\n",
    "\n",
    "from IPython.display import display, HTML\n",
    "\n",
    "## setup spice library path\n",
    "directory_path = Path(os.path.abspath('')).resolve().parent.parent\n",
    "spice_libraries_path = directory_path.joinpath(\"lib\", \"spice\")\n",
    "spice_library = SpiceLibrary(spice_libraries_path)\n",
    "## set the project directory as directory_path\n",
    "directory_path = Path(os.path.abspath('')).resolve()"
   ]
  },
  {
   "cell_type": "code",
   "execution_count": null,
   "metadata": {},
   "outputs": [],
   "source": [
    "# definitions\n",
    "        \n",
    "class VoltageDivider(SubCircuitFactory):\n",
    "    __name__ = 'voltage_divider'\n",
    "    __nodes__ = ('n1', 'n2', 'n3' )\n",
    "    __R = 100@u_kΩ\n",
    "\n",
    "    def __init__(self, R=100@u_kΩ, w=0.4, name='voltage_divider'):\n",
    "        self.__R__ = R\n",
    "        SubCircuit.__init__(self, name, *self.__nodes__)\n",
    "        self.R(1, 'n1', 'n2', R * w)\n",
    "        self.R(2, 'n2', 'n3', R * (1.0-w) )\n",
    "        \n",
    "    def wiper(self, w) :\n",
    "        if w == 0 :\n",
    "            self.R1.resistance = self.__R * 0.0000001\n",
    "            self.R2.resistance = self.__R * 0.9999999\n",
    "        elif w == 1 :\n",
    "            self.R1.resistance = self.__R * 0.9999999\n",
    "            self.R2.resistance = self.__R * 0.0000001\n",
    "        else :\n",
    "            self.R1.resistance = self.__R * w\n",
    "            self.R2.resistance = self.__R * (1.0-w)\n",
    "            \n",
    "class JackIn(SubCircuitFactory):\n",
    "    __name__ = 'jack_in'\n",
    "    __nodes__ = ('n1', 'n2', 'n3' )\n",
    "    def __init__(self, R=1@u_kΩ, name='jack_in', value='DC 5'):\n",
    "        self.__name__ = name\n",
    "        SubCircuit.__init__(self, name, *self.__nodes__)\n",
    "        self.V(1, 'n2', self.gnd, value)\n",
    "\n",
    "class JackOut(SubCircuitFactory):\n",
    "    __name__ = 'jack_out'\n",
    "    __nodes__ = ('n1', 'n2', 'n3' )\n",
    "    def __init__(self, R=0@u_kΩ, name='jack_out'):\n",
    "        self.__name__ = name\n",
    "        SubCircuit.__init__(self, name, *self.__nodes__)\n",
    "        self.R(1, 'n2', 'n3', R)\n"
   ]
  },
  {
   "cell_type": "markdown",
   "metadata": {},
   "source": [
    "# Construction\n",
    "\n",
    "The function depends on the patching and settings of the potentiometers. When the potentiometer is at the centre position, the output signal is muted. No output signal is present. When turning to the right, the output will get louder until the output signal is equal to the input. When turning the potentiometer to the left, the output signal will be phase-shifted by 180°.\n",
    "\n",
    "The first input is wired to a default DC voltage of +5V. With this input is not connected this voltage will be added as an offset to the mixed signal. With the potentiometer, the offset can be adjusted from -5V to +5V.\n",
    "\n",
    "The output jacks are switched. When something is plugged into an output, this output is removed from the summed output. This channel is a simple attenuverter."
   ]
  },
  {
   "cell_type": "code",
   "execution_count": null,
   "metadata": {
    "caption": "Figure 1: Summe Block Diagram",
    "tags": []
   },
   "outputs": [],
   "source": [
    "d = schemdraw.Drawing(unit=2.1, inches_per_unit=0.5, lw=1.75, fontsize=9)\n",
    "\n",
    "JI4 = d.add(elm.AudioJack(xy=[0, d.unit], lftlabel='$IN_4$'))\n",
    "d.add(elm.Ground(\"right\", xy=JI4.sleeve))\n",
    "d.add(elm.Line( \"right\", l=d.unit, at=JI4.tip))\n",
    "D4 = d.add(dsp.Amp())\n",
    "d.add(elm.Line( \"right\", l=d.unit))\n",
    "JO4 = d.add(elm.AudioJack(\"left\", switch=True, flip=True, anchor='tip', rgtlabel='$OUT_4$'))\n",
    "d.add(elm.Ground(\"right\", xy=JO4.sleeve))\n",
    "\n",
    "JI3 = d.add(elm.AudioJack(xy=[0, 2*d.unit], lftlabel='$IN_3$'))\n",
    "d.add(elm.Ground(\"right\", xy=JI3.sleeve))\n",
    "d.add(elm.Line( \"right\", l=d.unit, at=JI3.tip))\n",
    "D3 = d.add(dsp.Amp())\n",
    "d.add(elm.Line( \"right\", l=d.unit))\n",
    "JO3 = d.add(elm.AudioJack(\"left\", switch=True, flip=True, anchor='tip', rgtlabel='$OUT_3$'))\n",
    "d.add(elm.Ground(\"right\", xy=JO3.sleeve))\n",
    "\n",
    "JI2 = d.add(elm.AudioJack(xy=[0, 3*d.unit], lftlabel='$IN_2$'))\n",
    "d.add(elm.Ground(\"right\", xy=JI2.sleeve))\n",
    "d.add(elm.Line( \"right\", l=d.unit, at=JI2.tip))\n",
    "D2 = d.add(dsp.Amp())\n",
    "d.add(elm.Line( \"right\", l=d.unit))\n",
    "JO2 = d.add(elm.AudioJack(\"left\", switch=True, flip=True, anchor='tip', rgtlabel='$OUT_2$'))\n",
    "d.add(elm.Ground(\"right\", xy=JO2.sleeve))\n",
    "\n",
    "JI1 = d.add(elm.AudioJack(xy=[0, 4*d.unit], switch=True, lftlabel='$IN_1$'))\n",
    "d.add(elm.Vdd(\"down\", xy=JI1.tipswitch, botlabel=\"+5V\"))\n",
    "d.add(elm.Ground(\"right\", xy=JI1.sleeve))\n",
    "d.add(elm.Line( \"right\", l=d.unit, at=JI1.tip))\n",
    "D1 = d.add(dsp.Amp())\n",
    "d.add(elm.Line( \"right\", l=d.unit))\n",
    "JO1 = d.add(elm.AudioJack(\"left\", switch=True, flip=True, anchor='tip', rgtlabel='$OUT_1$'))\n",
    "d.add(elm.Ground(\"right\", xy=JO1.sleeve))\n",
    "\n",
    "d.add(elm.Line(\"left\", l=d.unit/2, xy=JO1.tipswitch))\n",
    "d.add(elm.Line(\"down\"))\n",
    "\n",
    "d.add(elm.Line(\"left\", l=d.unit/2, xy=JO2.tipswitch))\n",
    "d.add(elm.Dot())\n",
    "d.add(elm.Line(\"down\"))\n",
    "\n",
    "d.add(elm.Line(\"left\", l=d.unit/2, xy=JO3.tipswitch))\n",
    "d.add(elm.Dot())\n",
    "d.add(elm.Line(\"down\"))\n",
    "\n",
    "d.add(elm.Line(\"left\", l=d.unit/2, xy=JO4.tipswitch))\n",
    "d.add(elm.Dot())\n",
    "d.add(elm.Line(\"down\", l=d.unit/2))\n",
    "S = d.add(dsp.Sum())  \n",
    "\n",
    "d.add(elm.Line( \"down\", xy=S.E, l=d.unit/2))\n",
    "d.add(elm.Line( \"right\", l=d.unit/2))\n",
    "JO = d.add(elm.AudioJack(\"left\", anchor=\"tip\", flip=True, rgtlabel='$OUT$'))\n",
    "d.add(elm.Ground(\"right\", xy=JO.sleeve))\n",
    "\n",
    "d.draw()\n"
   ]
  },
  {
   "cell_type": "markdown",
   "metadata": {},
   "source": [
    "One interesting thing about the circuit is the attenuverter section. It uses an OPAMP in a differential configuration[[1]](http://www.ecircuitcenter.com/Circuits/opdif/opdif.htm). The resistors $R_3$ and $R_4$ are replaced with a potentiometer to make them adjustable."
   ]
  },
  {
   "cell_type": "code",
   "execution_count": null,
   "metadata": {
    "caption": "Figure 2: Attenuverter Schematic",
    "tags": []
   },
   "outputs": [],
   "source": [
    "#d = schemdraw.Drawing(unit=2.5, inches_per_unit=0.5, lw=0.9)\n",
    "d = schemdraw.Drawing(unit=2.0, inches_per_unit=0.5, lw=1.75, fontsize=9)\n",
    "\n",
    "O = d.add(elm.Opamp( label='$U_1$'))\n",
    "\n",
    "d.add(elm.Line( \"left\", xy=O.in1, l=d.unit/8))\n",
    "R1 = d.add(elm.Resistor( \"left\", label='$R_1$'))\n",
    "d.add(logic.Dot())    \n",
    "R2 = d.add(elm.Resistor( \"down\", label='$R_5$'))\n",
    "d.add(elm.Resistor( \"down\", label='$R_6$'))\n",
    "d.add(elm.Ground)\n",
    "\n",
    "L1 = d.add(elm.Line('left', l=d.unit/2, xy=R1.end))\n",
    "d.add(elm.Line('down', l=d.unit/2))\n",
    "RV = d.add(elm.Potentiometer('down', toplabel='$UV_1$\\n($R_3,R_4$)'))\n",
    "d.add(elm.Line('down', l=d.unit/2))\n",
    "d.add(elm.Ground)\n",
    "\n",
    "d.add(elm.Line('left', l=d.unit/4, xy=L1.end, lftlabel='$IN$'))\n",
    "\n",
    "d.add(elm.Line('right', tox=R2.end, xy=RV.tap))\n",
    "d.add(logic.Dot())\n",
    "\n",
    "d.add(elm.Line('right', l=d.unit/2, xy=R2.end))\n",
    "d.add(elm.Line('up', l=d.unit*0.58))\n",
    "d.add(elm.Line('right', l=d.unit*0.63))\n",
    "\n",
    "d.add(logic.Dot(xy=R1.start))\n",
    "d.add(elm.Line('up', l=d.unit))\n",
    "d.add(elm.Resistor('right', label='$R_2$', tox=O.out+d.unit/8))\n",
    "d.add(elm.Line('down', toy=O.out))\n",
    "d.add(logic.Dot())\n",
    "\n",
    "d.add(elm.Line('right', l=d.unit/4, xy=O.out, rgtlabel='$OUT$'))\n",
    "\n",
    "d.draw()"
   ]
  },
  {
   "cell_type": "markdown",
   "metadata": {},
   "source": [
    "$$\n",
    "\\begin{array}{c}\n",
    "Vout = \\Bigl(1 + \\frac{R2}{R1}\\Bigr) \\Bigl(\\frac{R4}{R3+R4}\\Bigr) * V2 - \\Bigl(\\frac{R2}{R1}\\Bigr) * V1\n",
    "\\end{array}\n",
    "$$"
   ]
  },
  {
   "cell_type": "markdown",
   "metadata": {
    "tags": []
   },
   "source": [
    "Above is the formula of the OPAMP differential amplifier. There are also the Resistors $R_5$ and $R_6$. These resistors make the response of the potentiometer logarithmic [[2]](https://sound-au.com/pots.htm). To calculate that these Resistors are in parallel to the Resistors $R_3$ and $R_4$."
   ]
  },
  {
   "cell_type": "markdown",
   "metadata": {},
   "source": [
    "$$\n",
    "\\begin{array}{c}\n",
    "Vout = \\Bigl(1 + \\frac{R2}{R1}\\Bigr) \\Bigl(\\frac{\\Bigl(\\frac{R4*R6}{R3+R5}\\Bigr)}{\\Bigl(\\frac{R3*R5}{R3+R5}\\Bigr)+\\Bigl(\\frac{R4*R6}{R3+R5}\\Bigr)}\\Bigr) * V2 - \\Bigl(\\frac{R2}{R1}\\Bigr) * V1\n",
    "\\end{array}\n",
    "$$"
   ]
  },
  {
   "cell_type": "code",
   "execution_count": null,
   "metadata": {
    "caption": "Figure 3: Attenuverter Potentiometer Sweep",
    "tags": [
     "outputPrepend"
    ]
   },
   "outputs": [],
   "source": [
    "R1, R2, R3, R4, V1, V2 = symbols(\"R1 R2 R3 R4 V1 V2\")\n",
    "expr = (1 + R2 / R1 ) * ( R4 / (R3+R4) ) * V2 - (R2/R1) * V1\n",
    "\n",
    "res1 = []\n",
    "for resistance in np.arange(0, 100000, 1000) :\n",
    "    res1.append(expr.evalf(subs={R1: 100000, R2: 100000, R3: 100000-resistance, R4: resistance, V1: 5, V2: 5}))\n",
    "\n",
    "from sympy import *\n",
    "R1, R2, R3, R4, R5, R6, V1, V2 = symbols(\"R1 R2 R3 R4 R5 R6 V1 V2\")\n",
    "expr = ( 1 + R2 / R1 ) * ( (R4*R5/(R4+R5)) / ((R3*R6/(R3+R6))+(R4*R6/(R4+R6))) ) * V2 - (R2/R1) * V1\n",
    "res2 = []\n",
    "for resistance in np.arange(0, 100000, 1000) :\n",
    "    res2.append(expr.evalf(subs={R1: 100000, R2: 100000, R3: 100000-resistance, R4: resistance, R5: 47000, R6: 47000, V1: 5, V2: 5}))\n",
    "    \n",
    "\n",
    "# calcultate the pot sweep\n",
    "circuit = Circuit('attenuverter')\n",
    "circuit.include(spice_library['OPA2134'])\n",
    "\n",
    "circuit.V('1', '+15V', circuit.gnd, 'DC 15')\n",
    "circuit.V('2', '-15V', circuit.gnd, 'DC -15')\n",
    "circuit.V('3', 'INPUT', circuit.gnd, 'DC 5 AC 5 SIN(0 5V 1k)')\n",
    "\n",
    "rv1 = circuit.R('RV1', 'INPUT', 'RV1out', 100@u_kΩ)\n",
    "rv2 = circuit.R('RV2', 'RV1out', circuit.gnd, 100@u_kΩ)\n",
    "circuit.R(3, 'INPUT', 'RV1out', 47@u_kΩ)\n",
    "circuit.R(4, 'RV1out', circuit.gnd, 47@u_kΩ)\n",
    "\n",
    "circuit.R(1, 'INPUT', 'op_neg', 100@u_kΩ)\n",
    "circuit.R(2, 'op_neg', 'OUT', 100@u_kΩ)\n",
    "\n",
    "circuit.X('op', 'OPA2134', 'RV1out', 'op_neg', '+15V', '-15V', 'OUT')\n",
    "\n",
    "attenuverter_results = []\n",
    "for s in np.arange( 1, 0, -0.01 ):\n",
    "    rv1.resistance = s * 100@u_kOhm\n",
    "    rv2.resistance = 100@u_kOhm - (s * 100@u_kOhm)\n",
    "    simulator = circuit.simulator(temperature=25, nominal_temperature=25)\n",
    "    analysis = simulator.operating_point()\n",
    "    attenuverter_results.append(float(analysis['OUT']))\n",
    "\n",
    "figure, ax = plt.subplots()\n",
    "ax.plot(res1)  # diffamp\n",
    "ax.plot(res2)  # log diffanp\n",
    "ax.plot(attenuverter_results)  # simulated\n",
    "ax.legend(('diffamp', 'logarithmic', 'simulated'), loc=(.1, .7))\n",
    "ax.grid()\n",
    "ax.set_xlabel('wiper [%]')\n",
    "ax.set_ylabel('[V]')\n",
    "\n",
    "plt.tight_layout()\n",
    "plt.show()"
   ]
  },
  {
   "cell_type": "markdown",
   "metadata": {},
   "source": [
    "The calculation shows the Result with a 5V input and a potentiometer sweep from 0-100%. The last curve shows the logarithmic result simulated with spice. It overlaps the calculated line."
   ]
  },
  {
   "cell_type": "markdown",
   "metadata": {},
   "source": [
    "It may be that the summing amplifier is not stable and self oscillates. In this case, small capacitors can be added to stabilize the signal."
   ]
  },
  {
   "cell_type": "raw",
   "metadata": {},
   "source": [
    "{{< bom summe main >}}\n",
    "{{< callout summe main panel >}}\n",
    "{{< report summe main >}}\n",
    "{{< image \"/summe-failure.jpg\" \"Figure 5: Opamp Failure\" >}}"
   ]
  },
  {
   "cell_type": "markdown",
   "metadata": {
    "jp-MarkdownHeadingCollapsed": true,
    "tags": []
   },
   "source": [
    "# Usage\n",
    "\n",
    "The first input jack is wired to 5 volts when nothing is connected.\n",
    "\n",
    "All channels are mixed to the out jack. when something is connected to the channel out, this channel is removed from the overall mix.\n",
    "\n",
    "_mixer_\n",
    "* connect the different channels from audio or cv sources to the in jacks.\n",
    "* connect the out jack to something\n",
    "* turn the pots clockwise to adjust the volume.\n",
    "\n",
    "_attenuverter_\n",
    "* connect all or a single channel. \n",
    "* when the pot knob is turned counterclockwise, the signal is inverted.\n",
    "\n",
    "\n"
   ]
  }
 ],
 "metadata": {
  "FrontMatter": {
   "author": "spielhuus",
   "categories": [
    "module"
   ],
   "date": "2021-04-01",
   "draft": false,
   "excerpt": "Summe is a simple DC mixer that allows various applications. The input signals can be simply added. It is also possible to invert the input, which results in a subtraction of the signals. The first input has a default DC voltage. If nothing is connected to this input, a DC offset is applied to the output.",
   "hero_image": "summe-landscape.jpg",
   "hero_mobile": "summe-portrait.jpg",
   "history": [
    {
     "date": "2021-11-12",
     "description": "Bipolar LED and redesign of PCB",
     "revision": "2"
    },
    {
     "date": "2021-04-01",
     "description": "initial commit of project",
     "revision": "1"
    }
   ],
   "image": "summe-card.jpg",
   "references": [
    {
     "description": "Beginners' Guide to Potentiometers",
     "title": "eCircuit",
     "url": "http://www.ecircuitcenter.com/Circuits/opdif/opdif.htm"
    },
    {
     "description": "Beginners' Guide to Potentiometers",
     "title": "ESP",
     "url": "https://sound-au.com/pots.htm"
    }
   ],
   "subtitle": "Summe is a simple mixer utility module. It can be used as a mixer, attenuator or attenuverter for AC and DC signals.",
   "tags": [
    "misc"
   ],
   "title": "summe",
   "version": "0"
  },
  "kernelspec": {
   "display_name": "Python 3 (ipykernel)",
   "language": "python",
   "name": "python3"
  },
  "language_info": {
   "codemirror_mode": {
    "name": "ipython",
    "version": 3
   },
   "file_extension": ".py",
   "mimetype": "text/x-python",
   "name": "python",
   "nbconvert_exporter": "python",
   "pygments_lexer": "ipython3",
   "version": "3.9.2"
  },
  "toc-showcode": false,
  "toc-showmarkdowntxt": false,
  "toc-showtags": true
 },
 "nbformat": 4,
 "nbformat_minor": 4
}

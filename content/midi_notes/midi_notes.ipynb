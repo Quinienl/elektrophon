{
 "metadata": {
  "language_info": {
   "codemirror_mode": {
    "name": "ipython",
    "version": 3
   },
   "file_extension": ".py",
   "mimetype": "text/x-python",
   "name": "python",
   "nbconvert_exporter": "python",
   "pygments_lexer": "ipython3",
   "version": "3.9.1-final"
  },
  "orig_nbformat": 2,
  "kernelspec": {
   "name": "python39164bitelektrophoncondab6df047f9ad043cd9a8dc15ff108b2c9",
   "display_name": "Python 3.9.1 64-bit ('elektrophon': conda)",
   "language": "python"
  }
 },
 "nbformat": 4,
 "nbformat_minor": 2,
 "cells": [
  {
   "cell_type": "code",
   "execution_count": 1,
   "metadata": {},
   "outputs": [],
   "source": [
    "# Just the normal prequisites for using matplotlib and numpy in a Jupyter notebook\n",
    "%matplotlib inline\n",
    "# Use the svg backend, in my opinion it just makes better looking plots\n",
    "%config InlineBackend.figure_format = 'svg'\n",
    "\n",
    "import IPython.display as ipd\n",
    "\n",
    "import numpy as np\n",
    "from sympy import symbols, sqrt, exp, diff, integrate, pprint, simplify, Eq, preview, pi, solve\n"
   ]
  },
  {
   "source": [
    "# *midi scales*\n",
    "{: class=\"subtitle is-lowercase\"}\n"
   ],
   "cell_type": "markdown",
   "metadata": {}
  },
  {
   "source": [
    "### *calculate frequency from midi note*\n",
    "\n"
   ],
   "cell_type": "markdown",
   "metadata": {}
  },
  {
   "cell_type": "code",
   "execution_count": 2,
   "metadata": {},
   "outputs": [
    {
     "output_type": "stream",
     "name": "stdout",
     "text": [
      "(2*a)**(n/12 - 23/4)\n"
     ]
    }
   ],
   "source": [
    "f, a, n = symbols('f,a,n', real=True)\n",
    "freq = (a * 2) ** ((n-69)/12)\n",
    "print(freq)\n",
    "#Eq( freq, f)\n"
   ]
  },
  {
   "source": [
    "|Implementation / Note\t |A1  |A2\t |A3\t|B3\t |C4\t|D4\t |E4\t|A4\t|A5|\n",
    "| --- | --- | --- | --- | --- | --- | --- | --- | --- | ---- |\n",
    "|Volts/octave (V)|\t1.000|\t2.000|\t3.000|\t3.167|\t3.250|\t3.417|\t3.583|\t4.000|\t5.000|\n",
    "|Hertz/volt (V)|\t1.000|\t2.000|\t4.000|\t4.490|\t4.757|\t5.339|\t5.993|\t8.000|\t16.000|\n",
    "{: class=\"table is-fullwidth is-striped is-hoverable is-narrow has-text-centered\"}"
   ],
   "cell_type": "markdown",
   "metadata": {}
  },
  {
   "cell_type": "code",
   "execution_count": null,
   "metadata": {},
   "outputs": [],
   "source": []
  },
  {
   "source": [
    "The voltages are linked by the formula \n"
   ],
   "cell_type": "markdown",
   "metadata": {}
  },
  {
   "source": [
    "$$\n",
    "\\begin{array}{c}\n",
    "V_{hz}=2^{V_{oct}-1}\n",
    "\\end{array}\n",
    "$$\n"
   ],
   "cell_type": "markdown",
   "metadata": {}
  },
  {
   "source": [
    "which can also be written "
   ],
   "cell_type": "markdown",
   "metadata": {}
  },
  {
   "source": [
    "$$\n",
    "\\begin{array}{c}\n",
    "V_{oct} = ln_{2}(V_{hz})+1\n",
    "\\end{array}\n",
    "$$"
   ],
   "cell_type": "markdown",
   "metadata": {}
  },
  {
   "cell_type": "code",
   "execution_count": 3,
   "metadata": {},
   "outputs": [],
   "source": [
    "notes = [ \n",
    "    'C', 'C#/Db ', 'D', 'D#/Eb ', 'E', 'F', 'F#/Gb ', 'G', 'G#/Ab', 'A', 'A#/Bb ', 'B', \n",
    "    'C', 'C#/Db ', 'D', 'D#/Eb ', 'E', 'F', 'F#/Gb ', 'G', 'G#/Ab', 'A', 'A#/Bb ', 'B', \n",
    "    'C', 'C#/Db ', 'D', 'D#/Eb ', 'E', 'F', 'F#/Gb ', 'G', 'G#/Ab', 'A', 'A#/Bb ', 'B', \n",
    "    'C', 'C#/Db ', 'D', 'D#/Eb ', 'E', 'F', 'F#/Gb ', 'G', 'G#/Ab', 'A', 'A#/Bb ', 'B', \n",
    "    'C', 'C#/Db ', 'D', 'D#/Eb ', 'E', 'F', 'F#/Gb ', 'G', 'G#/Ab', 'A', 'A#/Bb ', 'B', \n",
    "    'C', 'C#/Db ', 'D', 'D#/Eb ', 'E', 'F', 'F#/Gb ', 'G', 'G#/Ab', 'A', 'A#/Bb ', 'B', \n",
    "    'C', 'C#/Db ', 'D', 'D#/Eb ', 'E', 'F', 'F#/Gb ', 'G', 'G#/Ab', 'A', 'A#/Bb ', 'B', \n",
    "    'C', 'C#/Db ', 'D', 'D#/Eb ', 'E', 'F', 'F#/Gb ', 'G', 'G#/Ab', 'A', 'A#/Bb ', 'B', \n",
    "    'C', 'C#/Db ', 'D', 'D#/Eb ', 'E', 'F', 'F#/Gb ', 'G', 'G#/Ab', 'A', 'A#/Bb ', 'B', \n",
    "    'C', 'C#/Db ', 'D', 'D#/Eb ', 'E', 'F', 'F#/Gb ', 'G', 'G#/Ab', 'A', 'A#/Bb ', 'B', \n",
    "    'C', 'C#/Db ', 'D', 'D#/Eb ', 'E', 'F', 'F#/Gb ', 'G', 'G#/Ab', 'A', 'A#/Bb ', 'B'\n",
    "]\n",
    "\n",
    "octaves = [\n",
    "    '-5', '-5 ', '-5', '-5 ', '-5', '-5', '-5 ', '-5', '-5', '-5', '-5 ', '-5', \n",
    "    '-4', '-4 ', '-4', '-4 ', '-4', '-4', '-4 ', '-4', '-4', '-4', '-4 ', '-4', \n",
    "    '-3', '-3 ', '-3', '-3 ', '-3', '-3', '-3 ', '-3', '-3', '-3', '-3 ', '-3', \n",
    "    '-2', '-2 ', '-2', '-2 ', '-2', '-2', '-2 ', '-2', '-2', '-2', '-2 ', '-2', \n",
    "    '-1', '-1 ', '-1', '-1 ', '-1', '-1', '-1 ', '-1', '-1', '-1', '-1 ', '-1', \n",
    "    '0', '0 ', '0', '0 ', '0', '0', '0 ', '0', '0', '0', '0 ', '0', \n",
    "    '1', '1 ', '1', '1 ', '1', '1', '1 ', '1', '1', '1', '1 ', '1', \n",
    "    '2', '2 ', '2', '2 ', '2', '2', '2 ', '2', '2', '2', '2 ', '2', \n",
    "    '3', '3 ', '3', '3 ', '3', '3', '3', '3', '3', '3', '3 ', '3', \n",
    "    '4', '4 ', '4', '4 ', '4', '4', '4 ', '4', '4', '4', '4 ', '4', \n",
    "    '5', '5 ', '5', '5 ', '5', '5', '5 ', '5', '5', '5', '5 ', '5'\n",
    "]"
   ]
  },
  {
   "cell_type": "code",
   "execution_count": 4,
   "metadata": {},
   "outputs": [
    {
     "output_type": "stream",
     "name": "stdout",
     "text": [
      "132\n"
     ]
    }
   ],
   "source": [
    "print( 11 * 12)"
   ]
  },
  {
   "cell_type": "code",
   "execution_count": 5,
   "metadata": {},
   "outputs": [
    {
     "output_type": "display_data",
     "data": {
      "text/plain": "<IPython.core.display.Markdown object>",
      "text/markdown": "| Midi Note  |  Octave | Note | Frequency | Voltage |\r\n | --- |  ---- | --- | --- | --- |\r\n|  0  |  -5 | C | 8.18 | |\r\n|  1  |  -5  | C#/Db  | 8.66 | |\r\n|  2  |  -5 | D | 9.18 | |\r\n|  3  |  -5  | D#/Eb  | 9.72 | |\r\n|  4  |  -5 | E | 10.30 | |\r\n|  5  |  -5 | F | 10.91 | |\r\n|  6  |  -5  | F#/Gb  | 11.56 | |\r\n|  7  |  -5 | G | 12.25 | |\r\n|  8  |  -5 | G#/Ab | 12.98 | |\r\n|  9  |  -5 | A | 13.75 | |\r\n|  10  |  -5  | A#/Bb  | 14.57 | |\r\n|  11  |  -5 | B | 15.43 | |\r\n|  12  |  -4 | C | 16.35 | |\r\n|  13  |  -4  | C#/Db  | 17.32 | |\r\n|  14  |  -4 | D | 18.35 | |\r\n|  15  |  -4  | D#/Eb  | 19.45 | |\r\n|  16  |  -4 | E | 20.60 | |\r\n|  17  |  -4 | F | 21.83 | |\r\n|  18  |  -4  | F#/Gb  | 23.12 | |\r\n|  19  |  -4 | G | 24.50 | |\r\n|  20  |  -4 | G#/Ab | 25.96 | |\r\n|  21  |  -4 | A | 27.50 | |\r\n|  22  |  -4  | A#/Bb  | 29.14 | |\r\n|  23  |  -4 | B | 30.87 | |\r\n|  24  |  -3 | C | 32.70 | |\r\n|  25  |  -3  | C#/Db  | 34.65 | |\r\n|  26  |  -3 | D | 36.71 | |\r\n|  27  |  -3  | D#/Eb  | 38.89 | |\r\n|  28  |  -3 | E | 41.20 | |\r\n|  29  |  -3 | F | 43.65 | |\r\n|  30  |  -3  | F#/Gb  | 46.25 | |\r\n|  31  |  -3 | G | 49.00 | |\r\n|  32  |  -3 | G#/Ab | 51.91 | |\r\n|  33  |  -3 | A | 55.00 | |\r\n|  34  |  -3  | A#/Bb  | 58.27 | |\r\n|  35  |  -3 | B | 61.74 | |\r\n|  36  |  -2 | C | 65.41 | |\r\n|  37  |  -2  | C#/Db  | 69.30 | |\r\n|  38  |  -2 | D | 73.42 | |\r\n|  39  |  -2  | D#/Eb  | 77.78 | |\r\n|  40  |  -2 | E | 82.41 | |\r\n|  41  |  -2 | F | 87.31 | |\r\n|  42  |  -2  | F#/Gb  | 92.50 | |\r\n|  43  |  -2 | G | 98.00 | |\r\n|  44  |  -2 | G#/Ab | 103.83 | |\r\n|  45  |  -2 | A | 110.00 | |\r\n|  46  |  -2  | A#/Bb  | 116.54 | |\r\n|  47  |  -2 | B | 123.47 | |\r\n|  48  |  -1 | C | 130.81 | |\r\n|  49  |  -1  | C#/Db  | 138.59 | |\r\n|  50  |  -1 | D | 146.83 | |\r\n|  51  |  -1  | D#/Eb  | 155.56 | |\r\n|  52  |  -1 | E | 164.81 | |\r\n|  53  |  -1 | F | 174.61 | |\r\n|  54  |  -1  | F#/Gb  | 185.00 | |\r\n|  55  |  -1 | G | 196.00 | |\r\n|  56  |  -1 | G#/Ab | 207.65 | |\r\n|  57  |  -1 | A | 220.00 | |\r\n|  58  |  -1  | A#/Bb  | 233.08 | |\r\n|  59  |  -1 | B | 246.94 | |\r\n|  60  |  0 | C | 261.63 | |\r\n|  61  |  0  | C#/Db  | 277.18 | |\r\n|  62  |  0 | D | 293.66 | |\r\n|  63  |  0  | D#/Eb  | 311.13 | |\r\n|  64  |  0 | E | 329.63 | |\r\n|  65  |  0 | F | 349.23 | |\r\n|  66  |  0  | F#/Gb  | 369.99 | |\r\n|  67  |  0 | G | 392.00 | |\r\n|  68  |  0 | G#/Ab | 415.30 | |\r\n|  69  |  0 | A | 440.00 | 0.0000 |\r\n|  70  |  0  | A#/Bb  | 466.16 | 0.0833 |\r\n|  71  |  0 | B | 493.88 | 0.1667 |\r\n|  72  |  1 | C | 523.25 | 0.2500 |\r\n|  73  |  1  | C#/Db  | 554.37 | 0.3333 |\r\n|  74  |  1 | D | 587.33 | 0.4167 |\r\n|  75  |  1  | D#/Eb  | 622.25 | 0.5000 |\r\n|  76  |  1 | E | 659.26 | 0.5833 |\r\n|  77  |  1 | F | 698.46 | 0.6667 |\r\n|  78  |  1  | F#/Gb  | 739.99 | 0.7500 |\r\n|  79  |  1 | G | 783.99 | 0.8333 |\r\n|  80  |  1 | G#/Ab | 830.61 | 0.9167 |\r\n|  81  |  1 | A | 880.00 | 1.0000 |\r\n|  82  |  1  | A#/Bb  | 932.33 | 1.0833 |\r\n|  83  |  1 | B | 987.77 | 1.1667 |\r\n|  84  |  2 | C | 1046.50 | 1.2500 |\r\n|  85  |  2  | C#/Db  | 1108.73 | 1.3333 |\r\n|  86  |  2 | D | 1174.66 | 1.4167 |\r\n|  87  |  2  | D#/Eb  | 1244.51 | 1.5000 |\r\n|  88  |  2 | E | 1318.51 | 1.5833 |\r\n|  89  |  2 | F | 1396.91 | 1.6667 |\r\n|  90  |  2  | F#/Gb  | 1479.98 | 1.7500 |\r\n|  91  |  2 | G | 1567.98 | 1.8333 |\r\n|  92  |  2 | G#/Ab | 1661.22 | 1.9167 |\r\n|  93  |  2 | A | 1760.00 | 2.0000 |\r\n|  94  |  2  | A#/Bb  | 1864.66 | 2.0833 |\r\n|  95  |  2 | B | 1975.53 | 2.1667 |\r\n|  96  |  3 | C | 2093.00 | 2.2500 |\r\n|  97  |  3  | C#/Db  | 2217.46 | 2.3333 |\r\n|  98  |  3 | D | 2349.32 | 2.4167 |\r\n|  99  |  3  | D#/Eb  | 2489.02 | 2.5000 |\r\n|  100  |  3 | E | 2637.02 | 2.5833 |\r\n|  101  |  3 | F | 2793.83 | 2.6667 |\r\n|  102  |  3 | F#/Gb  | 2959.96 | 2.7500 |\r\n|  103  |  3 | G | 3135.96 | 2.8333 |\r\n|  104  |  3 | G#/Ab | 3322.44 | 2.9167 |\r\n|  105  |  3 | A | 3520.00 | 3.0000 |\r\n|  106  |  3  | A#/Bb  | 3729.31 | 3.0833 |\r\n|  107  |  3 | B | 3951.07 | 3.1667 |\r\n|  108  |  4 | C | 4186.01 | 3.2500 |\r\n|  109  |  4  | C#/Db  | 4434.92 | 3.3333 |\r\n|  110  |  4 | D | 4698.64 | 3.4167 |\r\n|  111  |  4  | D#/Eb  | 4978.03 | 3.5000 |\r\n|  112  |  4 | E | 5274.04 | 3.5833 |\r\n|  113  |  4 | F | 5587.65 | 3.6667 |\r\n|  114  |  4  | F#/Gb  | 5919.91 | 3.7500 |\r\n|  115  |  4 | G | 6271.93 | 3.8333 |\r\n|  116  |  4 | G#/Ab | 6644.88 | 3.9167 |\r\n|  117  |  4 | A | 7040.00 | 4.0000 |\r\n|  118  |  4  | A#/Bb  | 7458.62 | 4.0833 |\r\n|  119  |  4 | B | 7902.13 | 4.1667 |\r\n|  120  |  5 | C | 8372.02 | 4.2500 |\r\n|  121  |  5  | C#/Db  | 8869.84 | 4.3333 |\r\n|  122  |  5 | D | 9397.27 | 4.4167 |\r\n|  123  |  5  | D#/Eb  | 9956.06 | 4.5000 |\r\n|  124  |  5 | E | 10548.08 | 4.5833 |\r\n|  125  |  5 | F | 11175.30 | 4.6667 |\r\n|  126  |  5  | F#/Gb  | 11839.82 | 4.7500 |\r\n|  127  |  5 | G | 12543.85 | 4.8333 |\r\n{: class=\"table is-fullwidth is-striped is-hoverable is-narrow has-text-centered\"}\r\n"
     },
     "metadata": {}
    }
   ],
   "source": [
    "a = 440\n",
    "v_step = 1 / 12\n",
    "\n",
    "table = '| Midi Note  |  Octave | Note | Frequency | Voltage |\\r\\n'\n",
    "table += ' | --- |  ---- | --- | --- | --- |\\r\\n'\n",
    "\n",
    "for s in np.arange(0, 128) :\n",
    "    _freq = a * 2 ** ((s-69) / 12 )\n",
    "    table += '|  %s  |  %s | %s | %.2f |' % (s, octaves[s], notes[s], _freq)\n",
    "    if s >= 69 :\n",
    "        table += ' %.4f |\\r\\n' % ((s-69) * v_step)\n",
    "    else :\n",
    "        table += ' |\\r\\n'\n",
    "\n",
    "table += \"{: class=\\\"table is-fullwidth is-striped is-hoverable is-narrow has-text-centered\\\"}\\r\\n\"\n",
    "\n",
    "from IPython.display import display, Markdown\n",
    "display(Markdown(table))"
   ]
  },
  {
   "source": [
    "# references\n",
    "{: class=\"subtitle is-lowercase\"}\n",
    "\n",
    "1. "
   ],
   "cell_type": "markdown",
   "metadata": {}
  }
 ]
}
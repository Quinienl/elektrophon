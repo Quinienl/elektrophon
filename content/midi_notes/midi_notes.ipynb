{
 "cells": [
  {
   "cell_type": "code",
   "execution_count": 1,
   "metadata": {},
   "outputs": [],
   "source": [
    "# Just the normal prequisites for using matplotlib and numpy in a Jupyter notebook\n",
    "%matplotlib inline\n",
    "# Use the svg backend, in my opinion it just makes better looking plots\n",
    "%config InlineBackend.figure_format = 'svg'\n",
    "\n",
    "import IPython.display as ipd\n",
    "\n",
    "import numpy as np\n",
    "from sympy import symbols, sqrt, exp, diff, integrate, pprint, simplify, Eq, preview, pi, solve\n"
   ]
  },
  {
   "cell_type": "markdown",
   "metadata": {},
   "source": [
    "# *midi scales*\n",
    "{: class=\"subtitle is-lowercase\"}\n"
   ]
  },
  {
   "cell_type": "markdown",
   "metadata": {},
   "source": [
    "### *calculate frequency from midi note*\n",
    "\n"
   ]
  },
  {
   "cell_type": "code",
   "execution_count": 2,
   "metadata": {},
   "outputs": [
    {
     "name": "stdout",
     "output_type": "stream",
     "text": [
      "(2*a)**(n/12 - 23/4)\n"
     ]
    }
   ],
   "source": [
    "f, a, n = symbols('f,a,n', real=True)\n",
    "freq = (a * 2) ** ((n-69)/12)\n",
    "print(freq)\n",
    "#Eq( freq, f)\n"
   ]
  },
  {
   "cell_type": "markdown",
   "metadata": {},
   "source": [
    "|Implementation / Note\t |A1  |A2\t |A3\t|B3\t |C4\t|D4\t |E4\t|A4\t|A5|\n",
    "| --- | --- | --- | --- | --- | --- | --- | --- | --- | ---- |\n",
    "|Volts/octave (V)|\t1.000|\t2.000|\t3.000|\t3.167|\t3.250|\t3.417|\t3.583|\t4.000|\t5.000|\n",
    "|Hertz/volt (V)|\t1.000|\t2.000|\t4.000|\t4.490|\t4.757|\t5.339|\t5.993|\t8.000|\t16.000|\n",
    "{: class=\"table is-fullwidth is-striped is-hoverable is-narrow has-text-centered\"}"
   ]
  },
  {
   "cell_type": "code",
   "execution_count": null,
   "metadata": {},
   "outputs": [],
   "source": []
  },
  {
   "cell_type": "markdown",
   "metadata": {},
   "source": [
    "The voltages are linked by the formula \n"
   ]
  },
  {
   "cell_type": "markdown",
   "metadata": {},
   "source": [
    "$$\n",
    "\\begin{array}{c}\n",
    "V_{hz}=2^{V_{oct}-1}\n",
    "\\end{array}\n",
    "$$\n"
   ]
  },
  {
   "cell_type": "markdown",
   "metadata": {},
   "source": [
    "which can also be written "
   ]
  },
  {
   "cell_type": "markdown",
   "metadata": {},
   "source": [
    "$$\n",
    "\\begin{array}{c}\n",
    "V_{oct} = ln_{2}(V_{hz})+1\n",
    "\\end{array}\n",
    "$$"
   ]
  },
  {
   "cell_type": "code",
   "execution_count": 3,
   "metadata": {},
   "outputs": [],
   "source": [
    "notes = [ \n",
    "    'C', 'C#/Db ', 'D', 'D#/Eb ', 'E', 'F', 'F#/Gb ', 'G', 'G#/Ab', 'A', 'A#/Bb ', 'B', \n",
    "    'C', 'C#/Db ', 'D', 'D#/Eb ', 'E', 'F', 'F#/Gb ', 'G', 'G#/Ab', 'A', 'A#/Bb ', 'B', \n",
    "    'C', 'C#/Db ', 'D', 'D#/Eb ', 'E', 'F', 'F#/Gb ', 'G', 'G#/Ab', 'A', 'A#/Bb ', 'B', \n",
    "    'C', 'C#/Db ', 'D', 'D#/Eb ', 'E', 'F', 'F#/Gb ', 'G', 'G#/Ab', 'A', 'A#/Bb ', 'B', \n",
    "    'C', 'C#/Db ', 'D', 'D#/Eb ', 'E', 'F', 'F#/Gb ', 'G', 'G#/Ab', 'A', 'A#/Bb ', 'B', \n",
    "    'C', 'C#/Db ', 'D', 'D#/Eb ', 'E', 'F', 'F#/Gb ', 'G', 'G#/Ab', 'A', 'A#/Bb ', 'B', \n",
    "    'C', 'C#/Db ', 'D', 'D#/Eb ', 'E', 'F', 'F#/Gb ', 'G', 'G#/Ab', 'A', 'A#/Bb ', 'B', \n",
    "    'C', 'C#/Db ', 'D', 'D#/Eb ', 'E', 'F', 'F#/Gb ', 'G', 'G#/Ab', 'A', 'A#/Bb ', 'B', \n",
    "    'C', 'C#/Db ', 'D', 'D#/Eb ', 'E', 'F', 'F#/Gb ', 'G', 'G#/Ab', 'A', 'A#/Bb ', 'B', \n",
    "    'C', 'C#/Db ', 'D', 'D#/Eb ', 'E', 'F', 'F#/Gb ', 'G', 'G#/Ab', 'A', 'A#/Bb ', 'B', \n",
    "    'C', 'C#/Db ', 'D', 'D#/Eb ', 'E', 'F', 'F#/Gb ', 'G', 'G#/Ab', 'A', 'A#/Bb ', 'B'\n",
    "]\n",
    "\n",
    "octaves = [\n",
    "    '-5', '-5 ', '-5', '-5 ', '-5', '-5', '-5 ', '-5', '-5', '-5', '-5 ', '-5', \n",
    "    '-4', '-4 ', '-4', '-4 ', '-4', '-4', '-4 ', '-4', '-4', '-4', '-4 ', '-4', \n",
    "    '-3', '-3 ', '-3', '-3 ', '-3', '-3', '-3 ', '-3', '-3', '-3', '-3 ', '-3', \n",
    "    '-2', '-2 ', '-2', '-2 ', '-2', '-2', '-2 ', '-2', '-2', '-2', '-2 ', '-2', \n",
    "    '-1', '-1 ', '-1', '-1 ', '-1', '-1', '-1 ', '-1', '-1', '-1', '-1 ', '-1', \n",
    "    '0', '0 ', '0', '0 ', '0', '0', '0 ', '0', '0', '0', '0 ', '0', \n",
    "    '1', '1 ', '1', '1 ', '1', '1', '1 ', '1', '1', '1', '1 ', '1', \n",
    "    '2', '2 ', '2', '2 ', '2', '2', '2 ', '2', '2', '2', '2 ', '2', \n",
    "    '3', '3 ', '3', '3 ', '3', '3', '3', '3', '3', '3', '3 ', '3', \n",
    "    '4', '4 ', '4', '4 ', '4', '4', '4 ', '4', '4', '4', '4 ', '4', \n",
    "    '5', '5 ', '5', '5 ', '5', '5', '5 ', '5', '5', '5', '5 ', '5'\n",
    "]"
   ]
  },
  {
   "cell_type": "code",
   "execution_count": 4,
   "metadata": {},
   "outputs": [
    {
     "data": {
      "text/html": [
       "\n",
       "<table class=\"table\">\n",
       "  <thead>\n",
       "    <tr>\n",
       "      <th>Midi Note</th>\n",
       "      <th>Team</th>\n",
       "      <th>Octave></th>\n",
       "      <th>Note</th>\n",
       "      <th>Frequency</th>\n",
       "      <th>Voltage</th>\n",
       "    </tr>\n",
       "  </thead>\n",
       "  <tbody>\n",
       "<tr><td>  0  </td><td>  -5 <td></td> C <td></td> 8.18 </td></td><td></td></tr><tr><td>  1  </td><td>  -5  <td></td> C#/Db  <td></td> 8.66 </td></td><td></td></tr><tr><td>  2  </td><td>  -5 <td></td> D <td></td> 9.18 </td></td><td></td></tr><tr><td>  3  </td><td>  -5  <td></td> D#/Eb  <td></td> 9.72 </td></td><td></td></tr><tr><td>  4  </td><td>  -5 <td></td> E <td></td> 10.30 </td></td><td></td></tr><tr><td>  5  </td><td>  -5 <td></td> F <td></td> 10.91 </td></td><td></td></tr><tr><td>  6  </td><td>  -5  <td></td> F#/Gb  <td></td> 11.56 </td></td><td></td></tr><tr><td>  7  </td><td>  -5 <td></td> G <td></td> 12.25 </td></td><td></td></tr><tr><td>  8  </td><td>  -5 <td></td> G#/Ab <td></td> 12.98 </td></td><td></td></tr><tr><td>  9  </td><td>  -5 <td></td> A <td></td> 13.75 </td></td><td></td></tr><tr><td>  10  </td><td>  -5  <td></td> A#/Bb  <td></td> 14.57 </td></td><td></td></tr><tr><td>  11  </td><td>  -5 <td></td> B <td></td> 15.43 </td></td><td></td></tr><tr><td>  12  </td><td>  -4 <td></td> C <td></td> 16.35 </td></td><td></td></tr><tr><td>  13  </td><td>  -4  <td></td> C#/Db  <td></td> 17.32 </td></td><td></td></tr><tr><td>  14  </td><td>  -4 <td></td> D <td></td> 18.35 </td></td><td></td></tr><tr><td>  15  </td><td>  -4  <td></td> D#/Eb  <td></td> 19.45 </td></td><td></td></tr><tr><td>  16  </td><td>  -4 <td></td> E <td></td> 20.60 </td></td><td></td></tr><tr><td>  17  </td><td>  -4 <td></td> F <td></td> 21.83 </td></td><td></td></tr><tr><td>  18  </td><td>  -4  <td></td> F#/Gb  <td></td> 23.12 </td></td><td></td></tr><tr><td>  19  </td><td>  -4 <td></td> G <td></td> 24.50 </td></td><td></td></tr><tr><td>  20  </td><td>  -4 <td></td> G#/Ab <td></td> 25.96 </td></td><td></td></tr><tr><td>  21  </td><td>  -4 <td></td> A <td></td> 27.50 </td></td><td></td></tr><tr><td>  22  </td><td>  -4  <td></td> A#/Bb  <td></td> 29.14 </td></td><td></td></tr><tr><td>  23  </td><td>  -4 <td></td> B <td></td> 30.87 </td></td><td></td></tr><tr><td>  24  </td><td>  -3 <td></td> C <td></td> 32.70 </td></td><td></td></tr><tr><td>  25  </td><td>  -3  <td></td> C#/Db  <td></td> 34.65 </td></td><td></td></tr><tr><td>  26  </td><td>  -3 <td></td> D <td></td> 36.71 </td></td><td></td></tr><tr><td>  27  </td><td>  -3  <td></td> D#/Eb  <td></td> 38.89 </td></td><td></td></tr><tr><td>  28  </td><td>  -3 <td></td> E <td></td> 41.20 </td></td><td></td></tr><tr><td>  29  </td><td>  -3 <td></td> F <td></td> 43.65 </td></td><td></td></tr><tr><td>  30  </td><td>  -3  <td></td> F#/Gb  <td></td> 46.25 </td></td><td></td></tr><tr><td>  31  </td><td>  -3 <td></td> G <td></td> 49.00 </td></td><td></td></tr><tr><td>  32  </td><td>  -3 <td></td> G#/Ab <td></td> 51.91 </td></td><td></td></tr><tr><td>  33  </td><td>  -3 <td></td> A <td></td> 55.00 </td></td><td></td></tr><tr><td>  34  </td><td>  -3  <td></td> A#/Bb  <td></td> 58.27 </td></td><td></td></tr><tr><td>  35  </td><td>  -3 <td></td> B <td></td> 61.74 </td></td><td></td></tr><tr><td>  36  </td><td>  -2 <td></td> C <td></td> 65.41 </td></td><td></td></tr><tr><td>  37  </td><td>  -2  <td></td> C#/Db  <td></td> 69.30 </td></td><td></td></tr><tr><td>  38  </td><td>  -2 <td></td> D <td></td> 73.42 </td></td><td></td></tr><tr><td>  39  </td><td>  -2  <td></td> D#/Eb  <td></td> 77.78 </td></td><td></td></tr><tr><td>  40  </td><td>  -2 <td></td> E <td></td> 82.41 </td></td><td></td></tr><tr><td>  41  </td><td>  -2 <td></td> F <td></td> 87.31 </td></td><td></td></tr><tr><td>  42  </td><td>  -2  <td></td> F#/Gb  <td></td> 92.50 </td></td><td></td></tr><tr><td>  43  </td><td>  -2 <td></td> G <td></td> 98.00 </td></td><td></td></tr><tr><td>  44  </td><td>  -2 <td></td> G#/Ab <td></td> 103.83 </td></td><td></td></tr><tr><td>  45  </td><td>  -2 <td></td> A <td></td> 110.00 </td></td><td></td></tr><tr><td>  46  </td><td>  -2  <td></td> A#/Bb  <td></td> 116.54 </td></td><td></td></tr><tr><td>  47  </td><td>  -2 <td></td> B <td></td> 123.47 </td></td><td></td></tr><tr><td>  48  </td><td>  -1 <td></td> C <td></td> 130.81 </td></td><td></td></tr><tr><td>  49  </td><td>  -1  <td></td> C#/Db  <td></td> 138.59 </td></td><td></td></tr><tr><td>  50  </td><td>  -1 <td></td> D <td></td> 146.83 </td></td><td></td></tr><tr><td>  51  </td><td>  -1  <td></td> D#/Eb  <td></td> 155.56 </td></td><td></td></tr><tr><td>  52  </td><td>  -1 <td></td> E <td></td> 164.81 </td></td><td></td></tr><tr><td>  53  </td><td>  -1 <td></td> F <td></td> 174.61 </td></td><td></td></tr><tr><td>  54  </td><td>  -1  <td></td> F#/Gb  <td></td> 185.00 </td></td><td></td></tr><tr><td>  55  </td><td>  -1 <td></td> G <td></td> 196.00 </td></td><td></td></tr><tr><td>  56  </td><td>  -1 <td></td> G#/Ab <td></td> 207.65 </td></td><td></td></tr><tr><td>  57  </td><td>  -1 <td></td> A <td></td> 220.00 </td></td><td></td></tr><tr><td>  58  </td><td>  -1  <td></td> A#/Bb  <td></td> 233.08 </td></td><td></td></tr><tr><td>  59  </td><td>  -1 <td></td> B <td></td> 246.94 </td></td><td></td></tr><tr><td>  60  </td><td>  0 <td></td> C <td></td> 261.63 </td></td><td></td></tr><tr><td>  61  </td><td>  0  <td></td> C#/Db  <td></td> 277.18 </td></td><td></td></tr><tr><td>  62  </td><td>  0 <td></td> D <td></td> 293.66 </td></td><td></td></tr><tr><td>  63  </td><td>  0  <td></td> D#/Eb  <td></td> 311.13 </td></td><td></td></tr><tr><td>  64  </td><td>  0 <td></td> E <td></td> 329.63 </td></td><td></td></tr><tr><td>  65  </td><td>  0 <td></td> F <td></td> 349.23 </td></td><td></td></tr><tr><td>  66  </td><td>  0  <td></td> F#/Gb  <td></td> 369.99 </td></td><td></td></tr><tr><td>  67  </td><td>  0 <td></td> G <td></td> 392.00 </td></td><td></td></tr><tr><td>  68  </td><td>  0 <td></td> G#/Ab <td></td> 415.30 </td></td><td></td></tr><tr><td>  69  </td><td>  0 <td></td> A <td></td> 440.00 </td></td><td> 0.0000 </td></tr><tr><td>  70  </td><td>  0  <td></td> A#/Bb  <td></td> 466.16 </td></td><td> 0.0833 </td></tr><tr><td>  71  </td><td>  0 <td></td> B <td></td> 493.88 </td></td><td> 0.1667 </td></tr><tr><td>  72  </td><td>  1 <td></td> C <td></td> 523.25 </td></td><td> 0.2500 </td></tr><tr><td>  73  </td><td>  1  <td></td> C#/Db  <td></td> 554.37 </td></td><td> 0.3333 </td></tr><tr><td>  74  </td><td>  1 <td></td> D <td></td> 587.33 </td></td><td> 0.4167 </td></tr><tr><td>  75  </td><td>  1  <td></td> D#/Eb  <td></td> 622.25 </td></td><td> 0.5000 </td></tr><tr><td>  76  </td><td>  1 <td></td> E <td></td> 659.26 </td></td><td> 0.5833 </td></tr><tr><td>  77  </td><td>  1 <td></td> F <td></td> 698.46 </td></td><td> 0.6667 </td></tr><tr><td>  78  </td><td>  1  <td></td> F#/Gb  <td></td> 739.99 </td></td><td> 0.7500 </td></tr><tr><td>  79  </td><td>  1 <td></td> G <td></td> 783.99 </td></td><td> 0.8333 </td></tr><tr><td>  80  </td><td>  1 <td></td> G#/Ab <td></td> 830.61 </td></td><td> 0.9167 </td></tr><tr><td>  81  </td><td>  1 <td></td> A <td></td> 880.00 </td></td><td> 1.0000 </td></tr><tr><td>  82  </td><td>  1  <td></td> A#/Bb  <td></td> 932.33 </td></td><td> 1.0833 </td></tr><tr><td>  83  </td><td>  1 <td></td> B <td></td> 987.77 </td></td><td> 1.1667 </td></tr><tr><td>  84  </td><td>  2 <td></td> C <td></td> 1046.50 </td></td><td> 1.2500 </td></tr><tr><td>  85  </td><td>  2  <td></td> C#/Db  <td></td> 1108.73 </td></td><td> 1.3333 </td></tr><tr><td>  86  </td><td>  2 <td></td> D <td></td> 1174.66 </td></td><td> 1.4167 </td></tr><tr><td>  87  </td><td>  2  <td></td> D#/Eb  <td></td> 1244.51 </td></td><td> 1.5000 </td></tr><tr><td>  88  </td><td>  2 <td></td> E <td></td> 1318.51 </td></td><td> 1.5833 </td></tr><tr><td>  89  </td><td>  2 <td></td> F <td></td> 1396.91 </td></td><td> 1.6667 </td></tr><tr><td>  90  </td><td>  2  <td></td> F#/Gb  <td></td> 1479.98 </td></td><td> 1.7500 </td></tr><tr><td>  91  </td><td>  2 <td></td> G <td></td> 1567.98 </td></td><td> 1.8333 </td></tr><tr><td>  92  </td><td>  2 <td></td> G#/Ab <td></td> 1661.22 </td></td><td> 1.9167 </td></tr><tr><td>  93  </td><td>  2 <td></td> A <td></td> 1760.00 </td></td><td> 2.0000 </td></tr><tr><td>  94  </td><td>  2  <td></td> A#/Bb  <td></td> 1864.66 </td></td><td> 2.0833 </td></tr><tr><td>  95  </td><td>  2 <td></td> B <td></td> 1975.53 </td></td><td> 2.1667 </td></tr><tr><td>  96  </td><td>  3 <td></td> C <td></td> 2093.00 </td></td><td> 2.2500 </td></tr><tr><td>  97  </td><td>  3  <td></td> C#/Db  <td></td> 2217.46 </td></td><td> 2.3333 </td></tr><tr><td>  98  </td><td>  3 <td></td> D <td></td> 2349.32 </td></td><td> 2.4167 </td></tr><tr><td>  99  </td><td>  3  <td></td> D#/Eb  <td></td> 2489.02 </td></td><td> 2.5000 </td></tr><tr><td>  100  </td><td>  3 <td></td> E <td></td> 2637.02 </td></td><td> 2.5833 </td></tr><tr><td>  101  </td><td>  3 <td></td> F <td></td> 2793.83 </td></td><td> 2.6667 </td></tr><tr><td>  102  </td><td>  3 <td></td> F#/Gb  <td></td> 2959.96 </td></td><td> 2.7500 </td></tr><tr><td>  103  </td><td>  3 <td></td> G <td></td> 3135.96 </td></td><td> 2.8333 </td></tr><tr><td>  104  </td><td>  3 <td></td> G#/Ab <td></td> 3322.44 </td></td><td> 2.9167 </td></tr><tr><td>  105  </td><td>  3 <td></td> A <td></td> 3520.00 </td></td><td> 3.0000 </td></tr><tr><td>  106  </td><td>  3  <td></td> A#/Bb  <td></td> 3729.31 </td></td><td> 3.0833 </td></tr><tr><td>  107  </td><td>  3 <td></td> B <td></td> 3951.07 </td></td><td> 3.1667 </td></tr><tr><td>  108  </td><td>  4 <td></td> C <td></td> 4186.01 </td></td><td> 3.2500 </td></tr><tr><td>  109  </td><td>  4  <td></td> C#/Db  <td></td> 4434.92 </td></td><td> 3.3333 </td></tr><tr><td>  110  </td><td>  4 <td></td> D <td></td> 4698.64 </td></td><td> 3.4167 </td></tr><tr><td>  111  </td><td>  4  <td></td> D#/Eb  <td></td> 4978.03 </td></td><td> 3.5000 </td></tr><tr><td>  112  </td><td>  4 <td></td> E <td></td> 5274.04 </td></td><td> 3.5833 </td></tr><tr><td>  113  </td><td>  4 <td></td> F <td></td> 5587.65 </td></td><td> 3.6667 </td></tr><tr><td>  114  </td><td>  4  <td></td> F#/Gb  <td></td> 5919.91 </td></td><td> 3.7500 </td></tr><tr><td>  115  </td><td>  4 <td></td> G <td></td> 6271.93 </td></td><td> 3.8333 </td></tr><tr><td>  116  </td><td>  4 <td></td> G#/Ab <td></td> 6644.88 </td></td><td> 3.9167 </td></tr><tr><td>  117  </td><td>  4 <td></td> A <td></td> 7040.00 </td></td><td> 4.0000 </td></tr><tr><td>  118  </td><td>  4  <td></td> A#/Bb  <td></td> 7458.62 </td></td><td> 4.0833 </td></tr><tr><td>  119  </td><td>  4 <td></td> B <td></td> 7902.13 </td></td><td> 4.1667 </td></tr><tr><td>  120  </td><td>  5 <td></td> C <td></td> 8372.02 </td></td><td> 4.2500 </td></tr><tr><td>  121  </td><td>  5  <td></td> C#/Db  <td></td> 8869.84 </td></td><td> 4.3333 </td></tr><tr><td>  122  </td><td>  5 <td></td> D <td></td> 9397.27 </td></td><td> 4.4167 </td></tr><tr><td>  123  </td><td>  5  <td></td> D#/Eb  <td></td> 9956.06 </td></td><td> 4.5000 </td></tr><tr><td>  124  </td><td>  5 <td></td> E <td></td> 10548.08 </td></td><td> 4.5833 </td></tr><tr><td>  125  </td><td>  5 <td></td> F <td></td> 11175.30 </td></td><td> 4.6667 </td></tr><tr><td>  126  </td><td>  5  <td></td> F#/Gb  <td></td> 11839.82 </td></td><td> 4.7500 </td></tr><tr><td>  127  </td><td>  5 <td></td> G <td></td> 12543.85 </td></td><td> 4.8333 </td></tr></tbody></table>"
      ],
      "text/plain": [
       "<IPython.core.display.HTML object>"
      ]
     },
     "metadata": {},
     "output_type": "display_data"
    }
   ],
   "source": [
    "a = 440\n",
    "v_step = 1 / 12\n",
    "\n",
    "table = '''\n",
    "<div class=\"section\">\n",
    "<div class=\"container\">\n",
    "<div class=\"content\">\n",
    "<table class=\"table\">\n",
    "  <thead>\n",
    "    <tr>\n",
    "      <th>Midi Note</th>\n",
    "      <th>Octave></th>\n",
    "      <th>Note</th>\n",
    "      <th>Frequency</th>\n",
    "      <th>Voltage</th>\n",
    "    </tr>\n",
    "  </thead>\n",
    "  <tbody>\n",
    "'''\n",
    "\n",
    "for s in np.arange(0, 128) :\n",
    "    _freq = a * 2 ** ((s-69) / 12 )\n",
    "    table += '<tr><td>  %s  </td><td>  %s </td><td> %s </td><td> %.2f </td>' % (s, octaves[s], notes[s], _freq)\n",
    "    if s >= 69 :\n",
    "        table += '</td><td> %.4f </td></tr>' % ((s-69) * v_step)\n",
    "    else :\n",
    "        table += '</td><td></td></tr>'\n",
    "\n",
    "table += \"</tbody></table></div></div></div>\"\n",
    "\n",
    "from IPython.display import display, HTML\n",
    "display(HTML(table))"
   ]
  },
  {
   "cell_type": "markdown",
   "metadata": {},
   "source": [
    "# references\n",
    "{: class=\"subtitle is-lowercase\"}\n",
    "\n",
    "1. "
   ]
  }
 ],
 "metadata": {
  "FrontMatter": {
   "category": "article",
   "date": "2021-06-10",
   "excerpt": "In this article, we look at how to build modules that can be mounted in a eurorack. The international standard 19&quot; rack system (DIN 41494 / IEC 297-3 / IEEE 1001.1) is the base for the dimension. These standards define all the parts needed to build a complete rack. here only the rails to mount the modules are used. The rails will be screwed to side panels made from wood.",
   "hero_darken": true,
   "hero_height": "is-fullheight",
   "hero_image": "/assets/vermarkung-hero-landscape.jpg",
   "hero_mobile": "/assets/vermarkung-hero-portrait.jpg",
   "hero_subtitle": true,
   "hero_title": true,
   "image": "/assets/rails.jpg",
   "layout": "article",
   "subtitle": "play with the 4046 phase locked loop",
   "tag": "grundlage",
   "title": "midi",
   "version": "0"
  },
  "kernelspec": {
   "display_name": "Python 3 (ipykernel)",
   "language": "python",
   "name": "python3"
  },
  "language_info": {
   "codemirror_mode": {
    "name": "ipython",
    "version": 3
   },
   "file_extension": ".py",
   "mimetype": "text/x-python",
   "name": "python",
   "nbconvert_exporter": "python",
   "pygments_lexer": "ipython3",
   "version": "3.9.6"
  }
 },
 "nbformat": 4,
 "nbformat_minor": 4
}

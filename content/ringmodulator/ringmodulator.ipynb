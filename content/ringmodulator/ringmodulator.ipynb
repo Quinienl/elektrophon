{
 "cells": [
  {
   "cell_type": "code",
   "execution_count": null,
   "metadata": {},
   "outputs": [],
   "source": [
    "import PySpice.Logging.Logging as Logging\n",
    "logger = Logging.setup_logging( logging_level='CRITICAL')\n",
    "\n",
    "import logging\n",
    "logging.Logger.disabled=True\n",
    "\n",
    "%matplotlib inline\n",
    "%config InlineBackend.figure_format = 'svg'\n",
    "\n",
    "import warnings;\n",
    "with warnings.catch_warnings():\n",
    "    warnings.simplefilter(\"ignore\"); \n",
    "    import matplotlib.pyplot as plt\n",
    "\n",
    "import os\n",
    "import sys\n",
    "from pathlib import Path\n",
    "import IPython\n",
    "from scipy import signal\n",
    "import scipy.fftpack\n",
    "from PySpice.Unit import *\n",
    "from PySpice.Spice.Parser import SpiceParser\n",
    "from PySpice.Spice.Netlist import Circuit, SubCircuit, SubCircuitFactory\n",
    "from PySpice.Spice.Library import SpiceLibrary\n",
    "from PySpice.Probe.Plot import plot\n",
    "from PySpice.Doc.ExampleTools import find_libraries\n",
    "from PySpice.Math import *\n",
    "from scipy.fft import fft, fftfreq\n",
    "import numpy as np\n",
    "import unittest\n",
    "\n",
    "import schemdraw\n",
    "import schemdraw.elements as elm\n",
    "\n",
    "directory_path = Path(os.path.abspath('')).resolve().parent.parent\n",
    "spice_libraries_path = directory_path.joinpath(\"lib\", \"spice\")\n",
    "spice_library = SpiceLibrary(spice_libraries_path)\n",
    "\n",
    "directory_path = Path(os.path.abspath('')).resolve()\n",
    "\n",
    "from IPython.display import Javascript\n",
    "from IPython.display import display, HTML"
   ]
  },
  {
   "cell_type": "markdown",
   "metadata": {},
   "source": [
    "# amplitude modulation\n",
    "\n",
    "In amplitude modulation the amplitude (signal strength) of the carrier changes in proportion to the message signal.  \n",
    "\n",
    "\n"
   ]
  },
  {
   "cell_type": "markdown",
   "metadata": {},
   "source": [
    "\n",
    "\n",
    "$$\n",
    "\\begin{array}{c}\n",
    "c(t) = A \\sin(2 \\pi f_c t)\\,\n",
    "\\end{array}\n",
    "$$\n",
    "\n",
    "\n"
   ]
  },
  {
   "cell_type": "markdown",
   "metadata": {},
   "source": [
    "Where A is the amplitude of the carrier singal and the function of f the modulation signal. Amplitude Modulation is a multiplication of the two signals. "
   ]
  },
  {
   "cell_type": "code",
   "execution_count": null,
   "metadata": {
    "caption": "Figure 1: Double-sideband suppressed-carrier transmission (DSBSC)",
    "tags": []
   },
   "outputs": [],
   "source": [
    "f1 = 1000\n",
    "f2 = 200\n",
    "\n",
    "N = 1000\n",
    "# sample spacing\n",
    "T = 1.0 / 20000.0\n",
    "x = np.linspace(0.0, N*T, N, endpoint=False)\n",
    "\n",
    "y1 = np.sin(f1 * 2.0 * np.pi * x)\n",
    "y2 = np.sin(f2 * 2.0 * np.pi * x)\n",
    "y3 = np.sin(f1 * 2.0 * np.pi * x) * np.sin(f2 * 2.0 * np.pi * x)\n",
    "y4 = np.sin(f1 * 2.0 * np.pi * x) * np.sin(f2 * 2.0 * np.pi * x) + np.sin(f1 * 2.0 * np.pi * x)\n",
    "\n",
    "fig, (ax0, ax1) = plt.subplots(nrows=2, ncols=1, sharex=False, sharey=False, figsize=(8, 6))\n",
    "\n",
    "#plot multiplication\n",
    "ax0.plot(x[0:200], y1[0:200], c='Grey', linestyle='--')  # differential output\n",
    "ax0.plot(x[0:200], y2[0:200], c='Grey')  # differential output\n",
    "ax0.plot(x[0:200], y3[0:200], c='Red')  # differential output\n",
    "ax0.set_ylabel('amplitude')\n",
    "ax0.grid()\n",
    "\n",
    "y = y3\n",
    "yf = fft(y)\n",
    "#print(yf.size)\n",
    "xf = fftfreq(N, T)[:N//2]\n",
    "\n",
    "ax1.plot(xf[0:125], 2.0/N * np.abs(yf[0:N//8]))\n",
    "ax1.grid()\n",
    "ax1.set_ylabel('frequency')\n",
    "plt.xticks(np.arange(min(xf[0:250]), max(xf[0:125])+1, 400))\n",
    "\n",
    "plt.tight_layout()\n",
    "plt.show()\n"
   ]
  },
  {
   "cell_type": "markdown",
   "metadata": {},
   "source": [
    "Here the carrier frequency is 1kHz and the modulation frequency is 200Hz. The carrier frequency is modulated by the modulation frequency. When the modulation signal is negative the resulting signal has a phase shift of 180°. The frequency analysis shows that the two sidebands are created at 800Hz and 1200Hz. The modulation frequency is added and subtracted from the base frequency. This is called a double-sideband with suppressed carrier (DSBSC)."
   ]
  },
  {
   "cell_type": "code",
   "execution_count": null,
   "metadata": {
    "caption": "Figure 2: Add carrier to product",
    "tags": []
   },
   "outputs": [],
   "source": [
    "fig, (ax0, ax1) = plt.subplots(nrows=2, ncols=1, sharex=False, sharey=False, figsize=(8, 6))\n",
    "\n",
    "#plot multiplication with carrier added\n",
    "ax0.plot(x[0:200], y1[0:200], c='Grey', linestyle='--')  # differential output\n",
    "ax0.plot(x[0:200], y2[0:200], c='Grey')  # differential output\n",
    "ax0.plot(x[0:200], y4[0:200], c='Red')  # differential output\n",
    "ax0.grid()\n",
    "ax0.set_ylabel('amplitude')\n",
    "\n",
    "y = y4\n",
    "yf = fft(y)\n",
    "xf = fftfreq(N, T)[:N//2]\n",
    "ax1.plot(xf[0:125], 2.0/N * np.abs(yf[0:N//8]))\n",
    "ax1.set_ylabel('frequency')\n",
    "plt.xticks(np.arange(min(xf[0:250]), max(xf[0:125])+1, 400))\n",
    "ax1.grid()\n",
    "\n",
    "plt.tight_layout()\n",
    "plt.show()"
   ]
  },
  {
   "cell_type": "markdown",
   "metadata": {},
   "source": [
    "When the carrier frequency is added to the result, we see two things. First, the final signal is not phase-shifted when the base signal is negative. Second, the carrier signal is part of the final signal. This is basic amplitude modulation. but notice that the output amplitude is twice the input."
   ]
  },
  {
   "cell_type": "markdown",
   "metadata": {},
   "source": [
    "# Long tailed pair\n",
    "\n",
    "The long-tailed pair or differential amplifier is probably the most widely used circuit building block. For example, the long-tailed pair is the base for op-amps. Also in synthesizer circuits, we see the long-tailed pair a lot for converting CV signals into current. This circuit can be implemented with BJTs or MOSFETs. The differential pair multiplies the voltage difference between the two inputs with the differential gain. The differential gain can be configured with the current in the long tail. The output can be taken either from one side or the difference from both sides. "
   ]
  },
  {
   "cell_type": "code",
   "execution_count": null,
   "metadata": {
    "caption": "Figure 3: Long tailed pair",
    "tags": []
   },
   "outputs": [],
   "source": [
    "d = schemdraw.Drawing(unit=2.5, inches_per_unit=0.5, lw=0.9)\n",
    "\n",
    "Q1 = d.add(elm.BjtNpn( label='$Q_1$', circle=True))\n",
    "d.add(elm.Line(\"up\"))\n",
    "d.add(elm.Resistor( \"up\", label=\"$R_1$\"))\n",
    "d.add(elm.Vdd(label=\"+15V\"))\n",
    "\n",
    "IN_X = d.add(elm.Line(\"left\", l=d.unit/2, xy=Q1.base))\n",
    "d.add(elm.Dot('left', open=True))\n",
    "\n",
    "L_Q1_emmitter = d.add(elm.Line(\"down\",  xy=Q1.emitter, l=d.unit/2))\n",
    "d.add(elm.Line(\"right\", l=d.unit*2))\n",
    "d.add(elm.Line(\"up\", l=d.unit/2))\n",
    "Q2 = d.add(elm.BjtNpn(\"right\", lftlabel='$Q_2$', anchor=\"emitter\", circle=True, reverse=True))\n",
    "d.add(elm.Line(\"up\", xy=Q2.collector))\n",
    "d.add(elm.Resistor( \"up\", label=\"$R_2$\"))\n",
    "d.add(elm.Vdd(label=\"+15V\"))\n",
    "\n",
    "d.add(elm.Line(\"right\", xy=Q2.base, l=d.unit/4))\n",
    "d.add(elm.Line(\"down\", l=d.unit/4))\n",
    "d.add(elm.Ground())\n",
    "\n",
    "d.add(elm.Dot(xy=[L_Q1_emmitter.end[0]+d.unit, L_Q1_emmitter.end[1]]))\n",
    "R3 = d.add(elm.Resistor( \"down\", label=\"$R_3$\"))\n",
    "d.add(elm.Dot())\n",
    "d.add(elm.Resistor( \"down\", label=\"$R_4$\"))\n",
    "d.add(elm.Vss(botlabel=\"-15V\"))\n",
    "\n",
    "d.add(elm.Line(\"left\", l=d.unit, xy=R3.end))\n",
    "d.add(elm.Line(\"down\", l=d.unit/2))\n",
    "Q3 = d.add(elm.BjtNpn(\"right\", rgtlabel='$Q_3$', anchor=\"emitter\", circle=True, flip=True))\n",
    "d.add(elm.Ground(xy=Q3.collector))\n",
    "IN_Y = d.add(elm.Line(\"left\", xy=Q3.base, tox=IN_X.end))\n",
    "d.add(elm.Dot('left', open=True))\n",
    "d.add(elm.Gap('down', xy=IN_X.end, toy=IN_Y.end, label=['X', 'IN', 'Y']))\n",
    "\n",
    "d.add(elm.Dot(xy=[Q1.collector[0], Q1.collector[1]+d.unit/3]))\n",
    "L_OUT_A = d.add(elm.Line(\"right\", l=d.unit*3))\n",
    "d.add(elm.Dot('right', open=True))\n",
    "d.add(elm.Dot(xy=[Q2.collector[0], Q2.collector[1]+d.unit/3*2]))\n",
    "L_OUT_B = d.add(elm.Line(\"right\", tox=L_OUT_A.end))\n",
    "d.add(elm.Dot('right', open=True))\n",
    "\n",
    "d.add(elm.Label('right', xy=[L_OUT_A.end[0]+d.unit/4, L_OUT_A.end[1]+d.unit/8], label='OUT'))\n",
    "\n",
    "d.draw()"
   ]
  },
  {
   "cell_type": "markdown",
   "metadata": {},
   "source": [
    "In this typical vca configuration, the audio signal is applied to the transistor Q1 where Q2 is grounded. The multiplication factor, or current, is set with the transistor Q3. The output is the difference of OUTa and OUTb (OUTb - OUTa). "
   ]
  },
  {
   "cell_type": "code",
   "execution_count": null,
   "metadata": {},
   "outputs": [],
   "source": [
    "circuit = Circuit('differential pair')\n",
    "circuit.include(spice_library['BC547B'])\n",
    "\n",
    "circuit.V('1', '+15V', circuit.gnd, 'DC 15')\n",
    "circuit.V('2', '-15V', circuit.gnd, 'DC -15')\n",
    "circuit.V('3', 'IN_a', circuit.gnd, 'DC 0V AC 0V SIN(0 25m 1k)')\n",
    "circuit.V('4', 'IN_b', circuit.gnd, 'DC 0V AC 0V SIN(0 5 100)')\n",
    "\n",
    "circuit.BJT('1', 'OUT_A', 'IN_a', 'R3_in', model=\"BC547B\")\n",
    "circuit.BJT('2', 'OUT_B', circuit.gnd, 'R3_in', model=\"BC547B\")\n",
    "circuit.BJT('3', circuit.gnd, 'IN_b', 'R3_out', model=\"BC547B\")\n",
    "\n",
    "circuit.R(1, 'OUT_A', '+15V', 15@u_kΩ)\n",
    "circuit.R(2, 'OUT_B', '+15V', 15@u_kΩ)\n",
    "circuit.R(3, 'R3_in', 'R3_out', 33@u_kΩ)\n",
    "R4 = circuit.R(4, 'R3_out', '-15V', 15@u_kΩ)\n"
   ]
  },
  {
   "cell_type": "code",
   "execution_count": null,
   "metadata": {},
   "outputs": [],
   "source": [
    "simulator = circuit.simulator(temperature=25, nominal_temperature=25)\n",
    "analysis  = simulator.transient(step_time=1@u_us, start_time=0@u_ms, end_time=20@u_ms)"
   ]
  },
  {
   "cell_type": "code",
   "execution_count": null,
   "metadata": {
    "caption": "Figure 4: Amplitude modulation",
    "tags": []
   },
   "outputs": [],
   "source": [
    "fig_buffer, ax1_buffer = plt.subplots()\n",
    "\n",
    "ax1_buffer.set_xlabel('time [ms]')\n",
    "ax1_buffer.set_ylabel('amplitude [V]')\n",
    "#ax1_buffer.plot(u_ms(analysis['IN_a'].abscissa), analysis['IN_a'], color='Blue')\n",
    "ax1_buffer.plot(u_ms(analysis['IN_b'].abscissa), analysis['IN_b'] / 5, color='Blue')\n",
    "#ax1_buffer.plot(u_ms(analysis['OUT_A'].abscissa), analysis['OUT_A'], color='Grey')\n",
    "#ax1_buffer.plot(u_ms(analysis['OUT_A'].abscissa), analysis['OUT_B'], color='Grey')\n",
    "ax1_buffer.plot(u_ms(analysis['OUT_A'].abscissa), analysis['OUT_A'] - analysis['OUT_B'], color='#E97451')\n",
    "ax1_buffer.legend(('Vin_a [V]', 'Vin_b', 'Vout [V]'), loc=(0.75,0.8))\n",
    "\n",
    "plt.tight_layout()\n",
    "plt.show()"
   ]
  },
  {
   "cell_type": "code",
   "execution_count": null,
   "metadata": {},
   "outputs": [],
   "source": [
    "from IPython.display import display, HTML\n",
    "display(HTML('''\n",
    "<div class=\"section\">\n",
    "<div class=\"container\">\n",
    "<div class=\"content\">\n",
    "<canvas id=\"myChart\" width=\"600\" height=\"500px\"></canvas>\n",
    "</div>\n",
    "</div>\n",
    "</div>\n",
    "'''))\n"
   ]
  },
  {
   "cell_type": "code",
   "execution_count": null,
   "metadata": {},
   "outputs": [],
   "source": [
    "import json\n",
    "\n",
    "data = []\n",
    "diff = (analysis['OUT_A'] - analysis['OUT_B'])\n",
    "out = []\n",
    "labels = []\n",
    "for item in analysis['IN_b'] :\n",
    "    value = float(item)\n",
    "    data.append(value/5)\n",
    "\n",
    "for item in diff :\n",
    "    value = float(item)\n",
    "    out.append(value)\n",
    "    \n",
    "for item in analysis['IN_b'].abscissa :\n",
    "    label = float(item)\n",
    "    labels.append(label*1000)\n"
   ]
  },
  {
   "cell_type": "markdown",
   "metadata": {},
   "source": [
    "The output (red) is the signal multiplied by the input at the long tail. But we see that only the negative signal creates amplification. When the signal is positive the output is silent. This circuit can be useful for a VCA where a DC envelope is applied."
   ]
  },
  {
   "cell_type": "markdown",
   "metadata": {},
   "source": [
    "# gilbert cell\n",
    "\n",
    "Another circuit for the multiplication of two signals is the Gilbert Cell. Although everybody calls it the Gilbert Cell, it is not invented by [Barrie Gilbert](https://en.wikipedia.org/wiki/Barrie_Gilbert). The circuit was first used by Howard Jones in 1963. But Barrie Gilbert invented and augmented it independently and made it a common building block in analog electronics. The Gilbert Cell essentially comprises two differential transistor pairs whose bias current is controlled by one of the input signals."
   ]
  },
  {
   "cell_type": "code",
   "execution_count": null,
   "metadata": {
    "caption": "Figure 5: Gilbert Cell",
    "tags": []
   },
   "outputs": [],
   "source": [
    "d = schemdraw.Drawing(unit=2.5, inches_per_unit=0.5, lw=0.9)\n",
    "\n",
    "d += (Q1 := elm.BjtNpn(circle=True).label('$Q_1$'))\n",
    "d += elm.Line().left().at((Q1, 'base'))\n",
    "d += (INa := elm.Dot(open=True))\n",
    "d += elm.Line().up().at((Q1, 'collector'))\n",
    "d += (R1 := elm.Resistor().up().label('$R_{1}$'))\n",
    "d += (L1 := elm.Line().right().length(d.unit*2))\n",
    "d += elm.Dot()\n",
    "d += elm.Vdd().label('+15V')\n",
    "d += elm.Line().right().length(d.unit*2)\n",
    "d += ( R2 := elm.Resistor().down().label('$R_{2}$') )\n",
    "d += elm.Line().down()\n",
    "d += (Q4 := elm.BjtNpn(circle=True, anchor='collector').left().flip().label('$Q_4$', loc=\"lft\"))\n",
    "\n",
    "d += elm.Line().right().length(d.unit/2).at((Q4, 'base'))\n",
    "d += elm.Line().down().length(d.unit/2)\n",
    "d += elm.Line().left().length(d.unit*5.5)\n",
    "d += elm.Line().up().length(d.unit/2)\n",
    "d += elm.Dot()\n",
    "\n",
    "d += elm.Dot().at((R1, 'start'))\n",
    "d += (OUTa := elm.Line().right())\n",
    "d += elm.Dot(open=True)\n",
    "d += elm.Dot().at((R2, 'end'))\n",
    "d += (OUTb := elm.Line().left())\n",
    "d += elm.Dot(open=True)\n",
    "d += (G := elm.Gap().left().tox(OUTa.end).label(['b', 'OUT', 'a']))\n",
    "\n",
    "d += elm.Line().down().at((Q1, 'emitter')).length(d.unit/2)\n",
    "d += (L2 := elm.Line().right().length(d.unit/2))\n",
    "d += elm.Dot()\n",
    "d += elm.Line().down().length(d.unit/2)\n",
    "d += (Q5 := elm.BjtNpn(circle=True, anchor='collector').right().label('$Q_5$'))\n",
    "d += elm.Line().down().length(d.unit/2).at((Q5, 'emitter'))\n",
    "d += elm.Line().right().length(d.unit*1.5)\n",
    "d += (Lmin := elm.Dot())\n",
    "d += elm.Resistor().down().label('$R_3$')\n",
    "d += elm.Vss().label('-15V', loc='bot')\n",
    "\n",
    "d += elm.Line().right().at(Lmin.end).length(d.unit*1.5)\n",
    "d += elm.Line().up().length(d.unit/2)\n",
    "d += (Q6 := elm.BjtNpn(circle=True, anchor='emitter').left().flip().label('$Q_6$', loc=\"lft\"))\n",
    "d += (L4 := elm.Line().up().length(d.unit/2).at((Q6, 'collector')))\n",
    "d += elm.Dot()\n",
    "d += elm.Line().left().length(d.unit/2)\n",
    "d += elm.Line().up().length(d.unit/2)\n",
    "d += (Q3 := elm.BjtNpn(circle=True, anchor='emitter').right().label('$Q_3$'))\n",
    "d += elm.Line().up().at((Q3, 'collector')).length(d.unit/2-d.unit/8)\n",
    "d += elm.Line().left().length(d.unit*3)\n",
    "d += elm.Dot()\n",
    "d += elm.Line().right().length(d.unit/2).at((L4, 'end'))\n",
    "d += elm.Line().up().length(d.unit/2)\n",
    "\n",
    "d += elm.Line().at((Q6, 'base')).right().length(d.unit/4)\n",
    "d += elm.Vdd().label('$V_{bias}$')\n",
    "\n",
    "d += elm.Line().left().length(d.unit/2).at((Q5, 'base'))\n",
    "d += (C1 := elm.Capacitor().left().label('$C_1$'))\n",
    "d += elm.Dot(open=True)\n",
    "d += (elm.Gap().up().toy(INa.end).label(['x', 'IN', 'y']))\n",
    "d += elm.Vdd().label('$V_{bias}$').at((C1, 'start'))\n",
    "\n",
    "d += elm.Line().right().length(d.unit/2).at((L2, 'end'))\n",
    "d += elm.Line().up().length(d.unit/2)\n",
    "d += (Q2 := elm.BjtNpn(circle=True, anchor='emitter').left().flip().label('$Q_2$', loc=\"lft\"))\n",
    "d += elm.Line().up().at((Q2, 'collector')).length(d.unit/2)\n",
    "d += elm.Line().right().length(d.unit*3)\n",
    "d += elm.Dot()\n",
    "\n",
    "d += ( Lgnd := elm.Line().right().at((Q2, 'base')).length(d.unit*0.7))\n",
    "d += elm.Dot()\n",
    "d += elm.Line().right().tox(Q3.base)\n",
    "d += elm.Line().down().at(Lgnd.end).length(d.unit/16)\n",
    "d += elm.Ground()\n",
    "\n",
    "d.draw()"
   ]
  },
  {
   "cell_type": "markdown",
   "metadata": {},
   "source": [
    "It is not so easy to create a discrete Gilbert Cell. All the transistors have to be matched. The most tricky part is the biasing of the input signals. Here the audio signal is biased with a voltage of -7.5V (Vbias). The carrier is biased by the -15V in the long tail. This allows, that the carrier signal can also be a DC signal, like an envelope. This is a very crude implementation of a Gilbert Cell, which most likely is not precise and would add a lot of noise to the output."
   ]
  },
  {
   "cell_type": "code",
   "execution_count": null,
   "metadata": {
    "tags": []
   },
   "outputs": [],
   "source": [
    "circuit = Circuit('gilbert cell')\n",
    "circuit.include(spice_library['BC547B'])\n",
    "\n",
    "circuit.V('1', '+15V', circuit.gnd, 'DC 15')\n",
    "circuit.V('2', '-15V', circuit.gnd, 'DC -15')\n",
    "circuit.V('3', 'IN_x', circuit.gnd, 'DC 0V AC 0V SIN(0 10m 1k)')\n",
    "circuit.V('4', 'IN_y', circuit.gnd, 'DC 0V AC 0V SIN(0 20m 100)')\n",
    "circuit.V('5', 'Vbias', circuit.gnd, 'DC -7.5V')\n",
    "\n",
    "circuit.R(1, 'OUT_a', '+15V', 720@u_Ω)\n",
    "circuit.R(2, 'OUT_b', '+15V', 720@u_Ω)\n",
    "circuit.R(3, 'R3_in', '-15V', 720@u_Ω)\n",
    "\n",
    "circuit.R(4, 'R4_out', 'Vbias', 2.2@u_kΩ)\n",
    "circuit.R(5, 'R5_out', 'Vbias', 2.2@u_kΩ)\n",
    "\n",
    "circuit.C(1, 'IN_x', 'R4_out', 0.22@u_uF)\n",
    "\n",
    "# collector, base, emitter\n",
    "circuit.BJT('1', 'OUT_a', 'IN_y', 'emitter_left', model=\"BC547B\")\n",
    "circuit.BJT('2', 'OUT_b', circuit.gnd, 'emitter_left', model=\"BC547B\")\n",
    "circuit.BJT('3', 'OUT_a', circuit.gnd, 'emitter_right', model=\"BC547B\")\n",
    "circuit.BJT('4', 'OUT_b', 'IN_y', 'emitter_right', model=\"BC547B\")\n",
    "circuit.BJT('5', 'emitter_left', 'R4_out', 'R3_in', model=\"BC547B\")\n",
    "circuit.BJT('6', 'emitter_right', 'R5_out', 'R3_in', model=\"BC547B\")\n",
    "\n",
    "simulator = circuit.simulator(temperature=25, nominal_temperature=25)\n",
    "simulator.options('INTERP')\n",
    "analysis  = simulator.transient(step_time=1@u_us, start_time=0@u_ms, end_time=20@u_ms)"
   ]
  },
  {
   "cell_type": "code",
   "execution_count": null,
   "metadata": {
    "caption": "Figure 6: Gilbert Cell result",
    "tags": []
   },
   "outputs": [],
   "source": [
    "fig_buffer, ax1_buffer = plt.subplots()\n",
    "\n",
    "ax1_buffer.set_xlabel('time (ms)')\n",
    "ax1_buffer.set_ylabel('IN [V]')\n",
    "#ax1_buffer.plot(u_ms(analysis['IN_x'].abscissa), analysis['IN_x']*15, color='Blue')\n",
    "ax1_buffer.plot(u_ms(analysis['IN_y'].abscissa), analysis['IN_y']*8, color='Blue')\n",
    "ax1_buffer.plot(u_ms(analysis['OUT_a'].abscissa), (analysis['OUT_b'] - analysis['OUT_a']), color='#E97451')\n",
    "ax1_buffer.legend(('Vin_y [V]', 'Vout [V]'), loc=(0.75,0.8))\n",
    "\n",
    "plt.tight_layout()\n",
    "plt.show()"
   ]
  },
  {
   "cell_type": "markdown",
   "metadata": {},
   "source": [
    "The plot shows, that the Gilbert Cell does work as excpected and creates real amplitude modulation with double sideband and supressed carrier."
   ]
  },
  {
   "cell_type": "markdown",
   "metadata": {},
   "source": [
    "# Analog Multiplier\n",
    "\n",
    "We saw that multiple types of multiplier circuits behave differently. Of course, this is a well-defined behaviour. The multipliers are classified in three types. The types are called quadrants. In the following table the different quadrants are listed and for which signal type they can be used."
   ]
  },
  {
   "cell_type": "markdown",
   "metadata": {},
   "source": [
    "|Type|X [V]| Y  [V]| Out [V]|\n",
    "|--- |---  |---    |---     |\n",
    "|1-Quadrant|Unipolar|Unipolar|Unipolar|\n",
    "|2-Quadrant|Bipolar|Unipolar|Bipolar|\n",
    "|4-Quadrant|Bipolar|Bipolar|Bipolar|"
   ]
  },
  {
   "cell_type": "markdown",
   "metadata": {},
   "source": [
    "The simulation showed that the long-tailed pair is a 2-quadrant multiplier. The X signal can be an audio signal but the Y signal has to be unipolar, for example, an envelope. In contrast, the Gilbert Cell is a four-quadrant multiplier and allows both signals to be bipolar. The Gilbert Cell can be used as a Ring Modulator. of course, a 4-quadrant multiplier also works correctly when one signal is unipolar. But the output signal would be the same as with a 2-quadrant multiplier. "
   ]
  },
  {
   "cell_type": "markdown",
   "metadata": {},
   "source": [
    "# conclusion\n",
    "\n",
    "There are different circuits for multiplication of signals. The choice of the circuit depends on the nature of the signal and the required functions we want to apply to them. Here only circuits using BJT's are shown. The downside of these circuits is that all the transistors have to be properly matched. In my experience, they are also very sensitive to noise. My take on a discrete Gilbert Cell produced to much noise to be useful. There are also integrated circuits which implement a VCA or multiplier available. For a simple VCA the [LM13700](https://www.ti.com/lit/ds/symlink/lm13700.pdf) is a good choice. There are also integrated circuits available which implement the Gilbert Cell. One example is the [AD633](https://www.analog.com/media/en/technical-documentation/data-sheets/AD633.pdf) from Analog Devices. This chip is very handy, it offers the right input and output impedances. No buffering or biasing of the signals is necessary. It is a very precise multiplier, which of course has some price. "
   ]
  },
  {
   "cell_type": "markdown",
   "metadata": {},
   "source": [
    "# references\n",
    "\n",
    "* [LM13700](https://www.ti.com/lit/ds/symlink/lm13700.pdf) Datasheet\n",
    "* [AD633](https://www.analog.com/media/en/technical-documentation/data-sheets/AD633.pdf) Datasheet\n",
    "* VCA Techniques Investigated by [Rod Elliott (ESP)](https://sound-au.com/articles/vca-techniques.html)"
   ]
  }
 ],
 "metadata": {
  "FrontMatter": {
   "author": "spielhuus",
   "categories": [
    "article"
   ],
   "date": "2021-01-04",
   "excerpt": "Amplitude Modulation has its origin in electronic communication technology. It is used in radio transmission where an audio signal is modulated on a carrier signal. Amplitude Modulation is also used in synthesizers. When both signals in a VCA are in the audio range, the resulting audio signal has added timbre. Amplitude Modulation is also used in a Ring Modulator. Ring modulation adds frequencies to the audio signal which gives it a different characteristic. The resulting audio signal has some ‘metallic’ sound. The popular usage of Ring Modulation is the Dalek voice from the BBC series Doctor Who.",
   "hero_image": "dalek.png",
   "hero_mobile": "arbeitsplatz-hero_portrait.jpg",
   "image": "dalek.png",
   "subtitle": "Different amplitude modulation techniques are explored and the relation to voltage controlled amplifiers is explained.",
   "tags": [
    "grundlage",
    "elektronik"
   ],
   "title": "ringmodulation",
   "version": "0"
  },
  "kernelspec": {
   "display_name": "Python 3 (ipykernel)",
   "language": "python",
   "name": "python3"
  },
  "language_info": {
   "codemirror_mode": {
    "name": "ipython",
    "version": 3
   },
   "file_extension": ".py",
   "mimetype": "text/x-python",
   "name": "python",
   "nbconvert_exporter": "python",
   "pygments_lexer": "ipython3",
   "version": "3.9.2"
  }
 },
 "nbformat": 4,
 "nbformat_minor": 4
}

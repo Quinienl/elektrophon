{
 "metadata": {
  "language_info": {
   "codemirror_mode": {
    "name": "ipython",
    "version": 3
   },
   "file_extension": ".py",
   "mimetype": "text/x-python",
   "name": "python",
   "nbconvert_exporter": "python",
   "pygments_lexer": "ipython3",
   "version": "3.9.2-final"
  },
  "orig_nbformat": 2,
  "kernelspec": {
   "name": "python39164bitelektrophoncondab6df047f9ad043cd9a8dc15ff108b2c9",
   "display_name": "Python 3.9.1 64-bit ('elektrophon': conda)"
  }
 },
 "nbformat": 4,
 "nbformat_minor": 2,
 "cells": [
  {
   "cell_type": "code",
   "execution_count": null,
   "metadata": {
    "tags": []
   },
   "outputs": [],
   "source": [
    "%matplotlib inline\n",
    "%config InlineBackend.figure_format = 'svg'\n",
    "\n",
    "import matplotlib.pyplot as plt\n",
    "import numpy as np\n",
    "\n",
    "import PySpice.Logging.Logging as Logging\n",
    "logger = Logging.setup_logging( logging_level='CRITICAL')\n",
    "\n",
    "import os\n",
    "import sys\n",
    "from pathlib import Path\n",
    "import IPython.display as ipd\n",
    "from PySpice.Unit import *\n",
    "from PySpice.Spice.Parser import SpiceParser\n",
    "from PySpice.Spice.Netlist import Circuit, SubCircuit, SubCircuitFactory\n",
    "from PySpice.Spice.Library import SpiceLibrary\n",
    "from PySpice.Probe.Plot import plot\n",
    "from PySpice.Doc.ExampleTools import find_libraries\n",
    "from PySpice.Math import *\n",
    "from PySpice.Plot.BodeDiagram import bode_diagram\n",
    "from PySpice.Plot.BodeDiagram import bode_diagram_gain\n",
    "\n",
    "import schemdraw\n",
    "import schemdraw.elements as elm\n",
    "from schemdraw import logic\n",
    "\n",
    "directory_path = Path(os.path.abspath('')).resolve().parent.parent\n",
    "spice_libraries_path = directory_path.joinpath(\"lib\", \"spice\")\n",
    "spice_library = SpiceLibrary(spice_libraries_path)"
   ]
  },
  {
   "source": [
    "A schmitt-trigger is a comperator circuit with hysteris. a schmitt trigger produces a \"digital' output dependending on the input signal. The state is switched by two trigger points. when the signal is equal or bigger then the upper trigger point the output switches to high which is represented by the supply voltage. when the input voltage is equal or below the lower trigger point the output voltage goes to zero. this circuit is very useful if there is a unstable or noisy switch signal. the schmitt-trigger cam prodce a stable signal.\n",
    "{: class=\"mt-6\"}"
   ],
   "cell_type": "markdown",
   "metadata": {}
  },
  {
   "cell_type": "code",
   "execution_count": null,
   "metadata": {},
   "outputs": [],
   "source": [
    "d = schemdraw.Drawing(unit=2.5, inches_per_unit=0.5, lw=0.9)\n",
    "d += (Q := elm.IcDIP(pins=14, botlabel='CD40106', lw=2)\n",
    "             .label('Input A', loc='p1', fontsize=10)\n",
    "             .label('Output A', loc='p2', fontsize=10)\n",
    "             .label('Input B', loc='p3', fontsize=10)\n",
    "             .label('Output B', loc='p4', fontsize=10)\n",
    "             .label('Input C', loc='p5', fontsize=10)\n",
    "             .label('Output C', loc='p6', fontsize=10)\n",
    "             .label('GND', loc='p7', fontsize=10)\n",
    "\n",
    "             .label('Output D', loc='p8', fontsize=10)\n",
    "             .label('Input D', loc='p9', fontsize=10)\n",
    "             .label('Output E', loc='p10', fontsize=10)\n",
    "             .label('Input E', loc='p11', fontsize=10)\n",
    "             .label('Output F', loc='p12', fontsize=10)\n",
    "             .label('Input F', loc='p13', fontsize=10)\n",
    "             .label('$V_{dd}$', loc='p14', fontsize=10))\n",
    "\n",
    "d += elm.Line().at(Q.p1_in).length(d.unit/2.5)\n",
    "d += (op := logic.Schmitt(\"down\").anchor('start').scale(1).length(d.unit*0.75))\n",
    "d += elm.Line(\"left\").length(d.unit/4)\n",
    "d += elm.Line(\"up\").toy(Q.p2_in)\n",
    "d += elm.Line(\"left\").tox(Q.p2_in)\n",
    "\n",
    "d += elm.Line(\"right\").at(Q.p3_in).length(d.unit/2.5)\n",
    "d += (op := logic.Schmitt(\"down\").anchor('start').scale(1).length(d.unit*0.75))\n",
    "d += elm.Line(\"left\").length(d.unit/4)\n",
    "d += elm.Line(\"up\").toy(Q.p4_in)\n",
    "d += elm.Line(\"left\").tox(Q.p4_in)\n",
    "\n",
    "d += elm.Line(\"right\").at(Q.p5_in).length(d.unit/2.5)\n",
    "d += (op := logic.Schmitt(\"down\").anchor('start').scale(1).length(d.unit*0.75))\n",
    "d += elm.Line(\"left\").length(d.unit/4)\n",
    "d += elm.Line(\"up\").toy(Q.p6_in)\n",
    "d += elm.Line(\"left\").tox(Q.p6_in)\n",
    "\n",
    "d += elm.Line(\"left\").at(Q.p8_in).length(d.unit/2.5)\n",
    "d += (op := logic.Schmitt(\"up\").anchor('start').scale(1).length(d.unit*0.75))\n",
    "d += elm.Line(\"right\").length(d.unit/4)\n",
    "d += elm.Line(\"down\").toy(Q.p9_in)\n",
    "d += elm.Line(\"right\").tox(Q.p9_in)\n",
    "\n",
    "d += elm.Line(\"left\").at(Q.p10_in).length(d.unit/2.5)\n",
    "d += (op := logic.Schmitt(\"up\").anchor('start').scale(1).length(d.unit*0.75))\n",
    "d += elm.Line(\"right\").length(d.unit/4)\n",
    "d += elm.Line(\"down\").toy(Q.p11_in)\n",
    "d += elm.Line(\"right\").tox(Q.p11_in)\n",
    "\n",
    "d += elm.Line(\"left\").at(Q.p12_in).length(d.unit/2.5)\n",
    "d += (op := logic.Schmitt(\"up\").anchor('start').scale(1).length(d.unit*0.75))\n",
    "d += elm.Line(\"right\").length(d.unit/4)\n",
    "d += elm.Line(\"down\").toy(Q.p13_in)\n",
    "d += elm.Line(\"right\").tox(Q.p13_in)\n",
    "\n",
    "d.draw()"
   ]
  },
  {
   "source": [
    "The CD40106 device consist of six CMOS inverting schmitt-trigger circuits. this device is typically used in luneta circuits as a VCO. There are very interesting drone synth built with this chip. It is also used a timers and low pass filter sources in various circuits, for example the cynare module from Ken Stone.\n",
    "\n",
    "the chip can be powered with GND and any positive supply from 5V-15V. The output amplitude will change with the positive supply voltage. The trigger values are documented in the datasheet on page xxx. For this exmapes the device is powered with GND/+5V and the trigger points are 1.9V/2.9V.\n"
   ],
   "cell_type": "markdown",
   "metadata": {}
  },
  {
   "source": [
    "circuit = Circuit('cmos gate')\n",
    "circuit.include(spice_library['4069UB'])\n",
    "circuit.include(spice_library['CD40106B'])\n",
    "\n",
    "circuit.V('1', '+5V', circuit.gnd, 'DC 5')\n",
    "circuit.V('2', 'IN', circuit.gnd, 'DC 5 AC 2.5V SIN(2.5 2.5V 100)')\n",
    "\n",
    "circuit.X('1', 'CD40106B', 'OUT', 'IN', '+5V', circuit.gnd)\n",
    "\n",
    "simulator = circuit.simulator(temperature=25, nominal_temperature=25)\n",
    "analysis  = simulator.transient(step_time=1@u_us, start_time=0@u_ms, end_time=30@u_ms)\n",
    "\n",
    "fig_buffer, ax1_buffer = plt.subplots()\n",
    "\n",
    "ax1_buffer.set_xlabel('time (ms)')\n",
    "ax1_buffer.set_ylabel('IN [V]')\n",
    "ax1_buffer.plot(u_ms(analysis['IN'].abscissa), analysis['IN'], color='Blue')\n",
    "ax1_buffer.plot(u_ms(analysis['OUT'].abscissa), analysis['OUT'], color='Red')\n",
    "ax1_buffer.legend(('IN [V]', 'OUT [V]'), loc=(0.78,0.8))\n",
    "ax1_buffer.axhline(y=1.9, color='Grey', linestyle='dotted')\n",
    "ax1_buffer.axhline(y=2.9, color='Grey', linestyle='dotted')\n",
    "\n",
    "plt.tight_layout()\n",
    "plt.show()"
   ],
   "cell_type": "code",
   "metadata": {},
   "execution_count": null,
   "outputs": []
  },
  {
   "source": [
    "# oscillator\n",
    "{: class=\"subtitle is-lowercase\"}\n",
    "\n",
    "To build an oscillator with the schmitt trigger we need a capacitor and a resistor. the capcitor is placed at the input pin and is charged through the resistor until the schmitt trigger threshold is reached. The the output of the Schmitt Trigger goes to zero and the capacitor is discharged until the lower threshold is reached. this creates a square wave at the output pin."
   ],
   "cell_type": "markdown",
   "metadata": {}
  },
  {
   "cell_type": "code",
   "execution_count": null,
   "metadata": {},
   "outputs": [],
   "source": [
    "d = schemdraw.Drawing(unit=2.5, inches_per_unit=0.8, lw=1.2)\n",
    "#d.add(elm.Dot('left', lftlabel='IN', open=True))\n",
    "#d.add(elm.Line(l=d.unit/4))\n",
    "N = d.add(logic.Schmitt().scale(1.1))\n",
    "\n",
    "d.add(elm.Capacitor(\"down\", at=N.start, label='$C_1$\\n0.1u'))\n",
    "d.add(elm.Ground)\n",
    "\n",
    "d.add(logic.Dot(xy=N.start))\n",
    "d.add(elm.Line('up', l=d.unit/2))\n",
    "d.add(elm.Resistor('right', label='$R_1$\\n100k'))\n",
    "d.add(elm.Line('down', l=d.unit/2))\n",
    "d.add(logic.Dot())\n",
    "\n",
    "d.add(elm.Line('right', l=d.unit/4, at=N.out))\n",
    "d.add(elm.Dot(rgtlabel='OUT', open=True))\n",
    "\n",
    "d.draw()"
   ]
  },
  {
   "cell_type": "code",
   "execution_count": null,
   "metadata": {
    "tags": []
   },
   "outputs": [],
   "source": [
    "circuit = Circuit('cmos oscillator')\n",
    "circuit.include(spice_library['4069UB'])\n",
    "circuit.include(spice_library['CD40106B'])\n",
    "\n",
    "circuit.V('1', '+5V', circuit.gnd, 'DC 5')\n",
    "\n",
    "circuit.X('1', 'CD40106B', 'XOUT', 'IN', '+5V', circuit.gnd)\n",
    "circuit.R(1, 'IN', 'XOUT', 100@u_kΩ)\n",
    "circuit.C(1, 'IN', circuit.gnd, 0.1@u_uF)\n",
    "\n",
    "simulator = circuit.simulator(temperature=25, nominal_temperature=25)\n",
    "simulator.initial_condition(IN=0.0)\n",
    "analysis  = simulator.transient(step_time=10@u_us, start_time=10@u_ms, end_time=30@u_ms)\n",
    "\n",
    "fig_buffer, ax1_buffer = plt.subplots()\n",
    "\n",
    "ax1_buffer.set_xlabel('time (ms)')\n",
    "ax1_buffer.set_ylabel('IN [V]')\n",
    "ax1_buffer.plot(u_ms(analysis['IN'].abscissa), analysis['IN'], color='Blue')\n",
    "ax1_buffer.plot(u_ms(analysis['XOUT'].abscissa), analysis['XOUT'], color='Red')\n",
    "ax1_buffer.legend(('IN [V]', 'OUT [V]'), loc=(0.78,0.8))\n",
    "ax1_buffer.axhline(y=1.9, color='Grey', linestyle='dotted')\n",
    "ax1_buffer.axhline(y=2.9, color='Grey', linestyle='dotted')\n",
    "\n",
    "plt.tight_layout()\n",
    "plt.show()"
   ]
  },
  {
   "source": [
    "from IPython.core.display import display, HTML\n",
    "display(HTML('''\n",
    "<div class=\"hero is-medium\" style=\"background: url('{{ '/assets/cmos_files/breadboard.jpg' | relative_url }}') no-repeat center center; background-size: cover; background-attachment: fixed;\">\n",
    "   <div class=\"hero-body\">\n",
    "        <div class=\"content has-text-centered\">\n",
    "        </div>\n",
    "    </div>\n",
    "</div>\n",
    "'''))"
   ],
   "cell_type": "code",
   "metadata": {},
   "execution_count": null,
   "outputs": []
  },
  {
   "source": [
    "# voltage control\n",
    "{: class=\"subtitle is-lowercase\"}\n",
    "\n",
    "\n"
   ],
   "cell_type": "markdown",
   "metadata": {}
  },
  {
   "cell_type": "code",
   "execution_count": null,
   "metadata": {},
   "outputs": [],
   "source": [
    "d = schemdraw.Drawing(unit=2.5, inches_per_unit=0.8, lw=1.2)\n",
    "d.add(elm.Dot('left', lftlabel='CV', open=True))\n",
    "d.add(elm.Line(l=d.unit/4))\n",
    "\n",
    "\n",
    "\n",
    "\n",
    "N = d.add(logic.Schmitt().scale(1.1))\n",
    "\n",
    "d.add(elm.Capacitor(\"down\", at=N.start, label='$C_1$\\n0.1u'))\n",
    "d.add(elm.Ground)\n",
    "\n",
    "d.add(logic.Dot(xy=N.start))\n",
    "d.add(elm.Line('up', l=d.unit/2))\n",
    "d.add(elm.Resistor('right', label='$R_1$\\n100k'))\n",
    "d.add(elm.Line('down', l=d.unit/2))\n",
    "d.add(logic.Dot())\n",
    "\n",
    "d.add(elm.Line('right', l=d.unit/4, at=N.out))\n",
    "d.add(elm.Dot(rgtlabel='OUT', open=True))\n",
    "\n",
    "d.draw()"
   ]
  },
  {
   "source": [
    "# ouput buffer\n",
    "{: class=\"subtitle is-lowercase\"}\n",
    "\n",
    "\n",
    "of course we can just buffer the output with an opamp and adjust it to AC level. Ken Stone does a little bit more and at a first sight not so logical implemnetation of the output buffer.\n",
    " "
   ],
   "cell_type": "markdown",
   "metadata": {}
  },
  {
   "cell_type": "code",
   "execution_count": null,
   "metadata": {},
   "outputs": [],
   "source": []
  },
  {
   "source": [
    "The first OPAMP is just an inverting amplifier/mixer. All the inputs are connected with a 470kOhm Reistor. The feedback is a potentiometer with 100kOhm. This gives the maximum gain of x. The second opamp is a simple voltage follower, just buffering the signal. The potentiometer and capacitor between the opamps is called glide. Lets see what that does.\n"
   ],
   "cell_type": "markdown",
   "metadata": {}
  },
  {
   "cell_type": "code",
   "execution_count": null,
   "metadata": {},
   "outputs": [],
   "source": [
    "circuit = Circuit('cmos oscillator')\n",
    "circuit.include(spice_library['TL072'])\n",
    "\n",
    "circuit.V('1', '+15V', circuit.gnd, 'DC 15')\n",
    "circuit.V('2', '-15V', circuit.gnd, 'DC -15')\n",
    "circuit.V('3', 'S1', circuit.gnd, 'DC 5 PULSE ( 0 5 1ms 0 0 1ms 2ms)')\n",
    "\n",
    "circuit.X('1', 'TL072', circuit.gnd, 'X1n', '+15V', '-15V', 'Xout')\n",
    "circuit.R(1, 'X1n', 'X1out', 100@u_kΩ)\n",
    "circuit.R(2, 'S1', 'X1n', 470@u_kΩ)\n",
    "\n",
    "circuit.R(3, 'X1out', 'R3', 470@u_kΩ)\n",
    "circuit.C(1, 'R3', circuit.gnd, 220@u_nF)\n",
    "\n",
    "circuit.X('2', 'TL072', 'R3', 'X2out', '+15V', '-15V', 'X2out')\n",
    "\n",
    "simulator = circuit.simulator(temperature=25, nominal_temperature=25)\n",
    "analysis  = simulator.transient(step_time=10@u_us, start_time=10@u_ms, end_time=100@u_ms)\n",
    "\n",
    "fig_buffer, ax1_buffer = plt.subplots()\n",
    "\n",
    "ax1_buffer.set_xlabel('time (ms)')\n",
    "ax1_buffer.set_ylabel('IN [V]')\n",
    "#ax1_buffer.plot(u_ms(analysis['S1'].abscissa), analysis['S1'], color='Blue')\n",
    "ax1_buffer.plot(u_ms(analysis['X2out'].abscissa), analysis['X2out'], color='Red')\n",
    "ax1_buffer.legend(('IN [V]', 'OUT [V]'), loc=(0.78,0.8))\n",
    "\n",
    "plt.tight_layout()\n",
    "plt.show()"
   ]
  },
  {
   "source": [
    "# references\n",
    "{: class=\"subtitle is-lowercase\"}\n",
    "\n",
    "1. [CD40106](https://www.ti.com/lit/ds/symlink/cd40106b.pdf) Datasheet\n"
   ],
   "cell_type": "markdown",
   "metadata": {}
  }
 ]
}
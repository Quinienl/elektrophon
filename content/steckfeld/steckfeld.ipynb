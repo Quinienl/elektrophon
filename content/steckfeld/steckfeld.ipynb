{
 "cells": [
  {
   "cell_type": "code",
   "execution_count": null,
   "metadata": {
    "tags": []
   },
   "outputs": [],
   "source": [
    "#general definitions and imports\n",
    "%matplotlib inline\n",
    "%config InlineBackend.figure_format = 'svg'\n",
    "\n",
    "import os\n",
    "\n",
    "import schemdraw\n",
    "import schemdraw.elements as elm\n",
    "from schemdraw import dsp\n",
    "from schemdraw import logic\n",
    "\n",
    "from IPython.display import display, HTML"
   ]
  },
  {
   "cell_type": "markdown",
   "metadata": {},
   "source": [
    "# construction\n",
    "\n",
    "the function depends on the patching and settings of the potentiometers. an attenuverter is used in different modules like the  Serge VCS, Maths and also in the polivoks filter. while this module can be used as a simple mixer you can also adjust cv signals. such a signal can be simply attenuated or inverted. when feeding in a positive singal slope (for example from an adsr). the signal will be turned to a neagative dc singal. if the inpout signal is ac coupled the signal will be inverted. the function is the setting on the potentiometer of the channel. when the potentiometer is at center position. the output signal is attenuated to zero. no output singal is present. when turning to the right. the signal will be stronger until the output signal is equal to the input signal. when turning the potentiomenter to the left, the output signal will be phase shifted by 180°. when you turn the potentiometer to full left the output signal will be the inverted input signal. all the inputs are mixed to the output signal; unless you connect the output of a channel. then this output does not accure on the mixed signal.\n",
    "the attenuverter is build around a differential amplifier with an opamp. "
   ]
  },
  {
   "cell_type": "code",
   "execution_count": null,
   "metadata": {},
   "outputs": [],
   "source": [
    "d = schemdraw.Drawing(unit=2.5, inches_per_unit=0.5, lw=1.1)\n",
    "\n",
    "JI4 = d.add(elm.AudioJack(xy=[0, d.unit], lftlabel='$IN_4$'))\n",
    "d.add(elm.Ground(\"right\", xy=JI4.sleeve))\n",
    "d.add(elm.Line( \"right\", l=d.unit, at=JI4.tip))\n",
    "D4 = d.add(dsp.Amp())\n",
    "d.add(elm.Line( \"right\", l=d.unit))\n",
    "JO4 = d.add(elm.AudioJack(\"left\", switch=True, flip=True, anchor='tip', rgtlabel='$OUT_4$'))\n",
    "d.add(elm.Ground(\"right\", xy=JO4.sleeve))\n",
    "\n",
    "JI3 = d.add(elm.AudioJack(xy=[0, 2*d.unit], lftlabel='$IN_3$'))\n",
    "d.add(elm.Ground(\"right\", xy=JI3.sleeve))\n",
    "d.add(elm.Line( \"right\", l=d.unit, at=JI3.tip))\n",
    "D3 = d.add(dsp.Amp())\n",
    "d.add(elm.Line( \"right\", l=d.unit))\n",
    "JO3 = d.add(elm.AudioJack(\"left\", switch=True, flip=True, anchor='tip', rgtlabel='$OUT_3$'))\n",
    "d.add(elm.Ground(\"right\", xy=JO3.sleeve))\n",
    "\n",
    "JI2 = d.add(elm.AudioJack(xy=[0, 3*d.unit], lftlabel='$IN_2$'))\n",
    "d.add(elm.Ground(\"right\", xy=JI2.sleeve))\n",
    "d.add(elm.Line( \"right\", l=d.unit, at=JI2.tip))\n",
    "D2 = d.add(dsp.Amp())\n",
    "d.add(elm.Line( \"right\", l=d.unit))\n",
    "JO2 = d.add(elm.AudioJack(\"left\", switch=True, flip=True, anchor='tip', rgtlabel='$OUT_2$'))\n",
    "d.add(elm.Ground(\"right\", xy=JO2.sleeve))\n",
    "\n",
    "JI1 = d.add(elm.AudioJack(xy=[0, 4*d.unit], lftlabel='$IN_1$'))\n",
    "d.add(elm.Ground(\"right\", xy=JI1.sleeve))\n",
    "d.add(elm.Line( \"right\", l=d.unit, at=JI1.tip))\n",
    "D1 = d.add(dsp.Amp())\n",
    "d.add(elm.Line( \"right\", l=d.unit))\n",
    "JO1 = d.add(elm.AudioJack(\"left\", switch=True, flip=True, anchor='tip', rgtlabel='$OUT_1$'))\n",
    "d.add(elm.Ground(\"right\", xy=JO1.sleeve))\n",
    "\n",
    "d.add(elm.Line(\"left\", l=d.unit/2, xy=JO1.tipswitch))\n",
    "d.add(elm.Line(\"down\"))\n",
    "\n",
    "d.add(elm.Line(\"left\", l=d.unit/2, xy=JO2.tipswitch))\n",
    "d.add(elm.Dot())\n",
    "d.add(elm.Line(\"down\"))\n",
    "\n",
    "d.add(elm.Line(\"left\", l=d.unit/2, xy=JO3.tipswitch))\n",
    "d.add(elm.Dot())\n",
    "d.add(elm.Line(\"down\"))\n",
    "\n",
    "d.add(elm.Line(\"left\", l=d.unit/2, xy=JO4.tipswitch))\n",
    "d.add(elm.Dot())\n",
    "d.add(elm.Line(\"down\", l=d.unit/2))\n",
    "S = d.add(dsp.Sum())  \n",
    "\n",
    "d.add(elm.Line( \"down\", xy=S.E, l=d.unit/2))\n",
    "d.add(elm.Line( \"right\", l=d.unit/2))\n",
    "JO = d.add(elm.AudioJack(\"left\", anchor=\"tip\", flip=True, rgtlabel='$OUT$'))\n",
    "d.add(elm.Ground(\"right\", xy=JO.sleeve))\n",
    "\n",
    "d.draw()\n"
   ]
  },
  {
   "cell_type": "code",
   "execution_count": null,
   "metadata": {},
   "outputs": [],
   "source": [
    "d = schemdraw.Drawing(unit=2.5, inches_per_unit=0.5, lw=0.9)\n",
    "\n",
    "O = d.add(elm.Opamp( label='$U_1$'))\n",
    "\n",
    "d.add(elm.Line( \"left\", xy=O.in1, l=d.unit/8))\n",
    "R1 = d.add(elm.Resistor( \"left\", label='$R_1$'))\n",
    "d.add(logic.Dot())    \n",
    "R2 = d.add(elm.Resistor( \"down\", label='$R_3$'))\n",
    "d.add(elm.Resistor( \"down\", label='$R_4$'))\n",
    "d.add(elm.Ground)\n",
    "\n",
    "L1 = d.add(elm.Line('left', l=d.unit/2, xy=R1.end))\n",
    "d.add(elm.Line('down', l=d.unit/2))\n",
    "RV = d.add(elm.Potentiometer('down', toplabel='$UV_1$'))\n",
    "d.add(elm.Line('down', l=d.unit/2))\n",
    "d.add(elm.Ground)\n",
    "\n",
    "d.add(elm.Line('left', l=d.unit/4, xy=L1.end, lftlabel='$IN$'))\n",
    "\n",
    "d.add(elm.Line('right', tox=R2.end, xy=RV.tap))\n",
    "d.add(logic.Dot())\n",
    "\n",
    "d.add(elm.Line('right', l=d.unit/2, xy=R2.end))\n",
    "d.add(elm.Line('up', l=d.unit*0.58))\n",
    "d.add(elm.Line('right', l=d.unit*0.63))\n",
    "\n",
    "d.add(logic.Dot(xy=R1.start))\n",
    "d.add(elm.Line('up', l=d.unit))\n",
    "d.add(elm.Resistor('right', label='$R_2$', tox=O.out+d.unit/8))\n",
    "d.add(elm.Line('down', toy=O.out))\n",
    "d.add(logic.Dot())\n",
    "\n",
    "d.add(elm.Line('right', l=d.unit/4, xy=O.out, rgtlabel='$OUT$'))\n",
    "\n",
    "d.draw()"
   ]
  },
  {
   "cell_type": "markdown",
   "metadata": {},
   "source": [
    "the circuit of the attenuverter is based on the opamp dfferential amplifer. the two resistors at the non-inverting inputs are replaced with a potentiometer. the potentiometer is configured as a voltage divider and replace R3 and R4 from the differential amplifier. when the position of the potentiometer is adjusted, the output voltage will change or invert. at the center position  the output is zero volrs. the response to the potentiometer is linear. we can make it an centered s-curve by adding two parallel resistors (R5,R6) to the potentiometer [[2][2]]."
   ]
  },
  {
   "cell_type": "markdown",
   "metadata": {},
   "source": [
    "a simulation with the resistance at RV 1 changed from 0-100%. first run is the linear result. the second run is done with the resistors R5 and R6 added. This results in a s curve. the shape of the curve can be changed with the values of the resistors."
   ]
  },
  {
   "cell_type": "raw",
   "metadata": {},
   "source": [
    "{{< image \"/steckfeld-board.jpg\" \"Figure 3: Steckfeld Board\" >}}"
   ]
  },
  {
   "cell_type": "raw",
   "metadata": {},
   "source": [
    "{{< bom steckfeld main>}}\n",
    "{{< callout steckfeld main>}}\n",
    "{{< report steckfeld main>}}"
   ]
  },
  {
   "cell_type": "markdown",
   "metadata": {},
   "source": [
    "# usage\n",
    "\n",
    "the input jacks are wired to 5 volts when nothing is connected.\n",
    "\n",
    "all channels are mixed to the out jack. when something is connected to the channel out, this channel is removed from the overall mix.\n",
    "\n",
    "## _mixer_\n",
    "* connect the different channels from audio or cv sources to the in jacks.\n",
    "* connect the out jack to something\n",
    "* turn the pots clockwise to adjust the volume.\n",
    "\n",
    "## _attenuverter_\n",
    "* connect all or a single channel. \n",
    "* when you turn the pot knob counter clockwise the signal is inverted.\n",
    "\n",
    "\n"
   ]
  }
 ],
 "metadata": {
  "FrontMatter": {
   "categories": [
    "module"
   ],
   "date": "2021-04-10",
   "excerpt": "With steckfeld you can connect your synth to the breadboard. There are two input mixers and two output mixers. The reference voltage for the output mixer can be adjusted for level shift the signal.",
   "hero_image": "steckfeld-landscape.jpg",
   "hero_mobile": "steckfeld-portrait.jpg",
   "image": "steckfeld-card.jpg",
   "subtitle": "steckfeld is a utility board for interfacing to the breadboard.",
   "tags": [
    "misc"
   ],
   "title": "steckfeld",
   "version": "0"
  },
  "kernelspec": {
   "display_name": "Python 3 (ipykernel)",
   "language": "python",
   "name": "python3"
  },
  "language_info": {
   "codemirror_mode": {
    "name": "ipython",
    "version": 3
   },
   "file_extension": ".py",
   "mimetype": "text/x-python",
   "name": "python",
   "nbconvert_exporter": "python",
   "pygments_lexer": "ipython3",
   "version": "3.9.2"
  }
 },
 "nbformat": 4,
 "nbformat_minor": 4
}

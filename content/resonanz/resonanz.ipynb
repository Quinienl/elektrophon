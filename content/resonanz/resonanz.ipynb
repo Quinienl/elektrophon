{
 "cells": [
  {
   "cell_type": "code",
   "execution_count": null,
   "metadata": {
    "tags": []
   },
   "outputs": [],
   "source": [
    "#general definitions and imports\n",
    "%matplotlib inline\n",
    "%config InlineBackend.figure_format = 'svg'\n",
    "%load_ext itikz\n",
    "\n",
    "import logging\n",
    "logging.Logger.disabled=True\n",
    "\n",
    "import os\n",
    "import PySpice.Logging.Logging as Logging\n",
    "logger = Logging.setup_logging( logging_level='CRITICAL')\n",
    "\n",
    "import numpy as np\n",
    "import matplotlib.pyplot as plt\n",
    "\n",
    "import unittest\n",
    "\n",
    "from pathlib import Path\n",
    "\n",
    "from PySpice.Unit import *\n",
    "from PySpice.Spice.Parser import SpiceParser\n",
    "from PySpice.Spice.Netlist import SubCircuitFactory\n",
    "from PySpice.Spice.Library import SpiceLibrary\n",
    "from PySpice.Spice.Netlist import Circuit\n",
    "from PySpice.Probe.Plot import plot\n",
    "from PySpice.Math import *\n",
    "\n",
    "import schemdraw\n",
    "import schemdraw.elements as elm\n",
    "from schemdraw import dsp\n",
    "from schemdraw import logic\n",
    "\n",
    "## setup spice library path\n",
    "directory_path = Path(os.path.abspath('')).resolve().parent.parent\n",
    "spice_libraries_path = directory_path.joinpath(\"lib\", \"spice\")\n",
    "spice_library = SpiceLibrary(spice_libraries_path)\n",
    "## set the project directory as directory_path\n",
    "directory_path = Path(os.path.abspath('')).resolve()"
   ]
  },
  {
   "cell_type": "code",
   "execution_count": null,
   "metadata": {},
   "outputs": [],
   "source": [
    "# definitions\n",
    "        \n",
    "class VoltageDivider(SubCircuitFactory):\n",
    "    __name__ = 'voltage_divider'\n",
    "    __nodes__ = ('n1', 'n2', 'n3' )\n",
    "    def __init__(self, R=100@u_kΩ, w=0.4, name='voltage_divider'):\n",
    "        self.__name__ = name\n",
    "        super().__init__()\n",
    "        self.R(1, 'n1', 'n2', R * w)\n",
    "        self.R(2, 'n2', 'n3', R * (1.0-w) )\n",
    "\n",
    "class JackIn(SubCircuitFactory):\n",
    "    __name__ = 'jack_in'\n",
    "    __nodes__ = ('n1', 'n2', 'n3' )\n",
    "    def __init__(self, R=1@u_kΩ, name='jack_in', value='DC 5'):\n",
    "        self.__name__ = name\n",
    "        super().__init__()\n",
    "        self.V(1, 'n2', self.gnd, value)\n",
    "\n",
    "class JackOut(SubCircuitFactory):\n",
    "    __name__ = 'jack_out'\n",
    "    __nodes__ = ('n1', 'n2', 'n3' )\n",
    "    def __init__(self, R=100@u_kΩ, name='jack_out'):\n",
    "        self.__name__ = name\n",
    "        super().__init__()\n",
    "        self.R(1, 'n2', 'n1', R)\n"
   ]
  },
  {
   "cell_type": "code",
   "execution_count": null,
   "metadata": {},
   "outputs": [],
   "source": [
    "test = unittest.main(argv=[''], verbosity=0, exit=False);\n"
   ]
  },
  {
   "cell_type": "markdown",
   "metadata": {},
   "source": [
    "long description: summe is a simple mixer utility module. it can be used as a **mixer**, **attenuator** or **attenuverter** for ac or dc signals. the function depends on the patching and settings of the potentiometers. an attenuverter is used in different modules like the  Serge VCS, Maths and also in the polivoks filter. while this module can be used as a simple mixer you can also adjust cv signals. such a signal can be simply attenuated or inverted. when feeding in a positive singal slope (for example from an adsr). the signal will be turned to a neagative dc singal. if the inpout signal is ac coupled the signal will be inverted. the function is the setting on the potentiometer of the channel. when the potentiometer is at center position. the output signal is attenuated to zero. no output singal is present. when turning to the right. the signal will be stronger until the output signal is equal to the input signal. when turning the potentiomenter to the left, the output signal will be phase shifted by 180°. when you turn the potentiometer to full left the output signal will be the inverted input signal. all the inputs are mixed to the output signal; unless you connect the output of a channel. then this output does not accure on the mixed signal.\n",
    "{: class=\"mt-6\"} \n"
   ]
  },
  {
   "cell_type": "markdown",
   "metadata": {},
   "source": [
    "# about\n",
    "{: class=\"subtitle is-lowercase\"}\n",
    "\n",
    "the attenuverter is build around a differential amplifier with an opamp. "
   ]
  },
  {
   "cell_type": "code",
   "execution_count": null,
   "metadata": {},
   "outputs": [],
   "source": [
    "d = schemdraw.Drawing(inches_per_unit=0.6)\n",
    "\n",
    "d.add(elm.Line( \"right\", l=d.unit/4, xy=[0, 0*d.unit], lftlabel='$IN_4$'))\n",
    "D1 = d.add(dsp.Square(label='$\\int$'))\n",
    "d.add(elm.Line( \"right\", l=d.unit/8))\n",
    "d.add(elm.Line( \"up\", l=0.75*d.unit))\n",
    "\n",
    "d.add(elm.Line( \"right\", l=d.unit/4, xy=[0, 0.5*d.unit], lftlabel='$IN_3$'))\n",
    "D2 = d.add(dsp.Square(label='$\\int$'))\n",
    "d.add(elm.Line( \"right\", l=d.unit/8))\n",
    "\n",
    "d.add(elm.Line( \"right\", l=d.unit/4, xy=[0, 1*d.unit], lftlabel='$IN_2$'))\n",
    "D3 = d.add(dsp.Square(label='$\\int$'))\n",
    "d.add(elm.Line( \"right\", l=d.unit/8))\n",
    "\n",
    "d.add(elm.Line( \"right\", l=d.unit/4, xy=[0, 1.5*d.unit], lftlabel='$IN_1$'))\n",
    "D4 = d.add(dsp.Square(label='$\\int$'))\n",
    "d.add(elm.Line( \"right\", l=d.unit/8))\n",
    "d.add(elm.Line( \"down\", l=0.75*d.unit))\n",
    "d.add(elm.Line( \"right\", l=d.unit*0.30))\n",
    "\n",
    "S = d.add(dsp.Mixer(xy=[d.unit, 0.75*d.unit]))\n",
    "d.add(elm.Line( \"right\", l=d.unit/4, rgtlabel='$OUT$'))\n",
    "\n",
    "\n",
    "d.draw()\n"
   ]
  },
  {
   "cell_type": "code",
   "execution_count": null,
   "metadata": {},
   "outputs": [],
   "source": [
    "d = schemdraw.Drawing(unit=2.0, inches_per_unit=0.5)\n",
    "\n",
    "O = d.add(elm.Opamp( label='$U_1$'))\n",
    "\n",
    "d.add(elm.Line( \"left\", xy=O.in1, l=d.unit/8))\n",
    "R1 = d.add(elm.Resistor( \"left\", label='$R_1$'))\n",
    "d.add(logic.Dot())    \n",
    "R2 = d.add(elm.Resistor( \"down\", label='$R_3$'))\n",
    "d.add(elm.Resistor( \"down\", label='$R_4$'))\n",
    "d.add(elm.Ground)\n",
    "\n",
    "L1 = d.add(elm.Line('left', l=d.unit/2, xy=R1.end))\n",
    "d.add(elm.Line('down', l=d.unit/2))\n",
    "RV = d.add(elm.Potentiometer('down', toplabel='$UV_1$'))\n",
    "d.add(elm.Line('down', l=d.unit/2))\n",
    "d.add(elm.Ground)\n",
    "\n",
    "d.add(elm.Line('left', l=d.unit/4, xy=L1.end, lftlabel='$IN$'))\n",
    "\n",
    "d.add(elm.Line('right', tox=R2.end, xy=RV.tap))\n",
    "d.add(logic.Dot())\n",
    "\n",
    "d.add(elm.Line('right', l=d.unit/2, xy=R2.end))\n",
    "d.add(elm.Line('up', l=d.unit*0.58))\n",
    "d.add(elm.Line('right', l=d.unit*0.63))\n",
    "\n",
    "d.add(logic.Dot(xy=R1.start))\n",
    "d.add(elm.Line('up', l=d.unit))\n",
    "d.add(elm.Resistor('right', label='$R_2$', tox=O.out+d.unit/8))\n",
    "d.add(elm.Line('down', toy=O.out))\n",
    "d.add(logic.Dot())\n",
    "\n",
    "d.add(elm.Line('right', l=d.unit/4, xy=O.out, rgtlabel='$OUT$'))\n",
    "\n",
    "d.draw()"
   ]
  },
  {
   "source": [
    "$$\n",
    "\\begin{array}{c}\n",
    "Vout = \\Bigl(1 + \\frac{R2}{R1}\\Bigr) \\Bigl(\\frac{R4}{R3+R4}\\Bigr) * V2 - \\Bigl(\\frac{R2}{R1}\\Bigr) * V1\n",
    "\\end{array}\n",
    "$$"
   ],
   "cell_type": "markdown",
   "metadata": {}
  },
  {
   "cell_type": "code",
   "execution_count": null,
   "metadata": {},
   "outputs": [],
   "source": [
    "# calcultate the pot sweep\n",
    "circuit = Circuit('attenuverter')\n",
    "circuit.include(spice_library['OPA2134'])\n",
    "\n",
    "circuit.V('1', '+15V', circuit.gnd, 'DC 15')\n",
    "circuit.V('2', '-15V', circuit.gnd, 'DC -15')\n",
    "circuit.V('3', 'INPUT', circuit.gnd, 'DC 5 AC 5 SIN(0 5V 1k)')\n",
    "\n",
    "rv1 = circuit.R('RV1', 'INPUT', 'RV1out', 100@u_kΩ)\n",
    "rv2 = circuit.R('RV2', 'RV1out', circuit.gnd, 100@u_kΩ)\n",
    "circuit.R(3, 'INPUT', 'RV1out', 47@u_kΩ)\n",
    "circuit.R(4, 'RV1out', circuit.gnd, 47@u_kΩ)\n",
    "\n",
    "circuit.R(1, 'INPUT', 'op_neg', 100@u_kΩ)\n",
    "circuit.R(2, 'op_neg', 'OUT', 100@u_kΩ)\n",
    "\n",
    "circuit.X('op', 'OPA2134', 'RV1out', 'op_neg', '+15V', '-15V', 'OUT')\n",
    "\n",
    "attenuverter_results = []\n",
    "for s in np.arange( 1, 0, -0.01 ):\n",
    "    rv1.resistance = s * 100@u_kOhm\n",
    "    rv2.resistance = 100@u_kOhm - (s * 100@u_kOhm)\n",
    "    simulator = circuit.simulator(temperature=25, nominal_temperature=25)\n",
    "    analysis = simulator.operating_point()\n",
    "    attenuverter_results.append(float(analysis['OUT']))\n",
    "\n",
    "figure, ax = plt.subplots()\n",
    "ax.plot(attenuverter_results)  # input\n",
    "ax.legend(('Vout [V]'), loc=(.1, .8))\n",
    "ax.grid()\n",
    "ax.set_xlabel('wiper [%]')\n",
    "ax.set_ylabel('[V]')\n",
    "\n",
    "plt.tight_layout()\n",
    "plt.show()"
   ]
  },
  {
   "cell_type": "markdown",
   "metadata": {},
   "source": [
    "the circuit of the attenuverter is based on the opamp dfferential amplifer. the two resistors at the non-inverting inputs are replaced with a potentiometer. the potentiometer is configured as a voltage divider and replace R3 and R4 from the differential amplifier. when the position of the potentiometer is adjusted, the output voltage will change or invert. at the center position  the output is zero volrs. the response to the potentiometer is linear. we can make it an centered s-curve by adding two parallel resistors (R5,R6) to the potentiometer [[2][2]]."
   ]
  },
  {
   "cell_type": "markdown",
   "metadata": {},
   "source": [
    "a simulation with the resistance at RV 1 changed from 0-100%. first run is the linear result. the second run is done with the resistors R5 and R6 added. This results in a s curve. the shape of the curve can be changed with the values of the resistors."
   ]
  },
  {
   "source": [
    "# construction\n",
    "{: class=\"subtitle is-lowercase\"}\n"
   ],
   "cell_type": "markdown",
   "metadata": {}
  },
  {
   "cell_type": "code",
   "execution_count": null,
   "metadata": {},
   "outputs": [],
   "source": [
    "from IPython.core.display import display, HTML\n",
    "display(HTML('''\n",
    "<div class=\"hero is-halfheight mb-4\" style=\"background: url('{{ '/assets/resonanz_files/main-top.svg' | relative_url }}') no-repeat center center; background-size: cover; background-attachment: fixed;\">\n",
    "   <div class=\"hero-body is-halfheight\">\n",
    "        <div class=\"content\">\n",
    "        </div>\n",
    "    </div>\n",
    "</div>\n",
    "'''))"
   ]
  },
  {
   "source": [
    "# bom\n",
    "{: class=\"subtitle is-lowercase\"}\n",
    "\n",
    "main circuit\n",
    "\n",
    "{% include bom.html content=\"summe-main-bom\" %}\n",
    "\n"
   ],
   "cell_type": "markdown",
   "metadata": {}
  },
  {
   "source": [
    "{% include callouts.html %}"
   ],
   "cell_type": "markdown",
   "metadata": {}
  },
  {
   "source": [
    "{% include reports.html content=\"resonanz_kibot_data\" %}"
   ],
   "cell_type": "markdown",
   "metadata": {}
  },
  {
   "cell_type": "markdown",
   "metadata": {},
   "source": [
    "# calibration\n",
    "{: class=\"subtitle is-lowercase\"}\n",
    "\n",
    "there is no calibration needed. but the potentiomenter knobs have to be aliged to center position."
   ]
  },
  {
   "cell_type": "markdown",
   "metadata": {},
   "source": [
    "# usage\n",
    "{: class=\"subtitle is-lowercase\"}\n",
    "\n",
    "the input jacks are wired to 5 volts when nothing is connected.\n",
    "\n",
    "all channels are mixed to the out jack. when something is connected to the channel out, this channel is removed from the overall mix.\n",
    "\n",
    "_mixer_\n",
    "* connect the different channels from audio or cv sources to the in jacks.\n",
    "* connect the out jack to something\n",
    "* turn the pots clockwise to adjust the volume.\n",
    "\n",
    "_attenuverter_\n",
    "* connect all or a single channel. \n",
    "* when you turn the pot knob counter clockwise the signal is inverted.\n"
   ]
  },
  {
   "cell_type": "markdown",
   "metadata": {},
   "source": [
    "# *references*\n",
    "{: class=\"subtitle is-lowercase\"}\n",
    "\n",
    "- [Op Amp Differential Amplifier][1] eCircuit  Center\n",
    "- [Beginners' Guide to Potentiometers][2]  Rod Elliott (ESP)\n",
    "\n",
    "[1]: http://www.ecircuitcenter.com/Circuits/opdif/opdif.htm\n",
    "[2]: https://sound-au.com/pots.htm\n",
    "[10]: https://www.mouser.ch/ProductDetail/ALPS/RK09L114001T?qs=Xb8IjHhkxj78e5CYccfZWg%3D%3D\n"
   ]
  }
 ],
 "metadata": {
  "kernelspec": {
   "name": "Python 3.8.6 64-bit ('elektrophon': conda)",
   "display_name": "Python 3.8.6 64-bit ('elektrophon': conda)",
   "metadata": {
    "interpreter": {
     "hash": "577b50fbf5fb121fdd7fb9f146b8afc577e6c4552aa3df5597befa8a54be6f95"
    }
   }
  },
  "language_info": {
   "codemirror_mode": {
    "name": "ipython",
    "version": 3
   },
   "file_extension": ".py",
   "mimetype": "text/x-python",
   "name": "python",
   "nbconvert_exporter": "python",
   "pygments_lexer": "ipython3",
   "version": "3.8.6-final"
  }
 },
 "nbformat": 4,
 "nbformat_minor": 4
}
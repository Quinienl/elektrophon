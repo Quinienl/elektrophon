{
 "metadata": {
  "language_info": {
   "codemirror_mode": {
    "name": "ipython",
    "version": 3
   },
   "file_extension": ".py",
   "mimetype": "text/x-python",
   "name": "python",
   "nbconvert_exporter": "python",
   "pygments_lexer": "ipython3",
   "version": "3.9.2-final"
  },
  "orig_nbformat": 2,
  "kernelspec": {
   "name": "python39164bitelektrophoncondab6df047f9ad043cd9a8dc15ff108b2c9",
   "display_name": "Python 3.9.1 64-bit ('elektrophon': conda)"
  }
 },
 "nbformat": 4,
 "nbformat_minor": 2,
 "cells": [
  {
   "cell_type": "code",
   "execution_count": null,
   "metadata": {},
   "outputs": [],
   "source": [
    "%matplotlib inline\n",
    "%config InlineBackend.figure_format = 'svg'\n",
    "\n",
    "import matplotlib.pyplot as plt\n",
    "import numpy as np\n",
    "\n",
    "import PySpice.Logging.Logging as Logging\n",
    "logger = Logging.setup_logging( logging_level='CRITICAL')\n",
    "\n",
    "import os\n",
    "import sys\n",
    "from pathlib import Path\n",
    "import IPython.display as ipd\n",
    "from PySpice.Unit import *\n",
    "from PySpice.Spice.Parser import SpiceParser\n",
    "from PySpice.Spice.Netlist import Circuit, SubCircuit, SubCircuitFactory\n",
    "from PySpice.Spice.Library import SpiceLibrary\n",
    "from PySpice.Probe.Plot import plot\n",
    "from PySpice.Doc.ExampleTools import find_libraries\n",
    "from PySpice.Math import *\n",
    "from PySpice.Plot.BodeDiagram import bode_diagram\n",
    "from PySpice.Plot.BodeDiagram import bode_diagram_gain\n",
    "\n",
    "import schemdraw\n",
    "import schemdraw.elements as elm\n",
    "from schemdraw import logic\n",
    "\n",
    "directory_path = Path(os.path.abspath('')).resolve().parent.parent\n",
    "spice_libraries_path = directory_path.joinpath(\"lib\", \"spice\")\n",
    "spice_library = SpiceLibrary(spice_libraries_path)"
   ]
  },
  {
   "source": [
    "The CD4069UB device consist of six CMOS inverter circuits. These devices are intended for all generalpurpose inverter applications where the mediumpower TTL-drive and logic-level-conversion. This device is not ideal for linear amplification, but can be used as such and will add a lot of soft-clipping. Soft-clipping is expected from a valve. This makes this device special for musical usage and can be found in guitar distortion pedals [[2](http://www.runoffgroove.com/ubescreamer.html)] or the wasp filter [[3](https://www.schmitzbits.de/wasp.html)]. \n",
    "{: class=\"mt-6\"}"
   ],
   "cell_type": "markdown",
   "metadata": {}
  },
  {
   "cell_type": "code",
   "execution_count": null,
   "metadata": {},
   "outputs": [],
   "source": [
    "d = schemdraw.Drawing(unit=2.5, inches_per_unit=0.5, lw=0.9)\n",
    "d += (Q := elm.IcDIP(pins=14, botlabel='CD4069', lw=2)\n",
    "             .label('Input A', loc='p1', fontsize=10)\n",
    "             .label('Output A', loc='p2', fontsize=10)\n",
    "             .label('Input B', loc='p3', fontsize=10)\n",
    "             .label('Output B', loc='p4', fontsize=10)\n",
    "             .label('Input C', loc='p5', fontsize=10)\n",
    "             .label('Output C', loc='p6', fontsize=10)\n",
    "             .label('GND', loc='p7', fontsize=10)\n",
    "\n",
    "             .label('Output D', loc='p8', fontsize=10)\n",
    "             .label('Input D', loc='p9', fontsize=10)\n",
    "             .label('Output E', loc='p10', fontsize=10)\n",
    "             .label('Input E', loc='p11', fontsize=10)\n",
    "             .label('Output F', loc='p12', fontsize=10)\n",
    "             .label('Input F', loc='p13', fontsize=10)\n",
    "             .label('$V_{dd}$', loc='p14', fontsize=10))\n",
    "\n",
    "d += elm.Line().at(Q.p1_in).length(d.unit/2.5)\n",
    "d += (op := logic.Not(\"down\").anchor('start').scale(1).length(d.unit*0.75))\n",
    "d += elm.Line(\"left\").length(d.unit/4)\n",
    "d += elm.Line(\"up\").toy(Q.p2_in)\n",
    "d += elm.Line(\"left\").tox(Q.p2_in)\n",
    "\n",
    "d += elm.Line(\"right\").at(Q.p3_in).length(d.unit/2.5)\n",
    "d += (op := logic.Not(\"down\").anchor('start').scale(1).length(d.unit*0.75))\n",
    "d += elm.Line(\"left\").length(d.unit/4)\n",
    "d += elm.Line(\"up\").toy(Q.p4_in)\n",
    "d += elm.Line(\"left\").tox(Q.p4_in)\n",
    "\n",
    "d += elm.Line(\"right\").at(Q.p5_in).length(d.unit/2.5)\n",
    "d += (op := logic.Not(\"down\").anchor('start').scale(1).length(d.unit*0.75))\n",
    "d += elm.Line(\"left\").length(d.unit/4)\n",
    "d += elm.Line(\"up\").toy(Q.p6_in)\n",
    "d += elm.Line(\"left\").tox(Q.p6_in)\n",
    "\n",
    "d += elm.Line(\"left\").at(Q.p8_in).length(d.unit/2.5)\n",
    "d += (op := logic.Not(\"up\").anchor('start').scale(1).length(d.unit*0.75))\n",
    "d += elm.Line(\"right\").length(d.unit/4)\n",
    "d += elm.Line(\"down\").toy(Q.p9_in)\n",
    "d += elm.Line(\"right\").tox(Q.p9_in)\n",
    "\n",
    "d += elm.Line(\"left\").at(Q.p10_in).length(d.unit/2.5)\n",
    "d += (op := logic.Not(\"up\").anchor('start').scale(1).length(d.unit*0.75))\n",
    "d += elm.Line(\"right\").length(d.unit/4)\n",
    "d += elm.Line(\"down\").toy(Q.p11_in)\n",
    "d += elm.Line(\"right\").tox(Q.p11_in)\n",
    "\n",
    "d += elm.Line(\"left\").at(Q.p12_in).length(d.unit/2.5)\n",
    "d += (op := logic.Not(\"up\").anchor('start').scale(1).length(d.unit*0.75))\n",
    "d += elm.Line(\"right\").length(d.unit/4)\n",
    "d += elm.Line(\"down\").toy(Q.p13_in)\n",
    "d += elm.Line(\"right\").tox(Q.p13_in)\n",
    "\n",
    "d.draw()"
   ]
  },
  {
   "source": [
    "the chip should be powered by +5V/GND. With higher voltage the heat dissipation will be to big and the chip will be damaged. the chip is powered on pin 7 and 14 with +5V and Ground. the other pins can be used as amplifier. "
   ],
   "cell_type": "markdown",
   "metadata": {}
  },
  {
   "source": [
    "# voltage follower\n",
    "{: class=\"subtitle is-lowercase\"}\n",
    "\n",
    "the simplest circuit to begin with is a voltage follower or buffer. the buffer confifuration looks similar to the opamp buffer. but there are some differences. the first important difference is that the feedback will also do the biasing of the input signal. when an ac signal is applied to the buffer the output will be a dc signal, as long as the chip is able to provide the needed biasing feedback. the gain can be calculated similar to the opamp configuration. but there will be less gain as we would excpect from the calculation. "
   ],
   "cell_type": "markdown",
   "metadata": {}
  },
  {
   "cell_type": "code",
   "execution_count": null,
   "metadata": {},
   "outputs": [],
   "source": [
    "d = schemdraw.Drawing(unit=2.5, inches_per_unit=0.5, lw=1.2)\n",
    "d.add(elm.Dot('left', lftlabel='IN', open=True))\n",
    "R = d.add(elm.Resistor(label='$R_1$\\n100k'))\n",
    "d.add(elm.Capacitor(label='$C_1$\\n47n'))\n",
    "N = d.add(logic.Not)\n",
    "C = d.add(elm.Capacitor(label='$C_2$\\n10u'))\n",
    "d.add(elm.Resistor(\"down\",label='$R_{load}$'))\n",
    "d.add(elm.Ground)\n",
    "\n",
    "d.add(logic.Dot(xy=N.start))\n",
    "d.add(elm.Line('up', l=d.unit/2))\n",
    "d.add(elm.Resistor('right', label='$R_2$\\n100k'))\n",
    "d.add(elm.Line('down', l=d.unit/2))\n",
    "d.add(logic.Dot())\n",
    "\n",
    "d.add(logic.Dot(xy=C.end))\n",
    "d.add(elm.Line('right', l=d.unit/2))\n",
    "d.add(elm.Dot('right', rgtlabel='OUT', open=True))\n",
    "\n",
    "d.draw()"
   ]
  },
  {
   "source": [
    "This is the first setup with the 4069 as voltage follower. C1 and C3 are the dc blocking capacitors. When we choose R1 and R2 as 100kOhm we would excpect a gain of one. "
   ],
   "cell_type": "markdown",
   "metadata": {}
  },
  {
   "cell_type": "code",
   "execution_count": null,
   "metadata": {},
   "outputs": [],
   "source": [
    "circuit = Circuit('cmos buffer')\n",
    "circuit.include(spice_library['4069UB'])\n",
    "\n",
    "circuit.V('1', '+5V', circuit.gnd, 'DC 5')\n",
    "circuit.V('2', 'IN', circuit.gnd, 'DC 5 AC 2.5V SIN(0 2.5V 1k)')\n",
    "\n",
    "circuit.X('1', '4069UB', 'gate_in', 'gate_out', '+5V', circuit.gnd)\n",
    "circuit.R(2, 'gate_out', 'gate_in', 100@u_kΩ)\n",
    "circuit.C(1, 'gate_in', 'R1out', 47@u_nF)\n",
    "circuit.R(1, 'R1out', 'IN', 100@u_kΩ)\n",
    "circuit.C(2, 'gate_out', 'OUT', 1@u_uF)\n",
    "R = circuit.R('load', 'OUT', circuit.gnd, 100@u_kΩ)\n"
   ]
  },
  {
   "cell_type": "code",
   "execution_count": null,
   "metadata": {
    "tags": []
   },
   "outputs": [],
   "source": [
    "buffer_data = []\n",
    "for r in (100@u_kΩ, 125@u_kΩ, 150@u_kΩ, 175@u_kΩ, 200@u_kΩ):\n",
    "    circuit.R2.resistance = r\n",
    "\n",
    "    simulator = circuit.simulator(temperature=25, nominal_temperature=25)\n",
    "    analysis_ac = simulator.ac(start_frequency=1@u_Hz, stop_frequency=100@u_Hz, number_of_points=10,  variation='dec')\n",
    "    analysis  = simulator.transient(step_time=1@u_us, start_time=0@u_ms, end_time=1@u_ms)\n",
    "    buffer_data.append(np.array(analysis['OUT']))\n"
   ]
  },
  {
   "cell_type": "code",
   "execution_count": null,
   "metadata": {},
   "outputs": [],
   "source": [
    "fig_buffer, ax1_buffer = plt.subplots()\n",
    "\n",
    "ax1_buffer.set_xlabel('time (ms)')\n",
    "ax1_buffer.set_ylabel('IN [V]')\n",
    "ax1_buffer.plot(u_ms(analysis['IN'].abscissa), analysis['IN'], color='Blue')\n",
    "buffer_axis, = ax1_buffer.plot(u_ms(analysis['OUT'].abscissa), buffer_data[0], color='Red')\n",
    "ax1_buffer.plot(u_ms(analysis['OUT'].abscissa), buffer_data[1])\n",
    "#ax1_buffer.plot(u_ms(analysis['OUT'].abscissa), buffer_data[2])\n",
    "#ax1.plot(u_ms(analysis['OUT'].abscissa), buffer_data[3], color='#E97451')\n",
    "ax1_buffer.plot(u_ms(analysis['OUT'].abscissa), buffer_data[4])\n",
    "ax1_buffer.legend(('Vin [V]', 'Vout (R2=100 kΩ)', 'Vout (R2=125 kΩ)', 'Vout (R2=150 kΩ)', 'Vout (R2=200 kΩ)'), loc=(0.01,0.65))\n",
    "\n",
    "plt.tight_layout()\n",
    "plt.show()"
   ]
  },
  {
   "source": [
    "The blue line is the input signal (5V p2p) and the red the output signal with 100kOhm resistors. The output is a little less then excpected. For the other signals the resistor R2 is replaced with 125kΩ, 150kΩ, 175kΩ and 200kΩ. With 150kΩ the gain is roughly one. We also see that the ouput is not symetrical. The clipping occures earlier for the negative part of the signal. With higher gain the signal is soft clipped. "
   ],
   "cell_type": "markdown",
   "metadata": {}
  },
  {
   "source": [
    "# summer/mixer\n",
    "{: class=\"subtitle is-lowercase\"}\n",
    "\n",
    "The cmos inverter can also be used as summing amplifier. In this example two sinudiol signals are added. The setup is the same as an Opamp summing amplifiert. The gain can be adjusted with the feeback resistor. \n"
   ],
   "cell_type": "markdown",
   "metadata": {}
  },
  {
   "cell_type": "code",
   "execution_count": null,
   "metadata": {},
   "outputs": [],
   "source": [
    "d = schemdraw.Drawing(unit=2.5, inches_per_unit=0.5, lw=1.2)\n",
    "d.add(elm.Dot('left', lftlabel='$IN_1$', open=True))\n",
    "d.add(elm.Resistor(label='$R_1$\\n100k'))\n",
    "C1 = d.add(elm.Capacitor(label='$C_1$\\n47n'))\n",
    "d.add(logic.Dot())\n",
    "d.add(elm.Line(\"down\"))\n",
    "d.add(elm.Capacitor(\"left\", label='$C_2$\\n47n'))\n",
    "d.add(elm.Resistor(label='$R_2$\\n100k'))\n",
    "d.add(elm.Dot('left', lftlabel='$IN_2$', open=True))\n",
    "\n",
    "d.add(elm.Line('right', xy=C1.end, l=d.unit/2))\n",
    "N = d.add(logic.Not)\n",
    "\n",
    "\n",
    "C = d.add(elm.Capacitor(label='$C_2$\\n10u'))\n",
    "d.add(elm.Resistor(\"down\",label='$R_{load}$'))\n",
    "d.add(elm.Ground)\n",
    "\n",
    "d.add(logic.Dot(xy=N.start))\n",
    "d.add(elm.Line('up', l=d.unit/2))\n",
    "d.add(elm.Resistor('right', label='$R_3$\\n47k'))\n",
    "d.add(elm.Line('down', l=d.unit/2))\n",
    "d.add(logic.Dot())\n",
    "\n",
    "d.add(logic.Dot(xy=C.end))\n",
    "d.add(elm.Line('right', l=d.unit/2))\n",
    "d.add(elm.Dot('right', rgtlabel='OUT', open=True))\n",
    "\n",
    "d.draw()"
   ]
  },
  {
   "cell_type": "code",
   "execution_count": null,
   "metadata": {},
   "outputs": [],
   "source": [
    "circuit = Circuit('cmos buffer')\n",
    "circuit.include(spice_library['4069UB'])\n",
    "\n",
    "circuit.V('1', '+5V', circuit.gnd, 'DC 5')\n",
    "circuit.V('2', 'INa', circuit.gnd, 'DC 5 AC 2.5V SIN(0 2.5V 1k)')\n",
    "circuit.V('3', 'INb', circuit.gnd, 'DC 5 AC 2.5V SIN(0 2.5V 500)')\n",
    "\n",
    "circuit.X('1', '4069UB', 'gate_in', 'gate_out', '+5V', circuit.gnd)\n",
    "circuit.R(3, 'gate_out', 'gate_in', 47@u_kΩ)\n",
    "\n",
    "circuit.C(1, 'gate_in', 'R1out', 47@u_nF)\n",
    "circuit.R(1, 'R1out', 'INa', 100@u_kΩ)\n",
    "\n",
    "circuit.C(2, 'gate_in', 'R2out', 47@u_nF)\n",
    "circuit.R(2, 'R2out', 'INb', 100@u_kΩ)\n",
    "\n",
    "circuit.C(3, 'gate_out', 'OUT', 1@u_uF)\n",
    "\n",
    "R = circuit.R('load', 'OUT', circuit.gnd, 100@u_kΩ)\n",
    "\n",
    "simulator = circuit.simulator(temperature=25, nominal_temperature=25)\n",
    "analysis  = simulator.transient(step_time=1@u_us, start_time=0@u_ms, end_time=4@u_ms)\n",
    "buffer_data.append(np.array(analysis['OUT']))\n",
    "\n",
    "f1 = 1\n",
    "f2 = 0.5\n",
    "\n",
    "N = 4008\n",
    "# sample spacing\n",
    "T = 0.001\n",
    "x = np.linspace(0.0, N*T, N, endpoint=False)\n",
    "\n",
    "y1 = np.sin(2 * f1 * np.pi * x)\n",
    "y2 = np.sin(2 * f2 * np.pi * x)"
   ]
  },
  {
   "cell_type": "code",
   "execution_count": null,
   "metadata": {},
   "outputs": [],
   "source": [
    "circuit = Circuit('cmos buffer')\n",
    "circuit.include(spice_library['4069UB'])\n",
    "\n",
    "circuit.V('1', '+5V', circuit.gnd, 'DC 5')\n",
    "circuit.V('2', 'INa', circuit.gnd, 'DC 5 AC 2.5V SIN(0 2.5V 1k)')\n",
    "circuit.V('3', 'INb', circuit.gnd, 'DC 5 AC 2.5V SIN(0 2.5V 500 0 0 180)')\n",
    "\n",
    "circuit.X('1', '4069UB', 'gate_in', 'gate_out', '+5V', circuit.gnd)\n",
    "circuit.R(3, 'gate_out', 'gate_in', 47@u_kΩ)\n",
    "\n",
    "circuit.C(1, 'gate_in', 'R1out', 47@u_nF)\n",
    "circuit.R(1, 'R1out', 'INa', 100@u_kΩ)\n",
    "\n",
    "circuit.C(2, 'gate_in', 'R2out', 47@u_nF)\n",
    "circuit.R(2, 'R2out', 'INb', 100@u_kΩ)\n",
    "\n",
    "circuit.C(3, 'gate_out', 'OUT', 1@u_uF)\n",
    "\n",
    "R = circuit.R('load', 'OUT', circuit.gnd, 100@u_kΩ)\n",
    "\n",
    "\n",
    "simulator = circuit.simulator(temperature=25, nominal_temperature=25)\n",
    "analysis_diff  = simulator.transient(step_time=1@u_us, start_time=0@u_ms, end_time=4@u_ms)\n",
    "\n"
   ]
  },
  {
   "cell_type": "code",
   "execution_count": null,
   "metadata": {},
   "outputs": [],
   "source": [
    "f1 = 1\n",
    "f2 = 0.5\n",
    "\n",
    "N = 4008\n",
    "# sample spacing\n",
    "T = 0.001\n",
    "x_diff = np.linspace(0.0, N*T, N, endpoint=False)\n",
    "\n",
    "y_diff1 = np.sin(2 * f1 * np.pi * x_diff)\n",
    "y_diff2 = np.sin(2 * f2 * np.pi * x_diff)"
   ]
  },
  {
   "source": [
    "A differential amplifier can not be configured like an Opamp amplifier. But when the inverse is added the result is a substraction of the two signals. This is the same simulation but the second signal has a phase shift of 180°."
   ],
   "cell_type": "markdown",
   "metadata": {}
  },
  {
   "cell_type": "code",
   "execution_count": null,
   "metadata": {},
   "outputs": [],
   "source": [
    "fig_buffer, ax1_buffer = plt.subplots()\n",
    "\n",
    "ax1_buffer.set_xlabel('time (ms)')\n",
    "ax1_buffer.set_ylabel('IN [V]')\n",
    "ax1_buffer.plot(u_ms(x), -1*(y1+y2), color='LightGrey', linewidth=5)\n",
    "ax1_buffer.plot(u_ms(analysis['OUT'].abscissa), analysis['OUT'], color='Red')\n",
    "ax1_buffer.plot(u_ms(analysis_diff['OUT'].abscissa), analysis_diff['OUT'], color='Blue')\n",
    "ax1_buffer.plot(u_ms(x_diff), -1*(y_diff1-y_diff2), color='LightGrey', linewidth=4)\n",
    "\n",
    "ax1_buffer.legend(('Vcalc [V]', 'Vadd [V]', 'Vdiff [V]'), loc=(0.75,0.8))\n",
    "\n",
    "plt.tight_layout()\n",
    "plt.show()"
   ]
  },
  {
   "source": [
    "The grey line is the calculated result and the blue line the simulated result. The actual result is close to the calculated one. here the feedback resistor has about half of the input resistors."
   ],
   "cell_type": "markdown",
   "metadata": {}
  },
  {
   "source": [
    "# distortion\n",
    "{: class=\"subtitle is-lowercase\"}\n"
   ],
   "cell_type": "markdown",
   "metadata": {}
  },
  {
   "cell_type": "code",
   "execution_count": null,
   "metadata": {},
   "outputs": [],
   "source": [
    "ipd.Audio(filename='151009__khoon__rhythm-1-clean-95-bpm.wav')"
   ]
  },
  {
   "source": [
    "# Way Huge Red LLama\n",
    "{: class=\"subtitle is-lowercase\"}"
   ],
   "cell_type": "markdown",
   "metadata": {}
  },
  {
   "cell_type": "code",
   "execution_count": null,
   "metadata": {},
   "outputs": [],
   "source": [
    "from IPython.core.display import display, HTML\n",
    "display(HTML('''\n",
    "<div class=\"hero is-medium\" style=\"background: url('{{ '/assets/cmos_buffer_files/electronics_projects.jpg' | relative_url }}') no-repeat center center; background-size: cover; background-attachment: fixed;\">\n",
    "   <div class=\"hero-body\">\n",
    "        <div class=\"content has-text-centered\">\n",
    "        </div>\n",
    "    </div>\n",
    "</div>\n",
    "'''))"
   ]
  },
  {
   "source": [
    "The Red Llama is actually a clone itself with some component changes. The original designer of the circuit is Craig Anderson. In an interview with Jeorge Tripps, creator of the way huge line, he said that he had bought this book called \"Electronic Projects for Musicians\" written by Craig Anderson. He also said that the first pedal he built was the Tube Sound Fuzz that was that book. Once I heard that this book existed, I quickly got it. In this book, Craig Anderson talks about the circuit. He explains how it works, why it works, and the reason it sounds so good.\n",
    "\n",
    "\n",
    "The soft clipping, which is the special characteristic of valves, adds harmonics to the signal. Here we want to analyse what harmonics are added. therefore we add a second stage to out circuit. the first stage is a voltage follower with the gain of one (or less as saw). the second stage is a high gain stage. the simulation is done with different values for R4."
   ],
   "cell_type": "markdown",
   "metadata": {}
  },
  {
   "cell_type": "code",
   "execution_count": null,
   "metadata": {},
   "outputs": [],
   "source": [
    "d = schemdraw.Drawing(unit=2.5, inches_per_unit=0.5, lw=1.2)\n",
    "d.add(elm.Dot('left', lftlabel='IN', open=True))\n",
    "Lin = d.add(elm.Line(l=d.unit/4))\n",
    "d.add(elm.Dot())\n",
    "d.add(elm.Resistor(\"down\", label='$R_1$\\n1M'))\n",
    "d.add(elm.Ground())\n",
    "R1 = d.add(elm.Resistor(\"right\", label='$R_2$\\n100k', at=Lin.end))\n",
    "d.add(elm.Capacitor(label='$C_1$\\n68n'))\n",
    "N1 = d.add(elm.Line(l=d.unit/2))\n",
    "d.add(logic.Not)\n",
    "d.add(elm.Line(l=d.unit/2))\n",
    "\n",
    "C3 = d.add(elm.Capacitor(label='$C_3$\\n33n'))\n",
    "N2 = d.add(logic.Not)\n",
    "\n",
    "C = d.add(elm.Capacitor(label='$C_5$\\n10u'))\n",
    "d.add(elm.Resistor(\"down\",label='$R_l$\\n100k'))\n",
    "d.add(elm.Ground)\n",
    "\n",
    "d.add(logic.Dot(xy=N1.start))\n",
    "d.add(elm.Line('up', l=d.unit))\n",
    "d.add(elm.Dot())\n",
    "C2 = d.add(elm.Line(\"right\", l=d.unit/2))\n",
    "d.add(elm.Capacitor(label=\"$C_2$\\n81p\"))\n",
    "LC2 = d.add(elm.Line(l=d.unit/2))\n",
    "\n",
    "d.add(elm.Line(\"up\", l=d.unit, at=C2.start))\n",
    "d.add(elm.Resistor('right', label='$R_3$\\n100k'))\n",
    "RV1 = d.add(elm.Potentiometer(flip=True, toplabel=\"$RV_1$\\n1M\"))\n",
    "d.add(elm.Line('down', l=d.unit))\n",
    "d.add(logic.Dot())\n",
    "d.add(elm.Line('down', l=d.unit))\n",
    "d.add(logic.Dot())\n",
    "\n",
    "d.add(elm.Line(\"down\", l=d.unit/8, at=RV1.tap))\n",
    "d.add(elm.Line(\"right\", tox=LC2.end))\n",
    "d.add(elm.Dot)\n",
    "\n",
    "d.add(logic.Dot(xy=N2.start))\n",
    "d.add(elm.Line('up', l=d.unit))\n",
    "d.add(elm.Dot())\n",
    "C4 = d.add(elm.Capacitor(\"right\", label=\"$C_4$\\n100p\"))\n",
    "\n",
    "d.add(elm.Line(\"up\", l=d.unit, at=C4.start))\n",
    "d.add(elm.Resistor('right', label='$R_4$\\n1M'))\n",
    "d.add(elm.Line('down', l=d.unit))\n",
    "d.add(logic.Dot())\n",
    "d.add(elm.Line('down', l=d.unit))\n",
    "d.add(logic.Dot())\n",
    "\n",
    "d.add(logic.Dot(xy=C.end))\n",
    "d.add(elm.Line('right', l=d.unit/2))\n",
    "d.add(elm.Dot('right', rgtlabel='OUT', open=True))\n",
    "\n",
    "d.draw()"
   ]
  },
  {
   "source": [
    "in the simulation R2 is unchanched. For R4 the simulation is done with 100kΩ, 500kΩ, 1MΩ and 10MΩ."
   ],
   "cell_type": "markdown",
   "metadata": {}
  },
  {
   "cell_type": "code",
   "execution_count": null,
   "metadata": {},
   "outputs": [],
   "source": [
    "circuit = Circuit('cmos buffer with distortion')\n",
    "circuit.include(spice_library['4069UB'])\n",
    "\n",
    "circuit.V('1', '+5V', circuit.gnd, 'DC 5')\n",
    "circuit.V('2', 'IN', circuit.gnd, 'DC 5 AC 2.5V SIN(0 1V 1k)')\n",
    "\n",
    "circuit.X('1', '4069UB', 'gate_in_1', 'gate_out_1', '+5V', circuit.gnd)\n",
    "circuit.X('2', '4069UB', 'gate_in_2', 'gate_out_2', '+5V', circuit.gnd)\n",
    "\n",
    "circuit.R(1, 'IN', circuit.gnd, 1@u_MΩ)\n",
    "circuit.R(2, 'IN', \"R2out\", 100@u_kΩ)\n",
    "circuit.C(1, 'R2out', 'gate_in_1', 68@u_nF)\n",
    "circuit.C(2, 'gate_in_1', 'gate_out_1', 81@u_pF)\n",
    "circuit.R(3, 'gate_in_1', 'R3out', 100@u_kΩ)\n",
    "circuit.R(6, 'R3out', 'gate_out_1', 1@u_MΩ)\n",
    "\n",
    "circuit.C(3, 'gate_out_1', 'gate_in_2', 33@u_nF)\n",
    "\n",
    "circuit.C(4, 'gate_in_2', 'gate_out_2', 100@u_pF)\n",
    "circuit.R(4, 'gate_in_2', 'gate_out_2', 1@u_MΩ)\n",
    "\n",
    "circuit.C(5, 'gate_out_2', 'C5out', 1@u_uF)\n",
    "circuit.R(5, 'C5out', 'OUT', 100@u_kΩ)\n",
    "R = circuit.R('load', 'OUT', circuit.gnd, 50@u_kΩ)"
   ]
  },
  {
   "cell_type": "code",
   "execution_count": null,
   "metadata": {
    "tags": []
   },
   "outputs": [],
   "source": [
    "buffer_data = []\n",
    "for r in (10@u_kΩ, 100@u_kΩ, 500@u_kΩ, 1@u_MΩ):\n",
    "    circuit.R6.resistance = r\n",
    "\n",
    "    simulator = circuit.simulator(temperature=25, nominal_temperature=25)\n",
    "    analysis  = simulator.transient(step_time=1@u_us, start_time=0@u_ms, end_time=1@u_ms)\n",
    "    buffer_data.append(np.array(analysis['OUT']))"
   ]
  },
  {
   "cell_type": "code",
   "execution_count": null,
   "metadata": {},
   "outputs": [],
   "source": [
    "fig, ax1 = plt.subplots()\n",
    "\n",
    "ax1.set_xlabel('time (ms)')\n",
    "ax1.set_ylabel('IN [V]')\n",
    "ax1.plot(u_ms(analysis['IN'].abscissa), analysis['IN'], color='Blue')\n",
    "ax1.plot(u_ms(analysis['OUT'].abscissa), buffer_data[0], color='Red')\n",
    "ax1.plot(u_ms(analysis['OUT'].abscissa), buffer_data[1])\n",
    "ax1.plot(u_ms(analysis['OUT'].abscissa), buffer_data[2])\n",
    "ax1.plot(u_ms(analysis['OUT'].abscissa), buffer_data[3])\n",
    "ax1.legend(('Vin [V]', 'Vout (R4=100 kΩ)', 'Vout (R4=500 kΩ)', 'Vout (R4=1 MΩ)', 'Vout (R4=10 MΩ)'), loc=(0.64,0.65))\n",
    "\n",
    "\n",
    "plt.tight_layout()\n",
    "plt.show()"
   ]
  },
  {
   "source": [
    "the simulation looks similar to the first one. we can see that the signal is transforming into a square wave, but always with the soft clipping. next we want to analyse the harmonics that are added to the signal."
   ],
   "cell_type": "markdown",
   "metadata": {}
  },
  {
   "cell_type": "code",
   "execution_count": null,
   "metadata": {},
   "outputs": [],
   "source": [
    "from PySpice.Spice.NgSpice.Shared import NgSpiceShared\n",
    "from PySpice.Probe.Plot import plot\n",
    "\n",
    "circuit = '''\n",
    ".title cmos buffer with distortion\n",
    ".include /home/etienne/Documents/elektrophon/lib/spice/cmos/4069ub.lib\n",
    "V1 +5V 0 DC 5\n",
    "V2 IN 0 DC 5 AC 2.5V SIN(0 2.5V 1k)\n",
    "X1 gate_in_1 gate_out_1 +5V 0 4069UB\n",
    "X2 gate_in_2 gate_out_2 +5V 0 4069UB\n",
    "R2 gate_out_1 gate_in_1 100kOhm\n",
    "C9 gate_out_1 gate_in_1 100pF\n",
    "C1 gate_in_1 R1out 47nF\n",
    "R1 R1out IN 100kOhm\n",
    "R3 gate_out_1 r3_out 100kOhm\n",
    "C2 r3_out gate_in_2 100nF\n",
    "R4 gate_in_2 gate_out_2 100kOhm\n",
    "C5 gate_in_2 gate_out_2 100pF\n",
    "C3 gate_out_2 OUT 1uF\n",
    "Rload OUT 0 100kOhm\n",
    ".options TEMP = 25C\n",
    ".options TNOM = 25C\n",
    ".ic \n",
    ".tran 10ms 10s 0ms\n",
    ".control\n",
    "linearize v(OUT)\n",
    "wrdata build/out.ssv v(OUT)\n",
    ".endc\n",
    ".end\n",
    "'''\n",
    "\n",
    "ngspice = NgSpiceShared.new_instance()\n",
    "ngspice.load_circuit(circuit)\n",
    "ngspice.run()\n",
    "\n",
    "print('Plots:', ngspice.plot_names)\n",
    "\n",
    "#plot = ngspice.plot(simulation=ngspice, plot_name='tran3')\n",
    "#print(plot)\n"
   ]
  },
  {
   "cell_type": "code",
   "execution_count": null,
   "metadata": {},
   "outputs": [],
   "source": [
    "#import pandas as pd\n",
    "#d = pd.read_csv('build/out.ssv', sep=' ', header=None, usecols=[1, 2], names=['t', 'v'], dtype={'t': np.float64, 'v': np.float64})\n",
    "\n",
    "#fig, ax1 = plt.subplots()\n",
    "#ax1.plot(d.t, d.v)\n",
    "#plt.tight_layout()\n",
    "#plt.show()\n",
    "\n",
    "\n",
    "#circuit.R4.resistance = 100@u_kOhm\n",
    "#analysis  = simulator.transient(step_time=10@u_ms, start_time=0@u_ms, end_time=10@u_s)\n",
    "\n",
    "#N = np.array(d.v).size\n",
    "#T = 0.001 #d.t[1]-d.t[0]\n",
    "\n",
    "#fig, ax1 = plt.subplots()\n",
    "\n",
    "#print(d.v)\n",
    "\n",
    "#y = np.array(d.v)\n",
    "#yf = np.fft.fft(y)\n",
    "#xf = np.fft.fftfreq(N, T)[:N//2]\n",
    "#ax1.plot(xf, 2.0/N * np.abs(yf[0:N//2]))\n",
    "#ax1.set_ylabel('frequency')\n",
    "#ax1.grid()\n",
    "\n",
    "#plt.tight_layout()\n",
    "#plt.show()\n"
   ]
  },
  {
   "cell_type": "code",
   "execution_count": null,
   "metadata": {},
   "outputs": [],
   "source": [
    "from IPython.core.display import display, HTML\n",
    "display(HTML('''\n",
    "<div class=\"hero is-medium\" style=\"background: url('{{ '/assets/cmos_buffer_files/tmb_ube_screamer.jpg' | relative_url }}') no-repeat center center; background-size: cover; background-attachment: fixed;\">\n",
    "   <div class=\"hero-body\">\n",
    "        <div class=\"content has-text-centered\">\n",
    "        </div>\n",
    "    </div>\n",
    "</div>\n",
    "'''))"
   ]
  },
  {
   "source": [
    "## tube screamer\n",
    "{: class=\"subtitle is-lowercase\"}"
   ],
   "cell_type": "markdown",
   "metadata": {}
  },
  {
   "source": [
    "# references\n",
    "{: class=\"subtitle is-lowercase\"}\n",
    "\n",
    "1. [CD4069](https://www.ti.com/lit/ds/schs054e/schs054e.pdf) Datasheet\n",
    "2. [UBE Screamer](http://www.runoffgroove.com/ubescreamer.html) TS-808 workalike built around the CD4049UBE logic IC\n",
    "3. [WASP Filter](https://www.schmitzbits.de/wasp.html) Jürgen Haibles clone of the EDP Wasp VCF from René Schmitz."
   ],
   "cell_type": "markdown",
   "metadata": {}
  }
 ]
}